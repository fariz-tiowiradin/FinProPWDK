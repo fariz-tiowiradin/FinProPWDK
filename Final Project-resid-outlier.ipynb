{
 "cells": [
  {
   "cell_type": "markdown",
   "metadata": {},
   "source": [
    "- **Problem** \\\n",
    "Bagaimana menentukan harga jual mobil bekas yang pengguna miliki\n",
    "- **Solusi** \\\n",
    "Membuat machine learning yang mampu memprediksi harga jual mobil bekas"
   ]
  },
  {
   "cell_type": "markdown",
   "metadata": {
    "ExecuteTime": {
     "end_time": "2021-08-26T08:56:44.037443Z",
     "start_time": "2021-08-26T08:56:44.020408Z"
    }
   },
   "source": [
    "# Library"
   ]
  },
  {
   "cell_type": "code",
   "execution_count": 1,
   "metadata": {
    "ExecuteTime": {
     "end_time": "2021-08-31T05:04:23.702965Z",
     "start_time": "2021-08-31T05:04:18.787762Z"
    }
   },
   "outputs": [],
   "source": [
    "import numpy as np\n",
    "import pandas as pd\n",
    "import matplotlib.pyplot as plt\n",
    "import seaborn as sns\n",
    "sns.set_theme(style=\"ticks\", palette=\"Paired\")\n",
    "\n",
    "from plotly.subplots import make_subplots\n",
    "import plotly.express as px\n",
    "import plotly.graph_objects as go\n",
    "\n",
    "from scipy.stats import normaltest\n",
    "from scipy.stats import kruskal\n",
    "import category_encoders as ce\n",
    "from sklearn.compose import ColumnTransformer\n",
    "import plotly.express as px\n",
    "\n",
    "\n",
    "# statistic\n",
    "from scipy.stats import chi2_contingency\n",
    "\n",
    "# preprocessing\n",
    "import category_encoders as ce\n",
    "from sklearn.preprocessing import OneHotEncoder\n",
    "from sklearn.impute import SimpleImputer\n",
    "from sklearn.preprocessing import RobustScaler\n",
    "\n",
    "# model regression\n",
    "import statsmodels.api as sm\n",
    "from sklearn.linear_model import LinearRegression, Lasso, Ridge\n",
    "from sklearn.tree import DecisionTreeRegressor, plot_tree\n",
    "from sklearn.neighbors import KNeighborsRegressor\n",
    "from sklearn.ensemble import RandomForestRegressor\n",
    "\n",
    "# model selection & hyperparameter tuning\n",
    "from sklearn.pipeline import Pipeline\n",
    "from sklearn.compose import ColumnTransformer\n",
    "from sklearn.model_selection import train_test_split\n",
    "from sklearn.model_selection import cross_val_score, StratifiedKFold\n",
    "from sklearn.model_selection import GridSearchCV\n",
    "from imblearn.over_sampling import SMOTE\n",
    "\n",
    "# metric classification\n",
    "from sklearn.metrics import recall_score, precision_score, classification_report, f1_score"
   ]
  },
  {
   "cell_type": "markdown",
   "metadata": {},
   "source": [
    "# Data"
   ]
  },
  {
   "cell_type": "code",
   "execution_count": 2,
   "metadata": {
    "ExecuteTime": {
     "end_time": "2021-08-31T05:04:24.242650Z",
     "start_time": "2021-08-31T05:04:23.707116Z"
    }
   },
   "outputs": [],
   "source": [
    "car_models = ['audi', 'bmw', 'cclass', 'focus', 'ford', 'hyundi', 'merc', 'skoda', 'toyota', 'vauxhall', 'vw']\n",
    "df = pd.DataFrame()\n",
    "\n",
    "for i in car_models:\n",
    "    carmodel_df = pd.read_csv('dataset/'+i+'.csv')\n",
    "    if i == 'hyundi':\n",
    "        carmodel_df = carmodel_df.rename(columns={'tax(£)': 'tax'})\n",
    "\n",
    "    carmodel_df['brand']=i\n",
    "    df = pd.concat([df, carmodel_df])\n",
    "    "
   ]
  },
  {
   "cell_type": "code",
   "execution_count": 3,
   "metadata": {
    "ExecuteTime": {
     "end_time": "2021-08-31T05:04:24.267382Z",
     "start_time": "2021-08-31T05:04:24.249706Z"
    }
   },
   "outputs": [],
   "source": [
    "# karena dataframe ini merupakan penggabungan dari banyak dataframe\n",
    "# maka perlu dilakukan reset_index untuk menghilangkan index yang duplikat\n",
    "df = df.reset_index()"
   ]
  },
  {
   "cell_type": "code",
   "execution_count": 4,
   "metadata": {
    "ExecuteTime": {
     "end_time": "2021-08-31T05:04:24.366390Z",
     "start_time": "2021-08-31T05:04:24.292014Z"
    },
    "scrolled": false
   },
   "outputs": [
    {
     "data": {
      "text/html": [
       "<div>\n",
       "<style scoped>\n",
       "    .dataframe tbody tr th:only-of-type {\n",
       "        vertical-align: middle;\n",
       "    }\n",
       "\n",
       "    .dataframe tbody tr th {\n",
       "        vertical-align: top;\n",
       "    }\n",
       "\n",
       "    .dataframe thead th {\n",
       "        text-align: right;\n",
       "    }\n",
       "</style>\n",
       "<table border=\"1\" class=\"dataframe\">\n",
       "  <thead>\n",
       "    <tr style=\"text-align: right;\">\n",
       "      <th></th>\n",
       "      <th>model</th>\n",
       "      <th>year</th>\n",
       "      <th>price</th>\n",
       "      <th>transmission</th>\n",
       "      <th>mileage</th>\n",
       "      <th>fuelType</th>\n",
       "      <th>tax</th>\n",
       "      <th>mpg</th>\n",
       "      <th>engineSize</th>\n",
       "      <th>brand</th>\n",
       "    </tr>\n",
       "  </thead>\n",
       "  <tbody>\n",
       "    <tr>\n",
       "      <th>0</th>\n",
       "      <td>A1</td>\n",
       "      <td>2017</td>\n",
       "      <td>12500</td>\n",
       "      <td>Manual</td>\n",
       "      <td>15735</td>\n",
       "      <td>Petrol</td>\n",
       "      <td>150.0</td>\n",
       "      <td>55.4</td>\n",
       "      <td>1.4</td>\n",
       "      <td>audi</td>\n",
       "    </tr>\n",
       "    <tr>\n",
       "      <th>1</th>\n",
       "      <td>A6</td>\n",
       "      <td>2016</td>\n",
       "      <td>16500</td>\n",
       "      <td>Automatic</td>\n",
       "      <td>36203</td>\n",
       "      <td>Diesel</td>\n",
       "      <td>20.0</td>\n",
       "      <td>64.2</td>\n",
       "      <td>2.0</td>\n",
       "      <td>audi</td>\n",
       "    </tr>\n",
       "    <tr>\n",
       "      <th>2</th>\n",
       "      <td>A1</td>\n",
       "      <td>2016</td>\n",
       "      <td>11000</td>\n",
       "      <td>Manual</td>\n",
       "      <td>29946</td>\n",
       "      <td>Petrol</td>\n",
       "      <td>30.0</td>\n",
       "      <td>55.4</td>\n",
       "      <td>1.4</td>\n",
       "      <td>audi</td>\n",
       "    </tr>\n",
       "    <tr>\n",
       "      <th>3</th>\n",
       "      <td>A4</td>\n",
       "      <td>2017</td>\n",
       "      <td>16800</td>\n",
       "      <td>Automatic</td>\n",
       "      <td>25952</td>\n",
       "      <td>Diesel</td>\n",
       "      <td>145.0</td>\n",
       "      <td>67.3</td>\n",
       "      <td>2.0</td>\n",
       "      <td>audi</td>\n",
       "    </tr>\n",
       "    <tr>\n",
       "      <th>4</th>\n",
       "      <td>A3</td>\n",
       "      <td>2019</td>\n",
       "      <td>17300</td>\n",
       "      <td>Manual</td>\n",
       "      <td>1998</td>\n",
       "      <td>Petrol</td>\n",
       "      <td>145.0</td>\n",
       "      <td>49.6</td>\n",
       "      <td>1.0</td>\n",
       "      <td>audi</td>\n",
       "    </tr>\n",
       "  </tbody>\n",
       "</table>\n",
       "</div>"
      ],
      "text/plain": [
       "  model  year  price transmission  mileage fuelType    tax   mpg  engineSize  \\\n",
       "0    A1  2017  12500       Manual    15735   Petrol  150.0  55.4         1.4   \n",
       "1    A6  2016  16500    Automatic    36203   Diesel   20.0  64.2         2.0   \n",
       "2    A1  2016  11000       Manual    29946   Petrol   30.0  55.4         1.4   \n",
       "3    A4  2017  16800    Automatic    25952   Diesel  145.0  67.3         2.0   \n",
       "4    A3  2019  17300       Manual     1998   Petrol  145.0  49.6         1.0   \n",
       "\n",
       "  brand  \n",
       "0  audi  \n",
       "1  audi  \n",
       "2  audi  \n",
       "3  audi  \n",
       "4  audi  "
      ]
     },
     "execution_count": 4,
     "metadata": {},
     "output_type": "execute_result"
    }
   ],
   "source": [
    "# drop index lama\n",
    "df = df.drop(columns='index')\n",
    "df.head()"
   ]
  },
  {
   "cell_type": "markdown",
   "metadata": {
    "ExecuteTime": {
     "end_time": "2021-08-27T08:25:33.365529Z",
     "start_time": "2021-08-27T08:25:33.252360Z"
    }
   },
   "source": [
    "- model = tipe mobil.\n",
    "- year = tahun produksi mobil.\n",
    "- price = nilai harga jual mobil.\n",
    "- transmission = tipe transmisi dari mobil.\n",
    "- mileage = total jarak yang telah ditempuh oleh mobil.\n",
    "- fuelType = jenis bahan bakar yang digunakan pada mobil.\n",
    "- tax = nilai pajak mobil.\n",
    "- mpg = miles per gallon; total jarak tempuh mobil berdasarkan total konsumsi bahan bakar yg digunakan. semakin besar nilai mpg berarti konsumsi bahan bakar yg digunakan akan semakin sedikit (semakin irit).\n",
    "- engine size = engine capacity atau engine displacement (kapasitas mesin); volume total silinder mesin. secara umum, semakin besar nilai kapasitas mesin akan meningkatkan kebutuhan konsumsi bahan bakar (kendaraan akan semakin boros)."
   ]
  },
  {
   "cell_type": "markdown",
   "metadata": {
    "ExecuteTime": {
     "end_time": "2021-08-26T08:55:11.951693Z",
     "start_time": "2021-08-26T08:55:11.933460Z"
    }
   },
   "source": [
    "# EDA"
   ]
  },
  {
   "cell_type": "markdown",
   "metadata": {},
   "source": [
    "## Deskripsi Statistik"
   ]
  },
  {
   "cell_type": "code",
   "execution_count": 5,
   "metadata": {
    "ExecuteTime": {
     "end_time": "2021-08-31T05:04:24.417987Z",
     "start_time": "2021-08-31T05:04:24.370843Z"
    }
   },
   "outputs": [
    {
     "name": "stdout",
     "output_type": "stream",
     "text": [
      "<class 'pandas.core.frame.DataFrame'>\n",
      "RangeIndex: 108540 entries, 0 to 108539\n",
      "Data columns (total 10 columns):\n",
      " #   Column        Non-Null Count   Dtype  \n",
      "---  ------        --------------   -----  \n",
      " 0   model         108540 non-null  object \n",
      " 1   year          108540 non-null  int64  \n",
      " 2   price         108540 non-null  int64  \n",
      " 3   transmission  108540 non-null  object \n",
      " 4   mileage       108540 non-null  int64  \n",
      " 5   fuelType      108540 non-null  object \n",
      " 6   tax           99187 non-null   float64\n",
      " 7   mpg           99187 non-null   float64\n",
      " 8   engineSize    108540 non-null  float64\n",
      " 9   brand         108540 non-null  object \n",
      "dtypes: float64(3), int64(3), object(4)\n",
      "memory usage: 8.3+ MB\n"
     ]
    }
   ],
   "source": [
    "df.info()"
   ]
  },
  {
   "cell_type": "code",
   "execution_count": 6,
   "metadata": {
    "ExecuteTime": {
     "end_time": "2021-08-31T05:04:24.576229Z",
     "start_time": "2021-08-31T05:04:24.421463Z"
    },
    "scrolled": true
   },
   "outputs": [
    {
     "data": {
      "text/html": [
       "<div>\n",
       "<style scoped>\n",
       "    .dataframe tbody tr th:only-of-type {\n",
       "        vertical-align: middle;\n",
       "    }\n",
       "\n",
       "    .dataframe tbody tr th {\n",
       "        vertical-align: top;\n",
       "    }\n",
       "\n",
       "    .dataframe thead th {\n",
       "        text-align: right;\n",
       "    }\n",
       "</style>\n",
       "<table border=\"1\" class=\"dataframe\">\n",
       "  <thead>\n",
       "    <tr style=\"text-align: right;\">\n",
       "      <th></th>\n",
       "      <th>model</th>\n",
       "      <th>transmission</th>\n",
       "      <th>fuelType</th>\n",
       "      <th>brand</th>\n",
       "    </tr>\n",
       "  </thead>\n",
       "  <tbody>\n",
       "    <tr>\n",
       "      <th>count</th>\n",
       "      <td>108540</td>\n",
       "      <td>108540</td>\n",
       "      <td>108540</td>\n",
       "      <td>108540</td>\n",
       "    </tr>\n",
       "    <tr>\n",
       "      <th>unique</th>\n",
       "      <td>195</td>\n",
       "      <td>4</td>\n",
       "      <td>5</td>\n",
       "      <td>11</td>\n",
       "    </tr>\n",
       "    <tr>\n",
       "      <th>top</th>\n",
       "      <td>Focus</td>\n",
       "      <td>Manual</td>\n",
       "      <td>Petrol</td>\n",
       "      <td>ford</td>\n",
       "    </tr>\n",
       "    <tr>\n",
       "      <th>freq</th>\n",
       "      <td>10042</td>\n",
       "      <td>61308</td>\n",
       "      <td>59875</td>\n",
       "      <td>17965</td>\n",
       "    </tr>\n",
       "  </tbody>\n",
       "</table>\n",
       "</div>"
      ],
      "text/plain": [
       "         model transmission fuelType   brand\n",
       "count   108540       108540   108540  108540\n",
       "unique     195            4        5      11\n",
       "top      Focus       Manual   Petrol    ford\n",
       "freq     10042        61308    59875   17965"
      ]
     },
     "execution_count": 6,
     "metadata": {},
     "output_type": "execute_result"
    }
   ],
   "source": [
    "df.describe(include=object)"
   ]
  },
  {
   "cell_type": "code",
   "execution_count": 7,
   "metadata": {
    "ExecuteTime": {
     "end_time": "2021-08-31T05:04:24.615652Z",
     "start_time": "2021-08-31T05:04:24.584073Z"
    }
   },
   "outputs": [
    {
     "data": {
      "text/plain": [
       "model           0.0000\n",
       "year            0.0000\n",
       "price           0.0000\n",
       "transmission    0.0000\n",
       "mileage         0.0000\n",
       "fuelType        0.0000\n",
       "tax             8.6171\n",
       "mpg             8.6171\n",
       "engineSize      0.0000\n",
       "brand           0.0000\n",
       "dtype: float64"
      ]
     },
     "execution_count": 7,
     "metadata": {},
     "output_type": "execute_result"
    }
   ],
   "source": [
    "df.isna().sum() / df.shape[0] * 100"
   ]
  },
  {
   "cell_type": "markdown",
   "metadata": {},
   "source": [
    "> terdapat missing value pada fitur tax & mpg"
   ]
  },
  {
   "cell_type": "code",
   "execution_count": 8,
   "metadata": {
    "ExecuteTime": {
     "end_time": "2021-08-31T05:04:24.683210Z",
     "start_time": "2021-08-31T05:04:24.620738Z"
    }
   },
   "outputs": [
    {
     "data": {
      "text/html": [
       "<div>\n",
       "<style scoped>\n",
       "    .dataframe tbody tr th:only-of-type {\n",
       "        vertical-align: middle;\n",
       "    }\n",
       "\n",
       "    .dataframe tbody tr th {\n",
       "        vertical-align: top;\n",
       "    }\n",
       "\n",
       "    .dataframe thead th {\n",
       "        text-align: right;\n",
       "    }\n",
       "</style>\n",
       "<table border=\"1\" class=\"dataframe\">\n",
       "  <thead>\n",
       "    <tr style=\"text-align: right;\">\n",
       "      <th></th>\n",
       "      <th>year</th>\n",
       "      <th>price</th>\n",
       "      <th>mileage</th>\n",
       "      <th>tax</th>\n",
       "      <th>mpg</th>\n",
       "      <th>engineSize</th>\n",
       "    </tr>\n",
       "  </thead>\n",
       "  <tbody>\n",
       "    <tr>\n",
       "      <th>count</th>\n",
       "      <td>108540.000000</td>\n",
       "      <td>108540.000000</td>\n",
       "      <td>108540.000000</td>\n",
       "      <td>99187.000000</td>\n",
       "      <td>99187.000000</td>\n",
       "      <td>108540.000000</td>\n",
       "    </tr>\n",
       "    <tr>\n",
       "      <th>mean</th>\n",
       "      <td>2017.098028</td>\n",
       "      <td>16890.124046</td>\n",
       "      <td>23025.928469</td>\n",
       "      <td>120.299838</td>\n",
       "      <td>55.166825</td>\n",
       "      <td>1.661644</td>\n",
       "    </tr>\n",
       "    <tr>\n",
       "      <th>std</th>\n",
       "      <td>2.130057</td>\n",
       "      <td>9756.266820</td>\n",
       "      <td>21176.423684</td>\n",
       "      <td>63.150926</td>\n",
       "      <td>16.138522</td>\n",
       "      <td>0.557058</td>\n",
       "    </tr>\n",
       "    <tr>\n",
       "      <th>min</th>\n",
       "      <td>1970.000000</td>\n",
       "      <td>450.000000</td>\n",
       "      <td>1.000000</td>\n",
       "      <td>0.000000</td>\n",
       "      <td>0.300000</td>\n",
       "      <td>0.000000</td>\n",
       "    </tr>\n",
       "    <tr>\n",
       "      <th>25%</th>\n",
       "      <td>2016.000000</td>\n",
       "      <td>10229.500000</td>\n",
       "      <td>7491.750000</td>\n",
       "      <td>125.000000</td>\n",
       "      <td>47.100000</td>\n",
       "      <td>1.200000</td>\n",
       "    </tr>\n",
       "    <tr>\n",
       "      <th>50%</th>\n",
       "      <td>2017.000000</td>\n",
       "      <td>14698.000000</td>\n",
       "      <td>17265.000000</td>\n",
       "      <td>145.000000</td>\n",
       "      <td>54.300000</td>\n",
       "      <td>1.600000</td>\n",
       "    </tr>\n",
       "    <tr>\n",
       "      <th>75%</th>\n",
       "      <td>2019.000000</td>\n",
       "      <td>20940.000000</td>\n",
       "      <td>32236.000000</td>\n",
       "      <td>145.000000</td>\n",
       "      <td>62.800000</td>\n",
       "      <td>2.000000</td>\n",
       "    </tr>\n",
       "    <tr>\n",
       "      <th>max</th>\n",
       "      <td>2060.000000</td>\n",
       "      <td>159999.000000</td>\n",
       "      <td>323000.000000</td>\n",
       "      <td>580.000000</td>\n",
       "      <td>470.800000</td>\n",
       "      <td>6.600000</td>\n",
       "    </tr>\n",
       "  </tbody>\n",
       "</table>\n",
       "</div>"
      ],
      "text/plain": [
       "                year          price        mileage           tax  \\\n",
       "count  108540.000000  108540.000000  108540.000000  99187.000000   \n",
       "mean     2017.098028   16890.124046   23025.928469    120.299838   \n",
       "std         2.130057    9756.266820   21176.423684     63.150926   \n",
       "min      1970.000000     450.000000       1.000000      0.000000   \n",
       "25%      2016.000000   10229.500000    7491.750000    125.000000   \n",
       "50%      2017.000000   14698.000000   17265.000000    145.000000   \n",
       "75%      2019.000000   20940.000000   32236.000000    145.000000   \n",
       "max      2060.000000  159999.000000  323000.000000    580.000000   \n",
       "\n",
       "                mpg     engineSize  \n",
       "count  99187.000000  108540.000000  \n",
       "mean      55.166825       1.661644  \n",
       "std       16.138522       0.557058  \n",
       "min        0.300000       0.000000  \n",
       "25%       47.100000       1.200000  \n",
       "50%       54.300000       1.600000  \n",
       "75%       62.800000       2.000000  \n",
       "max      470.800000       6.600000  "
      ]
     },
     "execution_count": 8,
     "metadata": {},
     "output_type": "execute_result"
    }
   ],
   "source": [
    "df.describe()"
   ]
  },
  {
   "cell_type": "markdown",
   "metadata": {},
   "source": [
    "> dari data diatas, dapat kita lihat bahwa engineSize memiliki nilai minimum 0, dimana hal tersebut tidak mungkin karena tidak ada kendaraan dengan engineSize = 0"
   ]
  },
  {
   "cell_type": "markdown",
   "metadata": {
    "ExecuteTime": {
     "end_time": "2021-08-30T07:57:13.608249Z",
     "start_time": "2021-08-30T07:57:13.604896Z"
    }
   },
   "source": [
    "## Handling Imbalance Data"
   ]
  },
  {
   "cell_type": "markdown",
   "metadata": {},
   "source": [
    "### Imbalance Data in fuelType"
   ]
  },
  {
   "cell_type": "code",
   "execution_count": 9,
   "metadata": {
    "ExecuteTime": {
     "end_time": "2021-08-31T05:04:24.713588Z",
     "start_time": "2021-08-31T05:04:24.689859Z"
    }
   },
   "outputs": [
    {
     "data": {
      "text/plain": [
       "fuelType\n",
       "Diesel      41.622443\n",
       "Electric     0.005528\n",
       "Hybrid       2.974940\n",
       "Other        0.233094\n",
       "Petrol      55.163995\n",
       "dtype: float64"
      ]
     },
     "execution_count": 9,
     "metadata": {},
     "output_type": "execute_result"
    }
   ],
   "source": [
    "df.groupby('fuelType').size() / df.shape[0] * 100"
   ]
  },
  {
   "cell_type": "markdown",
   "metadata": {},
   "source": [
    "> - Berdasarkan data diatas, mobil dengan bahan bakar Electric, Hybrid & Other berkisar sekitar 3.213% dari keseluruhan data\n",
    "> - Karena data tersebut terlalu sedikit dan tidak signifikan maka data tersebut akan di drop"
   ]
  },
  {
   "cell_type": "code",
   "execution_count": 10,
   "metadata": {
    "ExecuteTime": {
     "end_time": "2021-08-31T05:04:24.759326Z",
     "start_time": "2021-08-31T05:04:24.716178Z"
    }
   },
   "outputs": [],
   "source": [
    "df.drop(df[(df['fuelType'] == 'Electric') | (df['fuelType'] == 'Hybrid') | (df['fuelType'] == 'Other')].index, inplace= True)\n"
   ]
  },
  {
   "cell_type": "code",
   "execution_count": 11,
   "metadata": {
    "ExecuteTime": {
     "end_time": "2021-08-31T05:04:24.794170Z",
     "start_time": "2021-08-31T05:04:24.761236Z"
    }
   },
   "outputs": [
    {
     "data": {
      "text/plain": [
       "fuelType\n",
       "Diesel    43.004417\n",
       "Petrol    56.995583\n",
       "dtype: float64"
      ]
     },
     "execution_count": 11,
     "metadata": {},
     "output_type": "execute_result"
    }
   ],
   "source": [
    "df.groupby('fuelType').size() / df.shape[0] * 100"
   ]
  },
  {
   "cell_type": "markdown",
   "metadata": {},
   "source": [
    "### Imbalance Data in Transmission"
   ]
  },
  {
   "cell_type": "code",
   "execution_count": 12,
   "metadata": {
    "ExecuteTime": {
     "end_time": "2021-08-31T05:04:24.833976Z",
     "start_time": "2021-08-31T05:04:24.805282Z"
    }
   },
   "outputs": [
    {
     "data": {
      "text/plain": [
       "transmission\n",
       "Automatic    18.368998\n",
       "Manual       58.303507\n",
       "Other         0.006663\n",
       "Semi-Auto    23.320832\n",
       "dtype: float64"
      ]
     },
     "execution_count": 12,
     "metadata": {},
     "output_type": "execute_result"
    }
   ],
   "source": [
    "df.groupby('transmission').size() / df.shape[0] * 100"
   ]
  },
  {
   "cell_type": "markdown",
   "metadata": {},
   "source": [
    "> - Berdasarkan data diatas, mobil dengan tipe transmisi other berkisar sekitar 0.005% dari keseluruhan data\n",
    "> - Karena data tersebut terlalu sedikit dan tidak signifikan maka data tersebut akan di drop"
   ]
  },
  {
   "cell_type": "code",
   "execution_count": 13,
   "metadata": {
    "ExecuteTime": {
     "end_time": "2021-08-31T05:04:24.888964Z",
     "start_time": "2021-08-31T05:04:24.839484Z"
    }
   },
   "outputs": [],
   "source": [
    "df.drop(df[(df['transmission'] == 'Other')].index, inplace= True)\n"
   ]
  },
  {
   "cell_type": "code",
   "execution_count": 14,
   "metadata": {
    "ExecuteTime": {
     "end_time": "2021-08-31T05:04:24.911436Z",
     "start_time": "2021-08-31T05:04:24.891573Z"
    }
   },
   "outputs": [
    {
     "data": {
      "text/plain": [
       "fuelType\n",
       "Diesel    43.004427\n",
       "Petrol    56.995573\n",
       "dtype: float64"
      ]
     },
     "execution_count": 14,
     "metadata": {},
     "output_type": "execute_result"
    }
   ],
   "source": [
    "df.groupby('fuelType').size() / df.shape[0] * 100"
   ]
  },
  {
   "cell_type": "markdown",
   "metadata": {},
   "source": [
    "## Handling Anomali Data"
   ]
  },
  {
   "cell_type": "markdown",
   "metadata": {
    "ExecuteTime": {
     "end_time": "2021-08-27T07:46:42.225764Z",
     "start_time": "2021-08-27T07:46:42.222787Z"
    }
   },
   "source": [
    "### Data 'year' = 2060"
   ]
  },
  {
   "cell_type": "code",
   "execution_count": 15,
   "metadata": {
    "ExecuteTime": {
     "end_time": "2021-08-31T05:04:24.933416Z",
     "start_time": "2021-08-31T05:04:24.913868Z"
    }
   },
   "outputs": [
    {
     "data": {
      "text/html": [
       "<div>\n",
       "<style scoped>\n",
       "    .dataframe tbody tr th:only-of-type {\n",
       "        vertical-align: middle;\n",
       "    }\n",
       "\n",
       "    .dataframe tbody tr th {\n",
       "        vertical-align: top;\n",
       "    }\n",
       "\n",
       "    .dataframe thead th {\n",
       "        text-align: right;\n",
       "    }\n",
       "</style>\n",
       "<table border=\"1\" class=\"dataframe\">\n",
       "  <thead>\n",
       "    <tr style=\"text-align: right;\">\n",
       "      <th></th>\n",
       "      <th>model</th>\n",
       "      <th>year</th>\n",
       "      <th>price</th>\n",
       "      <th>transmission</th>\n",
       "      <th>mileage</th>\n",
       "      <th>fuelType</th>\n",
       "      <th>tax</th>\n",
       "      <th>mpg</th>\n",
       "      <th>engineSize</th>\n",
       "      <th>brand</th>\n",
       "    </tr>\n",
       "  </thead>\n",
       "  <tbody>\n",
       "    <tr>\n",
       "      <th>48528</th>\n",
       "      <td>Fiesta</td>\n",
       "      <td>2060</td>\n",
       "      <td>6495</td>\n",
       "      <td>Automatic</td>\n",
       "      <td>54807</td>\n",
       "      <td>Petrol</td>\n",
       "      <td>205.0</td>\n",
       "      <td>42.8</td>\n",
       "      <td>1.4</td>\n",
       "      <td>ford</td>\n",
       "    </tr>\n",
       "  </tbody>\n",
       "</table>\n",
       "</div>"
      ],
      "text/plain": [
       "         model  year  price transmission  mileage fuelType    tax   mpg  \\\n",
       "48528   Fiesta  2060   6495    Automatic    54807   Petrol  205.0  42.8   \n",
       "\n",
       "       engineSize brand  \n",
       "48528         1.4  ford  "
      ]
     },
     "execution_count": 15,
     "metadata": {},
     "output_type": "execute_result"
    }
   ],
   "source": [
    "df[df['year'] == 2060]"
   ]
  },
  {
   "cell_type": "code",
   "execution_count": 16,
   "metadata": {
    "ExecuteTime": {
     "end_time": "2021-08-31T05:04:24.959074Z",
     "start_time": "2021-08-31T05:04:24.935889Z"
    }
   },
   "outputs": [],
   "source": [
    "df.drop(df[df['year'] == 2060].index, inplace = True)"
   ]
  },
  {
   "cell_type": "code",
   "execution_count": 17,
   "metadata": {
    "ExecuteTime": {
     "end_time": "2021-08-31T05:04:25.019401Z",
     "start_time": "2021-08-31T05:04:24.961620Z"
    }
   },
   "outputs": [
    {
     "data": {
      "text/html": [
       "<div>\n",
       "<style scoped>\n",
       "    .dataframe tbody tr th:only-of-type {\n",
       "        vertical-align: middle;\n",
       "    }\n",
       "\n",
       "    .dataframe tbody tr th {\n",
       "        vertical-align: top;\n",
       "    }\n",
       "\n",
       "    .dataframe thead th {\n",
       "        text-align: right;\n",
       "    }\n",
       "</style>\n",
       "<table border=\"1\" class=\"dataframe\">\n",
       "  <thead>\n",
       "    <tr style=\"text-align: right;\">\n",
       "      <th></th>\n",
       "      <th>year</th>\n",
       "      <th>price</th>\n",
       "      <th>mileage</th>\n",
       "      <th>tax</th>\n",
       "      <th>mpg</th>\n",
       "      <th>engineSize</th>\n",
       "    </tr>\n",
       "  </thead>\n",
       "  <tbody>\n",
       "    <tr>\n",
       "      <th>count</th>\n",
       "      <td>105044.000000</td>\n",
       "      <td>105044.000000</td>\n",
       "      <td>105044.000000</td>\n",
       "      <td>95849.000000</td>\n",
       "      <td>95849.000000</td>\n",
       "      <td>105044.000000</td>\n",
       "    </tr>\n",
       "    <tr>\n",
       "      <th>mean</th>\n",
       "      <td>2017.096417</td>\n",
       "      <td>16815.920471</td>\n",
       "      <td>22985.290097</td>\n",
       "      <td>121.892717</td>\n",
       "      <td>53.985638</td>\n",
       "      <td>1.658356</td>\n",
       "    </tr>\n",
       "    <tr>\n",
       "      <th>std</th>\n",
       "      <td>2.137326</td>\n",
       "      <td>9808.896290</td>\n",
       "      <td>21187.595856</td>\n",
       "      <td>62.370738</td>\n",
       "      <td>10.941017</td>\n",
       "      <td>0.561822</td>\n",
       "    </tr>\n",
       "    <tr>\n",
       "      <th>min</th>\n",
       "      <td>1970.000000</td>\n",
       "      <td>450.000000</td>\n",
       "      <td>1.000000</td>\n",
       "      <td>0.000000</td>\n",
       "      <td>0.300000</td>\n",
       "      <td>0.000000</td>\n",
       "    </tr>\n",
       "    <tr>\n",
       "      <th>25%</th>\n",
       "      <td>2016.000000</td>\n",
       "      <td>10000.000000</td>\n",
       "      <td>7450.000000</td>\n",
       "      <td>125.000000</td>\n",
       "      <td>46.300000</td>\n",
       "      <td>1.200000</td>\n",
       "    </tr>\n",
       "    <tr>\n",
       "      <th>50%</th>\n",
       "      <td>2017.000000</td>\n",
       "      <td>14499.000000</td>\n",
       "      <td>17171.000000</td>\n",
       "      <td>145.000000</td>\n",
       "      <td>54.300000</td>\n",
       "      <td>1.500000</td>\n",
       "    </tr>\n",
       "    <tr>\n",
       "      <th>75%</th>\n",
       "      <td>2019.000000</td>\n",
       "      <td>20750.000000</td>\n",
       "      <td>32191.000000</td>\n",
       "      <td>145.000000</td>\n",
       "      <td>61.400000</td>\n",
       "      <td>2.000000</td>\n",
       "    </tr>\n",
       "    <tr>\n",
       "      <th>max</th>\n",
       "      <td>2020.000000</td>\n",
       "      <td>159999.000000</td>\n",
       "      <td>323000.000000</td>\n",
       "      <td>580.000000</td>\n",
       "      <td>166.200000</td>\n",
       "      <td>6.600000</td>\n",
       "    </tr>\n",
       "  </tbody>\n",
       "</table>\n",
       "</div>"
      ],
      "text/plain": [
       "                year          price        mileage           tax  \\\n",
       "count  105044.000000  105044.000000  105044.000000  95849.000000   \n",
       "mean     2017.096417   16815.920471   22985.290097    121.892717   \n",
       "std         2.137326    9808.896290   21187.595856     62.370738   \n",
       "min      1970.000000     450.000000       1.000000      0.000000   \n",
       "25%      2016.000000   10000.000000    7450.000000    125.000000   \n",
       "50%      2017.000000   14499.000000   17171.000000    145.000000   \n",
       "75%      2019.000000   20750.000000   32191.000000    145.000000   \n",
       "max      2020.000000  159999.000000  323000.000000    580.000000   \n",
       "\n",
       "                mpg     engineSize  \n",
       "count  95849.000000  105044.000000  \n",
       "mean      53.985638       1.658356  \n",
       "std       10.941017       0.561822  \n",
       "min        0.300000       0.000000  \n",
       "25%       46.300000       1.200000  \n",
       "50%       54.300000       1.500000  \n",
       "75%       61.400000       2.000000  \n",
       "max      166.200000       6.600000  "
      ]
     },
     "execution_count": 17,
     "metadata": {},
     "output_type": "execute_result"
    }
   ],
   "source": [
    "df.describe()"
   ]
  },
  {
   "cell_type": "markdown",
   "metadata": {},
   "source": [
    "### Data 'engineSize' = 0"
   ]
  },
  {
   "cell_type": "code",
   "execution_count": 18,
   "metadata": {
    "ExecuteTime": {
     "end_time": "2021-08-31T05:04:25.049497Z",
     "start_time": "2021-08-31T05:04:25.023403Z"
    }
   },
   "outputs": [
    {
     "data": {
      "text/html": [
       "<div>\n",
       "<style scoped>\n",
       "    .dataframe tbody tr th:only-of-type {\n",
       "        vertical-align: middle;\n",
       "    }\n",
       "\n",
       "    .dataframe tbody tr th {\n",
       "        vertical-align: top;\n",
       "    }\n",
       "\n",
       "    .dataframe thead th {\n",
       "        text-align: right;\n",
       "    }\n",
       "</style>\n",
       "<table border=\"1\" class=\"dataframe\">\n",
       "  <thead>\n",
       "    <tr style=\"text-align: right;\">\n",
       "      <th></th>\n",
       "      <th>model</th>\n",
       "      <th>year</th>\n",
       "      <th>price</th>\n",
       "      <th>transmission</th>\n",
       "      <th>mileage</th>\n",
       "      <th>fuelType</th>\n",
       "      <th>tax</th>\n",
       "      <th>mpg</th>\n",
       "      <th>engineSize</th>\n",
       "      <th>brand</th>\n",
       "    </tr>\n",
       "  </thead>\n",
       "  <tbody>\n",
       "    <tr>\n",
       "      <th>7505</th>\n",
       "      <td>Q5</td>\n",
       "      <td>2019</td>\n",
       "      <td>44790</td>\n",
       "      <td>Automatic</td>\n",
       "      <td>5886</td>\n",
       "      <td>Petrol</td>\n",
       "      <td>135.0</td>\n",
       "      <td>117.7</td>\n",
       "      <td>0.0</td>\n",
       "      <td>audi</td>\n",
       "    </tr>\n",
       "    <tr>\n",
       "      <th>7506</th>\n",
       "      <td>Q3</td>\n",
       "      <td>2019</td>\n",
       "      <td>32788</td>\n",
       "      <td>Automatic</td>\n",
       "      <td>1500</td>\n",
       "      <td>Diesel</td>\n",
       "      <td>145.0</td>\n",
       "      <td>47.1</td>\n",
       "      <td>0.0</td>\n",
       "      <td>audi</td>\n",
       "    </tr>\n",
       "    <tr>\n",
       "      <th>7516</th>\n",
       "      <td>Q3</td>\n",
       "      <td>2020</td>\n",
       "      <td>29944</td>\n",
       "      <td>Manual</td>\n",
       "      <td>1500</td>\n",
       "      <td>Petrol</td>\n",
       "      <td>145.0</td>\n",
       "      <td>40.9</td>\n",
       "      <td>0.0</td>\n",
       "      <td>audi</td>\n",
       "    </tr>\n",
       "    <tr>\n",
       "      <th>7517</th>\n",
       "      <td>Q3</td>\n",
       "      <td>2020</td>\n",
       "      <td>33333</td>\n",
       "      <td>Automatic</td>\n",
       "      <td>1500</td>\n",
       "      <td>Diesel</td>\n",
       "      <td>145.0</td>\n",
       "      <td>47.1</td>\n",
       "      <td>0.0</td>\n",
       "      <td>audi</td>\n",
       "    </tr>\n",
       "    <tr>\n",
       "      <th>7518</th>\n",
       "      <td>Q3</td>\n",
       "      <td>2020</td>\n",
       "      <td>29944</td>\n",
       "      <td>Automatic</td>\n",
       "      <td>1500</td>\n",
       "      <td>Petrol</td>\n",
       "      <td>145.0</td>\n",
       "      <td>32.5</td>\n",
       "      <td>0.0</td>\n",
       "      <td>audi</td>\n",
       "    </tr>\n",
       "  </tbody>\n",
       "</table>\n",
       "</div>"
      ],
      "text/plain": [
       "     model  year  price transmission  mileage fuelType    tax    mpg  \\\n",
       "7505    Q5  2019  44790    Automatic     5886   Petrol  135.0  117.7   \n",
       "7506    Q3  2019  32788    Automatic     1500   Diesel  145.0   47.1   \n",
       "7516    Q3  2020  29944       Manual     1500   Petrol  145.0   40.9   \n",
       "7517    Q3  2020  33333    Automatic     1500   Diesel  145.0   47.1   \n",
       "7518    Q3  2020  29944    Automatic     1500   Petrol  145.0   32.5   \n",
       "\n",
       "      engineSize brand  \n",
       "7505         0.0  audi  \n",
       "7506         0.0  audi  \n",
       "7516         0.0  audi  \n",
       "7517         0.0  audi  \n",
       "7518         0.0  audi  "
      ]
     },
     "execution_count": 18,
     "metadata": {},
     "output_type": "execute_result"
    }
   ],
   "source": [
    "df[df['engineSize'] == 0.0].head()"
   ]
  },
  {
   "cell_type": "code",
   "execution_count": 19,
   "metadata": {
    "ExecuteTime": {
     "end_time": "2021-08-31T05:04:25.062730Z",
     "start_time": "2021-08-31T05:04:25.052279Z"
    }
   },
   "outputs": [
    {
     "name": "stdout",
     "output_type": "stream",
     "text": [
      "karena hanya terdapat sebanyak 245 data atau sebesar 0.233 % dari keseluruhan data, maka data dengan engineSize = 0.0 akan didrop\n"
     ]
    }
   ],
   "source": [
    "totalZeroEngine = df[df['engineSize'] == 0.0]['engineSize'].count()\n",
    "zeroEnginePersentage = totalZeroEngine / df.shape[0] * 100\n",
    "print('karena hanya terdapat sebanyak', totalZeroEngine, 'data atau sebesar', round(zeroEnginePersentage, 3), '% dari keseluruhan data, maka data dengan engineSize = 0.0 akan didrop')"
   ]
  },
  {
   "cell_type": "code",
   "execution_count": 20,
   "metadata": {
    "ExecuteTime": {
     "end_time": "2021-08-31T05:04:25.098961Z",
     "start_time": "2021-08-31T05:04:25.065143Z"
    }
   },
   "outputs": [],
   "source": [
    "df = df.drop(df[df['engineSize'] == 0.0].index, axis = 0)"
   ]
  },
  {
   "cell_type": "markdown",
   "metadata": {},
   "source": [
    "## Missing Value"
   ]
  },
  {
   "cell_type": "markdown",
   "metadata": {},
   "source": [
    "### Handling Missing Value in Tax"
   ]
  },
  {
   "cell_type": "markdown",
   "metadata": {
    "ExecuteTime": {
     "end_time": "2021-08-27T04:44:00.769805Z",
     "start_time": "2021-08-27T04:44:00.757233Z"
    }
   },
   "source": [
    "* input Missing Value in Tax menggunakan nilai rata-rata berdasarkan fuelType\n",
    "* referensi:\n",
    "    1. https://www.gov.uk/calculate-tax-rates-for-new-cars\n",
    "    2. https://www.gov.uk/vehicle-tax-rate-tables"
   ]
  },
  {
   "cell_type": "code",
   "execution_count": 21,
   "metadata": {
    "ExecuteTime": {
     "end_time": "2021-08-31T05:04:25.134711Z",
     "start_time": "2021-08-31T05:04:25.103983Z"
    }
   },
   "outputs": [
    {
     "data": {
      "text/html": [
       "<div>\n",
       "<style scoped>\n",
       "    .dataframe tbody tr th:only-of-type {\n",
       "        vertical-align: middle;\n",
       "    }\n",
       "\n",
       "    .dataframe tbody tr th {\n",
       "        vertical-align: top;\n",
       "    }\n",
       "\n",
       "    .dataframe thead th {\n",
       "        text-align: right;\n",
       "    }\n",
       "</style>\n",
       "<table border=\"1\" class=\"dataframe\">\n",
       "  <thead>\n",
       "    <tr style=\"text-align: right;\">\n",
       "      <th></th>\n",
       "      <th>model</th>\n",
       "      <th>year</th>\n",
       "      <th>price</th>\n",
       "      <th>transmission</th>\n",
       "      <th>mileage</th>\n",
       "      <th>fuelType</th>\n",
       "      <th>tax</th>\n",
       "      <th>mpg</th>\n",
       "      <th>engineSize</th>\n",
       "      <th>brand</th>\n",
       "    </tr>\n",
       "  </thead>\n",
       "  <tbody>\n",
       "    <tr>\n",
       "      <th>0</th>\n",
       "      <td>A1</td>\n",
       "      <td>2017</td>\n",
       "      <td>12500</td>\n",
       "      <td>Manual</td>\n",
       "      <td>15735</td>\n",
       "      <td>Petrol</td>\n",
       "      <td>150.0</td>\n",
       "      <td>55.4</td>\n",
       "      <td>1.4</td>\n",
       "      <td>audi</td>\n",
       "    </tr>\n",
       "    <tr>\n",
       "      <th>1</th>\n",
       "      <td>A6</td>\n",
       "      <td>2016</td>\n",
       "      <td>16500</td>\n",
       "      <td>Automatic</td>\n",
       "      <td>36203</td>\n",
       "      <td>Diesel</td>\n",
       "      <td>20.0</td>\n",
       "      <td>64.2</td>\n",
       "      <td>2.0</td>\n",
       "      <td>audi</td>\n",
       "    </tr>\n",
       "    <tr>\n",
       "      <th>2</th>\n",
       "      <td>A1</td>\n",
       "      <td>2016</td>\n",
       "      <td>11000</td>\n",
       "      <td>Manual</td>\n",
       "      <td>29946</td>\n",
       "      <td>Petrol</td>\n",
       "      <td>30.0</td>\n",
       "      <td>55.4</td>\n",
       "      <td>1.4</td>\n",
       "      <td>audi</td>\n",
       "    </tr>\n",
       "    <tr>\n",
       "      <th>3</th>\n",
       "      <td>A4</td>\n",
       "      <td>2017</td>\n",
       "      <td>16800</td>\n",
       "      <td>Automatic</td>\n",
       "      <td>25952</td>\n",
       "      <td>Diesel</td>\n",
       "      <td>145.0</td>\n",
       "      <td>67.3</td>\n",
       "      <td>2.0</td>\n",
       "      <td>audi</td>\n",
       "    </tr>\n",
       "    <tr>\n",
       "      <th>4</th>\n",
       "      <td>A3</td>\n",
       "      <td>2019</td>\n",
       "      <td>17300</td>\n",
       "      <td>Manual</td>\n",
       "      <td>1998</td>\n",
       "      <td>Petrol</td>\n",
       "      <td>145.0</td>\n",
       "      <td>49.6</td>\n",
       "      <td>1.0</td>\n",
       "      <td>audi</td>\n",
       "    </tr>\n",
       "  </tbody>\n",
       "</table>\n",
       "</div>"
      ],
      "text/plain": [
       "  model  year  price transmission  mileage fuelType    tax   mpg  engineSize  \\\n",
       "0    A1  2017  12500       Manual    15735   Petrol  150.0  55.4         1.4   \n",
       "1    A6  2016  16500    Automatic    36203   Diesel   20.0  64.2         2.0   \n",
       "2    A1  2016  11000       Manual    29946   Petrol   30.0  55.4         1.4   \n",
       "3    A4  2017  16800    Automatic    25952   Diesel  145.0  67.3         2.0   \n",
       "4    A3  2019  17300       Manual     1998   Petrol  145.0  49.6         1.0   \n",
       "\n",
       "  brand  \n",
       "0  audi  \n",
       "1  audi  \n",
       "2  audi  \n",
       "3  audi  \n",
       "4  audi  "
      ]
     },
     "execution_count": 21,
     "metadata": {},
     "output_type": "execute_result"
    }
   ],
   "source": [
    "df.head()"
   ]
  },
  {
   "cell_type": "code",
   "execution_count": 22,
   "metadata": {
    "ExecuteTime": {
     "end_time": "2021-08-31T05:04:25.167284Z",
     "start_time": "2021-08-31T05:04:25.139813Z"
    }
   },
   "outputs": [],
   "source": [
    "df['tax']=df['tax'].fillna(df.groupby(['fuelType'])['tax'].transform('mean'))"
   ]
  },
  {
   "cell_type": "markdown",
   "metadata": {},
   "source": [
    "### Handling Missing Value in MPG"
   ]
  },
  {
   "cell_type": "markdown",
   "metadata": {
    "ExecuteTime": {
     "end_time": "2021-08-27T04:44:00.769805Z",
     "start_time": "2021-08-27T04:44:00.757233Z"
    }
   },
   "source": [
    "* input Missing Value in MPG menggunakan nilai rata-rata berdasarkan transmission, fuelType, engineSize"
   ]
  },
  {
   "cell_type": "code",
   "execution_count": 23,
   "metadata": {
    "ExecuteTime": {
     "end_time": "2021-08-31T05:04:25.211666Z",
     "start_time": "2021-08-31T05:04:25.175205Z"
    }
   },
   "outputs": [],
   "source": [
    "df['mpg']=df['mpg'].fillna(df.groupby(['transmission','fuelType','engineSize'])['mpg'].transform('mean'))"
   ]
  },
  {
   "cell_type": "code",
   "execution_count": 24,
   "metadata": {
    "ExecuteTime": {
     "end_time": "2021-08-31T05:04:25.252298Z",
     "start_time": "2021-08-31T05:04:25.215013Z"
    },
    "scrolled": false
   },
   "outputs": [
    {
     "data": {
      "text/plain": [
       "model           0\n",
       "year            0\n",
       "price           0\n",
       "transmission    0\n",
       "mileage         0\n",
       "fuelType        0\n",
       "tax             0\n",
       "mpg             2\n",
       "engineSize      0\n",
       "brand           0\n",
       "dtype: int64"
      ]
     },
     "execution_count": 24,
     "metadata": {},
     "output_type": "execute_result"
    }
   ],
   "source": [
    "df.isna().sum()"
   ]
  },
  {
   "cell_type": "markdown",
   "metadata": {},
   "source": [
    ">dikarenakan masih ada data yg bernilai NaN tetapi jumlah data tersebut tidak akan terlalu mempengaruhi keseluruhan data makan data tersebut akan di drop."
   ]
  },
  {
   "cell_type": "code",
   "execution_count": 25,
   "metadata": {
    "ExecuteTime": {
     "end_time": "2021-08-31T05:04:25.302561Z",
     "start_time": "2021-08-31T05:04:25.257578Z"
    }
   },
   "outputs": [],
   "source": [
    "df.dropna(inplace=True)"
   ]
  },
  {
   "cell_type": "code",
   "execution_count": 26,
   "metadata": {
    "ExecuteTime": {
     "end_time": "2021-08-31T05:04:25.332109Z",
     "start_time": "2021-08-31T05:04:25.304935Z"
    }
   },
   "outputs": [
    {
     "data": {
      "text/plain": [
       "model           0\n",
       "year            0\n",
       "price           0\n",
       "transmission    0\n",
       "mileage         0\n",
       "fuelType        0\n",
       "tax             0\n",
       "mpg             0\n",
       "engineSize      0\n",
       "brand           0\n",
       "dtype: int64"
      ]
     },
     "execution_count": 26,
     "metadata": {},
     "output_type": "execute_result"
    }
   ],
   "source": [
    "df.isna().sum()"
   ]
  },
  {
   "cell_type": "code",
   "execution_count": 27,
   "metadata": {
    "ExecuteTime": {
     "end_time": "2021-08-31T05:04:25.401293Z",
     "start_time": "2021-08-31T05:04:25.336546Z"
    },
    "scrolled": true
   },
   "outputs": [
    {
     "name": "stdout",
     "output_type": "stream",
     "text": [
      "<class 'pandas.core.frame.DataFrame'>\n",
      "Int64Index: 104797 entries, 0 to 108539\n",
      "Data columns (total 10 columns):\n",
      " #   Column        Non-Null Count   Dtype  \n",
      "---  ------        --------------   -----  \n",
      " 0   model         104797 non-null  object \n",
      " 1   year          104797 non-null  int64  \n",
      " 2   price         104797 non-null  int64  \n",
      " 3   transmission  104797 non-null  object \n",
      " 4   mileage       104797 non-null  int64  \n",
      " 5   fuelType      104797 non-null  object \n",
      " 6   tax           104797 non-null  float64\n",
      " 7   mpg           104797 non-null  float64\n",
      " 8   engineSize    104797 non-null  float64\n",
      " 9   brand         104797 non-null  object \n",
      "dtypes: float64(3), int64(3), object(4)\n",
      "memory usage: 8.8+ MB\n"
     ]
    }
   ],
   "source": [
    "df.info()"
   ]
  },
  {
   "cell_type": "markdown",
   "metadata": {
    "ExecuteTime": {
     "end_time": "2021-08-29T05:24:54.010538Z",
     "start_time": "2021-08-29T05:24:53.997536Z"
    }
   },
   "source": [
    "## Feature Engineering"
   ]
  },
  {
   "cell_type": "markdown",
   "metadata": {},
   "source": [
    "### fitur Age"
   ]
  },
  {
   "cell_type": "code",
   "execution_count": 28,
   "metadata": {
    "ExecuteTime": {
     "end_time": "2021-08-31T05:04:25.455222Z",
     "start_time": "2021-08-31T05:04:25.406106Z"
    },
    "scrolled": false
   },
   "outputs": [
    {
     "data": {
      "text/html": [
       "<div>\n",
       "<style scoped>\n",
       "    .dataframe tbody tr th:only-of-type {\n",
       "        vertical-align: middle;\n",
       "    }\n",
       "\n",
       "    .dataframe tbody tr th {\n",
       "        vertical-align: top;\n",
       "    }\n",
       "\n",
       "    .dataframe thead th {\n",
       "        text-align: right;\n",
       "    }\n",
       "</style>\n",
       "<table border=\"1\" class=\"dataframe\">\n",
       "  <thead>\n",
       "    <tr style=\"text-align: right;\">\n",
       "      <th></th>\n",
       "      <th>model</th>\n",
       "      <th>year</th>\n",
       "      <th>price</th>\n",
       "      <th>transmission</th>\n",
       "      <th>mileage</th>\n",
       "      <th>fuelType</th>\n",
       "      <th>tax</th>\n",
       "      <th>mpg</th>\n",
       "      <th>engineSize</th>\n",
       "      <th>brand</th>\n",
       "      <th>age</th>\n",
       "    </tr>\n",
       "  </thead>\n",
       "  <tbody>\n",
       "    <tr>\n",
       "      <th>0</th>\n",
       "      <td>A1</td>\n",
       "      <td>2017</td>\n",
       "      <td>12500</td>\n",
       "      <td>Manual</td>\n",
       "      <td>15735</td>\n",
       "      <td>Petrol</td>\n",
       "      <td>150.0</td>\n",
       "      <td>55.4</td>\n",
       "      <td>1.4</td>\n",
       "      <td>audi</td>\n",
       "      <td>3</td>\n",
       "    </tr>\n",
       "    <tr>\n",
       "      <th>1</th>\n",
       "      <td>A6</td>\n",
       "      <td>2016</td>\n",
       "      <td>16500</td>\n",
       "      <td>Automatic</td>\n",
       "      <td>36203</td>\n",
       "      <td>Diesel</td>\n",
       "      <td>20.0</td>\n",
       "      <td>64.2</td>\n",
       "      <td>2.0</td>\n",
       "      <td>audi</td>\n",
       "      <td>4</td>\n",
       "    </tr>\n",
       "    <tr>\n",
       "      <th>2</th>\n",
       "      <td>A1</td>\n",
       "      <td>2016</td>\n",
       "      <td>11000</td>\n",
       "      <td>Manual</td>\n",
       "      <td>29946</td>\n",
       "      <td>Petrol</td>\n",
       "      <td>30.0</td>\n",
       "      <td>55.4</td>\n",
       "      <td>1.4</td>\n",
       "      <td>audi</td>\n",
       "      <td>4</td>\n",
       "    </tr>\n",
       "    <tr>\n",
       "      <th>3</th>\n",
       "      <td>A4</td>\n",
       "      <td>2017</td>\n",
       "      <td>16800</td>\n",
       "      <td>Automatic</td>\n",
       "      <td>25952</td>\n",
       "      <td>Diesel</td>\n",
       "      <td>145.0</td>\n",
       "      <td>67.3</td>\n",
       "      <td>2.0</td>\n",
       "      <td>audi</td>\n",
       "      <td>3</td>\n",
       "    </tr>\n",
       "    <tr>\n",
       "      <th>4</th>\n",
       "      <td>A3</td>\n",
       "      <td>2019</td>\n",
       "      <td>17300</td>\n",
       "      <td>Manual</td>\n",
       "      <td>1998</td>\n",
       "      <td>Petrol</td>\n",
       "      <td>145.0</td>\n",
       "      <td>49.6</td>\n",
       "      <td>1.0</td>\n",
       "      <td>audi</td>\n",
       "      <td>1</td>\n",
       "    </tr>\n",
       "  </tbody>\n",
       "</table>\n",
       "</div>"
      ],
      "text/plain": [
       "  model  year  price transmission  mileage fuelType    tax   mpg  engineSize  \\\n",
       "0    A1  2017  12500       Manual    15735   Petrol  150.0  55.4         1.4   \n",
       "1    A6  2016  16500    Automatic    36203   Diesel   20.0  64.2         2.0   \n",
       "2    A1  2016  11000       Manual    29946   Petrol   30.0  55.4         1.4   \n",
       "3    A4  2017  16800    Automatic    25952   Diesel  145.0  67.3         2.0   \n",
       "4    A3  2019  17300       Manual     1998   Petrol  145.0  49.6         1.0   \n",
       "\n",
       "  brand  age  \n",
       "0  audi    3  \n",
       "1  audi    4  \n",
       "2  audi    4  \n",
       "3  audi    3  \n",
       "4  audi    1  "
      ]
     },
     "execution_count": 28,
     "metadata": {},
     "output_type": "execute_result"
    }
   ],
   "source": [
    "df['age']=2020-df['year']\n",
    "df.head()"
   ]
  },
  {
   "cell_type": "markdown",
   "metadata": {},
   "source": [
    "## Data Visualization (in general)"
   ]
  },
  {
   "cell_type": "markdown",
   "metadata": {},
   "source": [
    "### Percentage of Transmission Type"
   ]
  },
  {
   "cell_type": "code",
   "execution_count": 29,
   "metadata": {
    "ExecuteTime": {
     "end_time": "2021-08-31T05:04:25.518143Z",
     "start_time": "2021-08-31T05:04:25.459864Z"
    }
   },
   "outputs": [
    {
     "data": {
      "text/html": [
       "<div>\n",
       "<style scoped>\n",
       "    .dataframe tbody tr th:only-of-type {\n",
       "        vertical-align: middle;\n",
       "    }\n",
       "\n",
       "    .dataframe tbody tr th {\n",
       "        vertical-align: top;\n",
       "    }\n",
       "\n",
       "    .dataframe thead th {\n",
       "        text-align: right;\n",
       "    }\n",
       "</style>\n",
       "<table border=\"1\" class=\"dataframe\">\n",
       "  <thead>\n",
       "    <tr style=\"text-align: right;\">\n",
       "      <th></th>\n",
       "      <th>transmission</th>\n",
       "      <th>jumlah</th>\n",
       "    </tr>\n",
       "  </thead>\n",
       "  <tbody>\n",
       "    <tr>\n",
       "      <th>0</th>\n",
       "      <td>Automatic</td>\n",
       "      <td>19218</td>\n",
       "    </tr>\n",
       "    <tr>\n",
       "      <th>1</th>\n",
       "      <td>Manual</td>\n",
       "      <td>61080</td>\n",
       "    </tr>\n",
       "    <tr>\n",
       "      <th>2</th>\n",
       "      <td>Semi-Auto</td>\n",
       "      <td>24499</td>\n",
       "    </tr>\n",
       "  </tbody>\n",
       "</table>\n",
       "</div>"
      ],
      "text/plain": [
       "  transmission  jumlah\n",
       "0    Automatic   19218\n",
       "1       Manual   61080\n",
       "2    Semi-Auto   24499"
      ]
     },
     "execution_count": 29,
     "metadata": {},
     "output_type": "execute_result"
    }
   ],
   "source": [
    "df_tr=df.groupby('transmission').count()['model'].reset_index()\n",
    "df_tr= df_tr.rename(columns={'model': 'jumlah'})\n",
    "df_tr"
   ]
  },
  {
   "cell_type": "code",
   "execution_count": 30,
   "metadata": {
    "ExecuteTime": {
     "end_time": "2021-08-31T05:04:25.527729Z",
     "start_time": "2021-08-31T05:04:25.524496Z"
    },
    "scrolled": false
   },
   "outputs": [],
   "source": [
    "# fig = px.pie(df_tr,\n",
    "#             names='transmission',\n",
    "#             values='jumlah',\n",
    "#             title='Percentage of Transmission Type',\n",
    "#             color_discrete_sequence=px.colors.sequential.amp\n",
    "#             )\n",
    "# fig.show()"
   ]
  },
  {
   "cell_type": "markdown",
   "metadata": {},
   "source": [
    "### Percentage of fuelType"
   ]
  },
  {
   "cell_type": "code",
   "execution_count": 31,
   "metadata": {
    "ExecuteTime": {
     "end_time": "2021-08-31T05:04:25.576413Z",
     "start_time": "2021-08-31T05:04:25.530155Z"
    }
   },
   "outputs": [
    {
     "data": {
      "text/html": [
       "<div>\n",
       "<style scoped>\n",
       "    .dataframe tbody tr th:only-of-type {\n",
       "        vertical-align: middle;\n",
       "    }\n",
       "\n",
       "    .dataframe tbody tr th {\n",
       "        vertical-align: top;\n",
       "    }\n",
       "\n",
       "    .dataframe thead th {\n",
       "        text-align: right;\n",
       "    }\n",
       "</style>\n",
       "<table border=\"1\" class=\"dataframe\">\n",
       "  <thead>\n",
       "    <tr style=\"text-align: right;\">\n",
       "      <th></th>\n",
       "      <th>fuelType</th>\n",
       "      <th>jumlah</th>\n",
       "    </tr>\n",
       "  </thead>\n",
       "  <tbody>\n",
       "    <tr>\n",
       "      <th>0</th>\n",
       "      <td>Diesel</td>\n",
       "      <td>45101</td>\n",
       "    </tr>\n",
       "    <tr>\n",
       "      <th>1</th>\n",
       "      <td>Petrol</td>\n",
       "      <td>59696</td>\n",
       "    </tr>\n",
       "  </tbody>\n",
       "</table>\n",
       "</div>"
      ],
      "text/plain": [
       "  fuelType  jumlah\n",
       "0   Diesel   45101\n",
       "1   Petrol   59696"
      ]
     },
     "execution_count": 31,
     "metadata": {},
     "output_type": "execute_result"
    }
   ],
   "source": [
    "df_ft=df.groupby('fuelType').count()['model'].reset_index()\n",
    "df_ft= df_ft.rename(columns={'model': 'jumlah'})\n",
    "df_ft"
   ]
  },
  {
   "cell_type": "code",
   "execution_count": 32,
   "metadata": {
    "ExecuteTime": {
     "end_time": "2021-08-31T05:04:25.584885Z",
     "start_time": "2021-08-31T05:04:25.580314Z"
    },
    "scrolled": false
   },
   "outputs": [],
   "source": [
    "# fig = px.pie(df_ft,\n",
    "#             names='fuelType',\n",
    "#             values='jumlah',\n",
    "#             title='Percentage of fuelType',\n",
    "#             color_discrete_sequence=px.colors.sequential.Peach\n",
    "#             )\n",
    "# fig.show()"
   ]
  },
  {
   "cell_type": "markdown",
   "metadata": {},
   "source": [
    "### Tree Map"
   ]
  },
  {
   "cell_type": "code",
   "execution_count": 33,
   "metadata": {
    "ExecuteTime": {
     "end_time": "2021-08-31T05:04:25.640400Z",
     "start_time": "2021-08-31T05:04:25.587589Z"
    }
   },
   "outputs": [
    {
     "data": {
      "text/html": [
       "<div>\n",
       "<style scoped>\n",
       "    .dataframe tbody tr th:only-of-type {\n",
       "        vertical-align: middle;\n",
       "    }\n",
       "\n",
       "    .dataframe tbody tr th {\n",
       "        vertical-align: top;\n",
       "    }\n",
       "\n",
       "    .dataframe thead th {\n",
       "        text-align: right;\n",
       "    }\n",
       "</style>\n",
       "<table border=\"1\" class=\"dataframe\">\n",
       "  <thead>\n",
       "    <tr style=\"text-align: right;\">\n",
       "      <th></th>\n",
       "      <th>year</th>\n",
       "      <th>transmission</th>\n",
       "      <th>fuelType</th>\n",
       "      <th>model</th>\n",
       "      <th>price</th>\n",
       "    </tr>\n",
       "  </thead>\n",
       "  <tbody>\n",
       "    <tr>\n",
       "      <th>0</th>\n",
       "      <td>1970</td>\n",
       "      <td>Manual</td>\n",
       "      <td>Petrol</td>\n",
       "      <td>1</td>\n",
       "      <td>10495.0</td>\n",
       "    </tr>\n",
       "    <tr>\n",
       "      <th>1</th>\n",
       "      <td>1991</td>\n",
       "      <td>Automatic</td>\n",
       "      <td>Petrol</td>\n",
       "      <td>1</td>\n",
       "      <td>4450.0</td>\n",
       "    </tr>\n",
       "    <tr>\n",
       "      <th>2</th>\n",
       "      <td>1996</td>\n",
       "      <td>Automatic</td>\n",
       "      <td>Petrol</td>\n",
       "      <td>1</td>\n",
       "      <td>5995.0</td>\n",
       "    </tr>\n",
       "    <tr>\n",
       "      <th>3</th>\n",
       "      <td>1996</td>\n",
       "      <td>Manual</td>\n",
       "      <td>Petrol</td>\n",
       "      <td>1</td>\n",
       "      <td>3000.0</td>\n",
       "    </tr>\n",
       "    <tr>\n",
       "      <th>4</th>\n",
       "      <td>1997</td>\n",
       "      <td>Automatic</td>\n",
       "      <td>Petrol</td>\n",
       "      <td>2</td>\n",
       "      <td>7322.5</td>\n",
       "    </tr>\n",
       "  </tbody>\n",
       "</table>\n",
       "</div>"
      ],
      "text/plain": [
       "   year transmission fuelType  model    price\n",
       "0  1970       Manual   Petrol      1  10495.0\n",
       "1  1991    Automatic   Petrol      1   4450.0\n",
       "2  1996    Automatic   Petrol      1   5995.0\n",
       "3  1996       Manual   Petrol      1   3000.0\n",
       "4  1997    Automatic   Petrol      2   7322.5"
      ]
     },
     "execution_count": 33,
     "metadata": {},
     "output_type": "execute_result"
    }
   ],
   "source": [
    "df_treemap = df.groupby(['year','transmission','fuelType']).agg({'model':len,'price':np.mean}).rename(columns={'name':'total'}).reset_index()\n",
    "df_treemap.head()"
   ]
  },
  {
   "cell_type": "code",
   "execution_count": 34,
   "metadata": {
    "ExecuteTime": {
     "end_time": "2021-08-31T05:04:25.652198Z",
     "start_time": "2021-08-31T05:04:25.643110Z"
    },
    "scrolled": false
   },
   "outputs": [],
   "source": [
    "# fig = px.treemap(df_treemap,\n",
    "#                  path=['year','transmission','fuelType'], \n",
    "#                  values = 'price', \n",
    "#                  color = 'price',\n",
    "#                  color_continuous_scale='RdBu',\n",
    "#                  color_continuous_midpoint=np.average(df['price'], weights=df['price']),\n",
    "#                  width=1000,\n",
    "#                  height=600,\n",
    "#                  title = \"Nilai Rata-Rata price berdasarkan year, transmission, dan fuelType:\"\n",
    "#                  )\n",
    "# fig.show()"
   ]
  },
  {
   "cell_type": "markdown",
   "metadata": {},
   "source": [
    "### Time Series"
   ]
  },
  {
   "cell_type": "markdown",
   "metadata": {
    "ExecuteTime": {
     "end_time": "2021-08-27T09:07:50.411090Z",
     "start_time": "2021-08-27T09:07:50.388569Z"
    }
   },
   "source": [
    "ref gambar nanti time series:\n",
    "    \n",
    "    https://www.moneysupermarket.com/car-insurance/petrol-vs-diesel/?__cf_chl_jschl_tk__=pmd_gyDQZeymIJ8ilTuI76rL9Flxin2tASMb5MaXlCu5JIE-1630055221-0-gqNtZGzNAjujcnBszQi9"
   ]
  },
  {
   "cell_type": "code",
   "execution_count": 35,
   "metadata": {
    "ExecuteTime": {
     "end_time": "2021-08-31T05:04:25.736811Z",
     "start_time": "2021-08-31T05:04:25.655258Z"
    }
   },
   "outputs": [
    {
     "data": {
      "text/html": [
       "<div>\n",
       "<style scoped>\n",
       "    .dataframe tbody tr th:only-of-type {\n",
       "        vertical-align: middle;\n",
       "    }\n",
       "\n",
       "    .dataframe tbody tr th {\n",
       "        vertical-align: top;\n",
       "    }\n",
       "\n",
       "    .dataframe thead th {\n",
       "        text-align: right;\n",
       "    }\n",
       "</style>\n",
       "<table border=\"1\" class=\"dataframe\">\n",
       "  <thead>\n",
       "    <tr style=\"text-align: right;\">\n",
       "      <th>fuelType</th>\n",
       "      <th>year</th>\n",
       "      <th>Diesel</th>\n",
       "      <th>Petrol</th>\n",
       "    </tr>\n",
       "  </thead>\n",
       "  <tbody>\n",
       "    <tr>\n",
       "      <th>0</th>\n",
       "      <td>1970</td>\n",
       "      <td>0</td>\n",
       "      <td>1</td>\n",
       "    </tr>\n",
       "    <tr>\n",
       "      <th>1</th>\n",
       "      <td>1991</td>\n",
       "      <td>0</td>\n",
       "      <td>1</td>\n",
       "    </tr>\n",
       "    <tr>\n",
       "      <th>2</th>\n",
       "      <td>1996</td>\n",
       "      <td>0</td>\n",
       "      <td>2</td>\n",
       "    </tr>\n",
       "    <tr>\n",
       "      <th>3</th>\n",
       "      <td>1997</td>\n",
       "      <td>0</td>\n",
       "      <td>4</td>\n",
       "    </tr>\n",
       "    <tr>\n",
       "      <th>4</th>\n",
       "      <td>1998</td>\n",
       "      <td>1</td>\n",
       "      <td>8</td>\n",
       "    </tr>\n",
       "  </tbody>\n",
       "</table>\n",
       "</div>"
      ],
      "text/plain": [
       "fuelType  year  Diesel  Petrol\n",
       "0         1970       0       1\n",
       "1         1991       0       1\n",
       "2         1996       0       2\n",
       "3         1997       0       4\n",
       "4         1998       1       8"
      ]
     },
     "execution_count": 35,
     "metadata": {},
     "output_type": "execute_result"
    }
   ],
   "source": [
    "yearXfuel = pd.crosstab(df['year'], df['fuelType']).reset_index()\n",
    "yearXfuel.head()"
   ]
  },
  {
   "cell_type": "code",
   "execution_count": 36,
   "metadata": {
    "ExecuteTime": {
     "end_time": "2021-08-31T05:04:25.749966Z",
     "start_time": "2021-08-31T05:04:25.740971Z"
    }
   },
   "outputs": [],
   "source": [
    "# plt.figure(figsize=(15,5))\n",
    "# plt.scatter(yearXfuel['year'], yearXfuel['Diesel'])\n",
    "# plt.plot(yearXfuel['year'], yearXfuel['Diesel'])\n",
    "\n",
    "# plt.scatter(yearXfuel['year'], yearXfuel['Petrol'])\n",
    "# plt.plot(yearXfuel['year'], yearXfuel['Petrol'])\n",
    "\n",
    "# plt.legend(labels=['Diesel', 'Petrol'])\n",
    "# plt.show()"
   ]
  },
  {
   "cell_type": "markdown",
   "metadata": {
    "ExecuteTime": {
     "end_time": "2021-08-30T08:38:49.893239Z",
     "start_time": "2021-08-30T08:38:49.884523Z"
    }
   },
   "source": [
    "### Tren Penjualan Mobil Tiap Tahunnya"
   ]
  },
  {
   "cell_type": "code",
   "execution_count": 37,
   "metadata": {
    "ExecuteTime": {
     "end_time": "2021-08-31T05:04:26.302696Z",
     "start_time": "2021-08-31T05:04:25.757157Z"
    }
   },
   "outputs": [
    {
     "data": {
      "image/png": "[encoded data removed]",
      "text/plain": [
       "<Figure size 1080x360 with 1 Axes>"
      ]
     },
     "metadata": {},
     "output_type": "display_data"
    }
   ],
   "source": [
    "plt.figure(figsize=(15,5))\n",
    "sns.countplot(data=df, x='year')\n",
    "plt.show()"
   ]
  },
  {
   "cell_type": "code",
   "execution_count": 86,
   "metadata": {
    "ExecuteTime": {
     "end_time": "2021-08-31T05:07:19.636806Z",
     "start_time": "2021-08-31T05:07:19.597110Z"
    }
   },
   "outputs": [
    {
     "data": {
      "text/html": [
       "<div>\n",
       "<style scoped>\n",
       "    .dataframe tbody tr th:only-of-type {\n",
       "        vertical-align: middle;\n",
       "    }\n",
       "\n",
       "    .dataframe tbody tr th {\n",
       "        vertical-align: top;\n",
       "    }\n",
       "\n",
       "    .dataframe thead th {\n",
       "        text-align: right;\n",
       "    }\n",
       "</style>\n",
       "<table border=\"1\" class=\"dataframe\">\n",
       "  <thead>\n",
       "    <tr style=\"text-align: right;\">\n",
       "      <th></th>\n",
       "      <th>model</th>\n",
       "      <th>year</th>\n",
       "      <th>price</th>\n",
       "      <th>transmission</th>\n",
       "      <th>mileage</th>\n",
       "      <th>fuelType</th>\n",
       "      <th>tax</th>\n",
       "      <th>mpg</th>\n",
       "      <th>engineSize</th>\n",
       "      <th>brand</th>\n",
       "      <th>age</th>\n",
       "    </tr>\n",
       "  </thead>\n",
       "  <tbody>\n",
       "    <tr>\n",
       "      <th>7403</th>\n",
       "      <td>S4</td>\n",
       "      <td>2004</td>\n",
       "      <td>6990</td>\n",
       "      <td>Automatic</td>\n",
       "      <td>88024</td>\n",
       "      <td>Petrol</td>\n",
       "      <td>325.0</td>\n",
       "      <td>22.4</td>\n",
       "      <td>4.2</td>\n",
       "      <td>audi</td>\n",
       "      <td>16</td>\n",
       "    </tr>\n",
       "    <tr>\n",
       "      <th>7404</th>\n",
       "      <td>A3</td>\n",
       "      <td>2009</td>\n",
       "      <td>2490</td>\n",
       "      <td>Manual</td>\n",
       "      <td>152034</td>\n",
       "      <td>Diesel</td>\n",
       "      <td>150.0</td>\n",
       "      <td>55.4</td>\n",
       "      <td>1.9</td>\n",
       "      <td>audi</td>\n",
       "      <td>11</td>\n",
       "    </tr>\n",
       "    <tr>\n",
       "      <th>7414</th>\n",
       "      <td>A3</td>\n",
       "      <td>2009</td>\n",
       "      <td>4495</td>\n",
       "      <td>Manual</td>\n",
       "      <td>92000</td>\n",
       "      <td>Petrol</td>\n",
       "      <td>200.0</td>\n",
       "      <td>40.9</td>\n",
       "      <td>1.6</td>\n",
       "      <td>audi</td>\n",
       "      <td>11</td>\n",
       "    </tr>\n",
       "    <tr>\n",
       "      <th>7415</th>\n",
       "      <td>A5</td>\n",
       "      <td>2010</td>\n",
       "      <td>9495</td>\n",
       "      <td>Manual</td>\n",
       "      <td>76000</td>\n",
       "      <td>Petrol</td>\n",
       "      <td>235.0</td>\n",
       "      <td>38.7</td>\n",
       "      <td>2.0</td>\n",
       "      <td>audi</td>\n",
       "      <td>10</td>\n",
       "    </tr>\n",
       "    <tr>\n",
       "      <th>7416</th>\n",
       "      <td>A3</td>\n",
       "      <td>2009</td>\n",
       "      <td>5995</td>\n",
       "      <td>Manual</td>\n",
       "      <td>82000</td>\n",
       "      <td>Petrol</td>\n",
       "      <td>235.0</td>\n",
       "      <td>39.2</td>\n",
       "      <td>2.0</td>\n",
       "      <td>audi</td>\n",
       "      <td>11</td>\n",
       "    </tr>\n",
       "    <tr>\n",
       "      <th>...</th>\n",
       "      <td>...</td>\n",
       "      <td>...</td>\n",
       "      <td>...</td>\n",
       "      <td>...</td>\n",
       "      <td>...</td>\n",
       "      <td>...</td>\n",
       "      <td>...</td>\n",
       "      <td>...</td>\n",
       "      <td>...</td>\n",
       "      <td>...</td>\n",
       "      <td>...</td>\n",
       "    </tr>\n",
       "    <tr>\n",
       "      <th>108534</th>\n",
       "      <td>Eos</td>\n",
       "      <td>2006</td>\n",
       "      <td>2995</td>\n",
       "      <td>Manual</td>\n",
       "      <td>92640</td>\n",
       "      <td>Diesel</td>\n",
       "      <td>200.0</td>\n",
       "      <td>48.0</td>\n",
       "      <td>2.0</td>\n",
       "      <td>vw</td>\n",
       "      <td>14</td>\n",
       "    </tr>\n",
       "    <tr>\n",
       "      <th>108536</th>\n",
       "      <td>Fox</td>\n",
       "      <td>2008</td>\n",
       "      <td>1799</td>\n",
       "      <td>Manual</td>\n",
       "      <td>88102</td>\n",
       "      <td>Petrol</td>\n",
       "      <td>145.0</td>\n",
       "      <td>46.3</td>\n",
       "      <td>1.2</td>\n",
       "      <td>vw</td>\n",
       "      <td>12</td>\n",
       "    </tr>\n",
       "    <tr>\n",
       "      <th>108537</th>\n",
       "      <td>Fox</td>\n",
       "      <td>2009</td>\n",
       "      <td>1590</td>\n",
       "      <td>Manual</td>\n",
       "      <td>70000</td>\n",
       "      <td>Petrol</td>\n",
       "      <td>200.0</td>\n",
       "      <td>42.0</td>\n",
       "      <td>1.4</td>\n",
       "      <td>vw</td>\n",
       "      <td>11</td>\n",
       "    </tr>\n",
       "    <tr>\n",
       "      <th>108538</th>\n",
       "      <td>Fox</td>\n",
       "      <td>2006</td>\n",
       "      <td>1250</td>\n",
       "      <td>Manual</td>\n",
       "      <td>82704</td>\n",
       "      <td>Petrol</td>\n",
       "      <td>150.0</td>\n",
       "      <td>46.3</td>\n",
       "      <td>1.2</td>\n",
       "      <td>vw</td>\n",
       "      <td>14</td>\n",
       "    </tr>\n",
       "    <tr>\n",
       "      <th>108539</th>\n",
       "      <td>Fox</td>\n",
       "      <td>2007</td>\n",
       "      <td>2295</td>\n",
       "      <td>Manual</td>\n",
       "      <td>74000</td>\n",
       "      <td>Petrol</td>\n",
       "      <td>145.0</td>\n",
       "      <td>46.3</td>\n",
       "      <td>1.2</td>\n",
       "      <td>vw</td>\n",
       "      <td>13</td>\n",
       "    </tr>\n",
       "  </tbody>\n",
       "</table>\n",
       "<p>1920 rows × 11 columns</p>\n",
       "</div>"
      ],
      "text/plain": [
       "       model  year  price transmission  mileage fuelType    tax   mpg  \\\n",
       "7403      S4  2004   6990    Automatic    88024   Petrol  325.0  22.4   \n",
       "7404      A3  2009   2490       Manual   152034   Diesel  150.0  55.4   \n",
       "7414      A3  2009   4495       Manual    92000   Petrol  200.0  40.9   \n",
       "7415      A5  2010   9495       Manual    76000   Petrol  235.0  38.7   \n",
       "7416      A3  2009   5995       Manual    82000   Petrol  235.0  39.2   \n",
       "...      ...   ...    ...          ...      ...      ...    ...   ...   \n",
       "108534   Eos  2006   2995       Manual    92640   Diesel  200.0  48.0   \n",
       "108536   Fox  2008   1799       Manual    88102   Petrol  145.0  46.3   \n",
       "108537   Fox  2009   1590       Manual    70000   Petrol  200.0  42.0   \n",
       "108538   Fox  2006   1250       Manual    82704   Petrol  150.0  46.3   \n",
       "108539   Fox  2007   2295       Manual    74000   Petrol  145.0  46.3   \n",
       "\n",
       "        engineSize brand  age  \n",
       "7403           4.2  audi   16  \n",
       "7404           1.9  audi   11  \n",
       "7414           1.6  audi   11  \n",
       "7415           2.0  audi   10  \n",
       "7416           2.0  audi   11  \n",
       "...            ...   ...  ...  \n",
       "108534         2.0    vw   14  \n",
       "108536         1.2    vw   12  \n",
       "108537         1.4    vw   11  \n",
       "108538         1.2    vw   14  \n",
       "108539         1.2    vw   13  \n",
       "\n",
       "[1920 rows x 11 columns]"
      ]
     },
     "execution_count": 86,
     "metadata": {},
     "output_type": "execute_result"
    }
   ],
   "source": [
    "df[df['year'] <= 2011]"
   ]
  },
  {
   "cell_type": "markdown",
   "metadata": {
    "ExecuteTime": {
     "end_time": "2021-08-30T08:40:50.364895Z",
     "start_time": "2021-08-30T08:40:50.355041Z"
    }
   },
   "source": [
    "> terdapat tren peningkatan penjualan mobil tiap tahunnya"
   ]
  },
  {
   "cell_type": "markdown",
   "metadata": {},
   "source": [
    "### Brand & Price Trend by Year"
   ]
  },
  {
   "cell_type": "code",
   "execution_count": 38,
   "metadata": {
    "ExecuteTime": {
     "end_time": "2021-08-31T05:04:26.323257Z",
     "start_time": "2021-08-31T05:04:26.306755Z"
    }
   },
   "outputs": [],
   "source": [
    "# plt.figure(figsize=(15,10))\n",
    "# sns.lineplot(data=df, x=\"age\", y=\"price\", hue=\"brand\")\n",
    "# plt.show()"
   ]
  },
  {
   "cell_type": "markdown",
   "metadata": {
    "ExecuteTime": {
     "end_time": "2021-08-30T08:41:55.406442Z",
     "start_time": "2021-08-30T08:41:55.398052Z"
    }
   },
   "source": [
    "> - terlihat tren penurunan harga mobil ketika umur mobil semakin tua dihampir semua merk mobil\n",
    "> - berdasarkan graph diatas juga dapat kita lihat terdapat 4 brand yang memiliki rata-rata price lebih tinggi dibanding brand lainnya, yaitu audi, bmw, merc, cclass dikarenakan mereka termasuk brand mobil mewah\n",
    "> - terlihat tren peningkatan harga untuk mobil dengan brand vauxhall  yang berumur diatas 20 tahun\n",
    "> - terlihat anomali peningkatan harga yang signifikan untuk brand toyota berumur diatas 20 tahun"
   ]
  },
  {
   "cell_type": "code",
   "execution_count": 39,
   "metadata": {
    "ExecuteTime": {
     "end_time": "2021-08-31T05:04:26.355028Z",
     "start_time": "2021-08-31T05:04:26.327109Z"
    }
   },
   "outputs": [
    {
     "data": {
      "text/html": [
       "<div>\n",
       "<style scoped>\n",
       "    .dataframe tbody tr th:only-of-type {\n",
       "        vertical-align: middle;\n",
       "    }\n",
       "\n",
       "    .dataframe tbody tr th {\n",
       "        vertical-align: top;\n",
       "    }\n",
       "\n",
       "    .dataframe thead th {\n",
       "        text-align: right;\n",
       "    }\n",
       "</style>\n",
       "<table border=\"1\" class=\"dataframe\">\n",
       "  <thead>\n",
       "    <tr style=\"text-align: right;\">\n",
       "      <th></th>\n",
       "      <th>model</th>\n",
       "      <th>year</th>\n",
       "      <th>price</th>\n",
       "      <th>transmission</th>\n",
       "      <th>mileage</th>\n",
       "      <th>fuelType</th>\n",
       "      <th>tax</th>\n",
       "      <th>mpg</th>\n",
       "      <th>engineSize</th>\n",
       "      <th>brand</th>\n",
       "      <th>age</th>\n",
       "    </tr>\n",
       "  </thead>\n",
       "  <tbody>\n",
       "    <tr>\n",
       "      <th>75463</th>\n",
       "      <td>Yaris</td>\n",
       "      <td>1999</td>\n",
       "      <td>1995</td>\n",
       "      <td>Automatic</td>\n",
       "      <td>89000</td>\n",
       "      <td>Petrol</td>\n",
       "      <td>160.0</td>\n",
       "      <td>42.9</td>\n",
       "      <td>1.3</td>\n",
       "      <td>toyota</td>\n",
       "      <td>21</td>\n",
       "    </tr>\n",
       "    <tr>\n",
       "      <th>75621</th>\n",
       "      <td>Yaris</td>\n",
       "      <td>2000</td>\n",
       "      <td>2695</td>\n",
       "      <td>Automatic</td>\n",
       "      <td>21000</td>\n",
       "      <td>Petrol</td>\n",
       "      <td>160.0</td>\n",
       "      <td>42.9</td>\n",
       "      <td>1.3</td>\n",
       "      <td>toyota</td>\n",
       "      <td>20</td>\n",
       "    </tr>\n",
       "    <tr>\n",
       "      <th>79707</th>\n",
       "      <td>Land Cruiser</td>\n",
       "      <td>1998</td>\n",
       "      <td>19990</td>\n",
       "      <td>Manual</td>\n",
       "      <td>100000</td>\n",
       "      <td>Diesel</td>\n",
       "      <td>265.0</td>\n",
       "      <td>23.9</td>\n",
       "      <td>4.2</td>\n",
       "      <td>toyota</td>\n",
       "      <td>22</td>\n",
       "    </tr>\n",
       "  </tbody>\n",
       "</table>\n",
       "</div>"
      ],
      "text/plain": [
       "               model  year  price transmission  mileage fuelType    tax   mpg  \\\n",
       "75463          Yaris  1999   1995    Automatic    89000   Petrol  160.0  42.9   \n",
       "75621          Yaris  2000   2695    Automatic    21000   Petrol  160.0  42.9   \n",
       "79707   Land Cruiser  1998  19990       Manual   100000   Diesel  265.0  23.9   \n",
       "\n",
       "       engineSize   brand  age  \n",
       "75463         1.3  toyota   21  \n",
       "75621         1.3  toyota   20  \n",
       "79707         4.2  toyota   22  "
      ]
     },
     "execution_count": 39,
     "metadata": {},
     "output_type": "execute_result"
    }
   ],
   "source": [
    "# anomali data dibrand toyota\n",
    "df[(df['brand'] == 'toyota') & (df['age'] >= 20)]"
   ]
  },
  {
   "cell_type": "markdown",
   "metadata": {
    "ExecuteTime": {
     "end_time": "2021-08-30T08:43:23.480217Z",
     "start_time": "2021-08-30T08:43:23.471928Z"
    }
   },
   "source": [
    "> dari tabel diatas, dapat kita ketahui anomali pada tren harga toyota dikarenakan oleh 1 data yaitu \"Land Cruiser\" tahun 1998 yang memiliki harga £19990 "
   ]
  },
  {
   "cell_type": "code",
   "execution_count": 40,
   "metadata": {
    "ExecuteTime": {
     "end_time": "2021-08-31T05:04:26.394853Z",
     "start_time": "2021-08-31T05:04:26.360083Z"
    }
   },
   "outputs": [
    {
     "data": {
      "text/html": [
       "<div>\n",
       "<style scoped>\n",
       "    .dataframe tbody tr th:only-of-type {\n",
       "        vertical-align: middle;\n",
       "    }\n",
       "\n",
       "    .dataframe tbody tr th {\n",
       "        vertical-align: top;\n",
       "    }\n",
       "\n",
       "    .dataframe thead th {\n",
       "        text-align: right;\n",
       "    }\n",
       "</style>\n",
       "<table border=\"1\" class=\"dataframe\">\n",
       "  <thead>\n",
       "    <tr style=\"text-align: right;\">\n",
       "      <th></th>\n",
       "      <th>model</th>\n",
       "      <th>year</th>\n",
       "      <th>price</th>\n",
       "      <th>transmission</th>\n",
       "      <th>mileage</th>\n",
       "      <th>fuelType</th>\n",
       "      <th>tax</th>\n",
       "      <th>mpg</th>\n",
       "      <th>engineSize</th>\n",
       "      <th>brand</th>\n",
       "      <th>age</th>\n",
       "    </tr>\n",
       "  </thead>\n",
       "  <tbody>\n",
       "    <tr>\n",
       "      <th>85608</th>\n",
       "      <td>Astra</td>\n",
       "      <td>1997</td>\n",
       "      <td>950</td>\n",
       "      <td>Manual</td>\n",
       "      <td>89233</td>\n",
       "      <td>Petrol</td>\n",
       "      <td>265.0</td>\n",
       "      <td>35.8</td>\n",
       "      <td>1.6</td>\n",
       "      <td>vauxhall</td>\n",
       "      <td>23</td>\n",
       "    </tr>\n",
       "    <tr>\n",
       "      <th>90588</th>\n",
       "      <td>Zafira</td>\n",
       "      <td>1970</td>\n",
       "      <td>10495</td>\n",
       "      <td>Manual</td>\n",
       "      <td>37357</td>\n",
       "      <td>Petrol</td>\n",
       "      <td>200.0</td>\n",
       "      <td>42.2</td>\n",
       "      <td>1.4</td>\n",
       "      <td>vauxhall</td>\n",
       "      <td>50</td>\n",
       "    </tr>\n",
       "  </tbody>\n",
       "</table>\n",
       "</div>"
      ],
      "text/plain": [
       "         model  year  price transmission  mileage fuelType    tax   mpg  \\\n",
       "85608    Astra  1997    950       Manual    89233   Petrol  265.0  35.8   \n",
       "90588   Zafira  1970  10495       Manual    37357   Petrol  200.0  42.2   \n",
       "\n",
       "       engineSize     brand  age  \n",
       "85608         1.6  vauxhall   23  \n",
       "90588         1.4  vauxhall   50  "
      ]
     },
     "execution_count": 40,
     "metadata": {},
     "output_type": "execute_result"
    }
   ],
   "source": [
    "df[(df['brand'] == 'vauxhall') & (df['age'] >= 20)]"
   ]
  },
  {
   "cell_type": "markdown",
   "metadata": {},
   "source": [
    "> dari tabel diatas, dapat kita ketahui tren peningkatan harga dibrand vauxhall dikarenakan oleh 1 data yaitu mobil model \"Zahira\" keluaran tahun 1970 yang memiliki harga £10495"
   ]
  },
  {
   "cell_type": "markdown",
   "metadata": {},
   "source": [
    "## Summary Statistic\n",
    "(terhadap variabel-variabel yg berpotensi memengaruhi Nilai _price_)"
   ]
  },
  {
   "cell_type": "markdown",
   "metadata": {},
   "source": [
    "### Cek Normalisasi Data"
   ]
  },
  {
   "cell_type": "code",
   "execution_count": 41,
   "metadata": {
    "ExecuteTime": {
     "end_time": "2021-08-31T05:04:26.408141Z",
     "start_time": "2021-08-31T05:04:26.397818Z"
    }
   },
   "outputs": [
    {
     "data": {
      "text/plain": [
       "['price', 'mileage', 'tax', 'mpg', 'engineSize', 'age']"
      ]
     },
     "execution_count": 41,
     "metadata": {},
     "output_type": "execute_result"
    }
   ],
   "source": [
    "num_features=list(df.dtypes[df.dtypes!=object].index)\n",
    "num_features.remove('year')\n",
    "num_features"
   ]
  },
  {
   "cell_type": "code",
   "execution_count": 42,
   "metadata": {
    "ExecuteTime": {
     "end_time": "2021-08-31T05:04:26.421586Z",
     "start_time": "2021-08-31T05:04:26.410196Z"
    }
   },
   "outputs": [],
   "source": [
    "factors = df[num_features]"
   ]
  },
  {
   "cell_type": "code",
   "execution_count": 43,
   "metadata": {
    "ExecuteTime": {
     "end_time": "2021-08-31T05:04:26.479668Z",
     "start_time": "2021-08-31T05:04:26.423612Z"
    }
   },
   "outputs": [
    {
     "name": "stdout",
     "output_type": "stream",
     "text": [
      "Nilai p-Value = 0.0\n",
      "Fitur price distribusi tidak normal\n",
      "\n",
      "Nilai p-Value = 0.0\n",
      "Fitur mileage distribusi tidak normal\n",
      "\n",
      "Nilai p-Value = 0.0\n",
      "Fitur tax distribusi tidak normal\n",
      "\n",
      "Nilai p-Value = 1.9478672435541904e-27\n",
      "Fitur mpg distribusi tidak normal\n",
      "\n",
      "Nilai p-Value = 0.0\n",
      "Fitur engineSize distribusi tidak normal\n",
      "\n",
      "Nilai p-Value = 0.0\n",
      "Fitur age distribusi tidak normal\n",
      "\n"
     ]
    }
   ],
   "source": [
    "for i in factors:\n",
    "    stats,pval=normaltest(factors[i])\n",
    "    print('Nilai p-Value =',pval)\n",
    "    if pval <= 0.05:\n",
    "        print(f'Fitur {i} distribusi tidak normal\\n')\n",
    "    else:\n",
    "        print(f'Fitur {i} distribusi normal\\n')"
   ]
  },
  {
   "cell_type": "markdown",
   "metadata": {},
   "source": [
    "### Cek Korelasi Data"
   ]
  },
  {
   "cell_type": "code",
   "execution_count": 44,
   "metadata": {
    "ExecuteTime": {
     "end_time": "2021-08-31T05:04:26.490946Z",
     "start_time": "2021-08-31T05:04:26.481716Z"
    }
   },
   "outputs": [
    {
     "data": {
      "text/plain": [
       "['price', 'mileage', 'tax', 'mpg', 'engineSize', 'age']"
      ]
     },
     "execution_count": 44,
     "metadata": {},
     "output_type": "execute_result"
    }
   ],
   "source": [
    "num_features=list(df.dtypes[df.dtypes!=object].index)\n",
    "num_features.remove('year')\n",
    "num_features"
   ]
  },
  {
   "cell_type": "code",
   "execution_count": 45,
   "metadata": {
    "ExecuteTime": {
     "end_time": "2021-08-31T05:04:26.707828Z",
     "start_time": "2021-08-31T05:04:26.493514Z"
    },
    "scrolled": true
   },
   "outputs": [
    {
     "data": {
      "text/html": [
       "<div>\n",
       "<style scoped>\n",
       "    .dataframe tbody tr th:only-of-type {\n",
       "        vertical-align: middle;\n",
       "    }\n",
       "\n",
       "    .dataframe tbody tr th {\n",
       "        vertical-align: top;\n",
       "    }\n",
       "\n",
       "    .dataframe thead th {\n",
       "        text-align: right;\n",
       "    }\n",
       "</style>\n",
       "<table border=\"1\" class=\"dataframe\">\n",
       "  <thead>\n",
       "    <tr style=\"text-align: right;\">\n",
       "      <th></th>\n",
       "      <th>price</th>\n",
       "      <th>mileage</th>\n",
       "      <th>tax</th>\n",
       "      <th>mpg</th>\n",
       "      <th>engineSize</th>\n",
       "      <th>age</th>\n",
       "    </tr>\n",
       "  </thead>\n",
       "  <tbody>\n",
       "    <tr>\n",
       "      <th>price</th>\n",
       "      <td>1.000000</td>\n",
       "      <td>-0.526539</td>\n",
       "      <td>0.316000</td>\n",
       "      <td>-0.419202</td>\n",
       "      <td>0.574906</td>\n",
       "      <td>-0.608507</td>\n",
       "    </tr>\n",
       "    <tr>\n",
       "      <th>mileage</th>\n",
       "      <td>-0.526539</td>\n",
       "      <td>1.000000</td>\n",
       "      <td>-0.266530</td>\n",
       "      <td>0.337679</td>\n",
       "      <td>0.102839</td>\n",
       "      <td>0.815230</td>\n",
       "    </tr>\n",
       "    <tr>\n",
       "      <th>tax</th>\n",
       "      <td>0.316000</td>\n",
       "      <td>-0.266530</td>\n",
       "      <td>1.000000</td>\n",
       "      <td>-0.548082</td>\n",
       "      <td>0.153360</td>\n",
       "      <td>-0.327277</td>\n",
       "    </tr>\n",
       "    <tr>\n",
       "      <th>mpg</th>\n",
       "      <td>-0.419202</td>\n",
       "      <td>0.337679</td>\n",
       "      <td>-0.548082</td>\n",
       "      <td>1.000000</td>\n",
       "      <td>-0.227803</td>\n",
       "      <td>0.321426</td>\n",
       "    </tr>\n",
       "    <tr>\n",
       "      <th>engineSize</th>\n",
       "      <td>0.574906</td>\n",
       "      <td>0.102839</td>\n",
       "      <td>0.153360</td>\n",
       "      <td>-0.227803</td>\n",
       "      <td>1.000000</td>\n",
       "      <td>0.041449</td>\n",
       "    </tr>\n",
       "    <tr>\n",
       "      <th>age</th>\n",
       "      <td>-0.608507</td>\n",
       "      <td>0.815230</td>\n",
       "      <td>-0.327277</td>\n",
       "      <td>0.321426</td>\n",
       "      <td>0.041449</td>\n",
       "      <td>1.000000</td>\n",
       "    </tr>\n",
       "  </tbody>\n",
       "</table>\n",
       "</div>"
      ],
      "text/plain": [
       "               price   mileage       tax       mpg  engineSize       age\n",
       "price       1.000000 -0.526539  0.316000 -0.419202    0.574906 -0.608507\n",
       "mileage    -0.526539  1.000000 -0.266530  0.337679    0.102839  0.815230\n",
       "tax         0.316000 -0.266530  1.000000 -0.548082    0.153360 -0.327277\n",
       "mpg        -0.419202  0.337679 -0.548082  1.000000   -0.227803  0.321426\n",
       "engineSize  0.574906  0.102839  0.153360 -0.227803    1.000000  0.041449\n",
       "age        -0.608507  0.815230 -0.327277  0.321426    0.041449  1.000000"
      ]
     },
     "execution_count": 45,
     "metadata": {},
     "output_type": "execute_result"
    }
   ],
   "source": [
    "corr_matrix=df[num_features].corr(method='spearman')\n",
    "corr_matrix"
   ]
  },
  {
   "cell_type": "markdown",
   "metadata": {},
   "source": [
    "* 0-0.3 = weak correlation\n",
    "* 0.3-0.7 = moderate correlation\n",
    "* 0.7-1 = strong correlation\n",
    "\n",
    "* Positive (+) = one variable increases as the other increases the correlation\n",
    "* Negative (-) = when one decreases as the other increases it\n",
    "* Complete absence of correlation is represented by 0\n",
    "\n",
    "Ref: materi Association"
   ]
  },
  {
   "cell_type": "code",
   "execution_count": 46,
   "metadata": {
    "ExecuteTime": {
     "end_time": "2021-08-31T05:04:26.729673Z",
     "start_time": "2021-08-31T05:04:26.722047Z"
    },
    "scrolled": true
   },
   "outputs": [],
   "source": [
    "# # plt.figure(figsize=(12,8))\n",
    "\n",
    "# sns.set_theme(style=\"white\")\n",
    "\n",
    "# mask=np.triu(np.ones_like(corr_matrix, dtype=bool))\n",
    "# cmap=sns.color_palette(\"ch:s=-.2,r=.6\", as_cmap=True)\n",
    "\n",
    "# sns.heatmap(corr_matrix,\n",
    "#             mask=mask,\n",
    "#             cmap=cmap,\n",
    "#             vmax=1,\n",
    "#             vmin=-1,\n",
    "#             linewidths=.2\n",
    "#            )\n",
    "\n",
    "# plt.yticks(rotation=0)\n",
    "# plt.xticks(rotation=60)\n",
    "# plt.show()"
   ]
  },
  {
   "cell_type": "markdown",
   "metadata": {
    "ExecuteTime": {
     "end_time": "2021-08-26T09:03:50.709798Z",
     "start_time": "2021-08-26T09:03:50.706575Z"
    }
   },
   "source": [
    "### Cek Distribusi Data"
   ]
  },
  {
   "cell_type": "code",
   "execution_count": 47,
   "metadata": {
    "ExecuteTime": {
     "end_time": "2021-08-31T05:04:26.737727Z",
     "start_time": "2021-08-31T05:04:26.732385Z"
    }
   },
   "outputs": [],
   "source": [
    "kolom=df.columns"
   ]
  },
  {
   "cell_type": "code",
   "execution_count": 93,
   "metadata": {
    "ExecuteTime": {
     "end_time": "2021-08-31T05:10:16.201780Z",
     "start_time": "2021-08-31T05:10:16.177074Z"
    }
   },
   "outputs": [],
   "source": [
    "df = df.drop(df[df['year'] < 2008].index)"
   ]
  },
  {
   "cell_type": "code",
   "execution_count": 116,
   "metadata": {
    "ExecuteTime": {
     "end_time": "2021-08-31T05:18:52.353057Z",
     "start_time": "2021-08-31T05:18:52.320652Z"
    }
   },
   "outputs": [],
   "source": [
    "df = df.drop(df[df['mileage'] > 100000].index)"
   ]
  },
  {
   "cell_type": "code",
   "execution_count": 117,
   "metadata": {
    "ExecuteTime": {
     "end_time": "2021-08-31T05:18:54.476507Z",
     "start_time": "2021-08-31T05:18:54.465992Z"
    }
   },
   "outputs": [
    {
     "data": {
      "text/plain": [
       "(103563, 11)"
      ]
     },
     "execution_count": 117,
     "metadata": {},
     "output_type": "execute_result"
    }
   ],
   "source": [
    "df.shape"
   ]
  },
  {
   "cell_type": "code",
   "execution_count": 101,
   "metadata": {
    "ExecuteTime": {
     "end_time": "2021-08-31T05:15:26.920185Z",
     "start_time": "2021-08-31T05:15:07.275894Z"
    },
    "scrolled": false
   },
   "outputs": [
    {
     "data": {
      "image/png": "[encoded data removed]",
      "text/plain": [
       "<Figure size 1080x720 with 12 Axes>"
      ]
     },
     "metadata": {},
     "output_type": "display_data"
    }
   ],
   "source": [
    "figure, axis = plt.subplots(3,4,figsize=(15,10))\n",
    "\n",
    "k=0\n",
    "\n",
    "for i in range(0,3):\n",
    "    for j in range (0,4):\n",
    "        if(k == 11):\n",
    "            break;\n",
    "        axis[i,j].set_title(kolom[k], size=15)\n",
    "        sns.histplot(ax=axis[i,j], data = df, x=kolom[k], kde=True)\n",
    "        k+=1\n",
    "\n",
    "# auto padding subplot\n",
    "plt.tight_layout()\n",
    "plt.show()"
   ]
  },
  {
   "cell_type": "markdown",
   "metadata": {
    "ExecuteTime": {
     "end_time": "2021-08-30T02:41:10.270272Z",
     "start_time": "2021-08-30T02:41:10.257271Z"
    }
   },
   "source": [
    "* berdasarkan histplot, sebaran data feature cenderung *right-skew*\n",
    "* dapat disimpulkan secara umum persebaran data memiliki distribusi tidak normal."
   ]
  },
  {
   "cell_type": "code",
   "execution_count": 98,
   "metadata": {
    "ExecuteTime": {
     "end_time": "2021-08-31T05:14:06.163036Z",
     "start_time": "2021-08-31T05:14:06.128945Z"
    }
   },
   "outputs": [
    {
     "data": {
      "text/html": [
       "<div>\n",
       "<style scoped>\n",
       "    .dataframe tbody tr th:only-of-type {\n",
       "        vertical-align: middle;\n",
       "    }\n",
       "\n",
       "    .dataframe tbody tr th {\n",
       "        vertical-align: top;\n",
       "    }\n",
       "\n",
       "    .dataframe thead th {\n",
       "        text-align: right;\n",
       "    }\n",
       "</style>\n",
       "<table border=\"1\" class=\"dataframe\">\n",
       "  <thead>\n",
       "    <tr style=\"text-align: right;\">\n",
       "      <th></th>\n",
       "      <th>model</th>\n",
       "      <th>year</th>\n",
       "      <th>price</th>\n",
       "      <th>transmission</th>\n",
       "      <th>mileage</th>\n",
       "      <th>fuelType</th>\n",
       "      <th>tax</th>\n",
       "      <th>mpg</th>\n",
       "      <th>engineSize</th>\n",
       "      <th>brand</th>\n",
       "      <th>age</th>\n",
       "    </tr>\n",
       "  </thead>\n",
       "  <tbody>\n",
       "    <tr>\n",
       "      <th>18981</th>\n",
       "      <td>3 Series</td>\n",
       "      <td>2011</td>\n",
       "      <td>3493</td>\n",
       "      <td>Manual</td>\n",
       "      <td>190000</td>\n",
       "      <td>Diesel</td>\n",
       "      <td>20.0</td>\n",
       "      <td>68.9</td>\n",
       "      <td>2.0</td>\n",
       "      <td>bmw</td>\n",
       "      <td>9</td>\n",
       "    </tr>\n",
       "    <tr>\n",
       "      <th>85267</th>\n",
       "      <td>Astra</td>\n",
       "      <td>2008</td>\n",
       "      <td>1695</td>\n",
       "      <td>Manual</td>\n",
       "      <td>186500</td>\n",
       "      <td>Petrol</td>\n",
       "      <td>260.0</td>\n",
       "      <td>36.7</td>\n",
       "      <td>1.8</td>\n",
       "      <td>vauxhall</td>\n",
       "      <td>12</td>\n",
       "    </tr>\n",
       "    <tr>\n",
       "      <th>98651</th>\n",
       "      <td>Golf</td>\n",
       "      <td>2009</td>\n",
       "      <td>2250</td>\n",
       "      <td>Manual</td>\n",
       "      <td>193000</td>\n",
       "      <td>Diesel</td>\n",
       "      <td>160.0</td>\n",
       "      <td>52.3</td>\n",
       "      <td>2.0</td>\n",
       "      <td>vw</td>\n",
       "      <td>11</td>\n",
       "    </tr>\n",
       "  </tbody>\n",
       "</table>\n",
       "</div>"
      ],
      "text/plain": [
       "           model  year  price transmission  mileage fuelType    tax   mpg  \\\n",
       "18981   3 Series  2011   3493       Manual   190000   Diesel   20.0  68.9   \n",
       "85267      Astra  2008   1695       Manual   186500   Petrol  260.0  36.7   \n",
       "98651       Golf  2009   2250       Manual   193000   Diesel  160.0  52.3   \n",
       "\n",
       "       engineSize     brand  age  \n",
       "18981         2.0       bmw    9  \n",
       "85267         1.8  vauxhall   12  \n",
       "98651         2.0        vw   11  "
      ]
     },
     "execution_count": 98,
     "metadata": {},
     "output_type": "execute_result"
    }
   ],
   "source": [
    "df[df['mileage'] > 180000]"
   ]
  },
  {
   "cell_type": "code",
   "execution_count": 118,
   "metadata": {
    "ExecuteTime": {
     "end_time": "2021-08-31T05:19:08.248428Z",
     "start_time": "2021-08-31T05:19:06.601163Z"
    },
    "scrolled": false
   },
   "outputs": [
    {
     "data": {
      "image/png": "[encoded data removed]",
      "text/plain": [
       "<Figure size 1080x720 with 6 Axes>"
      ]
     },
     "metadata": {},
     "output_type": "display_data"
    }
   ],
   "source": [
    "figure, axis = plt.subplots(2,3,figsize=(15,10))\n",
    "\n",
    "k=0\n",
    "\n",
    "for i in range(0,2):\n",
    "    for j in range (0,3):\n",
    "        axis[i,j].set_title(num_features[k], size=15)\n",
    "        sns.boxplot(ax=axis[i,j], data = df, x=num_features[k])\n",
    "        k+=1\n",
    "\n",
    "# auto padding subplot\n",
    "plt.tight_layout()\n",
    "plt.show()"
   ]
  },
  {
   "cell_type": "markdown",
   "metadata": {},
   "source": [
    "* berdasarkan boxplot, sebaran data feature memiliki banyak outlier di sebelah kanan.\n",
    "* dapat disimpulkan persebaran data memiliki distribusi tidak normal."
   ]
  },
  {
   "cell_type": "markdown",
   "metadata": {},
   "source": [
    "### Uji Analisa"
   ]
  },
  {
   "cell_type": "markdown",
   "metadata": {},
   "source": [
    "#### Uji 1 : _price_ vs _mileage_"
   ]
  },
  {
   "cell_type": "markdown",
   "metadata": {},
   "source": [
    "**Korelasi :**"
   ]
  },
  {
   "cell_type": "code",
   "execution_count": null,
   "metadata": {
    "ExecuteTime": {
     "end_time": "2021-08-31T05:04:27.100695Z",
     "start_time": "2021-08-31T05:04:25.331Z"
    }
   },
   "outputs": [],
   "source": [
    "round(df['price'].corr(df['mileage'],method='spearman'),6)"
   ]
  },
  {
   "cell_type": "markdown",
   "metadata": {},
   "source": [
    "**Analisa Korelasi :**\n",
    "\n",
    "* Fitur _price_ memiliki korelasi **moderate** serta **berbanding terbalik** dengan fitur _mileage_, dimana nilai korelasinya adalah 0.526539 dengan arah negatif.\n",
    "* Berdasarkan hal ini dapat dikatakan bahwa **semakin tinggi nilai _mileage_** dari mobil akan menyebabkan **nilai _price_ semakin rendah**."
   ]
  },
  {
   "cell_type": "markdown",
   "metadata": {},
   "source": [
    "**Visualisasi :**"
   ]
  },
  {
   "cell_type": "code",
   "execution_count": null,
   "metadata": {
    "ExecuteTime": {
     "end_time": "2021-08-31T05:04:27.102321Z",
     "start_time": "2021-08-31T05:04:25.792Z"
    }
   },
   "outputs": [],
   "source": [
    "# plt.figure(figsize=(15,10))\n",
    "# plt.subplot(2,1,1)\n",
    "# sns.scatterplot(data=df, x='mileage', y='price', hue='fuelType')\n",
    "# plt.title('price vs mileage', size=15)\n",
    "# plt.show()\n",
    "\n",
    "# plt.figure(figsize=(15,10))\n",
    "# plt.subplot(2,1,2)\n",
    "# sns.scatterplot(data=df, x='mileage', y='price', hue='brand')\n",
    "# plt.title('price vs mileage', size=15)\n",
    "# plt.show()"
   ]
  },
  {
   "cell_type": "markdown",
   "metadata": {},
   "source": [
    "**Kesimpulan Uji 1 :**\n",
    "\n",
    "1. Total jarak yg telah ditempuh memiliki pengaruh terhadap penentuan harga jual mobil, dimana semakin tinggi total jarak tempuh yg telah dilakukan mobil maka nilai jual mobil akan semakin rendah.\n",
    "2. Pada data ini, secara umum digambarkan bahwa:\n",
    "    * mobil yg memiliki harga jual tinggi adalah mobil dengan nilai jarak tempuh yg rendah dengan tipe bahan bakar bakar Petrol.\n",
    "    * mobil yg memiliki harga jual rendah adalah mobil dengan jarak tempuh yg tinggi dengan tipe bahan bakar Diesel."
   ]
  },
  {
   "cell_type": "markdown",
   "metadata": {},
   "source": [
    "#### Uji 2 : _price_ vs _tax_"
   ]
  },
  {
   "cell_type": "markdown",
   "metadata": {},
   "source": [
    "**Korelasi :**"
   ]
  },
  {
   "cell_type": "code",
   "execution_count": null,
   "metadata": {
    "ExecuteTime": {
     "end_time": "2021-08-31T05:04:27.104114Z",
     "start_time": "2021-08-31T05:04:26.211Z"
    }
   },
   "outputs": [],
   "source": [
    "round(df['price'].corr(df['tax'],method='spearman'),6)"
   ]
  },
  {
   "cell_type": "markdown",
   "metadata": {},
   "source": [
    "**Analisa Korelasi :**\n",
    "\n",
    "* Fitur _price_ memiliki korelasi **moderate** serta **berbanding Lurus** dengan fitur _tax_, dimana nilai korelasinya adalah 0.316 dengan arah positif.\n",
    "* Berdasarkan hal ini dapat dikatakan bahwa **semakin tinggi nilai _tax_** dari mobil akan menyebabkan **nilai _price_ semakin tinggi**."
   ]
  },
  {
   "cell_type": "markdown",
   "metadata": {},
   "source": [
    "**Visualisasi :**"
   ]
  },
  {
   "cell_type": "code",
   "execution_count": null,
   "metadata": {
    "ExecuteTime": {
     "end_time": "2021-08-31T05:04:27.109662Z",
     "start_time": "2021-08-31T05:04:26.637Z"
    }
   },
   "outputs": [],
   "source": [
    "# plt.figure(figsize=(15,10))\n",
    "# plt.subplot(2,1,1)\n",
    "# sns.scatterplot(data=df, x='tax', y='price', hue='fuelType')\n",
    "# plt.title('price vs tax', size=15)\n",
    "# plt.show()\n",
    "\n",
    "# plt.figure(figsize=(15,10))\n",
    "# plt.subplot(2,1,2)\n",
    "# sns.scatterplot(data=df, x='tax', y='price', hue='brand')\n",
    "# plt.title('price vs tax', size=15)\n",
    "# plt.show()"
   ]
  },
  {
   "cell_type": "markdown",
   "metadata": {},
   "source": [
    "**Kesimpulan Uji 2 :**\n",
    "\n",
    "1. Nilai pajak mobil memiliki pengaruh kecil terhadap penentuan harga jual mobil.\n",
    "2. Pada data ini, secara umum digambarkan bahwa:\n",
    "    * Mobil dengan jenis bahan bakar _Diesel_ secara umum memiliki rata-rata range nilai _tax_ serta nilai _price_ yg relatif lebih rendah dibandingkan mobil dengan jenis bahan bakar petrol. \n",
    "    * Mobil brand mewah  memiliki harga yang tinggi tapi pajak relatif rendah, hal ini kemungkinan dipengaruhi oleh nama brand tersebut yang mampu memberikan nilai jual lebih tinggi dibanding brand lainnya"
   ]
  },
  {
   "cell_type": "markdown",
   "metadata": {},
   "source": [
    "#### Uji 3 : _price_ vs _mpg_"
   ]
  },
  {
   "cell_type": "markdown",
   "metadata": {},
   "source": [
    "**Korelasi :**"
   ]
  },
  {
   "cell_type": "code",
   "execution_count": 49,
   "metadata": {
    "ExecuteTime": {
     "end_time": "2021-08-31T05:04:27.264867Z",
     "start_time": "2021-08-31T05:04:27.217407Z"
    }
   },
   "outputs": [
    {
     "data": {
      "text/plain": [
       "-0.419202"
      ]
     },
     "execution_count": 49,
     "metadata": {},
     "output_type": "execute_result"
    }
   ],
   "source": [
    "round(df['price'].corr(df['mpg'],method='spearman'),6)"
   ]
  },
  {
   "cell_type": "markdown",
   "metadata": {},
   "source": [
    "**Analisa Korelasi :**\n",
    "\n",
    "* Fitur _price_ memiliki korelasi **moderate** serta **berbanding terbalik** dengan fitur _mpg_, dimana nilai korelasinya adalah 0.419202 dengan arah negatif.\n",
    "* Berdasarkan hal ini dapat dikatakan bahwa **semakin tinggi nilai _mpg_** dari mobil akan menyebabkan **nilai _price_ semakin rendah**."
   ]
  },
  {
   "cell_type": "markdown",
   "metadata": {},
   "source": [
    "**Visualisasi :**"
   ]
  },
  {
   "cell_type": "code",
   "execution_count": 50,
   "metadata": {
    "ExecuteTime": {
     "end_time": "2021-08-31T05:04:27.374602Z",
     "start_time": "2021-08-31T05:04:27.369174Z"
    }
   },
   "outputs": [],
   "source": [
    "# plt.figure(figsize=(15,10))\n",
    "# plt.subplot(2,1,1)\n",
    "# sns.scatterplot(data=df, x='mpg', y='price', hue='fuelType')\n",
    "# plt.title('price vs mileage', size=15)\n",
    "# plt.show()\n",
    "\n",
    "# plt.figure(figsize=(15,12))\n",
    "# plt.subplot(2,1,2)\n",
    "# sns.scatterplot(data=df, x='mpg', y='price', hue='brand')\n",
    "# plt.title('price vs mpg', size=15)\n",
    "# plt.show()"
   ]
  },
  {
   "cell_type": "markdown",
   "metadata": {},
   "source": [
    "**Kesimpulan Uji 3 :**\n",
    "\n",
    "1. Total jarak tempuh mobil berdasarkan total konsumsi bahan bakar yg digunakan memiliki pengaruh kecil terhadap penentuan harga jual mobil.\n",
    "2. Pada data ini, secara umum digambarkan bahwa:\n",
    "    * mobil dengan tipe bahan bakar bakar Petrol memiliki sebaran nilai mpg yg relatif rendah tetapi memiliki range harga jual yg paling variatif; hal ini dapat disebabkan karena mobil dengan brand mewah memiliki price yang relatif tinggi\n",
    "    * mobil dengan tipe bahan bakar bakar Diesel memiliki sebaran nilai mpg dan price menengah keatas.\n"
   ]
  },
  {
   "cell_type": "markdown",
   "metadata": {},
   "source": [
    "#### Uji 4 : _price_ vs _engineSize_"
   ]
  },
  {
   "cell_type": "markdown",
   "metadata": {},
   "source": [
    "**Korelasi :**"
   ]
  },
  {
   "cell_type": "code",
   "execution_count": 51,
   "metadata": {
    "ExecuteTime": {
     "end_time": "2021-08-31T05:04:28.092221Z",
     "start_time": "2021-08-31T05:04:28.033214Z"
    }
   },
   "outputs": [
    {
     "data": {
      "text/plain": [
       "0.574906"
      ]
     },
     "execution_count": 51,
     "metadata": {},
     "output_type": "execute_result"
    }
   ],
   "source": [
    "round(df['price'].corr(df['engineSize'],method='spearman'),6)"
   ]
  },
  {
   "cell_type": "markdown",
   "metadata": {},
   "source": [
    "**Analisa Korelasi :**\n",
    "\n",
    "* Fitur _price_ memiliki korelasi **moderate** serta **berbanding Lurus** dengan fitur _engineSize_, dimana nilai korelasinya adalah 0.574906 dengan arah positif.\n",
    "* Berdasarkan hal ini dapat dikatakan bahwa **semakin tinggi nilai _engineSize_** dari mobil akan menyebabkan **nilai _price_ semakin tinggi**."
   ]
  },
  {
   "cell_type": "markdown",
   "metadata": {},
   "source": [
    "**Visualisasi :**"
   ]
  },
  {
   "cell_type": "code",
   "execution_count": 52,
   "metadata": {
    "ExecuteTime": {
     "end_time": "2021-08-31T05:04:28.327547Z",
     "start_time": "2021-08-31T05:04:28.322389Z"
    },
    "scrolled": false
   },
   "outputs": [],
   "source": [
    "# plt.figure(figsize=(15,15))\n",
    "# plt.subplot(3,1,1)\n",
    "# graph=sns.barplot(data=df, x='engineSize', y='price', ci=None)\n",
    "# plt.title('Perbandingan nilai Rata-Rata price berdasarkan engineSize')\n",
    "# plt.xticks(rotation=45)\n",
    "# plt.show()\n",
    "\n",
    "# plt.figure(figsize=(15,10))\n",
    "# plt.subplot(3,1,2)\n",
    "# sns.scatterplot(data=df, x='engineSize', y='price', hue='fuelType')\n",
    "# plt.title('price vs engineSize') \n",
    "# plt.show()\n",
    "\n",
    "# plt.figure(figsize=(15,15))\n",
    "# plt.subplot(3,1,3)\n",
    "# sns.scatterplot(data=df, x='engineSize', y='price', hue='brand')\n",
    "# plt.title('price vs engineSize') \n",
    "# plt.show()"
   ]
  },
  {
   "cell_type": "markdown",
   "metadata": {
    "ExecuteTime": {
     "end_time": "2021-08-29T08:44:53.033709Z",
     "start_time": "2021-08-29T08:44:53.021711Z"
    }
   },
   "source": [
    "**Kesimpulan Uji 4 :**\n",
    "\n",
    "1. Volume total silinder mesin pengaruh terhadap penentuan harga jual mobil, dimana semakin besar nilai volume total silinder mesin maka nilai jual mobil akan semakin tinggi.\n",
    "2. Pada data ini, secara umum digambarkan bahwa:\n",
    "    * mobil dengan tipe bahan bakar bakar Petrol memiliki sebaran nilai _engineSize_ dan harga jual yg paling variatif; hal ini dapat disebabkan karena mobil dengan brand mewah memiliki price yang relatif tinggi.\n",
    "    * mobil dengan tipe bahan bakar bakar Diesel memiliki sebaran nilai _engineSize_ yg relatif menengah tetapi memiliki range harga jual yg relatif rendah hingga tidak terlalu tinggi."
   ]
  },
  {
   "cell_type": "markdown",
   "metadata": {},
   "source": [
    "#### Uji 5 : _price_ vs _age_"
   ]
  },
  {
   "cell_type": "markdown",
   "metadata": {
    "ExecuteTime": {
     "end_time": "2021-08-29T07:45:06.919226Z",
     "start_time": "2021-08-29T07:45:06.896074Z"
    }
   },
   "source": [
    "Hipotesis:\n",
    "\n",
    "Ho: rata-rata harga mobil di tiap umur bernilai sama\n",
    "\n",
    "Ha: rata-rata harga mobil di tiap umur setidaknya ada 1 yang berbeda tapi kita tidak tahu yg mana"
   ]
  },
  {
   "cell_type": "code",
   "execution_count": 53,
   "metadata": {
    "ExecuteTime": {
     "end_time": "2021-08-31T05:04:28.717633Z",
     "start_time": "2021-08-31T05:04:28.712398Z"
    }
   },
   "outputs": [],
   "source": [
    "ages=list(df['age'].unique())"
   ]
  },
  {
   "cell_type": "code",
   "execution_count": 54,
   "metadata": {
    "ExecuteTime": {
     "end_time": "2021-08-31T05:04:28.811611Z",
     "start_time": "2021-08-31T05:04:28.724335Z"
    },
    "scrolled": true
   },
   "outputs": [
    {
     "name": "stdout",
     "output_type": "stream",
     "text": [
      "Nilai statistic: 40926.859200730425\n",
      "Nilai p-value: 0.0\n",
      "Tolak Ho, dapat dikatakan rata-rata harga mobil di tiap umur setidaknya ada 1 yang berbeda tapi kita tidak tahu yg mana.\n"
     ]
    }
   ],
   "source": [
    "stats,pval = kruskal(*[df[df['age'] == i]['price'] for i in ages])\n",
    "\n",
    "print('Nilai statistic:',stats)\n",
    "print('Nilai p-value:',pval)\n",
    "\n",
    "#conclusion\n",
    "if pval <= 0.05:\n",
    "    print('Tolak Ho, dapat dikatakan rata-rata harga mobil di tiap umur setidaknya ada 1 yang berbeda tapi kita tidak tahu yg mana.')\n",
    "else:\n",
    "    print('Terima Ho, dapat dikatakan rata-rata harga mobil di tiap umur bernilai sama.')"
   ]
  },
  {
   "cell_type": "markdown",
   "metadata": {},
   "source": [
    "**Korelasi :**"
   ]
  },
  {
   "cell_type": "code",
   "execution_count": 55,
   "metadata": {
    "ExecuteTime": {
     "end_time": "2021-08-31T05:04:28.948807Z",
     "start_time": "2021-08-31T05:04:28.891404Z"
    },
    "scrolled": true
   },
   "outputs": [
    {
     "data": {
      "text/plain": [
       "-0.608507"
      ]
     },
     "execution_count": 55,
     "metadata": {},
     "output_type": "execute_result"
    }
   ],
   "source": [
    "round(df['price'].corr(df['age'],method='spearman'),6)"
   ]
  },
  {
   "cell_type": "markdown",
   "metadata": {},
   "source": [
    "**Analisa Korelasi :**\n",
    "\n",
    "* Fitur _price_ memiliki korelasi **moderate** serta **berbanding Terbalik** dengan fitur _age_, dimana nilai korelasinya adalah 0.608507 dengan arah negatif.\n",
    "* Berdasarkan hal ini dapat dikatakan bahwa **semakin tinggi nilai _age_** dari mobil akan menyebabkan **nilai _price_ semakin rendah**."
   ]
  },
  {
   "cell_type": "markdown",
   "metadata": {},
   "source": [
    "**Visualisasi :**"
   ]
  },
  {
   "cell_type": "code",
   "execution_count": 56,
   "metadata": {
    "ExecuteTime": {
     "end_time": "2021-08-31T05:04:29.242197Z",
     "start_time": "2021-08-31T05:04:29.238624Z"
    },
    "scrolled": false
   },
   "outputs": [],
   "source": [
    "# plt.figure(figsize=(15,15))\n",
    "# plt.subplot(2,1,1)\n",
    "# sns.barplot(data=df, x='age', y='price', ci=None)\n",
    "# plt.title('price vs age')\n",
    "# plt.show()\n",
    "\n",
    "# plt.figure(figsize=(15,15))\n",
    "# plt.subplot(2,1,2)\n",
    "# sns.barplot(data=df, x='year', y='price', ci=None)\n",
    "# plt.title('price vs year')\n",
    "# plt.show()"
   ]
  },
  {
   "cell_type": "markdown",
   "metadata": {},
   "source": [
    "**Kesimpulan Uji 5 :**\n",
    "\n",
    "1. Umur mobil memiliki pengaruh besar terhadap penentuan harga jual mobil, dimana semakin muda umur mobil maka semakin mahal harga mobilnya.\n",
    "2. Pada data ini, secara umum digambarkan bahwa:\n",
    "    * mobil dengan umur 0 tahun  memiliki rata-rata harga jual yg lebih tinggi dibanding mobil yg lebih tua.\n",
    "    * mobil dengan umur 50 tahun (tahun registrasi 1970) memiliki harga jual yg relatif cukup tinggi jika dibandingkan dengan mobil berumur lainnya, hal ini kemungkinan dikarenakan mobil tersebut merupakan mobil antik / mobil klasik sehingga memiliki nilai historis sebagai variabel perhitungan lain."
   ]
  },
  {
   "cell_type": "markdown",
   "metadata": {},
   "source": [
    "#### Uji 6 : _price_ vs _transmission_ "
   ]
  },
  {
   "cell_type": "markdown",
   "metadata": {},
   "source": [
    "Hipotesis:\n",
    "\n",
    "Ho: rata-rata harga mobil tiap tipe transmisi saling bernilai sama \n",
    "\n",
    "Ha: rata-rata harga mobil tiap tipe transmisi setidaknya ada 1 yang berbeda tapi kita tidak tahu yg mana"
   ]
  },
  {
   "cell_type": "code",
   "execution_count": 57,
   "metadata": {
    "ExecuteTime": {
     "end_time": "2021-08-31T05:04:29.893677Z",
     "start_time": "2021-08-31T05:04:29.880536Z"
    }
   },
   "outputs": [],
   "source": [
    "transm=list(df['transmission'].unique())"
   ]
  },
  {
   "cell_type": "code",
   "execution_count": 58,
   "metadata": {
    "ExecuteTime": {
     "end_time": "2021-08-31T05:04:29.986854Z",
     "start_time": "2021-08-31T05:04:29.896151Z"
    },
    "scrolled": true
   },
   "outputs": [
    {
     "name": "stdout",
     "output_type": "stream",
     "text": [
      "Nilai statistic: 38512.31575954891\n",
      "Nilai p-value: 0.0\n",
      "Tolak Ho, dapat dikatakan rata-rata harga mobil tiap tipe transmisi setidaknya ada 1 yang berbeda tapi kita tidak tahu yg mana.\n"
     ]
    }
   ],
   "source": [
    "stats,pval = kruskal(*[df[df['transmission'] == i]['price'] for i in transm])\n",
    "\n",
    "print('Nilai statistic:', stats)\n",
    "print('Nilai p-value:', pval)\n",
    "\n",
    "#conclusion\n",
    "if pval <= 0.05:\n",
    "    print('Tolak Ho, dapat dikatakan rata-rata harga mobil tiap tipe transmisi setidaknya ada 1 yang berbeda tapi kita tidak tahu yg mana.')\n",
    "else:\n",
    "    print('Terima Ho, dapat dikatakan rata-rata harga mobil tiap tipe transmisi saling bernilai sama.')"
   ]
  },
  {
   "cell_type": "markdown",
   "metadata": {},
   "source": [
    "**Visualisasi :**"
   ]
  },
  {
   "cell_type": "code",
   "execution_count": 59,
   "metadata": {
    "ExecuteTime": {
     "end_time": "2021-08-31T05:04:30.110370Z",
     "start_time": "2021-08-31T05:04:30.104975Z"
    },
    "scrolled": false
   },
   "outputs": [],
   "source": [
    "# plt.figure(figsize=(15,10))\n",
    "# plt.subplot(3,1,1)\n",
    "# graph=sns.barplot(data=df, x='transmission', y='price', ci=None)\n",
    "# for p in graph.patches:\n",
    "#     height = p.get_height()\n",
    "#     graph.annotate(\"%.2f\" % height, (p.get_x() + p.get_width() / 2., height),\n",
    "#                 ha='center', va='center', fontsize=11, color='gray', xytext=(0,5),\n",
    "#                 textcoords='offset points')\n",
    "# plt.ylim(0, 30000)    \n",
    "# plt.title('Perbandingan nilai Rata-Rata price berdasarkan transmission') \n",
    "# plt.show()\n",
    "\n",
    "# plt.figure(figsize=(15,10))\n",
    "# plt.subplot(3,1,2)\n",
    "# sns.scatterplot(data=df, x='transmission', y='price', hue='fuelType')\n",
    "# plt.title('price vs transmission') \n",
    "# plt.show()\n",
    "\n",
    "# plt.figure(figsize=(15,16))\n",
    "# plt.subplot(3,1,3)\n",
    "# sns.scatterplot(data=df, x='transmission', y='price', hue='brand')\n",
    "# plt.title('price vs transmission') \n",
    "# plt.show()"
   ]
  },
  {
   "cell_type": "markdown",
   "metadata": {},
   "source": [
    "**Kesimpulan Uji 6 :**\n",
    "\n",
    "1. Jenis transmisi memiliki pengaruh besar terhadap penentuan harga jual mobil, dimana mobil dengan jenis transmisi _Semi-Auto_ memiliki rata-rata harga jual yg lebih tinggi dibanding mobil dengan jenis transmisi lainnya sedangkan mobil dengan jenis transmisi _Manual_ memiliki rata-rata harga jual yg paling rendah dibanding mobil dengan jenis transmisi lainnya.\n",
    "2. Pada data ini, secara umum digambarkan bahwa sebaran jenis mobil dengan masing-masing jenis bahan bakar terhadap masing-masing tipe transmisi tersebar dengan cukup merata."
   ]
  },
  {
   "cell_type": "markdown",
   "metadata": {},
   "source": [
    "#### Uji 7 : _price_ vs _fuelType_"
   ]
  },
  {
   "cell_type": "markdown",
   "metadata": {},
   "source": [
    "Hipotesis:\n",
    "\n",
    "Ho: rata-rata harga mobil tiap jenis bahan bakar saling bernilai sama \n",
    "\n",
    "Ha: rata-rata harga mobil tiap jenis bahan bakar setidaknya ada 1 yang berbeda tapi kita tidak tahu yg mana"
   ]
  },
  {
   "cell_type": "code",
   "execution_count": 60,
   "metadata": {
    "ExecuteTime": {
     "end_time": "2021-08-31T05:04:30.613467Z",
     "start_time": "2021-08-31T05:04:30.600657Z"
    }
   },
   "outputs": [],
   "source": [
    "fuel=list(df['fuelType'].unique())"
   ]
  },
  {
   "cell_type": "code",
   "execution_count": 61,
   "metadata": {
    "ExecuteTime": {
     "end_time": "2021-08-31T05:04:30.698965Z",
     "start_time": "2021-08-31T05:04:30.616086Z"
    }
   },
   "outputs": [
    {
     "name": "stdout",
     "output_type": "stream",
     "text": [
      "Nilai statistic: 7503.6192989263145\n",
      "Nilai p-value: 0.0\n",
      "Tolak Ho, dapat dikatakan rata-rata harga mobil tiap jenis bahan bakar setidaknya ada 1 yang berbeda tapi kita tidak tahu yg mana.\n"
     ]
    }
   ],
   "source": [
    "stats,pval = kruskal(*[df[df['fuelType'] == i]['price'] for i in fuel])\n",
    "\n",
    "print('Nilai statistic:', stats)\n",
    "print('Nilai p-value:', pval)\n",
    "\n",
    "#conclusion\n",
    "if pval <= 0.05:\n",
    "    print('Tolak Ho, dapat dikatakan rata-rata harga mobil tiap jenis bahan bakar setidaknya ada 1 yang berbeda tapi kita tidak tahu yg mana.')\n",
    "else:\n",
    "    print('Terima Ho, dapat dikatakan rata-rata harga mobil tiap jenis bahan bakar saling bernilai sama.')"
   ]
  },
  {
   "cell_type": "markdown",
   "metadata": {},
   "source": [
    "**Visualisasi :**"
   ]
  },
  {
   "cell_type": "code",
   "execution_count": 62,
   "metadata": {
    "ExecuteTime": {
     "end_time": "2021-08-31T05:04:30.817968Z",
     "start_time": "2021-08-31T05:04:30.813987Z"
    },
    "scrolled": false
   },
   "outputs": [],
   "source": [
    "# plt.figure(figsize=(15,10))\n",
    "# plt.subplot(3,1,1)\n",
    "# graph=sns.barplot(data=df, x='fuelType', y='price', ci=None)\n",
    "# for p in graph.patches:\n",
    "#     height = p.get_height()\n",
    "#     graph.annotate(\"%.2f\" % height, (p.get_x() + p.get_width() / 2., height),\n",
    "#                 ha='center', va='center', fontsize=11, color='gray', xytext=(0,5),\n",
    "#                 textcoords='offset points')\n",
    "# plt.ylim(0, 30000)    \n",
    "# plt.title('Perbandingan Rata-Rata price berdasarkan transmission') \n",
    "# plt.show()\n",
    "\n",
    "# plt.figure(figsize=(15,10))\n",
    "# plt.subplot(3,1,2)\n",
    "# sns.scatterplot(data=df, x='fuelType', y='price', hue='transmission')\n",
    "# plt.title('price vs fuelType') \n",
    "# plt.show()\n",
    "\n",
    "# plt.figure(figsize=(15,16))\n",
    "# plt.subplot(3,1,3)\n",
    "# sns.scatterplot(data=df, x='fuelType', y='price', hue='brand')\n",
    "# plt.title('price vs fuelType') \n",
    "# plt.show()"
   ]
  },
  {
   "cell_type": "markdown",
   "metadata": {},
   "source": [
    "**Kesimpulan Uji 7 :**\n",
    "\n",
    "Jenis transmisi memiliki pengaruh kecil terhadap penentuan harga jual mobil, dimana mobil dengan tipe bahan bakar _Diesel_ memiliki rata-rata harga jual yg lebih tinggi dibanding mobil dengan tipe bahan bakar lainnya sedangkan mobil dengan tipe bahan bakar _Petrol_ memiliki rata-rata harga jual yg paling rendah dibanding mobil dengan tipe bahan bakar lainnya."
   ]
  },
  {
   "cell_type": "markdown",
   "metadata": {},
   "source": [
    "#### Uji 8 : _fuelType_ vs _mpg_"
   ]
  },
  {
   "cell_type": "markdown",
   "metadata": {},
   "source": [
    "Hipotesis:\n",
    "\n",
    "Ho: rata-rata nilai mpg mobil tiap jenis bahan bakar saling bernilai sama \n",
    "\n",
    "Ha: rata-rata nilai mpg mobil tiap jenis bahan bakar setidaknya ada 1 yang berbeda tapi kita tidak tahu yg mana"
   ]
  },
  {
   "cell_type": "code",
   "execution_count": 63,
   "metadata": {
    "ExecuteTime": {
     "end_time": "2021-08-31T05:04:31.497194Z",
     "start_time": "2021-08-31T05:04:31.423442Z"
    }
   },
   "outputs": [
    {
     "name": "stdout",
     "output_type": "stream",
     "text": [
      "Nilai statistic: 13181.863794451147\n",
      "Nilai p-value: 0.0\n",
      "Tolak Ho, dapat dikatakan rata-rata nilai mpg mobil tiap jenis bahan bakar setidaknya ada 1 yang berbeda tapi kita tidak tahu yg mana.\n"
     ]
    }
   ],
   "source": [
    "stats,pval = kruskal(*[df[df['fuelType'] == i]['mpg'] for i in fuel])\n",
    "\n",
    "print('Nilai statistic:', stats)\n",
    "print('Nilai p-value:', pval)\n",
    "\n",
    "#conclusion\n",
    "if pval <= 0.05:\n",
    "    print('Tolak Ho, dapat dikatakan rata-rata nilai mpg mobil tiap jenis bahan bakar setidaknya ada 1 yang berbeda tapi kita tidak tahu yg mana.')\n",
    "else:\n",
    "    print('Terima Ho, dapat dikatakan rata-rata nilai mpg mobil tiap jenis bahan bakar saling bernilai sama.')"
   ]
  },
  {
   "cell_type": "markdown",
   "metadata": {},
   "source": [
    "**Visualisasi :**"
   ]
  },
  {
   "cell_type": "code",
   "execution_count": 64,
   "metadata": {
    "ExecuteTime": {
     "end_time": "2021-08-31T05:04:31.664670Z",
     "start_time": "2021-08-31T05:04:31.658784Z"
    },
    "scrolled": false
   },
   "outputs": [],
   "source": [
    "# plt.figure(figsize=(15,10))\n",
    "# plt.subplot(3,1,1)\n",
    "# graph=sns.barplot(data=df, x='fuelType', y='mpg', ci=None)\n",
    "# for p in graph.patches:\n",
    "#     height = p.get_height()\n",
    "#     graph.annotate(\"%.2f\" % height, (p.get_x() + p.get_width() / 2., height),\n",
    "#                 ha='center', va='center', fontsize=11, color='gray', xytext=(0,5),\n",
    "#                 textcoords='offset points')\n",
    "# plt.ylim(0, 65)    \n",
    "# plt.title('Perbandingan nilai Rata-Rata mpg berdasarkan fuelType') \n",
    "# plt.show()\n",
    "\n",
    "# plt.figure(figsize=(15,10))\n",
    "# plt.subplot(3,1,2)\n",
    "# sns.scatterplot(data=df, x='fuelType', y='mpg', hue='transmission')\n",
    "# plt.title('mpg vs fuelType') \n",
    "# plt.show()\n",
    "\n",
    "# plt.figure(figsize=(15,16))\n",
    "# plt.subplot(3,1,3)\n",
    "# sns.scatterplot(data=df, x='fuelType', y='mpg', hue='brand')\n",
    "# plt.title('mpg vs fuelType') \n",
    "# plt.show()"
   ]
  },
  {
   "cell_type": "markdown",
   "metadata": {},
   "source": [
    "**Kesimpulan Uji 8 :**\n",
    "\n",
    "Jenis bahan bakar yg digunakan oleh suatu mobil memiliki pengaruh yang lemah terhadap nilai _mpg_ nya, dimana kedua jenis bahan bakar memiliki nilai rata-rata _mpg_ yang tidak terlalu berbeda"
   ]
  },
  {
   "cell_type": "markdown",
   "metadata": {},
   "source": [
    "#### Uji 9 : _fuelType_ vs _tax_"
   ]
  },
  {
   "cell_type": "markdown",
   "metadata": {},
   "source": [
    "Hipotesis:\n",
    "\n",
    "Ho: rata-rata nilai tax mobil tiap jenis bahan bakar saling bernilai sama \n",
    "\n",
    "Ha: rata-rata nilai tax mobil tiap jenis bahan bakar setidaknya ada 1 yang berbeda tapi kita tidak tahu yg mana"
   ]
  },
  {
   "cell_type": "code",
   "execution_count": 65,
   "metadata": {
    "ExecuteTime": {
     "end_time": "2021-08-31T05:04:32.468378Z",
     "start_time": "2021-08-31T05:04:32.396731Z"
    }
   },
   "outputs": [
    {
     "name": "stdout",
     "output_type": "stream",
     "text": [
      "Nilai statistic: 1590.6111639080416\n",
      "Nilai p-value: 0.0\n",
      "Tolak Ho, dapat dikatakan rata-rata nilai tax mobil tiap jenis bahan bakar setidaknya ada 1 yang berbeda tapi kita tidak tahu yg mana.\n"
     ]
    }
   ],
   "source": [
    "stats,pval = kruskal(*[df[df['fuelType'] == i]['tax'] for i in fuel])\n",
    "\n",
    "print('Nilai statistic:', stats)\n",
    "print('Nilai p-value:', pval)\n",
    "\n",
    "#conclusion\n",
    "if pval <= 0.05:\n",
    "    print('Tolak Ho, dapat dikatakan rata-rata nilai tax mobil tiap jenis bahan bakar setidaknya ada 1 yang berbeda tapi kita tidak tahu yg mana.')\n",
    "else:\n",
    "    print('Terima Ho, dapat dikatakan rata-rata nilai tax mobil tiap jenis bahan bakar saling bernilai sama.')"
   ]
  },
  {
   "cell_type": "markdown",
   "metadata": {},
   "source": [
    "**Visualisasi :**"
   ]
  },
  {
   "cell_type": "code",
   "execution_count": 66,
   "metadata": {
    "ExecuteTime": {
     "end_time": "2021-08-31T05:04:32.619375Z",
     "start_time": "2021-08-31T05:04:32.615871Z"
    },
    "scrolled": false
   },
   "outputs": [],
   "source": [
    "# plt.figure(figsize=(15,10))\n",
    "# plt.subplot(3,1,1)\n",
    "# graph=sns.barplot(data=df, x='fuelType', y='tax', ci=None)\n",
    "# plt.title('Perbandingan nilai Rata-Rata tax berdasarkan fuelType') \n",
    "# plt.show()\n",
    "\n",
    "# plt.figure(figsize=(15,10))\n",
    "# plt.subplot(3,1,2)\n",
    "# sns.scatterplot(data=df, x='fuelType', y='tax', hue='transmission')\n",
    "# plt.title('tax vs fuelType') \n",
    "# plt.show()\n",
    "\n",
    "# plt.figure(figsize=(15,14))\n",
    "# plt.subplot(3,1,3)\n",
    "# sns.scatterplot(data=df, x='fuelType', y='tax', hue='brand')\n",
    "# plt.title('tax vs fuelType') \n",
    "# plt.show()"
   ]
  },
  {
   "cell_type": "markdown",
   "metadata": {},
   "source": [
    "**Kesimpulan Uji 9 :**\n",
    "\n",
    "Jenis bahan bakar yg digunakan oleh suatu mobil memiliki pengaruh yang lemah terhadap nilai pajak nya, dimana kedua jenis bahan bakar memiliki nilai rata-rata pajak yang tidak terlalu berbeda"
   ]
  },
  {
   "cell_type": "markdown",
   "metadata": {},
   "source": [
    "#### Uji 10 : _tax_ vs _mpg_"
   ]
  },
  {
   "cell_type": "markdown",
   "metadata": {},
   "source": [
    "**Korelasi :**"
   ]
  },
  {
   "cell_type": "code",
   "execution_count": 67,
   "metadata": {
    "ExecuteTime": {
     "end_time": "2021-08-31T05:04:33.178909Z",
     "start_time": "2021-08-31T05:04:33.141035Z"
    }
   },
   "outputs": [
    {
     "data": {
      "text/plain": [
       "-0.548082"
      ]
     },
     "execution_count": 67,
     "metadata": {},
     "output_type": "execute_result"
    }
   ],
   "source": [
    "round(df['tax'].corr(df['mpg'],method='spearman'),6)"
   ]
  },
  {
   "cell_type": "markdown",
   "metadata": {},
   "source": [
    "**Analisa Korelasi :**\n",
    "\n",
    "* Fitur _tax_ memiliki korelasi **moderate** serta **berbanding Terbalik** dengan fitur _mpg_, dimana nilai korelasinya adalah 0.548082 dengan arah negatif.\n",
    "* Berdasarkan hal ini dapat dikatakan bahwa **semakin tinggi nilai _mpg_** dari mobil akan menyebabkan **nilai _tax_ semakin rendah**."
   ]
  },
  {
   "cell_type": "markdown",
   "metadata": {},
   "source": [
    "**Visualisasi :**"
   ]
  },
  {
   "cell_type": "code",
   "execution_count": 68,
   "metadata": {
    "ExecuteTime": {
     "end_time": "2021-08-31T05:04:33.492572Z",
     "start_time": "2021-08-31T05:04:33.488083Z"
    },
    "scrolled": false
   },
   "outputs": [],
   "source": [
    "# plt.figure(figsize=(15,10))\n",
    "# plt.subplot(2,1,1)\n",
    "# sns.scatterplot(data=df, x='mpg', y='tax', hue='fuelType')\n",
    "# plt.title('tax vs mpg', size=15)\n",
    "# plt.show()\n",
    "\n",
    "# plt.figure(figsize=(15,10))\n",
    "# plt.subplot(2,1,2)\n",
    "# sns.scatterplot(data=df, x='mpg', y='tax', hue='brand')\n",
    "# plt.title('tax vs mpg', size=15)\n",
    "# plt.show()"
   ]
  },
  {
   "cell_type": "markdown",
   "metadata": {},
   "source": [
    "**Kesimpulan Uji 10 :**\n",
    "\n",
    "Nilai mpg memiliki pengaruh terhadap nilai pajak mobil. Dapat dilihat dari graph diatas semakin irit mobil nilai pajak semakin rendah. Jenis bahan bakar secara umum tidak terlalu mempengaruhi nilai pajak. Dari graphic kedua, dapat dilihat bahwa mobil dengan mpg rendah tapi nilai pajaknya tinggi merupakan mobil dari brand mewah."
   ]
  },
  {
   "cell_type": "markdown",
   "metadata": {},
   "source": [
    "#### Uji 11 : _mileage_ vs _age_"
   ]
  },
  {
   "cell_type": "markdown",
   "metadata": {},
   "source": [
    "**Korelasi :**"
   ]
  },
  {
   "cell_type": "code",
   "execution_count": 69,
   "metadata": {
    "ExecuteTime": {
     "end_time": "2021-08-31T05:04:34.064561Z",
     "start_time": "2021-08-31T05:04:34.016414Z"
    }
   },
   "outputs": [
    {
     "data": {
      "text/plain": [
       "0.81523"
      ]
     },
     "execution_count": 69,
     "metadata": {},
     "output_type": "execute_result"
    }
   ],
   "source": [
    "round(df['mileage'].corr(df['age'],method='spearman'),6)"
   ]
  },
  {
   "cell_type": "markdown",
   "metadata": {},
   "source": [
    "**Analisa Korelasi :**\n",
    "\n",
    "* Fitur _mileage_ memiliki korelasi **strong** serta **berbanding Lurus** dengan fitur _age_, dimana nilai korelasinya adalah 0.81523 dengan arah positif.\n",
    "* Berdasarkan hal ini dapat dikatakan bahwa **semakin tinggi nilai _age_** dari mobil akan menyebabkan **nilai _mileage_ semakin tinggi**."
   ]
  },
  {
   "cell_type": "markdown",
   "metadata": {},
   "source": [
    "**Visualisasi :**"
   ]
  },
  {
   "cell_type": "code",
   "execution_count": 70,
   "metadata": {
    "ExecuteTime": {
     "end_time": "2021-08-31T05:04:34.467278Z",
     "start_time": "2021-08-31T05:04:34.464324Z"
    }
   },
   "outputs": [],
   "source": [
    "# plt.figure(figsize=(15,10))\n",
    "# plt.subplot(2,1,1)\n",
    "# sns.scatterplot(data=df, x='age', y='mileage', hue='fuelType')\n",
    "# plt.title('mileage vs age', size=15)\n",
    "# plt.show()\n",
    "\n",
    "# plt.figure(figsize=(15,10))\n",
    "# plt.subplot(2,1,2)\n",
    "# sns.scatterplot(data=df, x='age', y='mileage', hue='brand')\n",
    "# plt.title('mileage vs age', size=15)\n",
    "# plt.show()"
   ]
  },
  {
   "cell_type": "markdown",
   "metadata": {},
   "source": [
    "**Kesimpulan Uji 11 :**\n",
    "\n",
    "Umur dari mobil memiliki pengaruh terhadap total jarak yg telah ditempuh, dimana secara umum mobil yg sudah berumur tua telah menempuh jarak yg lebih banyak dibandingkan mobil yg masih muda. Pada mobil dengan jenis bahan bakar _Petrol_ memiliki sebaran data yg lebih merata antara mobil berumur muda dengan jarak tempuh sedikit hingga mobil berumur tua dengan jarak tempuh tinggi dibandingkan mobil dengan jenis bahan bakar lainnya."
   ]
  },
  {
   "cell_type": "markdown",
   "metadata": {},
   "source": [
    "#### Uji 12 : _age_ vs _tax_"
   ]
  },
  {
   "cell_type": "markdown",
   "metadata": {},
   "source": [
    "**Korelasi :**"
   ]
  },
  {
   "cell_type": "code",
   "execution_count": 71,
   "metadata": {
    "ExecuteTime": {
     "end_time": "2021-08-31T05:04:35.096426Z",
     "start_time": "2021-08-31T05:04:35.065707Z"
    }
   },
   "outputs": [
    {
     "data": {
      "text/plain": [
       "-0.327277"
      ]
     },
     "execution_count": 71,
     "metadata": {},
     "output_type": "execute_result"
    }
   ],
   "source": [
    "round(df['age'].corr(df['tax'],method='spearman'),6)"
   ]
  },
  {
   "cell_type": "markdown",
   "metadata": {},
   "source": [
    "**Analisa Korelasi :**\n",
    "\n",
    "* Fitur _tax_ memiliki korelasi **moderate** serta **berbanding Terbalik** dengan fitur _age_, dimana nilai korelasinya adalah 0.327277 dengan arah negatif.\n",
    "* Berdasarkan hal ini dapat dikatakan bahwa **semakin tinggi nilai _age_** dari mobil akan menyebabkan **nilai _tax_ semakin rendah**."
   ]
  },
  {
   "cell_type": "markdown",
   "metadata": {},
   "source": [
    "**Visualisasi :**"
   ]
  },
  {
   "cell_type": "code",
   "execution_count": 72,
   "metadata": {
    "ExecuteTime": {
     "end_time": "2021-08-31T05:04:35.391085Z",
     "start_time": "2021-08-31T05:04:35.387565Z"
    }
   },
   "outputs": [],
   "source": [
    "# plt.figure(figsize=(15,10))\n",
    "# plt.subplot(2,1,1)\n",
    "# sns.scatterplot(data=df, x='age', y='tax', hue='fuelType')\n",
    "# plt.title('price vs mileage', size=15)\n",
    "# plt.show()\n",
    "\n",
    "# plt.figure(figsize=(15,10))\n",
    "# plt.subplot(2,1,2)\n",
    "# sns.scatterplot(data=df, x='age', y='tax', hue='brand')\n",
    "# plt.title('age vs tax', size=15)\n",
    "# plt.show()"
   ]
  },
  {
   "cell_type": "markdown",
   "metadata": {},
   "source": [
    "**Kesimpulan Uji 12 :**\n",
    "\n",
    "Umur dari mobil memiliki pengaruh terhadap nilai pajak mobil, dimana secara umum mobil yg sudah berumur tua memiliki nilai pajak yg lebih rendah dibandingkan mobil yg masih muda. Pada mobil dengan jenis bahan bakar _Petrol_ memiliki sebaran data yg lebih merata antara mobil berumur muda dengan nilai pajak yg rendah hingga mobil berumur tua dengan nilai pajak yg tinggi dibandingkan mobil dengan jenis bahan bakar lainnya."
   ]
  },
  {
   "cell_type": "markdown",
   "metadata": {},
   "source": [
    "#### Uji 13 : Year vs Tax vs Fuel"
   ]
  },
  {
   "cell_type": "markdown",
   "metadata": {},
   "source": [
    "Hipotesis:\n",
    "\n",
    "Ho: rata-rata nilai pajak mobil tiap tahun sama\n",
    "\n",
    "Ha: rata-rata nilai pajak mobil tiap tahun setidaknya ada 1 yang berbeda tapi kita tidak tahu yg mana"
   ]
  },
  {
   "cell_type": "code",
   "execution_count": 73,
   "metadata": {
    "ExecuteTime": {
     "end_time": "2021-08-31T05:04:35.953010Z",
     "start_time": "2021-08-31T05:04:35.867310Z"
    },
    "scrolled": false
   },
   "outputs": [
    {
     "name": "stdout",
     "output_type": "stream",
     "text": [
      "Nilai statistic: 19507.063517090948\n",
      "Nilai p-value: 0.0\n",
      "Tolak Ho, dapat dikatakan rata-rata nilai pajak tiap tahun setidaknya ada 1 yang berbeda tapi kita tidak tahu yg mana.\n"
     ]
    }
   ],
   "source": [
    "years = df['year'].unique()\n",
    "stats,pval = kruskal(*[df[df['year'] == i]['tax'] for i in years])\n",
    "\n",
    "print('Nilai statistic:', stats)\n",
    "print('Nilai p-value:', pval)\n",
    "\n",
    "#conclusion\n",
    "if pval <= 0.05:\n",
    "    print('Tolak Ho, dapat dikatakan rata-rata nilai pajak tiap tahun setidaknya ada 1 yang berbeda tapi kita tidak tahu yg mana.')\n",
    "else:\n",
    "    print('Terima Ho, dapat dikatakan rata-rata nilai pajak tiap tahun sama.')"
   ]
  },
  {
   "cell_type": "code",
   "execution_count": 74,
   "metadata": {
    "ExecuteTime": {
     "end_time": "2021-08-31T05:04:35.961813Z",
     "start_time": "2021-08-31T05:04:35.955860Z"
    },
    "scrolled": false
   },
   "outputs": [],
   "source": [
    "# plt.figure(figsize=(15,5))\n",
    "# sns.barplot(data=df, x='year', y='tax', hue='fuelType', ci=None)\n",
    "# plt.show()"
   ]
  },
  {
   "cell_type": "markdown",
   "metadata": {},
   "source": [
    ">Rata-rata nilai pajak mobil bekas pada tahun 2001 secara umum mulai menurun. Semenjak diberlakukannya standarisasi pajak pada tahun 2017, pajak kendaraan berbahan bakar diesel & petrol memiliki nilai pajak yang sama\n",
    "ref : \n",
    "1. https://www.moneysupermarket.com/car-insurance/petrol-vs-diesel/\n",
    "2. https://www.gov.uk/government/news/new-vehicle-tax-rates-from-1-april-2017"
   ]
  },
  {
   "cell_type": "markdown",
   "metadata": {
    "ExecuteTime": {
     "end_time": "2021-08-31T04:14:07.927582Z",
     "start_time": "2021-08-31T04:14:07.923620Z"
    }
   },
   "source": [
    "# Diagnostic & Multicollinearity"
   ]
  },
  {
   "cell_type": "code",
   "execution_count": 115,
   "metadata": {
    "ExecuteTime": {
     "end_time": "2021-08-31T05:18:12.832311Z",
     "start_time": "2021-08-31T05:18:12.823167Z"
    }
   },
   "outputs": [
    {
     "data": {
      "text/plain": [
       "(104247, 11)"
      ]
     },
     "execution_count": 115,
     "metadata": {},
     "output_type": "execute_result"
    }
   ],
   "source": [
    "df.shape"
   ]
  },
  {
   "cell_type": "code",
   "execution_count": 102,
   "metadata": {
    "ExecuteTime": {
     "end_time": "2021-08-31T05:16:22.942775Z",
     "start_time": "2021-08-31T05:16:22.886268Z"
    }
   },
   "outputs": [
    {
     "data": {
      "text/html": [
       "<div>\n",
       "<style scoped>\n",
       "    .dataframe tbody tr th:only-of-type {\n",
       "        vertical-align: middle;\n",
       "    }\n",
       "\n",
       "    .dataframe tbody tr th {\n",
       "        vertical-align: top;\n",
       "    }\n",
       "\n",
       "    .dataframe thead th {\n",
       "        text-align: right;\n",
       "    }\n",
       "</style>\n",
       "<table border=\"1\" class=\"dataframe\">\n",
       "  <thead>\n",
       "    <tr style=\"text-align: right;\">\n",
       "      <th></th>\n",
       "      <th>price</th>\n",
       "      <th>mileage</th>\n",
       "      <th>tax</th>\n",
       "      <th>mpg</th>\n",
       "      <th>engineSize</th>\n",
       "      <th>age</th>\n",
       "      <th>transmission_Manual</th>\n",
       "      <th>transmission_Semi-Auto</th>\n",
       "      <th>fuelType_Petrol</th>\n",
       "    </tr>\n",
       "  </thead>\n",
       "  <tbody>\n",
       "    <tr>\n",
       "      <th>0</th>\n",
       "      <td>12500</td>\n",
       "      <td>15735</td>\n",
       "      <td>150.0</td>\n",
       "      <td>55.4</td>\n",
       "      <td>1.4</td>\n",
       "      <td>3</td>\n",
       "      <td>1</td>\n",
       "      <td>0</td>\n",
       "      <td>1</td>\n",
       "    </tr>\n",
       "    <tr>\n",
       "      <th>1</th>\n",
       "      <td>16500</td>\n",
       "      <td>36203</td>\n",
       "      <td>20.0</td>\n",
       "      <td>64.2</td>\n",
       "      <td>2.0</td>\n",
       "      <td>4</td>\n",
       "      <td>0</td>\n",
       "      <td>0</td>\n",
       "      <td>0</td>\n",
       "    </tr>\n",
       "    <tr>\n",
       "      <th>2</th>\n",
       "      <td>11000</td>\n",
       "      <td>29946</td>\n",
       "      <td>30.0</td>\n",
       "      <td>55.4</td>\n",
       "      <td>1.4</td>\n",
       "      <td>4</td>\n",
       "      <td>1</td>\n",
       "      <td>0</td>\n",
       "      <td>1</td>\n",
       "    </tr>\n",
       "    <tr>\n",
       "      <th>3</th>\n",
       "      <td>16800</td>\n",
       "      <td>25952</td>\n",
       "      <td>145.0</td>\n",
       "      <td>67.3</td>\n",
       "      <td>2.0</td>\n",
       "      <td>3</td>\n",
       "      <td>0</td>\n",
       "      <td>0</td>\n",
       "      <td>0</td>\n",
       "    </tr>\n",
       "    <tr>\n",
       "      <th>4</th>\n",
       "      <td>17300</td>\n",
       "      <td>1998</td>\n",
       "      <td>145.0</td>\n",
       "      <td>49.6</td>\n",
       "      <td>1.0</td>\n",
       "      <td>1</td>\n",
       "      <td>1</td>\n",
       "      <td>0</td>\n",
       "      <td>1</td>\n",
       "    </tr>\n",
       "  </tbody>\n",
       "</table>\n",
       "</div>"
      ],
      "text/plain": [
       "   price  mileage    tax   mpg  engineSize  age  transmission_Manual  \\\n",
       "0  12500    15735  150.0  55.4         1.4    3                    1   \n",
       "1  16500    36203   20.0  64.2         2.0    4                    0   \n",
       "2  11000    29946   30.0  55.4         1.4    4                    1   \n",
       "3  16800    25952  145.0  67.3         2.0    3                    0   \n",
       "4  17300     1998  145.0  49.6         1.0    1                    1   \n",
       "\n",
       "   transmission_Semi-Auto  fuelType_Petrol  \n",
       "0                       0                1  \n",
       "1                       0                0  \n",
       "2                       0                1  \n",
       "3                       0                0  \n",
       "4                       0                1  "
      ]
     },
     "execution_count": 102,
     "metadata": {},
     "output_type": "execute_result"
    }
   ],
   "source": [
    "df_dummy=pd.get_dummies(df.drop(columns=['model', 'year', 'brand']), drop_first = True, columns = ['transmission', 'fuelType'])\n",
    "df_dummy.head()\n"
   ]
  },
  {
   "cell_type": "code",
   "execution_count": 103,
   "metadata": {
    "ExecuteTime": {
     "end_time": "2021-08-31T05:16:27.571808Z",
     "start_time": "2021-08-31T05:16:27.272356Z"
    }
   },
   "outputs": [
    {
     "data": {
      "text/html": [
       "<div>\n",
       "<style scoped>\n",
       "    .dataframe tbody tr th:only-of-type {\n",
       "        vertical-align: middle;\n",
       "    }\n",
       "\n",
       "    .dataframe tbody tr th {\n",
       "        vertical-align: top;\n",
       "    }\n",
       "\n",
       "    .dataframe thead th {\n",
       "        text-align: right;\n",
       "    }\n",
       "</style>\n",
       "<table border=\"1\" class=\"dataframe\">\n",
       "  <thead>\n",
       "    <tr style=\"text-align: right;\">\n",
       "      <th></th>\n",
       "      <th>price</th>\n",
       "      <th>mileage</th>\n",
       "      <th>tax</th>\n",
       "      <th>mpg</th>\n",
       "      <th>engineSize</th>\n",
       "      <th>age</th>\n",
       "      <th>transmission_Manual</th>\n",
       "      <th>transmission_Semi-Auto</th>\n",
       "      <th>fuelType_Petrol</th>\n",
       "    </tr>\n",
       "  </thead>\n",
       "  <tbody>\n",
       "    <tr>\n",
       "      <th>price</th>\n",
       "      <td>1.000000</td>\n",
       "      <td>-0.520393</td>\n",
       "      <td>0.331427</td>\n",
       "      <td>-0.434008</td>\n",
       "      <td>0.584535</td>\n",
       "      <td>-0.602900</td>\n",
       "      <td>-0.606030</td>\n",
       "      <td>0.452911</td>\n",
       "      <td>-0.267508</td>\n",
       "    </tr>\n",
       "    <tr>\n",
       "      <th>mileage</th>\n",
       "      <td>-0.520393</td>\n",
       "      <td>1.000000</td>\n",
       "      <td>-0.281215</td>\n",
       "      <td>0.351647</td>\n",
       "      <td>0.099193</td>\n",
       "      <td>0.812814</td>\n",
       "      <td>0.148534</td>\n",
       "      <td>-0.149217</td>\n",
       "      <td>-0.208296</td>\n",
       "    </tr>\n",
       "    <tr>\n",
       "      <th>tax</th>\n",
       "      <td>0.331427</td>\n",
       "      <td>-0.281215</td>\n",
       "      <td>1.000000</td>\n",
       "      <td>-0.544195</td>\n",
       "      <td>0.149758</td>\n",
       "      <td>-0.344715</td>\n",
       "      <td>-0.195635</td>\n",
       "      <td>0.127364</td>\n",
       "      <td>0.121837</td>\n",
       "    </tr>\n",
       "    <tr>\n",
       "      <th>mpg</th>\n",
       "      <td>-0.434008</td>\n",
       "      <td>0.351647</td>\n",
       "      <td>-0.544195</td>\n",
       "      <td>1.000000</td>\n",
       "      <td>-0.224140</td>\n",
       "      <td>0.336854</td>\n",
       "      <td>0.282091</td>\n",
       "      <td>-0.177853</td>\n",
       "      <td>-0.354326</td>\n",
       "    </tr>\n",
       "    <tr>\n",
       "      <th>engineSize</th>\n",
       "      <td>0.584535</td>\n",
       "      <td>0.099193</td>\n",
       "      <td>0.149758</td>\n",
       "      <td>-0.224140</td>\n",
       "      <td>1.000000</td>\n",
       "      <td>0.036936</td>\n",
       "      <td>-0.539257</td>\n",
       "      <td>0.349324</td>\n",
       "      <td>-0.651813</td>\n",
       "    </tr>\n",
       "    <tr>\n",
       "      <th>age</th>\n",
       "      <td>-0.602900</td>\n",
       "      <td>0.812814</td>\n",
       "      <td>-0.344715</td>\n",
       "      <td>0.336854</td>\n",
       "      <td>0.036936</td>\n",
       "      <td>1.000000</td>\n",
       "      <td>0.174878</td>\n",
       "      <td>-0.176210</td>\n",
       "      <td>-0.111412</td>\n",
       "    </tr>\n",
       "    <tr>\n",
       "      <th>transmission_Manual</th>\n",
       "      <td>-0.606030</td>\n",
       "      <td>0.148534</td>\n",
       "      <td>-0.195635</td>\n",
       "      <td>0.282091</td>\n",
       "      <td>-0.539257</td>\n",
       "      <td>0.174878</td>\n",
       "      <td>1.000000</td>\n",
       "      <td>-0.654842</td>\n",
       "      <td>0.265510</td>\n",
       "    </tr>\n",
       "    <tr>\n",
       "      <th>transmission_Semi-Auto</th>\n",
       "      <td>0.452911</td>\n",
       "      <td>-0.149217</td>\n",
       "      <td>0.127364</td>\n",
       "      <td>-0.177853</td>\n",
       "      <td>0.349324</td>\n",
       "      <td>-0.176210</td>\n",
       "      <td>-0.654842</td>\n",
       "      <td>1.000000</td>\n",
       "      <td>-0.153968</td>\n",
       "    </tr>\n",
       "    <tr>\n",
       "      <th>fuelType_Petrol</th>\n",
       "      <td>-0.267508</td>\n",
       "      <td>-0.208296</td>\n",
       "      <td>0.121837</td>\n",
       "      <td>-0.354326</td>\n",
       "      <td>-0.651813</td>\n",
       "      <td>-0.111412</td>\n",
       "      <td>0.265510</td>\n",
       "      <td>-0.153968</td>\n",
       "      <td>1.000000</td>\n",
       "    </tr>\n",
       "  </tbody>\n",
       "</table>\n",
       "</div>"
      ],
      "text/plain": [
       "                           price   mileage       tax       mpg  engineSize  \\\n",
       "price                   1.000000 -0.520393  0.331427 -0.434008    0.584535   \n",
       "mileage                -0.520393  1.000000 -0.281215  0.351647    0.099193   \n",
       "tax                     0.331427 -0.281215  1.000000 -0.544195    0.149758   \n",
       "mpg                    -0.434008  0.351647 -0.544195  1.000000   -0.224140   \n",
       "engineSize              0.584535  0.099193  0.149758 -0.224140    1.000000   \n",
       "age                    -0.602900  0.812814 -0.344715  0.336854    0.036936   \n",
       "transmission_Manual    -0.606030  0.148534 -0.195635  0.282091   -0.539257   \n",
       "transmission_Semi-Auto  0.452911 -0.149217  0.127364 -0.177853    0.349324   \n",
       "fuelType_Petrol        -0.267508 -0.208296  0.121837 -0.354326   -0.651813   \n",
       "\n",
       "                             age  transmission_Manual  transmission_Semi-Auto  \\\n",
       "price                  -0.602900            -0.606030                0.452911   \n",
       "mileage                 0.812814             0.148534               -0.149217   \n",
       "tax                    -0.344715            -0.195635                0.127364   \n",
       "mpg                     0.336854             0.282091               -0.177853   \n",
       "engineSize              0.036936            -0.539257                0.349324   \n",
       "age                     1.000000             0.174878               -0.176210   \n",
       "transmission_Manual     0.174878             1.000000               -0.654842   \n",
       "transmission_Semi-Auto -0.176210            -0.654842                1.000000   \n",
       "fuelType_Petrol        -0.111412             0.265510               -0.153968   \n",
       "\n",
       "                        fuelType_Petrol  \n",
       "price                         -0.267508  \n",
       "mileage                       -0.208296  \n",
       "tax                            0.121837  \n",
       "mpg                           -0.354326  \n",
       "engineSize                    -0.651813  \n",
       "age                           -0.111412  \n",
       "transmission_Manual            0.265510  \n",
       "transmission_Semi-Auto        -0.153968  \n",
       "fuelType_Petrol                1.000000  "
      ]
     },
     "execution_count": 103,
     "metadata": {},
     "output_type": "execute_result"
    }
   ],
   "source": [
    "df_dummy.corr('spearman')"
   ]
  },
  {
   "cell_type": "code",
   "execution_count": 77,
   "metadata": {
    "ExecuteTime": {
     "end_time": "2021-08-31T05:04:36.771664Z",
     "start_time": "2021-08-31T05:04:36.762558Z"
    }
   },
   "outputs": [],
   "source": [
    "from statsmodels.stats.outliers_influence import variance_inflation_factor"
   ]
  },
  {
   "cell_type": "code",
   "execution_count": 104,
   "metadata": {
    "ExecuteTime": {
     "end_time": "2021-08-31T05:16:32.142868Z",
     "start_time": "2021-08-31T05:16:32.137278Z"
    }
   },
   "outputs": [],
   "source": [
    "def calc_vif(X):\n",
    "    # calculating vif\n",
    "    vif=pd.DataFrame()\n",
    "    vif['variables']=X.columns\n",
    "    vif['VIF']=[variance_inflation_factor(X.values,i) for i in range (X.shape[1])]\n",
    "    return vif"
   ]
  },
  {
   "cell_type": "code",
   "execution_count": 107,
   "metadata": {
    "ExecuteTime": {
     "end_time": "2021-08-31T05:17:04.660459Z",
     "start_time": "2021-08-31T05:17:04.405153Z"
    }
   },
   "outputs": [
    {
     "data": {
      "text/html": [
       "<div>\n",
       "<style scoped>\n",
       "    .dataframe tbody tr th:only-of-type {\n",
       "        vertical-align: middle;\n",
       "    }\n",
       "\n",
       "    .dataframe tbody tr th {\n",
       "        vertical-align: top;\n",
       "    }\n",
       "\n",
       "    .dataframe thead th {\n",
       "        text-align: right;\n",
       "    }\n",
       "</style>\n",
       "<table border=\"1\" class=\"dataframe\">\n",
       "  <thead>\n",
       "    <tr style=\"text-align: right;\">\n",
       "      <th></th>\n",
       "      <th>variables</th>\n",
       "      <th>VIF</th>\n",
       "    </tr>\n",
       "  </thead>\n",
       "  <tbody>\n",
       "    <tr>\n",
       "      <th>0</th>\n",
       "      <td>mileage</td>\n",
       "      <td>1.950382</td>\n",
       "    </tr>\n",
       "    <tr>\n",
       "      <th>1</th>\n",
       "      <td>tax</td>\n",
       "      <td>3.203447</td>\n",
       "    </tr>\n",
       "    <tr>\n",
       "      <th>2</th>\n",
       "      <td>transmission_Manual</td>\n",
       "      <td>3.189483</td>\n",
       "    </tr>\n",
       "    <tr>\n",
       "      <th>3</th>\n",
       "      <td>transmission_Semi-Auto</td>\n",
       "      <td>1.725963</td>\n",
       "    </tr>\n",
       "    <tr>\n",
       "      <th>4</th>\n",
       "      <td>fuelType_Petrol</td>\n",
       "      <td>2.627428</td>\n",
       "    </tr>\n",
       "  </tbody>\n",
       "</table>\n",
       "</div>"
      ],
      "text/plain": [
       "                variables       VIF\n",
       "0                 mileage  1.950382\n",
       "1                     tax  3.203447\n",
       "2     transmission_Manual  3.189483\n",
       "3  transmission_Semi-Auto  1.725963\n",
       "4         fuelType_Petrol  2.627428"
      ]
     },
     "execution_count": 107,
     "metadata": {},
     "output_type": "execute_result"
    }
   ],
   "source": [
    "calc_vif(df_dummy.drop(columns=['price', 'mpg', 'engineSize', 'age']))"
   ]
  },
  {
   "cell_type": "code",
   "execution_count": 111,
   "metadata": {
    "ExecuteTime": {
     "end_time": "2021-08-31T05:17:26.567163Z",
     "start_time": "2021-08-31T05:17:26.517774Z"
    }
   },
   "outputs": [],
   "source": [
    "sm_lm=sm.OLS(df['price'], sm.add_constant(df_dummy.drop(columns=['price', 'mpg', 'engineSize', 'age'])))\n",
    "result=sm_lm.fit()"
   ]
  },
  {
   "cell_type": "code",
   "execution_count": 112,
   "metadata": {
    "ExecuteTime": {
     "end_time": "2021-08-31T05:17:29.281629Z",
     "start_time": "2021-08-31T05:17:29.189585Z"
    }
   },
   "outputs": [
    {
     "name": "stdout",
     "output_type": "stream",
     "text": [
      "                            OLS Regression Results                            \n",
      "==============================================================================\n",
      "Dep. Variable:                  price   R-squared:                       0.495\n",
      "Model:                            OLS   Adj. R-squared:                  0.495\n",
      "Method:                 Least Squares   F-statistic:                 2.044e+04\n",
      "Date:                Tue, 31 Aug 2021   Prob (F-statistic):               0.00\n",
      "Time:                        12:17:29   Log-Likelihood:            -1.0702e+06\n",
      "No. Observations:              104247   AIC:                         2.140e+06\n",
      "Df Residuals:                  104241   BIC:                         2.140e+06\n",
      "Df Model:                           5                                         \n",
      "Covariance Type:            nonrobust                                         \n",
      "==========================================================================================\n",
      "                             coef    std err          t      P>|t|      [0.025      0.975]\n",
      "------------------------------------------------------------------------------------------\n",
      "const                   2.447e+04     84.521    289.537      0.000    2.43e+04    2.46e+04\n",
      "mileage                   -0.1828      0.001   -161.759      0.000      -0.185      -0.181\n",
      "tax                       25.1612      0.393     64.087      0.000      24.392      25.931\n",
      "transmission_Manual    -7668.3706     60.975   -125.763      0.000   -7787.880   -7548.861\n",
      "transmission_Semi-Auto  1343.3232     67.556     19.885      0.000    1210.915    1475.732\n",
      "fuelType_Petrol        -4119.1888     47.441    -86.827      0.000   -4212.173   -4026.205\n",
      "==============================================================================\n",
      "Omnibus:                    82319.269   Durbin-Watson:                   1.471\n",
      "Prob(Omnibus):                  0.000   Jarque-Bera (JB):          4458475.815\n",
      "Skew:                           3.377   Prob(JB):                         0.00\n",
      "Kurtosis:                      34.318   Cond. No.                     1.49e+05\n",
      "==============================================================================\n",
      "\n",
      "Notes:\n",
      "[1] Standard Errors assume that the covariance matrix of the errors is correctly specified.\n",
      "[2] The condition number is large, 1.49e+05. This might indicate that there are\n",
      "strong multicollinearity or other numerical problems.\n"
     ]
    }
   ],
   "source": [
    "print(result.summary())"
   ]
  },
  {
   "cell_type": "markdown",
   "metadata": {},
   "source": [
    "## Residual Data"
   ]
  },
  {
   "cell_type": "code",
   "execution_count": 113,
   "metadata": {
    "ExecuteTime": {
     "end_time": "2021-08-31T05:17:37.110605Z",
     "start_time": "2021-08-31T05:17:36.014639Z"
    }
   },
   "outputs": [
    {
     "name": "stderr",
     "output_type": "stream",
     "text": [
      "/opt/anaconda3/lib/python3.8/site-packages/seaborn/distributions.py:2551: FutureWarning: `distplot` is a deprecated function and will be removed in a future version. Please adapt your code to use either `displot` (a figure-level function with similar flexibility) or `histplot` (an axes-level function for histograms).\n",
      "  warnings.warn(msg, FutureWarning)\n"
     ]
    },
    {
     "data": {
      "image/png": "[encoded data removed]",
      "text/plain": [
       "<Figure size 720x360 with 1 Axes>"
      ]
     },
     "metadata": {},
     "output_type": "display_data"
    }
   ],
   "source": [
    "# histogram\n",
    "plt.figure(figsize=(10,5))\n",
    "sns.distplot(result.resid)\n",
    "plt.xlabel('Residuals')\n",
    "plt.show()\n"
   ]
  },
  {
   "cell_type": "code",
   "execution_count": 114,
   "metadata": {
    "ExecuteTime": {
     "end_time": "2021-08-31T05:17:52.629981Z",
     "start_time": "2021-08-31T05:17:52.381177Z"
    }
   },
   "outputs": [
    {
     "name": "stderr",
     "output_type": "stream",
     "text": [
      "/opt/anaconda3/lib/python3.8/site-packages/seaborn/_decorators.py:36: FutureWarning: Pass the following variable as a keyword arg: x. From version 0.12, the only valid positional argument will be `data`, and passing other arguments without an explicit keyword will result in an error or misinterpretation.\n",
      "  warnings.warn(\n"
     ]
    },
    {
     "data": {
      "image/png": "[encoded data removed]",
      "text/plain": [
       "<Figure size 720x360 with 1 Axes>"
      ]
     },
     "metadata": {},
     "output_type": "display_data"
    }
   ],
   "source": [
    "# boxplot\n",
    "plt.figure(figsize=(10,5))\n",
    "sns.boxplot(result.resid)\n",
    "plt.xlabel('Residuals')\n",
    "plt.show()"
   ]
  },
  {
   "cell_type": "code",
   "execution_count": 84,
   "metadata": {
    "ExecuteTime": {
     "end_time": "2021-08-31T05:04:41.661099Z",
     "start_time": "2021-08-31T05:04:40.750936Z"
    }
   },
   "outputs": [
    {
     "data": {
      "image/png": "[encoded data removed]",
      "text/plain": [
       "<Figure size 432x288 with 1 Axes>"
      ]
     },
     "metadata": {},
     "output_type": "display_data"
    }
   ],
   "source": [
    "sm.qqplot(result.resid, line='45') #kalau data sangat banyak, disarankan pakai qqplot\n",
    "plt.show()"
   ]
  },
  {
   "cell_type": "code",
   "execution_count": 85,
   "metadata": {
    "ExecuteTime": {
     "end_time": "2021-08-31T05:07:06.736026Z",
     "start_time": "2021-08-31T05:04:41.666408Z"
    }
   },
   "outputs": [
    {
     "name": "stderr",
     "output_type": "stream",
     "text": [
      "/opt/anaconda3/lib/python3.8/site-packages/seaborn/_decorators.py:36: FutureWarning: Pass the following variables as keyword args: x, y. From version 0.12, the only valid positional argument will be `data`, and passing other arguments without an explicit keyword will result in an error or misinterpretation.\n",
      "  warnings.warn(\n",
      "/opt/anaconda3/lib/python3.8/site-packages/seaborn/_decorators.py:36: FutureWarning: Pass the following variables as keyword args: x, y. From version 0.12, the only valid positional argument will be `data`, and passing other arguments without an explicit keyword will result in an error or misinterpretation.\n",
      "  warnings.warn(\n"
     ]
    },
    {
     "ename": "KeyboardInterrupt",
     "evalue": "",
     "output_type": "error",
     "traceback": [
      "\u001b[0;31m---------------------------------------------------------------------------\u001b[0m",
      "\u001b[0;31mKeyboardInterrupt\u001b[0m                         Traceback (most recent call last)",
      "\u001b[0;32m<ipython-input-85-d41daed8885d>\u001b[0m in \u001b[0;36m<module>\u001b[0;34m\u001b[0m\n\u001b[1;32m      1\u001b[0m \u001b[0mplt\u001b[0m\u001b[0;34m.\u001b[0m\u001b[0mfigure\u001b[0m\u001b[0;34m(\u001b[0m\u001b[0mfigsize\u001b[0m\u001b[0;34m=\u001b[0m\u001b[0;34m(\u001b[0m\u001b[0;36m10\u001b[0m\u001b[0;34m,\u001b[0m\u001b[0;36m10\u001b[0m\u001b[0;34m)\u001b[0m\u001b[0;34m)\u001b[0m\u001b[0;34m\u001b[0m\u001b[0;34m\u001b[0m\u001b[0m\n\u001b[1;32m      2\u001b[0m \u001b[0msns\u001b[0m\u001b[0;34m.\u001b[0m\u001b[0mscatterplot\u001b[0m\u001b[0;34m(\u001b[0m\u001b[0mresult\u001b[0m\u001b[0;34m.\u001b[0m\u001b[0mfittedvalues\u001b[0m\u001b[0;34m,\u001b[0m \u001b[0mresult\u001b[0m\u001b[0;34m.\u001b[0m\u001b[0mresid\u001b[0m\u001b[0;34m)\u001b[0m\u001b[0;34m\u001b[0m\u001b[0;34m\u001b[0m\u001b[0m\n\u001b[0;32m----> 3\u001b[0;31m \u001b[0msns\u001b[0m\u001b[0;34m.\u001b[0m\u001b[0mlineplot\u001b[0m\u001b[0;34m(\u001b[0m\u001b[0mresult\u001b[0m\u001b[0;34m.\u001b[0m\u001b[0mfittedvalues\u001b[0m\u001b[0;34m,\u001b[0m\u001b[0;36m0\u001b[0m\u001b[0;34m)\u001b[0m\u001b[0;34m\u001b[0m\u001b[0;34m\u001b[0m\u001b[0m\n\u001b[0m\u001b[1;32m      4\u001b[0m \u001b[0mplt\u001b[0m\u001b[0;34m.\u001b[0m\u001b[0mxlabel\u001b[0m\u001b[0;34m(\u001b[0m\u001b[0;34m'Y Predict'\u001b[0m\u001b[0;34m)\u001b[0m\u001b[0;34m\u001b[0m\u001b[0;34m\u001b[0m\u001b[0m\n\u001b[1;32m      5\u001b[0m \u001b[0mplt\u001b[0m\u001b[0;34m.\u001b[0m\u001b[0mylabel\u001b[0m\u001b[0;34m(\u001b[0m\u001b[0;34m'Residuals'\u001b[0m\u001b[0;34m)\u001b[0m\u001b[0;34m\u001b[0m\u001b[0;34m\u001b[0m\u001b[0m\n",
      "\u001b[0;32m/opt/anaconda3/lib/python3.8/site-packages/seaborn/_decorators.py\u001b[0m in \u001b[0;36minner_f\u001b[0;34m(*args, **kwargs)\u001b[0m\n\u001b[1;32m     44\u001b[0m             )\n\u001b[1;32m     45\u001b[0m         \u001b[0mkwargs\u001b[0m\u001b[0;34m.\u001b[0m\u001b[0mupdate\u001b[0m\u001b[0;34m(\u001b[0m\u001b[0;34m{\u001b[0m\u001b[0mk\u001b[0m\u001b[0;34m:\u001b[0m \u001b[0marg\u001b[0m \u001b[0;32mfor\u001b[0m \u001b[0mk\u001b[0m\u001b[0;34m,\u001b[0m \u001b[0marg\u001b[0m \u001b[0;32min\u001b[0m \u001b[0mzip\u001b[0m\u001b[0;34m(\u001b[0m\u001b[0msig\u001b[0m\u001b[0;34m.\u001b[0m\u001b[0mparameters\u001b[0m\u001b[0;34m,\u001b[0m \u001b[0margs\u001b[0m\u001b[0;34m)\u001b[0m\u001b[0;34m}\u001b[0m\u001b[0;34m)\u001b[0m\u001b[0;34m\u001b[0m\u001b[0;34m\u001b[0m\u001b[0m\n\u001b[0;32m---> 46\u001b[0;31m         \u001b[0;32mreturn\u001b[0m \u001b[0mf\u001b[0m\u001b[0;34m(\u001b[0m\u001b[0;34m**\u001b[0m\u001b[0mkwargs\u001b[0m\u001b[0;34m)\u001b[0m\u001b[0;34m\u001b[0m\u001b[0;34m\u001b[0m\u001b[0m\n\u001b[0m\u001b[1;32m     47\u001b[0m     \u001b[0;32mreturn\u001b[0m \u001b[0minner_f\u001b[0m\u001b[0;34m\u001b[0m\u001b[0;34m\u001b[0m\u001b[0m\n\u001b[1;32m     48\u001b[0m \u001b[0;34m\u001b[0m\u001b[0m\n",
      "\u001b[0;32m/opt/anaconda3/lib/python3.8/site-packages/seaborn/relational.py\u001b[0m in \u001b[0;36mlineplot\u001b[0;34m(x, y, hue, size, style, data, palette, hue_order, hue_norm, sizes, size_order, size_norm, dashes, markers, style_order, units, estimator, ci, n_boot, seed, sort, err_style, err_kws, legend, ax, **kwargs)\u001b[0m\n\u001b[1;32m    694\u001b[0m     \u001b[0mp\u001b[0m\u001b[0;34m.\u001b[0m\u001b[0m_attach\u001b[0m\u001b[0;34m(\u001b[0m\u001b[0max\u001b[0m\u001b[0;34m)\u001b[0m\u001b[0;34m\u001b[0m\u001b[0;34m\u001b[0m\u001b[0m\n\u001b[1;32m    695\u001b[0m \u001b[0;34m\u001b[0m\u001b[0m\n\u001b[0;32m--> 696\u001b[0;31m     \u001b[0mp\u001b[0m\u001b[0;34m.\u001b[0m\u001b[0mplot\u001b[0m\u001b[0;34m(\u001b[0m\u001b[0max\u001b[0m\u001b[0;34m,\u001b[0m \u001b[0mkwargs\u001b[0m\u001b[0;34m)\u001b[0m\u001b[0;34m\u001b[0m\u001b[0;34m\u001b[0m\u001b[0m\n\u001b[0m\u001b[1;32m    697\u001b[0m     \u001b[0;32mreturn\u001b[0m \u001b[0max\u001b[0m\u001b[0;34m\u001b[0m\u001b[0;34m\u001b[0m\u001b[0m\n\u001b[1;32m    698\u001b[0m \u001b[0;34m\u001b[0m\u001b[0m\n",
      "\u001b[0;32m/opt/anaconda3/lib/python3.8/site-packages/seaborn/relational.py\u001b[0m in \u001b[0;36mplot\u001b[0;34m(self, ax, kws)\u001b[0m\n\u001b[1;32m    490\u001b[0m                     \u001b[0merr\u001b[0m \u001b[0;34m=\u001b[0m \u001b[0;34m\"estimator must be None when specifying units\"\u001b[0m\u001b[0;34m\u001b[0m\u001b[0;34m\u001b[0m\u001b[0m\n\u001b[1;32m    491\u001b[0m                     \u001b[0;32mraise\u001b[0m \u001b[0mValueError\u001b[0m\u001b[0;34m(\u001b[0m\u001b[0merr\u001b[0m\u001b[0;34m)\u001b[0m\u001b[0;34m\u001b[0m\u001b[0;34m\u001b[0m\u001b[0m\n\u001b[0;32m--> 492\u001b[0;31m                 \u001b[0mx\u001b[0m\u001b[0;34m,\u001b[0m \u001b[0my\u001b[0m\u001b[0;34m,\u001b[0m \u001b[0my_ci\u001b[0m \u001b[0;34m=\u001b[0m \u001b[0mself\u001b[0m\u001b[0;34m.\u001b[0m\u001b[0maggregate\u001b[0m\u001b[0;34m(\u001b[0m\u001b[0my\u001b[0m\u001b[0;34m,\u001b[0m \u001b[0mx\u001b[0m\u001b[0;34m,\u001b[0m \u001b[0mu\u001b[0m\u001b[0;34m)\u001b[0m\u001b[0;34m\u001b[0m\u001b[0;34m\u001b[0m\u001b[0m\n\u001b[0m\u001b[1;32m    493\u001b[0m             \u001b[0;32melse\u001b[0m\u001b[0;34m:\u001b[0m\u001b[0;34m\u001b[0m\u001b[0;34m\u001b[0m\u001b[0m\n\u001b[1;32m    494\u001b[0m                 \u001b[0my_ci\u001b[0m \u001b[0;34m=\u001b[0m \u001b[0;32mNone\u001b[0m\u001b[0;34m\u001b[0m\u001b[0;34m\u001b[0m\u001b[0m\n",
      "\u001b[0;32m/opt/anaconda3/lib/python3.8/site-packages/seaborn/relational.py\u001b[0m in \u001b[0;36maggregate\u001b[0;34m(self, vals, grouper, units)\u001b[0m\n\u001b[1;32m    412\u001b[0m                                columns=[\"low\", \"high\"]).stack()\n\u001b[1;32m    413\u001b[0m         \u001b[0;32melse\u001b[0m\u001b[0;34m:\u001b[0m\u001b[0;34m\u001b[0m\u001b[0;34m\u001b[0m\u001b[0m\n\u001b[0;32m--> 414\u001b[0;31m             \u001b[0mcis\u001b[0m \u001b[0;34m=\u001b[0m \u001b[0mgrouped\u001b[0m\u001b[0;34m.\u001b[0m\u001b[0mapply\u001b[0m\u001b[0;34m(\u001b[0m\u001b[0mbootstrapped_cis\u001b[0m\u001b[0;34m)\u001b[0m\u001b[0;34m\u001b[0m\u001b[0;34m\u001b[0m\u001b[0m\n\u001b[0m\u001b[1;32m    415\u001b[0m \u001b[0;34m\u001b[0m\u001b[0m\n\u001b[1;32m    416\u001b[0m         \u001b[0;31m# Unpack the CIs into \"wide\" format for plotting\u001b[0m\u001b[0;34m\u001b[0m\u001b[0;34m\u001b[0m\u001b[0;34m\u001b[0m\u001b[0m\n",
      "\u001b[0;32m/opt/anaconda3/lib/python3.8/site-packages/pandas/core/groupby/generic.py\u001b[0m in \u001b[0;36mapply\u001b[0;34m(self, func, *args, **kwargs)\u001b[0m\n\u001b[1;32m    224\u001b[0m     )\n\u001b[1;32m    225\u001b[0m     \u001b[0;32mdef\u001b[0m \u001b[0mapply\u001b[0m\u001b[0;34m(\u001b[0m\u001b[0mself\u001b[0m\u001b[0;34m,\u001b[0m \u001b[0mfunc\u001b[0m\u001b[0;34m,\u001b[0m \u001b[0;34m*\u001b[0m\u001b[0margs\u001b[0m\u001b[0;34m,\u001b[0m \u001b[0;34m**\u001b[0m\u001b[0mkwargs\u001b[0m\u001b[0;34m)\u001b[0m\u001b[0;34m:\u001b[0m\u001b[0;34m\u001b[0m\u001b[0;34m\u001b[0m\u001b[0m\n\u001b[0;32m--> 226\u001b[0;31m         \u001b[0;32mreturn\u001b[0m \u001b[0msuper\u001b[0m\u001b[0;34m(\u001b[0m\u001b[0;34m)\u001b[0m\u001b[0;34m.\u001b[0m\u001b[0mapply\u001b[0m\u001b[0;34m(\u001b[0m\u001b[0mfunc\u001b[0m\u001b[0;34m,\u001b[0m \u001b[0;34m*\u001b[0m\u001b[0margs\u001b[0m\u001b[0;34m,\u001b[0m \u001b[0;34m**\u001b[0m\u001b[0mkwargs\u001b[0m\u001b[0;34m)\u001b[0m\u001b[0;34m\u001b[0m\u001b[0;34m\u001b[0m\u001b[0m\n\u001b[0m\u001b[1;32m    227\u001b[0m \u001b[0;34m\u001b[0m\u001b[0m\n\u001b[1;32m    228\u001b[0m     @doc(\n",
      "\u001b[0;32m/opt/anaconda3/lib/python3.8/site-packages/pandas/core/groupby/groupby.py\u001b[0m in \u001b[0;36mapply\u001b[0;34m(self, func, *args, **kwargs)\u001b[0m\n\u001b[1;32m    857\u001b[0m         \u001b[0;32mwith\u001b[0m \u001b[0moption_context\u001b[0m\u001b[0;34m(\u001b[0m\u001b[0;34m\"mode.chained_assignment\"\u001b[0m\u001b[0;34m,\u001b[0m \u001b[0;32mNone\u001b[0m\u001b[0;34m)\u001b[0m\u001b[0;34m:\u001b[0m\u001b[0;34m\u001b[0m\u001b[0;34m\u001b[0m\u001b[0m\n\u001b[1;32m    858\u001b[0m             \u001b[0;32mtry\u001b[0m\u001b[0;34m:\u001b[0m\u001b[0;34m\u001b[0m\u001b[0;34m\u001b[0m\u001b[0m\n\u001b[0;32m--> 859\u001b[0;31m                 \u001b[0mresult\u001b[0m \u001b[0;34m=\u001b[0m \u001b[0mself\u001b[0m\u001b[0;34m.\u001b[0m\u001b[0m_python_apply_general\u001b[0m\u001b[0;34m(\u001b[0m\u001b[0mf\u001b[0m\u001b[0;34m,\u001b[0m \u001b[0mself\u001b[0m\u001b[0;34m.\u001b[0m\u001b[0m_selected_obj\u001b[0m\u001b[0;34m)\u001b[0m\u001b[0;34m\u001b[0m\u001b[0;34m\u001b[0m\u001b[0m\n\u001b[0m\u001b[1;32m    860\u001b[0m             \u001b[0;32mexcept\u001b[0m \u001b[0mTypeError\u001b[0m\u001b[0;34m:\u001b[0m\u001b[0;34m\u001b[0m\u001b[0;34m\u001b[0m\u001b[0m\n\u001b[1;32m    861\u001b[0m                 \u001b[0;31m# gh-20949\u001b[0m\u001b[0;34m\u001b[0m\u001b[0;34m\u001b[0m\u001b[0;34m\u001b[0m\u001b[0m\n",
      "\u001b[0;32m/opt/anaconda3/lib/python3.8/site-packages/pandas/core/groupby/groupby.py\u001b[0m in \u001b[0;36m_python_apply_general\u001b[0;34m(self, f, data)\u001b[0m\n\u001b[1;32m    890\u001b[0m             \u001b[0mdata\u001b[0m \u001b[0mafter\u001b[0m \u001b[0mapplying\u001b[0m \u001b[0mf\u001b[0m\u001b[0;34m\u001b[0m\u001b[0;34m\u001b[0m\u001b[0m\n\u001b[1;32m    891\u001b[0m         \"\"\"\n\u001b[0;32m--> 892\u001b[0;31m         \u001b[0mkeys\u001b[0m\u001b[0;34m,\u001b[0m \u001b[0mvalues\u001b[0m\u001b[0;34m,\u001b[0m \u001b[0mmutated\u001b[0m \u001b[0;34m=\u001b[0m \u001b[0mself\u001b[0m\u001b[0;34m.\u001b[0m\u001b[0mgrouper\u001b[0m\u001b[0;34m.\u001b[0m\u001b[0mapply\u001b[0m\u001b[0;34m(\u001b[0m\u001b[0mf\u001b[0m\u001b[0;34m,\u001b[0m \u001b[0mdata\u001b[0m\u001b[0;34m,\u001b[0m \u001b[0mself\u001b[0m\u001b[0;34m.\u001b[0m\u001b[0maxis\u001b[0m\u001b[0;34m)\u001b[0m\u001b[0;34m\u001b[0m\u001b[0;34m\u001b[0m\u001b[0m\n\u001b[0m\u001b[1;32m    893\u001b[0m \u001b[0;34m\u001b[0m\u001b[0m\n\u001b[1;32m    894\u001b[0m         return self._wrap_applied_output(\n",
      "\u001b[0;32m/opt/anaconda3/lib/python3.8/site-packages/pandas/core/groupby/ops.py\u001b[0m in \u001b[0;36mapply\u001b[0;34m(self, f, data, axis)\u001b[0m\n\u001b[1;32m    211\u001b[0m             \u001b[0;31m# group might be modified\u001b[0m\u001b[0;34m\u001b[0m\u001b[0;34m\u001b[0m\u001b[0;34m\u001b[0m\u001b[0m\n\u001b[1;32m    212\u001b[0m             \u001b[0mgroup_axes\u001b[0m \u001b[0;34m=\u001b[0m \u001b[0mgroup\u001b[0m\u001b[0;34m.\u001b[0m\u001b[0maxes\u001b[0m\u001b[0;34m\u001b[0m\u001b[0;34m\u001b[0m\u001b[0m\n\u001b[0;32m--> 213\u001b[0;31m             \u001b[0mres\u001b[0m \u001b[0;34m=\u001b[0m \u001b[0mf\u001b[0m\u001b[0;34m(\u001b[0m\u001b[0mgroup\u001b[0m\u001b[0;34m)\u001b[0m\u001b[0;34m\u001b[0m\u001b[0;34m\u001b[0m\u001b[0m\n\u001b[0m\u001b[1;32m    214\u001b[0m             \u001b[0;32mif\u001b[0m \u001b[0;32mnot\u001b[0m \u001b[0m_is_indexed_like\u001b[0m\u001b[0;34m(\u001b[0m\u001b[0mres\u001b[0m\u001b[0;34m,\u001b[0m \u001b[0mgroup_axes\u001b[0m\u001b[0;34m)\u001b[0m\u001b[0;34m:\u001b[0m\u001b[0;34m\u001b[0m\u001b[0;34m\u001b[0m\u001b[0m\n\u001b[1;32m    215\u001b[0m                 \u001b[0mmutated\u001b[0m \u001b[0;34m=\u001b[0m \u001b[0;32mTrue\u001b[0m\u001b[0;34m\u001b[0m\u001b[0;34m\u001b[0m\u001b[0m\n",
      "\u001b[0;32m/opt/anaconda3/lib/python3.8/site-packages/seaborn/relational.py\u001b[0m in \u001b[0;36mbootstrapped_cis\u001b[0;34m(vals)\u001b[0m\n\u001b[1;32m    393\u001b[0m                 \u001b[0;32mreturn\u001b[0m \u001b[0mnull_ci\u001b[0m\u001b[0;34m\u001b[0m\u001b[0;34m\u001b[0m\u001b[0m\n\u001b[1;32m    394\u001b[0m \u001b[0;34m\u001b[0m\u001b[0m\n\u001b[0;32m--> 395\u001b[0;31m             \u001b[0mboots\u001b[0m \u001b[0;34m=\u001b[0m \u001b[0mbootstrap\u001b[0m\u001b[0;34m(\u001b[0m\u001b[0mvals\u001b[0m\u001b[0;34m,\u001b[0m \u001b[0mfunc\u001b[0m\u001b[0;34m=\u001b[0m\u001b[0mfunc\u001b[0m\u001b[0;34m,\u001b[0m \u001b[0mn_boot\u001b[0m\u001b[0;34m=\u001b[0m\u001b[0mn_boot\u001b[0m\u001b[0;34m,\u001b[0m \u001b[0mseed\u001b[0m\u001b[0;34m=\u001b[0m\u001b[0mseed\u001b[0m\u001b[0;34m)\u001b[0m\u001b[0;34m\u001b[0m\u001b[0;34m\u001b[0m\u001b[0m\n\u001b[0m\u001b[1;32m    396\u001b[0m             \u001b[0mcis\u001b[0m \u001b[0;34m=\u001b[0m \u001b[0mci_func\u001b[0m\u001b[0;34m(\u001b[0m\u001b[0mboots\u001b[0m\u001b[0;34m,\u001b[0m \u001b[0mci\u001b[0m\u001b[0;34m)\u001b[0m\u001b[0;34m\u001b[0m\u001b[0;34m\u001b[0m\u001b[0m\n\u001b[1;32m    397\u001b[0m             \u001b[0;32mreturn\u001b[0m \u001b[0mpd\u001b[0m\u001b[0;34m.\u001b[0m\u001b[0mSeries\u001b[0m\u001b[0;34m(\u001b[0m\u001b[0mcis\u001b[0m\u001b[0;34m,\u001b[0m \u001b[0;34m[\u001b[0m\u001b[0;34m\"low\"\u001b[0m\u001b[0;34m,\u001b[0m \u001b[0;34m\"high\"\u001b[0m\u001b[0;34m]\u001b[0m\u001b[0;34m)\u001b[0m\u001b[0;34m\u001b[0m\u001b[0;34m\u001b[0m\u001b[0m\n",
      "\u001b[0;32m/opt/anaconda3/lib/python3.8/site-packages/seaborn/algorithms.py\u001b[0m in \u001b[0;36mbootstrap\u001b[0;34m(*args, **kwargs)\u001b[0m\n\u001b[1;32m     81\u001b[0m     \u001b[0mboot_dist\u001b[0m \u001b[0;34m=\u001b[0m \u001b[0;34m[\u001b[0m\u001b[0;34m]\u001b[0m\u001b[0;34m\u001b[0m\u001b[0;34m\u001b[0m\u001b[0m\n\u001b[1;32m     82\u001b[0m     \u001b[0;32mfor\u001b[0m \u001b[0mi\u001b[0m \u001b[0;32min\u001b[0m \u001b[0mrange\u001b[0m\u001b[0;34m(\u001b[0m\u001b[0mint\u001b[0m\u001b[0;34m(\u001b[0m\u001b[0mn_boot\u001b[0m\u001b[0;34m)\u001b[0m\u001b[0;34m)\u001b[0m\u001b[0;34m:\u001b[0m\u001b[0;34m\u001b[0m\u001b[0;34m\u001b[0m\u001b[0m\n\u001b[0;32m---> 83\u001b[0;31m         \u001b[0mresampler\u001b[0m \u001b[0;34m=\u001b[0m \u001b[0mintegers\u001b[0m\u001b[0;34m(\u001b[0m\u001b[0;36m0\u001b[0m\u001b[0;34m,\u001b[0m \u001b[0mn\u001b[0m\u001b[0;34m,\u001b[0m \u001b[0mn\u001b[0m\u001b[0;34m,\u001b[0m \u001b[0mdtype\u001b[0m\u001b[0;34m=\u001b[0m\u001b[0mnp\u001b[0m\u001b[0;34m.\u001b[0m\u001b[0mintp\u001b[0m\u001b[0;34m)\u001b[0m  \u001b[0;31m# intp is indexing dtype\u001b[0m\u001b[0;34m\u001b[0m\u001b[0;34m\u001b[0m\u001b[0m\n\u001b[0m\u001b[1;32m     84\u001b[0m         \u001b[0msample\u001b[0m \u001b[0;34m=\u001b[0m \u001b[0;34m[\u001b[0m\u001b[0ma\u001b[0m\u001b[0;34m.\u001b[0m\u001b[0mtake\u001b[0m\u001b[0;34m(\u001b[0m\u001b[0mresampler\u001b[0m\u001b[0;34m,\u001b[0m \u001b[0maxis\u001b[0m\u001b[0;34m=\u001b[0m\u001b[0;36m0\u001b[0m\u001b[0;34m)\u001b[0m \u001b[0;32mfor\u001b[0m \u001b[0ma\u001b[0m \u001b[0;32min\u001b[0m \u001b[0margs\u001b[0m\u001b[0;34m]\u001b[0m\u001b[0;34m\u001b[0m\u001b[0;34m\u001b[0m\u001b[0m\n\u001b[1;32m     85\u001b[0m         \u001b[0mboot_dist\u001b[0m\u001b[0;34m.\u001b[0m\u001b[0mappend\u001b[0m\u001b[0;34m(\u001b[0m\u001b[0mf\u001b[0m\u001b[0;34m(\u001b[0m\u001b[0;34m*\u001b[0m\u001b[0msample\u001b[0m\u001b[0;34m,\u001b[0m \u001b[0;34m**\u001b[0m\u001b[0mfunc_kwargs\u001b[0m\u001b[0;34m)\u001b[0m\u001b[0;34m)\u001b[0m\u001b[0;34m\u001b[0m\u001b[0;34m\u001b[0m\u001b[0m\n",
      "\u001b[0;32m_generator.pyx\u001b[0m in \u001b[0;36mnumpy.random._generator.Generator.integers\u001b[0;34m()\u001b[0m\n",
      "\u001b[0;32m_bounded_integers.pyx\u001b[0m in \u001b[0;36mnumpy.random._bounded_integers._rand_int64\u001b[0;34m()\u001b[0m\n",
      "\u001b[0;32m<__array_function__ internals>\u001b[0m in \u001b[0;36mprod\u001b[0;34m(*args, **kwargs)\u001b[0m\n",
      "\u001b[0;32m/opt/anaconda3/lib/python3.8/site-packages/numpy/core/fromnumeric.py\u001b[0m in \u001b[0;36mprod\u001b[0;34m(a, axis, dtype, out, keepdims, initial, where)\u001b[0m\n\u001b[1;32m   2997\u001b[0m     \u001b[0;36m10\u001b[0m\u001b[0;34m\u001b[0m\u001b[0;34m\u001b[0m\u001b[0m\n\u001b[1;32m   2998\u001b[0m     \"\"\"\n\u001b[0;32m-> 2999\u001b[0;31m     return _wrapreduction(a, np.multiply, 'prod', axis, dtype, out,\n\u001b[0m\u001b[1;32m   3000\u001b[0m                           keepdims=keepdims, initial=initial, where=where)\n\u001b[1;32m   3001\u001b[0m \u001b[0;34m\u001b[0m\u001b[0m\n",
      "\u001b[0;32m/opt/anaconda3/lib/python3.8/site-packages/numpy/core/fromnumeric.py\u001b[0m in \u001b[0;36m_wrapreduction\u001b[0;34m(obj, ufunc, method, axis, dtype, out, **kwargs)\u001b[0m\n\u001b[1;32m     69\u001b[0m \u001b[0;34m\u001b[0m\u001b[0m\n\u001b[1;32m     70\u001b[0m \u001b[0;32mdef\u001b[0m \u001b[0m_wrapreduction\u001b[0m\u001b[0;34m(\u001b[0m\u001b[0mobj\u001b[0m\u001b[0;34m,\u001b[0m \u001b[0mufunc\u001b[0m\u001b[0;34m,\u001b[0m \u001b[0mmethod\u001b[0m\u001b[0;34m,\u001b[0m \u001b[0maxis\u001b[0m\u001b[0;34m,\u001b[0m \u001b[0mdtype\u001b[0m\u001b[0;34m,\u001b[0m \u001b[0mout\u001b[0m\u001b[0;34m,\u001b[0m \u001b[0;34m**\u001b[0m\u001b[0mkwargs\u001b[0m\u001b[0;34m)\u001b[0m\u001b[0;34m:\u001b[0m\u001b[0;34m\u001b[0m\u001b[0;34m\u001b[0m\u001b[0m\n\u001b[0;32m---> 71\u001b[0;31m     passkwargs = {k: v for k, v in kwargs.items()\n\u001b[0m\u001b[1;32m     72\u001b[0m                   if v is not np._NoValue}\n\u001b[1;32m     73\u001b[0m \u001b[0;34m\u001b[0m\u001b[0m\n",
      "\u001b[0;31mKeyboardInterrupt\u001b[0m: "
     ]
    },
    {
     "data": {
      "image/png": "[encoded data removed]",
      "text/plain": [
       "<Figure size 720x720 with 1 Axes>"
      ]
     },
     "metadata": {},
     "output_type": "display_data"
    }
   ],
   "source": [
    "# plt.figure(figsize=(10,10))\n",
    "# sns.scatterplot(result.fittedvalues, result.resid)\n",
    "# sns.lineplot(result.fittedvalues,0)\n",
    "# plt.xlabel('Y Predict')\n",
    "# plt.ylabel('Residuals')\n",
    "# plt.show()"
   ]
  },
  {
   "cell_type": "code",
   "execution_count": null,
   "metadata": {},
   "outputs": [],
   "source": []
  }
 ],
 "metadata": {
  "kernelspec": {
   "display_name": "Python 3",
   "language": "python",
   "name": "python3"
  },
  "language_info": {
   "codemirror_mode": {
    "name": "ipython",
    "version": 3
   },
   "file_extension": ".py",
   "mimetype": "text/x-python",
   "name": "python",
   "nbconvert_exporter": "python",
   "pygments_lexer": "ipython3",
   "version": "3.8.5"
  },
  "toc": {
   "base_numbering": 1,
   "nav_menu": {},
   "number_sections": true,
   "sideBar": true,
   "skip_h1_title": false,
   "title_cell": "Table of Contents",
   "title_sidebar": "Contents",
   "toc_cell": false,
   "toc_position": {
    "height": "calc(100% - 180px)",
    "left": "10px",
    "top": "150px",
    "width": "209px"
   },
   "toc_section_display": true,
   "toc_window_display": true
  },
  "varInspector": {
   "cols": {
    "lenName": 16,
    "lenType": 16,
    "lenVar": 40
   },
   "kernels_config": {
    "python": {
     "delete_cmd_postfix": "",
     "delete_cmd_prefix": "del ",
     "library": "var_list.py",
     "varRefreshCmd": "print(var_dic_list())"
    },
    "r": {
     "delete_cmd_postfix": ") ",
     "delete_cmd_prefix": "rm(",
     "library": "var_list.r",
     "varRefreshCmd": "cat(var_dic_list()) "
    }
   },
   "types_to_exclude": [
    "module",
    "function",
    "builtin_function_or_method",
    "instance",
    "_Feature"
   ],
   "window_display": false
  }
 },
 "nbformat": 4,
 "nbformat_minor": 4
}

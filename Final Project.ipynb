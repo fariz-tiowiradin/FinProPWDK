{
 "cells": [
  {
   "cell_type": "markdown",
   "metadata": {},
   "source": [
    "- **Problem** \\\n",
    "Bagaimana menentukan harga jual mobil bekas yang pengguna miliki\n",
    "- **Solusi** \\\n",
    "Membuat machine learning yang mampu memprediksi harga jual mobil bekas"
   ]
  },
  {
   "cell_type": "markdown",
   "metadata": {
    "ExecuteTime": {
     "end_time": "2021-08-26T08:56:44.037443Z",
     "start_time": "2021-08-26T08:56:44.020408Z"
    }
   },
   "source": [
    "# Library"
   ]
  },
  {
   "cell_type": "code",
   "execution_count": 148,
   "metadata": {
    "ExecuteTime": {
     "end_time": "2021-08-31T03:29:08.185490Z",
     "start_time": "2021-08-31T03:29:08.170755Z"
    }
   },
   "outputs": [],
   "source": [
    "import numpy as np\n",
    "import pandas as pd\n",
    "import matplotlib.pyplot as plt\n",
    "import seaborn as sns\n",
    "sns.set_theme(style=\"ticks\", palette=\"Paired\")\n",
    "\n",
    "from plotly.subplots import make_subplots\n",
    "import plotly.express as px\n",
    "import plotly.graph_objects as go\n",
    "\n",
    "from scipy.stats import normaltest\n",
    "from scipy.stats import kruskal\n",
    "import category_encoders as ce\n",
    "from sklearn.compose import ColumnTransformer\n",
    "import plotly.express as px\n",
    "\n",
    "\n",
    "# statistic\n",
    "from scipy.stats import chi2_contingency\n",
    "\n",
    "# preprocessing\n",
    "import category_encoders as ce\n",
    "from sklearn.preprocessing import OneHotEncoder\n",
    "from sklearn.impute import SimpleImputer\n",
    "from sklearn.preprocessing import RobustScaler\n",
    "\n",
    "# model regression\n",
    "from sklearn.linear_model import LinearRegression, Lasso, Ridge\n",
    "from sklearn.tree import DecisionTreeRegressor, plot_tree\n",
    "from sklearn.neighbors import KNeighborsRegressor\n",
    "from sklearn.ensemble import RandomForestRegressor\n",
    "\n",
    "# model selection & hyperparameter tuning\n",
    "from sklearn.pipeline import Pipeline\n",
    "from sklearn.compose import ColumnTransformer\n",
    "from sklearn.model_selection import train_test_split\n",
    "from sklearn.model_selection import cross_val_score, StratifiedKFold\n",
    "from sklearn.model_selection import GridSearchCV\n",
    "from imblearn.over_sampling import SMOTE\n",
    "\n",
    "# metric classification\n",
    "from sklearn.metrics import recall_score, precision_score, classification_report, f1_score"
   ]
  },
  {
   "cell_type": "markdown",
   "metadata": {},
   "source": [
    "# Data"
   ]
  },
  {
   "cell_type": "code",
   "execution_count": 2,
   "metadata": {
    "ExecuteTime": {
     "end_time": "2021-08-31T02:25:30.423675Z",
     "start_time": "2021-08-31T02:25:29.812191Z"
    }
   },
   "outputs": [],
   "source": [
    "car_models = ['audi', 'bmw', 'cclass', 'focus', 'ford', 'hyundi', 'merc', 'skoda', 'toyota', 'vauxhall', 'vw']\n",
    "df = pd.DataFrame()\n",
    "\n",
    "for i in car_models:\n",
    "    carmodel_df = pd.read_csv('dataset/'+i+'.csv')\n",
    "    if i == 'hyundi':\n",
    "        carmodel_df = carmodel_df.rename(columns={'tax(£)': 'tax'})\n",
    "\n",
    "    carmodel_df['brand']=i\n",
    "    df = pd.concat([df, carmodel_df])\n",
    "    "
   ]
  },
  {
   "cell_type": "code",
   "execution_count": 3,
   "metadata": {
    "ExecuteTime": {
     "end_time": "2021-08-31T02:25:30.442354Z",
     "start_time": "2021-08-31T02:25:30.427936Z"
    }
   },
   "outputs": [],
   "source": [
    "# karena dataframe ini merupakan penggabungan dari banyak dataframe\n",
    "# maka perlu dilakukan reset_index untuk menghilangkan index yang duplikat\n",
    "df = df.reset_index()"
   ]
  },
  {
   "cell_type": "code",
   "execution_count": 4,
   "metadata": {
    "ExecuteTime": {
     "end_time": "2021-08-31T02:25:30.492131Z",
     "start_time": "2021-08-31T02:25:30.445323Z"
    },
    "scrolled": false
   },
   "outputs": [
    {
     "data": {
      "text/html": [
       "<div>\n",
       "<style scoped>\n",
       "    .dataframe tbody tr th:only-of-type {\n",
       "        vertical-align: middle;\n",
       "    }\n",
       "\n",
       "    .dataframe tbody tr th {\n",
       "        vertical-align: top;\n",
       "    }\n",
       "\n",
       "    .dataframe thead th {\n",
       "        text-align: right;\n",
       "    }\n",
       "</style>\n",
       "<table border=\"1\" class=\"dataframe\">\n",
       "  <thead>\n",
       "    <tr style=\"text-align: right;\">\n",
       "      <th></th>\n",
       "      <th>model</th>\n",
       "      <th>year</th>\n",
       "      <th>price</th>\n",
       "      <th>transmission</th>\n",
       "      <th>mileage</th>\n",
       "      <th>fuelType</th>\n",
       "      <th>tax</th>\n",
       "      <th>mpg</th>\n",
       "      <th>engineSize</th>\n",
       "      <th>brand</th>\n",
       "    </tr>\n",
       "  </thead>\n",
       "  <tbody>\n",
       "    <tr>\n",
       "      <th>0</th>\n",
       "      <td>A1</td>\n",
       "      <td>2017</td>\n",
       "      <td>12500</td>\n",
       "      <td>Manual</td>\n",
       "      <td>15735</td>\n",
       "      <td>Petrol</td>\n",
       "      <td>150.0</td>\n",
       "      <td>55.4</td>\n",
       "      <td>1.4</td>\n",
       "      <td>audi</td>\n",
       "    </tr>\n",
       "    <tr>\n",
       "      <th>1</th>\n",
       "      <td>A6</td>\n",
       "      <td>2016</td>\n",
       "      <td>16500</td>\n",
       "      <td>Automatic</td>\n",
       "      <td>36203</td>\n",
       "      <td>Diesel</td>\n",
       "      <td>20.0</td>\n",
       "      <td>64.2</td>\n",
       "      <td>2.0</td>\n",
       "      <td>audi</td>\n",
       "    </tr>\n",
       "    <tr>\n",
       "      <th>2</th>\n",
       "      <td>A1</td>\n",
       "      <td>2016</td>\n",
       "      <td>11000</td>\n",
       "      <td>Manual</td>\n",
       "      <td>29946</td>\n",
       "      <td>Petrol</td>\n",
       "      <td>30.0</td>\n",
       "      <td>55.4</td>\n",
       "      <td>1.4</td>\n",
       "      <td>audi</td>\n",
       "    </tr>\n",
       "    <tr>\n",
       "      <th>3</th>\n",
       "      <td>A4</td>\n",
       "      <td>2017</td>\n",
       "      <td>16800</td>\n",
       "      <td>Automatic</td>\n",
       "      <td>25952</td>\n",
       "      <td>Diesel</td>\n",
       "      <td>145.0</td>\n",
       "      <td>67.3</td>\n",
       "      <td>2.0</td>\n",
       "      <td>audi</td>\n",
       "    </tr>\n",
       "    <tr>\n",
       "      <th>4</th>\n",
       "      <td>A3</td>\n",
       "      <td>2019</td>\n",
       "      <td>17300</td>\n",
       "      <td>Manual</td>\n",
       "      <td>1998</td>\n",
       "      <td>Petrol</td>\n",
       "      <td>145.0</td>\n",
       "      <td>49.6</td>\n",
       "      <td>1.0</td>\n",
       "      <td>audi</td>\n",
       "    </tr>\n",
       "  </tbody>\n",
       "</table>\n",
       "</div>"
      ],
      "text/plain": [
       "  model  year  price transmission  mileage fuelType    tax   mpg  engineSize  \\\n",
       "0    A1  2017  12500       Manual    15735   Petrol  150.0  55.4         1.4   \n",
       "1    A6  2016  16500    Automatic    36203   Diesel   20.0  64.2         2.0   \n",
       "2    A1  2016  11000       Manual    29946   Petrol   30.0  55.4         1.4   \n",
       "3    A4  2017  16800    Automatic    25952   Diesel  145.0  67.3         2.0   \n",
       "4    A3  2019  17300       Manual     1998   Petrol  145.0  49.6         1.0   \n",
       "\n",
       "  brand  \n",
       "0  audi  \n",
       "1  audi  \n",
       "2  audi  \n",
       "3  audi  \n",
       "4  audi  "
      ]
     },
     "execution_count": 4,
     "metadata": {},
     "output_type": "execute_result"
    }
   ],
   "source": [
    "# drop index lama\n",
    "df = df.drop(columns='index')\n",
    "df.head()"
   ]
  },
  {
   "cell_type": "markdown",
   "metadata": {
    "ExecuteTime": {
     "end_time": "2021-08-27T08:25:33.365529Z",
     "start_time": "2021-08-27T08:25:33.252360Z"
    }
   },
   "source": [
    "- model = tipe mobil.\n",
    "- year = tahun produksi mobil.\n",
    "- price = nilai harga jual mobil.\n",
    "- transmission = tipe transmisi dari mobil.\n",
    "- mileage = total jarak yang telah ditempuh oleh mobil.\n",
    "- fuelType = jenis bahan bakar yang digunakan pada mobil.\n",
    "- tax = nilai pajak mobil.\n",
    "- mpg = miles per gallon; total jarak tempuh mobil berdasarkan total konsumsi bahan bakar yg digunakan. semakin besar nilai mpg berarti konsumsi bahan bakar yg digunakan akan semakin sedikit (semakin irit).\n",
    "- engine size = engine capacity atau engine displacement (kapasitas mesin); volume total silinder mesin. secara umum, semakin besar nilai kapasitas mesin akan meningkatkan kebutuhan konsumsi bahan bakar (kendaraan akan semakin boros)."
   ]
  },
  {
   "cell_type": "markdown",
   "metadata": {
    "ExecuteTime": {
     "end_time": "2021-08-26T08:55:11.951693Z",
     "start_time": "2021-08-26T08:55:11.933460Z"
    }
   },
   "source": [
    "# EDA"
   ]
  },
  {
   "cell_type": "markdown",
   "metadata": {},
   "source": [
    "## Deskripsi Statistik"
   ]
  },
  {
   "cell_type": "code",
   "execution_count": 5,
   "metadata": {
    "ExecuteTime": {
     "end_time": "2021-08-31T02:25:30.543003Z",
     "start_time": "2021-08-31T02:25:30.495929Z"
    }
   },
   "outputs": [
    {
     "name": "stdout",
     "output_type": "stream",
     "text": [
      "<class 'pandas.core.frame.DataFrame'>\n",
      "RangeIndex: 108540 entries, 0 to 108539\n",
      "Data columns (total 10 columns):\n",
      " #   Column        Non-Null Count   Dtype  \n",
      "---  ------        --------------   -----  \n",
      " 0   model         108540 non-null  object \n",
      " 1   year          108540 non-null  int64  \n",
      " 2   price         108540 non-null  int64  \n",
      " 3   transmission  108540 non-null  object \n",
      " 4   mileage       108540 non-null  int64  \n",
      " 5   fuelType      108540 non-null  object \n",
      " 6   tax           99187 non-null   float64\n",
      " 7   mpg           99187 non-null   float64\n",
      " 8   engineSize    108540 non-null  float64\n",
      " 9   brand         108540 non-null  object \n",
      "dtypes: float64(3), int64(3), object(4)\n",
      "memory usage: 8.3+ MB\n"
     ]
    }
   ],
   "source": [
    "df.info()"
   ]
  },
  {
   "cell_type": "code",
   "execution_count": 6,
   "metadata": {
    "ExecuteTime": {
     "end_time": "2021-08-31T02:25:30.694639Z",
     "start_time": "2021-08-31T02:25:30.544991Z"
    },
    "scrolled": true
   },
   "outputs": [
    {
     "data": {
      "text/html": [
       "<div>\n",
       "<style scoped>\n",
       "    .dataframe tbody tr th:only-of-type {\n",
       "        vertical-align: middle;\n",
       "    }\n",
       "\n",
       "    .dataframe tbody tr th {\n",
       "        vertical-align: top;\n",
       "    }\n",
       "\n",
       "    .dataframe thead th {\n",
       "        text-align: right;\n",
       "    }\n",
       "</style>\n",
       "<table border=\"1\" class=\"dataframe\">\n",
       "  <thead>\n",
       "    <tr style=\"text-align: right;\">\n",
       "      <th></th>\n",
       "      <th>model</th>\n",
       "      <th>transmission</th>\n",
       "      <th>fuelType</th>\n",
       "      <th>brand</th>\n",
       "    </tr>\n",
       "  </thead>\n",
       "  <tbody>\n",
       "    <tr>\n",
       "      <th>count</th>\n",
       "      <td>108540</td>\n",
       "      <td>108540</td>\n",
       "      <td>108540</td>\n",
       "      <td>108540</td>\n",
       "    </tr>\n",
       "    <tr>\n",
       "      <th>unique</th>\n",
       "      <td>195</td>\n",
       "      <td>4</td>\n",
       "      <td>5</td>\n",
       "      <td>11</td>\n",
       "    </tr>\n",
       "    <tr>\n",
       "      <th>top</th>\n",
       "      <td>Focus</td>\n",
       "      <td>Manual</td>\n",
       "      <td>Petrol</td>\n",
       "      <td>ford</td>\n",
       "    </tr>\n",
       "    <tr>\n",
       "      <th>freq</th>\n",
       "      <td>10042</td>\n",
       "      <td>61308</td>\n",
       "      <td>59875</td>\n",
       "      <td>17965</td>\n",
       "    </tr>\n",
       "  </tbody>\n",
       "</table>\n",
       "</div>"
      ],
      "text/plain": [
       "         model transmission fuelType   brand\n",
       "count   108540       108540   108540  108540\n",
       "unique     195            4        5      11\n",
       "top      Focus       Manual   Petrol    ford\n",
       "freq     10042        61308    59875   17965"
      ]
     },
     "execution_count": 6,
     "metadata": {},
     "output_type": "execute_result"
    }
   ],
   "source": [
    "df.describe(include=object)"
   ]
  },
  {
   "cell_type": "code",
   "execution_count": 7,
   "metadata": {
    "ExecuteTime": {
     "end_time": "2021-08-31T02:25:30.727319Z",
     "start_time": "2021-08-31T02:25:30.696750Z"
    }
   },
   "outputs": [
    {
     "data": {
      "text/plain": [
       "model           0.0000\n",
       "year            0.0000\n",
       "price           0.0000\n",
       "transmission    0.0000\n",
       "mileage         0.0000\n",
       "fuelType        0.0000\n",
       "tax             8.6171\n",
       "mpg             8.6171\n",
       "engineSize      0.0000\n",
       "brand           0.0000\n",
       "dtype: float64"
      ]
     },
     "execution_count": 7,
     "metadata": {},
     "output_type": "execute_result"
    }
   ],
   "source": [
    "df.isna().sum() / df.shape[0] * 100"
   ]
  },
  {
   "cell_type": "markdown",
   "metadata": {},
   "source": [
    "> terdapat missing value pada fitur tax & mpg"
   ]
  },
  {
   "cell_type": "code",
   "execution_count": 8,
   "metadata": {
    "ExecuteTime": {
     "end_time": "2021-08-31T02:25:30.791573Z",
     "start_time": "2021-08-31T02:25:30.731390Z"
    }
   },
   "outputs": [
    {
     "data": {
      "text/html": [
       "<div>\n",
       "<style scoped>\n",
       "    .dataframe tbody tr th:only-of-type {\n",
       "        vertical-align: middle;\n",
       "    }\n",
       "\n",
       "    .dataframe tbody tr th {\n",
       "        vertical-align: top;\n",
       "    }\n",
       "\n",
       "    .dataframe thead th {\n",
       "        text-align: right;\n",
       "    }\n",
       "</style>\n",
       "<table border=\"1\" class=\"dataframe\">\n",
       "  <thead>\n",
       "    <tr style=\"text-align: right;\">\n",
       "      <th></th>\n",
       "      <th>year</th>\n",
       "      <th>price</th>\n",
       "      <th>mileage</th>\n",
       "      <th>tax</th>\n",
       "      <th>mpg</th>\n",
       "      <th>engineSize</th>\n",
       "    </tr>\n",
       "  </thead>\n",
       "  <tbody>\n",
       "    <tr>\n",
       "      <th>count</th>\n",
       "      <td>108540.000000</td>\n",
       "      <td>108540.000000</td>\n",
       "      <td>108540.000000</td>\n",
       "      <td>99187.000000</td>\n",
       "      <td>99187.000000</td>\n",
       "      <td>108540.000000</td>\n",
       "    </tr>\n",
       "    <tr>\n",
       "      <th>mean</th>\n",
       "      <td>2017.098028</td>\n",
       "      <td>16890.124046</td>\n",
       "      <td>23025.928469</td>\n",
       "      <td>120.299838</td>\n",
       "      <td>55.166825</td>\n",
       "      <td>1.661644</td>\n",
       "    </tr>\n",
       "    <tr>\n",
       "      <th>std</th>\n",
       "      <td>2.130057</td>\n",
       "      <td>9756.266820</td>\n",
       "      <td>21176.423684</td>\n",
       "      <td>63.150926</td>\n",
       "      <td>16.138522</td>\n",
       "      <td>0.557058</td>\n",
       "    </tr>\n",
       "    <tr>\n",
       "      <th>min</th>\n",
       "      <td>1970.000000</td>\n",
       "      <td>450.000000</td>\n",
       "      <td>1.000000</td>\n",
       "      <td>0.000000</td>\n",
       "      <td>0.300000</td>\n",
       "      <td>0.000000</td>\n",
       "    </tr>\n",
       "    <tr>\n",
       "      <th>25%</th>\n",
       "      <td>2016.000000</td>\n",
       "      <td>10229.500000</td>\n",
       "      <td>7491.750000</td>\n",
       "      <td>125.000000</td>\n",
       "      <td>47.100000</td>\n",
       "      <td>1.200000</td>\n",
       "    </tr>\n",
       "    <tr>\n",
       "      <th>50%</th>\n",
       "      <td>2017.000000</td>\n",
       "      <td>14698.000000</td>\n",
       "      <td>17265.000000</td>\n",
       "      <td>145.000000</td>\n",
       "      <td>54.300000</td>\n",
       "      <td>1.600000</td>\n",
       "    </tr>\n",
       "    <tr>\n",
       "      <th>75%</th>\n",
       "      <td>2019.000000</td>\n",
       "      <td>20940.000000</td>\n",
       "      <td>32236.000000</td>\n",
       "      <td>145.000000</td>\n",
       "      <td>62.800000</td>\n",
       "      <td>2.000000</td>\n",
       "    </tr>\n",
       "    <tr>\n",
       "      <th>max</th>\n",
       "      <td>2060.000000</td>\n",
       "      <td>159999.000000</td>\n",
       "      <td>323000.000000</td>\n",
       "      <td>580.000000</td>\n",
       "      <td>470.800000</td>\n",
       "      <td>6.600000</td>\n",
       "    </tr>\n",
       "  </tbody>\n",
       "</table>\n",
       "</div>"
      ],
      "text/plain": [
       "                year          price        mileage           tax  \\\n",
       "count  108540.000000  108540.000000  108540.000000  99187.000000   \n",
       "mean     2017.098028   16890.124046   23025.928469    120.299838   \n",
       "std         2.130057    9756.266820   21176.423684     63.150926   \n",
       "min      1970.000000     450.000000       1.000000      0.000000   \n",
       "25%      2016.000000   10229.500000    7491.750000    125.000000   \n",
       "50%      2017.000000   14698.000000   17265.000000    145.000000   \n",
       "75%      2019.000000   20940.000000   32236.000000    145.000000   \n",
       "max      2060.000000  159999.000000  323000.000000    580.000000   \n",
       "\n",
       "                mpg     engineSize  \n",
       "count  99187.000000  108540.000000  \n",
       "mean      55.166825       1.661644  \n",
       "std       16.138522       0.557058  \n",
       "min        0.300000       0.000000  \n",
       "25%       47.100000       1.200000  \n",
       "50%       54.300000       1.600000  \n",
       "75%       62.800000       2.000000  \n",
       "max      470.800000       6.600000  "
      ]
     },
     "execution_count": 8,
     "metadata": {},
     "output_type": "execute_result"
    }
   ],
   "source": [
    "df.describe()"
   ]
  },
  {
   "cell_type": "markdown",
   "metadata": {},
   "source": [
    "> dari data diatas, dapat kita lihat bahwa engineSize memiliki nilai minimum 0, dimana hal tersebut tidak mungkin karena tidak ada kendaraan dengan engineSize = 0"
   ]
  },
  {
   "cell_type": "markdown",
   "metadata": {
    "ExecuteTime": {
     "end_time": "2021-08-30T07:57:13.608249Z",
     "start_time": "2021-08-30T07:57:13.604896Z"
    }
   },
   "source": [
    "## Handling Imbalance Data"
   ]
  },
  {
   "cell_type": "markdown",
   "metadata": {},
   "source": [
    "### Imbalance Data in fuelType"
   ]
  },
  {
   "cell_type": "code",
   "execution_count": 9,
   "metadata": {
    "ExecuteTime": {
     "end_time": "2021-08-31T02:25:30.816313Z",
     "start_time": "2021-08-31T02:25:30.798301Z"
    }
   },
   "outputs": [
    {
     "data": {
      "text/plain": [
       "fuelType\n",
       "Diesel      41.622443\n",
       "Electric     0.005528\n",
       "Hybrid       2.974940\n",
       "Other        0.233094\n",
       "Petrol      55.163995\n",
       "dtype: float64"
      ]
     },
     "execution_count": 9,
     "metadata": {},
     "output_type": "execute_result"
    }
   ],
   "source": [
    "df.groupby('fuelType').size() / df.shape[0] * 100"
   ]
  },
  {
   "cell_type": "markdown",
   "metadata": {},
   "source": [
    "> - Berdasarkan data diatas, mobil dengan bahan bakar Electric, Hybrid & Other berkisar sekitar 3.213% dari keseluruhan data\n",
    "> - Karena data tersebut terlalu sedikit dan tidak signifikan maka data tersebut akan di drop"
   ]
  },
  {
   "cell_type": "code",
   "execution_count": 10,
   "metadata": {
    "ExecuteTime": {
     "end_time": "2021-08-31T02:25:30.870349Z",
     "start_time": "2021-08-31T02:25:30.819755Z"
    }
   },
   "outputs": [],
   "source": [
    "df.drop(df[(df['fuelType'] == 'Electric') | (df['fuelType'] == 'Hybrid') | (df['fuelType'] == 'Other')].index, inplace= True)\n"
   ]
  },
  {
   "cell_type": "code",
   "execution_count": 11,
   "metadata": {
    "ExecuteTime": {
     "end_time": "2021-08-31T02:25:30.908421Z",
     "start_time": "2021-08-31T02:25:30.879442Z"
    }
   },
   "outputs": [
    {
     "data": {
      "text/plain": [
       "fuelType\n",
       "Diesel    43.004417\n",
       "Petrol    56.995583\n",
       "dtype: float64"
      ]
     },
     "execution_count": 11,
     "metadata": {},
     "output_type": "execute_result"
    }
   ],
   "source": [
    "df.groupby('fuelType').size() / df.shape[0] * 100"
   ]
  },
  {
   "cell_type": "markdown",
   "metadata": {},
   "source": [
    "### Imbalance Data in Transmission"
   ]
  },
  {
   "cell_type": "code",
   "execution_count": 12,
   "metadata": {
    "ExecuteTime": {
     "end_time": "2021-08-31T02:25:30.950418Z",
     "start_time": "2021-08-31T02:25:30.913126Z"
    }
   },
   "outputs": [
    {
     "data": {
      "text/plain": [
       "transmission\n",
       "Automatic    18.368998\n",
       "Manual       58.303507\n",
       "Other         0.006663\n",
       "Semi-Auto    23.320832\n",
       "dtype: float64"
      ]
     },
     "execution_count": 12,
     "metadata": {},
     "output_type": "execute_result"
    }
   ],
   "source": [
    "df.groupby('transmission').size() / df.shape[0] * 100"
   ]
  },
  {
   "cell_type": "markdown",
   "metadata": {},
   "source": [
    "> - Berdasarkan data diatas, mobil dengan tipe transmisi other berkisar sekitar 0.005% dari keseluruhan data\n",
    "> - Karena data tersebut terlalu sedikit dan tidak signifikan maka data tersebut akan di drop"
   ]
  },
  {
   "cell_type": "code",
   "execution_count": 13,
   "metadata": {
    "ExecuteTime": {
     "end_time": "2021-08-31T02:25:30.988915Z",
     "start_time": "2021-08-31T02:25:30.953024Z"
    }
   },
   "outputs": [],
   "source": [
    "df.drop(df[(df['transmission'] == 'Other')].index, inplace= True)\n"
   ]
  },
  {
   "cell_type": "code",
   "execution_count": 14,
   "metadata": {
    "ExecuteTime": {
     "end_time": "2021-08-31T02:25:31.010448Z",
     "start_time": "2021-08-31T02:25:30.991384Z"
    }
   },
   "outputs": [
    {
     "data": {
      "text/plain": [
       "fuelType\n",
       "Diesel    43.004427\n",
       "Petrol    56.995573\n",
       "dtype: float64"
      ]
     },
     "execution_count": 14,
     "metadata": {},
     "output_type": "execute_result"
    }
   ],
   "source": [
    "df.groupby('fuelType').size() / df.shape[0] * 100"
   ]
  },
  {
   "cell_type": "markdown",
   "metadata": {},
   "source": [
    "## Handling Anomali Data"
   ]
  },
  {
   "cell_type": "markdown",
   "metadata": {
    "ExecuteTime": {
     "end_time": "2021-08-27T07:46:42.225764Z",
     "start_time": "2021-08-27T07:46:42.222787Z"
    }
   },
   "source": [
    "### Data 'year' = 2060"
   ]
  },
  {
   "cell_type": "code",
   "execution_count": 15,
   "metadata": {
    "ExecuteTime": {
     "end_time": "2021-08-31T02:25:31.036177Z",
     "start_time": "2021-08-31T02:25:31.013029Z"
    }
   },
   "outputs": [
    {
     "data": {
      "text/html": [
       "<div>\n",
       "<style scoped>\n",
       "    .dataframe tbody tr th:only-of-type {\n",
       "        vertical-align: middle;\n",
       "    }\n",
       "\n",
       "    .dataframe tbody tr th {\n",
       "        vertical-align: top;\n",
       "    }\n",
       "\n",
       "    .dataframe thead th {\n",
       "        text-align: right;\n",
       "    }\n",
       "</style>\n",
       "<table border=\"1\" class=\"dataframe\">\n",
       "  <thead>\n",
       "    <tr style=\"text-align: right;\">\n",
       "      <th></th>\n",
       "      <th>model</th>\n",
       "      <th>year</th>\n",
       "      <th>price</th>\n",
       "      <th>transmission</th>\n",
       "      <th>mileage</th>\n",
       "      <th>fuelType</th>\n",
       "      <th>tax</th>\n",
       "      <th>mpg</th>\n",
       "      <th>engineSize</th>\n",
       "      <th>brand</th>\n",
       "    </tr>\n",
       "  </thead>\n",
       "  <tbody>\n",
       "    <tr>\n",
       "      <th>48528</th>\n",
       "      <td>Fiesta</td>\n",
       "      <td>2060</td>\n",
       "      <td>6495</td>\n",
       "      <td>Automatic</td>\n",
       "      <td>54807</td>\n",
       "      <td>Petrol</td>\n",
       "      <td>205.0</td>\n",
       "      <td>42.8</td>\n",
       "      <td>1.4</td>\n",
       "      <td>ford</td>\n",
       "    </tr>\n",
       "  </tbody>\n",
       "</table>\n",
       "</div>"
      ],
      "text/plain": [
       "         model  year  price transmission  mileage fuelType    tax   mpg  \\\n",
       "48528   Fiesta  2060   6495    Automatic    54807   Petrol  205.0  42.8   \n",
       "\n",
       "       engineSize brand  \n",
       "48528         1.4  ford  "
      ]
     },
     "execution_count": 15,
     "metadata": {},
     "output_type": "execute_result"
    }
   ],
   "source": [
    "df[df['year'] == 2060]"
   ]
  },
  {
   "cell_type": "code",
   "execution_count": 16,
   "metadata": {
    "ExecuteTime": {
     "end_time": "2021-08-31T02:25:31.070493Z",
     "start_time": "2021-08-31T02:25:31.038279Z"
    }
   },
   "outputs": [],
   "source": [
    "df.drop(df[df['year'] == 2060].index, inplace = True)"
   ]
  },
  {
   "cell_type": "code",
   "execution_count": 17,
   "metadata": {
    "ExecuteTime": {
     "end_time": "2021-08-31T02:25:31.128284Z",
     "start_time": "2021-08-31T02:25:31.072410Z"
    }
   },
   "outputs": [
    {
     "data": {
      "text/html": [
       "<div>\n",
       "<style scoped>\n",
       "    .dataframe tbody tr th:only-of-type {\n",
       "        vertical-align: middle;\n",
       "    }\n",
       "\n",
       "    .dataframe tbody tr th {\n",
       "        vertical-align: top;\n",
       "    }\n",
       "\n",
       "    .dataframe thead th {\n",
       "        text-align: right;\n",
       "    }\n",
       "</style>\n",
       "<table border=\"1\" class=\"dataframe\">\n",
       "  <thead>\n",
       "    <tr style=\"text-align: right;\">\n",
       "      <th></th>\n",
       "      <th>year</th>\n",
       "      <th>price</th>\n",
       "      <th>mileage</th>\n",
       "      <th>tax</th>\n",
       "      <th>mpg</th>\n",
       "      <th>engineSize</th>\n",
       "    </tr>\n",
       "  </thead>\n",
       "  <tbody>\n",
       "    <tr>\n",
       "      <th>count</th>\n",
       "      <td>105044.000000</td>\n",
       "      <td>105044.000000</td>\n",
       "      <td>105044.000000</td>\n",
       "      <td>95849.000000</td>\n",
       "      <td>95849.000000</td>\n",
       "      <td>105044.000000</td>\n",
       "    </tr>\n",
       "    <tr>\n",
       "      <th>mean</th>\n",
       "      <td>2017.096417</td>\n",
       "      <td>16815.920471</td>\n",
       "      <td>22985.290097</td>\n",
       "      <td>121.892717</td>\n",
       "      <td>53.985638</td>\n",
       "      <td>1.658356</td>\n",
       "    </tr>\n",
       "    <tr>\n",
       "      <th>std</th>\n",
       "      <td>2.137326</td>\n",
       "      <td>9808.896290</td>\n",
       "      <td>21187.595856</td>\n",
       "      <td>62.370738</td>\n",
       "      <td>10.941017</td>\n",
       "      <td>0.561822</td>\n",
       "    </tr>\n",
       "    <tr>\n",
       "      <th>min</th>\n",
       "      <td>1970.000000</td>\n",
       "      <td>450.000000</td>\n",
       "      <td>1.000000</td>\n",
       "      <td>0.000000</td>\n",
       "      <td>0.300000</td>\n",
       "      <td>0.000000</td>\n",
       "    </tr>\n",
       "    <tr>\n",
       "      <th>25%</th>\n",
       "      <td>2016.000000</td>\n",
       "      <td>10000.000000</td>\n",
       "      <td>7450.000000</td>\n",
       "      <td>125.000000</td>\n",
       "      <td>46.300000</td>\n",
       "      <td>1.200000</td>\n",
       "    </tr>\n",
       "    <tr>\n",
       "      <th>50%</th>\n",
       "      <td>2017.000000</td>\n",
       "      <td>14499.000000</td>\n",
       "      <td>17171.000000</td>\n",
       "      <td>145.000000</td>\n",
       "      <td>54.300000</td>\n",
       "      <td>1.500000</td>\n",
       "    </tr>\n",
       "    <tr>\n",
       "      <th>75%</th>\n",
       "      <td>2019.000000</td>\n",
       "      <td>20750.000000</td>\n",
       "      <td>32191.000000</td>\n",
       "      <td>145.000000</td>\n",
       "      <td>61.400000</td>\n",
       "      <td>2.000000</td>\n",
       "    </tr>\n",
       "    <tr>\n",
       "      <th>max</th>\n",
       "      <td>2020.000000</td>\n",
       "      <td>159999.000000</td>\n",
       "      <td>323000.000000</td>\n",
       "      <td>580.000000</td>\n",
       "      <td>166.200000</td>\n",
       "      <td>6.600000</td>\n",
       "    </tr>\n",
       "  </tbody>\n",
       "</table>\n",
       "</div>"
      ],
      "text/plain": [
       "                year          price        mileage           tax  \\\n",
       "count  105044.000000  105044.000000  105044.000000  95849.000000   \n",
       "mean     2017.096417   16815.920471   22985.290097    121.892717   \n",
       "std         2.137326    9808.896290   21187.595856     62.370738   \n",
       "min      1970.000000     450.000000       1.000000      0.000000   \n",
       "25%      2016.000000   10000.000000    7450.000000    125.000000   \n",
       "50%      2017.000000   14499.000000   17171.000000    145.000000   \n",
       "75%      2019.000000   20750.000000   32191.000000    145.000000   \n",
       "max      2020.000000  159999.000000  323000.000000    580.000000   \n",
       "\n",
       "                mpg     engineSize  \n",
       "count  95849.000000  105044.000000  \n",
       "mean      53.985638       1.658356  \n",
       "std       10.941017       0.561822  \n",
       "min        0.300000       0.000000  \n",
       "25%       46.300000       1.200000  \n",
       "50%       54.300000       1.500000  \n",
       "75%       61.400000       2.000000  \n",
       "max      166.200000       6.600000  "
      ]
     },
     "execution_count": 17,
     "metadata": {},
     "output_type": "execute_result"
    }
   ],
   "source": [
    "df.describe()"
   ]
  },
  {
   "cell_type": "markdown",
   "metadata": {},
   "source": [
    "### Data 'engineSize' = 0"
   ]
  },
  {
   "cell_type": "code",
   "execution_count": 18,
   "metadata": {
    "ExecuteTime": {
     "end_time": "2021-08-31T02:25:31.175630Z",
     "start_time": "2021-08-31T02:25:31.131044Z"
    }
   },
   "outputs": [
    {
     "data": {
      "text/html": [
       "<div>\n",
       "<style scoped>\n",
       "    .dataframe tbody tr th:only-of-type {\n",
       "        vertical-align: middle;\n",
       "    }\n",
       "\n",
       "    .dataframe tbody tr th {\n",
       "        vertical-align: top;\n",
       "    }\n",
       "\n",
       "    .dataframe thead th {\n",
       "        text-align: right;\n",
       "    }\n",
       "</style>\n",
       "<table border=\"1\" class=\"dataframe\">\n",
       "  <thead>\n",
       "    <tr style=\"text-align: right;\">\n",
       "      <th></th>\n",
       "      <th>model</th>\n",
       "      <th>year</th>\n",
       "      <th>price</th>\n",
       "      <th>transmission</th>\n",
       "      <th>mileage</th>\n",
       "      <th>fuelType</th>\n",
       "      <th>tax</th>\n",
       "      <th>mpg</th>\n",
       "      <th>engineSize</th>\n",
       "      <th>brand</th>\n",
       "    </tr>\n",
       "  </thead>\n",
       "  <tbody>\n",
       "    <tr>\n",
       "      <th>7505</th>\n",
       "      <td>Q5</td>\n",
       "      <td>2019</td>\n",
       "      <td>44790</td>\n",
       "      <td>Automatic</td>\n",
       "      <td>5886</td>\n",
       "      <td>Petrol</td>\n",
       "      <td>135.0</td>\n",
       "      <td>117.7</td>\n",
       "      <td>0.0</td>\n",
       "      <td>audi</td>\n",
       "    </tr>\n",
       "    <tr>\n",
       "      <th>7506</th>\n",
       "      <td>Q3</td>\n",
       "      <td>2019</td>\n",
       "      <td>32788</td>\n",
       "      <td>Automatic</td>\n",
       "      <td>1500</td>\n",
       "      <td>Diesel</td>\n",
       "      <td>145.0</td>\n",
       "      <td>47.1</td>\n",
       "      <td>0.0</td>\n",
       "      <td>audi</td>\n",
       "    </tr>\n",
       "    <tr>\n",
       "      <th>7516</th>\n",
       "      <td>Q3</td>\n",
       "      <td>2020</td>\n",
       "      <td>29944</td>\n",
       "      <td>Manual</td>\n",
       "      <td>1500</td>\n",
       "      <td>Petrol</td>\n",
       "      <td>145.0</td>\n",
       "      <td>40.9</td>\n",
       "      <td>0.0</td>\n",
       "      <td>audi</td>\n",
       "    </tr>\n",
       "    <tr>\n",
       "      <th>7517</th>\n",
       "      <td>Q3</td>\n",
       "      <td>2020</td>\n",
       "      <td>33333</td>\n",
       "      <td>Automatic</td>\n",
       "      <td>1500</td>\n",
       "      <td>Diesel</td>\n",
       "      <td>145.0</td>\n",
       "      <td>47.1</td>\n",
       "      <td>0.0</td>\n",
       "      <td>audi</td>\n",
       "    </tr>\n",
       "    <tr>\n",
       "      <th>7518</th>\n",
       "      <td>Q3</td>\n",
       "      <td>2020</td>\n",
       "      <td>29944</td>\n",
       "      <td>Automatic</td>\n",
       "      <td>1500</td>\n",
       "      <td>Petrol</td>\n",
       "      <td>145.0</td>\n",
       "      <td>32.5</td>\n",
       "      <td>0.0</td>\n",
       "      <td>audi</td>\n",
       "    </tr>\n",
       "  </tbody>\n",
       "</table>\n",
       "</div>"
      ],
      "text/plain": [
       "     model  year  price transmission  mileage fuelType    tax    mpg  \\\n",
       "7505    Q5  2019  44790    Automatic     5886   Petrol  135.0  117.7   \n",
       "7506    Q3  2019  32788    Automatic     1500   Diesel  145.0   47.1   \n",
       "7516    Q3  2020  29944       Manual     1500   Petrol  145.0   40.9   \n",
       "7517    Q3  2020  33333    Automatic     1500   Diesel  145.0   47.1   \n",
       "7518    Q3  2020  29944    Automatic     1500   Petrol  145.0   32.5   \n",
       "\n",
       "      engineSize brand  \n",
       "7505         0.0  audi  \n",
       "7506         0.0  audi  \n",
       "7516         0.0  audi  \n",
       "7517         0.0  audi  \n",
       "7518         0.0  audi  "
      ]
     },
     "execution_count": 18,
     "metadata": {},
     "output_type": "execute_result"
    }
   ],
   "source": [
    "df[df['engineSize'] == 0.0].head()"
   ]
  },
  {
   "cell_type": "code",
   "execution_count": 19,
   "metadata": {
    "ExecuteTime": {
     "end_time": "2021-08-31T02:25:31.230149Z",
     "start_time": "2021-08-31T02:25:31.179687Z"
    }
   },
   "outputs": [
    {
     "name": "stdout",
     "output_type": "stream",
     "text": [
      "karena hanya terdapat sebanyak 245 data atau sebesar 0.233 % dari keseluruhan data, maka data dengan engineSize = 0.0 akan didrop\n"
     ]
    }
   ],
   "source": [
    "totalZeroEngine = df[df['engineSize'] == 0.0]['engineSize'].count()\n",
    "zeroEnginePersentage = totalZeroEngine / df.shape[0] * 100\n",
    "print('karena hanya terdapat sebanyak', totalZeroEngine, 'data atau sebesar', round(zeroEnginePersentage, 3), '% dari keseluruhan data, maka data dengan engineSize = 0.0 akan didrop')"
   ]
  },
  {
   "cell_type": "code",
   "execution_count": 20,
   "metadata": {
    "ExecuteTime": {
     "end_time": "2021-08-31T02:25:31.273079Z",
     "start_time": "2021-08-31T02:25:31.241475Z"
    }
   },
   "outputs": [],
   "source": [
    "df = df.drop(df[df['engineSize'] == 0.0].index, axis = 0)"
   ]
  },
  {
   "cell_type": "markdown",
   "metadata": {},
   "source": [
    "## Missing Value"
   ]
  },
  {
   "cell_type": "markdown",
   "metadata": {},
   "source": [
    "### Handling Missing Value in Tax"
   ]
  },
  {
   "cell_type": "markdown",
   "metadata": {
    "ExecuteTime": {
     "end_time": "2021-08-27T04:44:00.769805Z",
     "start_time": "2021-08-27T04:44:00.757233Z"
    }
   },
   "source": [
    "* input Missing Value in Tax menggunakan nilai rata-rata berdasarkan fuelType\n",
    "* referensi:\n",
    "    1. https://www.gov.uk/calculate-tax-rates-for-new-cars\n",
    "    2. https://www.gov.uk/vehicle-tax-rate-tables"
   ]
  },
  {
   "cell_type": "code",
   "execution_count": 21,
   "metadata": {
    "ExecuteTime": {
     "end_time": "2021-08-31T02:25:31.306255Z",
     "start_time": "2021-08-31T02:25:31.276786Z"
    }
   },
   "outputs": [
    {
     "data": {
      "text/html": [
       "<div>\n",
       "<style scoped>\n",
       "    .dataframe tbody tr th:only-of-type {\n",
       "        vertical-align: middle;\n",
       "    }\n",
       "\n",
       "    .dataframe tbody tr th {\n",
       "        vertical-align: top;\n",
       "    }\n",
       "\n",
       "    .dataframe thead th {\n",
       "        text-align: right;\n",
       "    }\n",
       "</style>\n",
       "<table border=\"1\" class=\"dataframe\">\n",
       "  <thead>\n",
       "    <tr style=\"text-align: right;\">\n",
       "      <th></th>\n",
       "      <th>model</th>\n",
       "      <th>year</th>\n",
       "      <th>price</th>\n",
       "      <th>transmission</th>\n",
       "      <th>mileage</th>\n",
       "      <th>fuelType</th>\n",
       "      <th>tax</th>\n",
       "      <th>mpg</th>\n",
       "      <th>engineSize</th>\n",
       "      <th>brand</th>\n",
       "    </tr>\n",
       "  </thead>\n",
       "  <tbody>\n",
       "    <tr>\n",
       "      <th>0</th>\n",
       "      <td>A1</td>\n",
       "      <td>2017</td>\n",
       "      <td>12500</td>\n",
       "      <td>Manual</td>\n",
       "      <td>15735</td>\n",
       "      <td>Petrol</td>\n",
       "      <td>150.0</td>\n",
       "      <td>55.4</td>\n",
       "      <td>1.4</td>\n",
       "      <td>audi</td>\n",
       "    </tr>\n",
       "    <tr>\n",
       "      <th>1</th>\n",
       "      <td>A6</td>\n",
       "      <td>2016</td>\n",
       "      <td>16500</td>\n",
       "      <td>Automatic</td>\n",
       "      <td>36203</td>\n",
       "      <td>Diesel</td>\n",
       "      <td>20.0</td>\n",
       "      <td>64.2</td>\n",
       "      <td>2.0</td>\n",
       "      <td>audi</td>\n",
       "    </tr>\n",
       "    <tr>\n",
       "      <th>2</th>\n",
       "      <td>A1</td>\n",
       "      <td>2016</td>\n",
       "      <td>11000</td>\n",
       "      <td>Manual</td>\n",
       "      <td>29946</td>\n",
       "      <td>Petrol</td>\n",
       "      <td>30.0</td>\n",
       "      <td>55.4</td>\n",
       "      <td>1.4</td>\n",
       "      <td>audi</td>\n",
       "    </tr>\n",
       "    <tr>\n",
       "      <th>3</th>\n",
       "      <td>A4</td>\n",
       "      <td>2017</td>\n",
       "      <td>16800</td>\n",
       "      <td>Automatic</td>\n",
       "      <td>25952</td>\n",
       "      <td>Diesel</td>\n",
       "      <td>145.0</td>\n",
       "      <td>67.3</td>\n",
       "      <td>2.0</td>\n",
       "      <td>audi</td>\n",
       "    </tr>\n",
       "    <tr>\n",
       "      <th>4</th>\n",
       "      <td>A3</td>\n",
       "      <td>2019</td>\n",
       "      <td>17300</td>\n",
       "      <td>Manual</td>\n",
       "      <td>1998</td>\n",
       "      <td>Petrol</td>\n",
       "      <td>145.0</td>\n",
       "      <td>49.6</td>\n",
       "      <td>1.0</td>\n",
       "      <td>audi</td>\n",
       "    </tr>\n",
       "  </tbody>\n",
       "</table>\n",
       "</div>"
      ],
      "text/plain": [
       "  model  year  price transmission  mileage fuelType    tax   mpg  engineSize  \\\n",
       "0    A1  2017  12500       Manual    15735   Petrol  150.0  55.4         1.4   \n",
       "1    A6  2016  16500    Automatic    36203   Diesel   20.0  64.2         2.0   \n",
       "2    A1  2016  11000       Manual    29946   Petrol   30.0  55.4         1.4   \n",
       "3    A4  2017  16800    Automatic    25952   Diesel  145.0  67.3         2.0   \n",
       "4    A3  2019  17300       Manual     1998   Petrol  145.0  49.6         1.0   \n",
       "\n",
       "  brand  \n",
       "0  audi  \n",
       "1  audi  \n",
       "2  audi  \n",
       "3  audi  \n",
       "4  audi  "
      ]
     },
     "execution_count": 21,
     "metadata": {},
     "output_type": "execute_result"
    }
   ],
   "source": [
    "df.head()"
   ]
  },
  {
   "cell_type": "code",
   "execution_count": 22,
   "metadata": {
    "ExecuteTime": {
     "end_time": "2021-08-31T02:25:31.324814Z",
     "start_time": "2021-08-31T02:25:31.309537Z"
    }
   },
   "outputs": [],
   "source": [
    "df['tax']=df['tax'].fillna(df.groupby(['fuelType'])['tax'].transform('mean'))"
   ]
  },
  {
   "cell_type": "markdown",
   "metadata": {},
   "source": [
    "### Handling Missing Value in MPG"
   ]
  },
  {
   "cell_type": "markdown",
   "metadata": {
    "ExecuteTime": {
     "end_time": "2021-08-27T04:44:00.769805Z",
     "start_time": "2021-08-27T04:44:00.757233Z"
    }
   },
   "source": [
    "* input Missing Value in MPG menggunakan nilai rata-rata berdasarkan transmission, fuelType, engineSize"
   ]
  },
  {
   "cell_type": "code",
   "execution_count": 23,
   "metadata": {
    "ExecuteTime": {
     "end_time": "2021-08-31T02:25:31.362952Z",
     "start_time": "2021-08-31T02:25:31.331830Z"
    }
   },
   "outputs": [],
   "source": [
    "df['mpg']=df['mpg'].fillna(df.groupby(['transmission','fuelType','engineSize'])['mpg'].transform('mean'))"
   ]
  },
  {
   "cell_type": "code",
   "execution_count": 24,
   "metadata": {
    "ExecuteTime": {
     "end_time": "2021-08-31T02:25:31.395713Z",
     "start_time": "2021-08-31T02:25:31.367212Z"
    },
    "scrolled": false
   },
   "outputs": [
    {
     "data": {
      "text/plain": [
       "model           0\n",
       "year            0\n",
       "price           0\n",
       "transmission    0\n",
       "mileage         0\n",
       "fuelType        0\n",
       "tax             0\n",
       "mpg             2\n",
       "engineSize      0\n",
       "brand           0\n",
       "dtype: int64"
      ]
     },
     "execution_count": 24,
     "metadata": {},
     "output_type": "execute_result"
    }
   ],
   "source": [
    "df.isna().sum()"
   ]
  },
  {
   "cell_type": "markdown",
   "metadata": {},
   "source": [
    ">dikarenakan masih ada data yg bernilai NaN tetapi jumlah data tersebut tidak akan terlalu mempengaruhi keseluruhan data makan data tersebut akan di drop."
   ]
  },
  {
   "cell_type": "code",
   "execution_count": 25,
   "metadata": {
    "ExecuteTime": {
     "end_time": "2021-08-31T02:25:31.441576Z",
     "start_time": "2021-08-31T02:25:31.397960Z"
    }
   },
   "outputs": [],
   "source": [
    "df.dropna(inplace=True)"
   ]
  },
  {
   "cell_type": "code",
   "execution_count": 26,
   "metadata": {
    "ExecuteTime": {
     "end_time": "2021-08-31T02:25:31.494918Z",
     "start_time": "2021-08-31T02:25:31.445914Z"
    }
   },
   "outputs": [
    {
     "data": {
      "text/plain": [
       "model           0\n",
       "year            0\n",
       "price           0\n",
       "transmission    0\n",
       "mileage         0\n",
       "fuelType        0\n",
       "tax             0\n",
       "mpg             0\n",
       "engineSize      0\n",
       "brand           0\n",
       "dtype: int64"
      ]
     },
     "execution_count": 26,
     "metadata": {},
     "output_type": "execute_result"
    }
   ],
   "source": [
    "df.isna().sum()"
   ]
  },
  {
   "cell_type": "code",
   "execution_count": 27,
   "metadata": {
    "ExecuteTime": {
     "end_time": "2021-08-31T02:25:31.543292Z",
     "start_time": "2021-08-31T02:25:31.502649Z"
    },
    "scrolled": true
   },
   "outputs": [
    {
     "name": "stdout",
     "output_type": "stream",
     "text": [
      "<class 'pandas.core.frame.DataFrame'>\n",
      "Int64Index: 104797 entries, 0 to 108539\n",
      "Data columns (total 10 columns):\n",
      " #   Column        Non-Null Count   Dtype  \n",
      "---  ------        --------------   -----  \n",
      " 0   model         104797 non-null  object \n",
      " 1   year          104797 non-null  int64  \n",
      " 2   price         104797 non-null  int64  \n",
      " 3   transmission  104797 non-null  object \n",
      " 4   mileage       104797 non-null  int64  \n",
      " 5   fuelType      104797 non-null  object \n",
      " 6   tax           104797 non-null  float64\n",
      " 7   mpg           104797 non-null  float64\n",
      " 8   engineSize    104797 non-null  float64\n",
      " 9   brand         104797 non-null  object \n",
      "dtypes: float64(3), int64(3), object(4)\n",
      "memory usage: 8.8+ MB\n"
     ]
    }
   ],
   "source": [
    "df.info()"
   ]
  },
  {
   "cell_type": "markdown",
   "metadata": {
    "ExecuteTime": {
     "end_time": "2021-08-29T05:24:54.010538Z",
     "start_time": "2021-08-29T05:24:53.997536Z"
    }
   },
   "source": [
    "## Feature Engineering"
   ]
  },
  {
   "cell_type": "markdown",
   "metadata": {},
   "source": [
    "### fitur Age"
   ]
  },
  {
   "cell_type": "code",
   "execution_count": 28,
   "metadata": {
    "ExecuteTime": {
     "end_time": "2021-08-31T02:25:31.570456Z",
     "start_time": "2021-08-31T02:25:31.545658Z"
    },
    "scrolled": false
   },
   "outputs": [
    {
     "data": {
      "text/html": [
       "<div>\n",
       "<style scoped>\n",
       "    .dataframe tbody tr th:only-of-type {\n",
       "        vertical-align: middle;\n",
       "    }\n",
       "\n",
       "    .dataframe tbody tr th {\n",
       "        vertical-align: top;\n",
       "    }\n",
       "\n",
       "    .dataframe thead th {\n",
       "        text-align: right;\n",
       "    }\n",
       "</style>\n",
       "<table border=\"1\" class=\"dataframe\">\n",
       "  <thead>\n",
       "    <tr style=\"text-align: right;\">\n",
       "      <th></th>\n",
       "      <th>model</th>\n",
       "      <th>year</th>\n",
       "      <th>price</th>\n",
       "      <th>transmission</th>\n",
       "      <th>mileage</th>\n",
       "      <th>fuelType</th>\n",
       "      <th>tax</th>\n",
       "      <th>mpg</th>\n",
       "      <th>engineSize</th>\n",
       "      <th>brand</th>\n",
       "      <th>age</th>\n",
       "    </tr>\n",
       "  </thead>\n",
       "  <tbody>\n",
       "    <tr>\n",
       "      <th>0</th>\n",
       "      <td>A1</td>\n",
       "      <td>2017</td>\n",
       "      <td>12500</td>\n",
       "      <td>Manual</td>\n",
       "      <td>15735</td>\n",
       "      <td>Petrol</td>\n",
       "      <td>150.0</td>\n",
       "      <td>55.4</td>\n",
       "      <td>1.4</td>\n",
       "      <td>audi</td>\n",
       "      <td>3</td>\n",
       "    </tr>\n",
       "    <tr>\n",
       "      <th>1</th>\n",
       "      <td>A6</td>\n",
       "      <td>2016</td>\n",
       "      <td>16500</td>\n",
       "      <td>Automatic</td>\n",
       "      <td>36203</td>\n",
       "      <td>Diesel</td>\n",
       "      <td>20.0</td>\n",
       "      <td>64.2</td>\n",
       "      <td>2.0</td>\n",
       "      <td>audi</td>\n",
       "      <td>4</td>\n",
       "    </tr>\n",
       "    <tr>\n",
       "      <th>2</th>\n",
       "      <td>A1</td>\n",
       "      <td>2016</td>\n",
       "      <td>11000</td>\n",
       "      <td>Manual</td>\n",
       "      <td>29946</td>\n",
       "      <td>Petrol</td>\n",
       "      <td>30.0</td>\n",
       "      <td>55.4</td>\n",
       "      <td>1.4</td>\n",
       "      <td>audi</td>\n",
       "      <td>4</td>\n",
       "    </tr>\n",
       "    <tr>\n",
       "      <th>3</th>\n",
       "      <td>A4</td>\n",
       "      <td>2017</td>\n",
       "      <td>16800</td>\n",
       "      <td>Automatic</td>\n",
       "      <td>25952</td>\n",
       "      <td>Diesel</td>\n",
       "      <td>145.0</td>\n",
       "      <td>67.3</td>\n",
       "      <td>2.0</td>\n",
       "      <td>audi</td>\n",
       "      <td>3</td>\n",
       "    </tr>\n",
       "    <tr>\n",
       "      <th>4</th>\n",
       "      <td>A3</td>\n",
       "      <td>2019</td>\n",
       "      <td>17300</td>\n",
       "      <td>Manual</td>\n",
       "      <td>1998</td>\n",
       "      <td>Petrol</td>\n",
       "      <td>145.0</td>\n",
       "      <td>49.6</td>\n",
       "      <td>1.0</td>\n",
       "      <td>audi</td>\n",
       "      <td>1</td>\n",
       "    </tr>\n",
       "  </tbody>\n",
       "</table>\n",
       "</div>"
      ],
      "text/plain": [
       "  model  year  price transmission  mileage fuelType    tax   mpg  engineSize  \\\n",
       "0    A1  2017  12500       Manual    15735   Petrol  150.0  55.4         1.4   \n",
       "1    A6  2016  16500    Automatic    36203   Diesel   20.0  64.2         2.0   \n",
       "2    A1  2016  11000       Manual    29946   Petrol   30.0  55.4         1.4   \n",
       "3    A4  2017  16800    Automatic    25952   Diesel  145.0  67.3         2.0   \n",
       "4    A3  2019  17300       Manual     1998   Petrol  145.0  49.6         1.0   \n",
       "\n",
       "  brand  age  \n",
       "0  audi    3  \n",
       "1  audi    4  \n",
       "2  audi    4  \n",
       "3  audi    3  \n",
       "4  audi    1  "
      ]
     },
     "execution_count": 28,
     "metadata": {},
     "output_type": "execute_result"
    }
   ],
   "source": [
    "df['age']=2020-df['year']\n",
    "df.head()"
   ]
  },
  {
   "cell_type": "markdown",
   "metadata": {},
   "source": [
    "## Data Visualization (in general)"
   ]
  },
  {
   "cell_type": "markdown",
   "metadata": {},
   "source": [
    "### Percentage of Transmission Type"
   ]
  },
  {
   "cell_type": "code",
   "execution_count": 31,
   "metadata": {
    "ExecuteTime": {
     "end_time": "2021-08-31T02:25:31.686863Z",
     "start_time": "2021-08-31T02:25:31.629211Z"
    }
   },
   "outputs": [
    {
     "data": {
      "text/html": [
       "<div>\n",
       "<style scoped>\n",
       "    .dataframe tbody tr th:only-of-type {\n",
       "        vertical-align: middle;\n",
       "    }\n",
       "\n",
       "    .dataframe tbody tr th {\n",
       "        vertical-align: top;\n",
       "    }\n",
       "\n",
       "    .dataframe thead th {\n",
       "        text-align: right;\n",
       "    }\n",
       "</style>\n",
       "<table border=\"1\" class=\"dataframe\">\n",
       "  <thead>\n",
       "    <tr style=\"text-align: right;\">\n",
       "      <th></th>\n",
       "      <th>transmission</th>\n",
       "      <th>jumlah</th>\n",
       "    </tr>\n",
       "  </thead>\n",
       "  <tbody>\n",
       "    <tr>\n",
       "      <th>0</th>\n",
       "      <td>Automatic</td>\n",
       "      <td>19218</td>\n",
       "    </tr>\n",
       "    <tr>\n",
       "      <th>1</th>\n",
       "      <td>Manual</td>\n",
       "      <td>61080</td>\n",
       "    </tr>\n",
       "    <tr>\n",
       "      <th>2</th>\n",
       "      <td>Semi-Auto</td>\n",
       "      <td>24499</td>\n",
       "    </tr>\n",
       "  </tbody>\n",
       "</table>\n",
       "</div>"
      ],
      "text/plain": [
       "  transmission  jumlah\n",
       "0    Automatic   19218\n",
       "1       Manual   61080\n",
       "2    Semi-Auto   24499"
      ]
     },
     "execution_count": 31,
     "metadata": {},
     "output_type": "execute_result"
    }
   ],
   "source": [
    "df_tr=df.groupby('transmission').count()['model'].reset_index()\n",
    "df_tr= df_tr.rename(columns={'model': 'jumlah'})\n",
    "df_tr"
   ]
  },
  {
   "cell_type": "code",
   "execution_count": 83,
   "metadata": {
    "ExecuteTime": {
     "end_time": "2021-08-31T02:29:47.636418Z",
     "start_time": "2021-08-31T02:29:47.633495Z"
    },
    "scrolled": false
   },
   "outputs": [],
   "source": [
    "# fig = px.pie(df_tr,\n",
    "#             names='transmission',\n",
    "#             values='jumlah',\n",
    "#             title='Percentage of Transmission Type',\n",
    "#             color_discrete_sequence=px.colors.sequential.amp\n",
    "#             )\n",
    "# fig.show()"
   ]
  },
  {
   "cell_type": "markdown",
   "metadata": {},
   "source": [
    "### Percentage of fuelType"
   ]
  },
  {
   "cell_type": "code",
   "execution_count": 33,
   "metadata": {
    "ExecuteTime": {
     "end_time": "2021-08-31T02:25:32.970465Z",
     "start_time": "2021-08-31T02:25:32.837396Z"
    }
   },
   "outputs": [
    {
     "data": {
      "text/html": [
       "<div>\n",
       "<style scoped>\n",
       "    .dataframe tbody tr th:only-of-type {\n",
       "        vertical-align: middle;\n",
       "    }\n",
       "\n",
       "    .dataframe tbody tr th {\n",
       "        vertical-align: top;\n",
       "    }\n",
       "\n",
       "    .dataframe thead th {\n",
       "        text-align: right;\n",
       "    }\n",
       "</style>\n",
       "<table border=\"1\" class=\"dataframe\">\n",
       "  <thead>\n",
       "    <tr style=\"text-align: right;\">\n",
       "      <th></th>\n",
       "      <th>fuelType</th>\n",
       "      <th>jumlah</th>\n",
       "    </tr>\n",
       "  </thead>\n",
       "  <tbody>\n",
       "    <tr>\n",
       "      <th>0</th>\n",
       "      <td>Diesel</td>\n",
       "      <td>45101</td>\n",
       "    </tr>\n",
       "    <tr>\n",
       "      <th>1</th>\n",
       "      <td>Petrol</td>\n",
       "      <td>59696</td>\n",
       "    </tr>\n",
       "  </tbody>\n",
       "</table>\n",
       "</div>"
      ],
      "text/plain": [
       "  fuelType  jumlah\n",
       "0   Diesel   45101\n",
       "1   Petrol   59696"
      ]
     },
     "execution_count": 33,
     "metadata": {},
     "output_type": "execute_result"
    }
   ],
   "source": [
    "df_ft=df.groupby('fuelType').count()['model'].reset_index()\n",
    "df_ft= df_ft.rename(columns={'model': 'jumlah'})\n",
    "df_ft"
   ]
  },
  {
   "cell_type": "code",
   "execution_count": 84,
   "metadata": {
    "ExecuteTime": {
     "end_time": "2021-08-31T02:29:57.688226Z",
     "start_time": "2021-08-31T02:29:57.677664Z"
    },
    "scrolled": false
   },
   "outputs": [],
   "source": [
    "# fig = px.pie(df_ft,\n",
    "#             names='fuelType',\n",
    "#             values='jumlah',\n",
    "#             title='Percentage of fuelType',\n",
    "#             color_discrete_sequence=px.colors.sequential.Peach\n",
    "#             )\n",
    "# fig.show()"
   ]
  },
  {
   "cell_type": "markdown",
   "metadata": {},
   "source": [
    "### Tree Map"
   ]
  },
  {
   "cell_type": "code",
   "execution_count": 35,
   "metadata": {
    "ExecuteTime": {
     "end_time": "2021-08-31T02:25:33.088350Z",
     "start_time": "2021-08-31T02:25:33.038205Z"
    }
   },
   "outputs": [
    {
     "data": {
      "text/html": [
       "<div>\n",
       "<style scoped>\n",
       "    .dataframe tbody tr th:only-of-type {\n",
       "        vertical-align: middle;\n",
       "    }\n",
       "\n",
       "    .dataframe tbody tr th {\n",
       "        vertical-align: top;\n",
       "    }\n",
       "\n",
       "    .dataframe thead th {\n",
       "        text-align: right;\n",
       "    }\n",
       "</style>\n",
       "<table border=\"1\" class=\"dataframe\">\n",
       "  <thead>\n",
       "    <tr style=\"text-align: right;\">\n",
       "      <th></th>\n",
       "      <th>year</th>\n",
       "      <th>transmission</th>\n",
       "      <th>fuelType</th>\n",
       "      <th>model</th>\n",
       "      <th>price</th>\n",
       "    </tr>\n",
       "  </thead>\n",
       "  <tbody>\n",
       "    <tr>\n",
       "      <th>0</th>\n",
       "      <td>1970</td>\n",
       "      <td>Manual</td>\n",
       "      <td>Petrol</td>\n",
       "      <td>1</td>\n",
       "      <td>10495.0</td>\n",
       "    </tr>\n",
       "    <tr>\n",
       "      <th>1</th>\n",
       "      <td>1991</td>\n",
       "      <td>Automatic</td>\n",
       "      <td>Petrol</td>\n",
       "      <td>1</td>\n",
       "      <td>4450.0</td>\n",
       "    </tr>\n",
       "    <tr>\n",
       "      <th>2</th>\n",
       "      <td>1996</td>\n",
       "      <td>Automatic</td>\n",
       "      <td>Petrol</td>\n",
       "      <td>1</td>\n",
       "      <td>5995.0</td>\n",
       "    </tr>\n",
       "    <tr>\n",
       "      <th>3</th>\n",
       "      <td>1996</td>\n",
       "      <td>Manual</td>\n",
       "      <td>Petrol</td>\n",
       "      <td>1</td>\n",
       "      <td>3000.0</td>\n",
       "    </tr>\n",
       "    <tr>\n",
       "      <th>4</th>\n",
       "      <td>1997</td>\n",
       "      <td>Automatic</td>\n",
       "      <td>Petrol</td>\n",
       "      <td>2</td>\n",
       "      <td>7322.5</td>\n",
       "    </tr>\n",
       "  </tbody>\n",
       "</table>\n",
       "</div>"
      ],
      "text/plain": [
       "   year transmission fuelType  model    price\n",
       "0  1970       Manual   Petrol      1  10495.0\n",
       "1  1991    Automatic   Petrol      1   4450.0\n",
       "2  1996    Automatic   Petrol      1   5995.0\n",
       "3  1996       Manual   Petrol      1   3000.0\n",
       "4  1997    Automatic   Petrol      2   7322.5"
      ]
     },
     "execution_count": 35,
     "metadata": {},
     "output_type": "execute_result"
    }
   ],
   "source": [
    "df_treemap = df.groupby(['year','transmission','fuelType']).agg({'model':len,'price':np.mean}).rename(columns={'name':'total'}).reset_index()\n",
    "df_treemap.head()"
   ]
  },
  {
   "cell_type": "code",
   "execution_count": 85,
   "metadata": {
    "ExecuteTime": {
     "end_time": "2021-08-31T02:30:03.353259Z",
     "start_time": "2021-08-31T02:30:03.350086Z"
    },
    "scrolled": false
   },
   "outputs": [],
   "source": [
    "# fig = px.treemap(df_treemap,\n",
    "#                  path=['year','transmission','fuelType'], \n",
    "#                  values = 'price', \n",
    "#                  color = 'price',\n",
    "#                  color_continuous_scale='RdBu',\n",
    "#                  color_continuous_midpoint=np.average(df['price'], weights=df['price']),\n",
    "#                  width=1000,\n",
    "#                  height=600,\n",
    "#                  title = \"Nilai Rata-Rata price berdasarkan year, transmission, dan fuelType:\"\n",
    "#                  )\n",
    "# fig.show()"
   ]
  },
  {
   "cell_type": "markdown",
   "metadata": {},
   "source": [
    "### Time Series"
   ]
  },
  {
   "cell_type": "markdown",
   "metadata": {
    "ExecuteTime": {
     "end_time": "2021-08-27T09:07:50.411090Z",
     "start_time": "2021-08-27T09:07:50.388569Z"
    }
   },
   "source": [
    "ref gambar nanti time series:\n",
    "    \n",
    "    https://www.moneysupermarket.com/car-insurance/petrol-vs-diesel/?__cf_chl_jschl_tk__=pmd_gyDQZeymIJ8ilTuI76rL9Flxin2tASMb5MaXlCu5JIE-1630055221-0-gqNtZGzNAjujcnBszQi9"
   ]
  },
  {
   "cell_type": "code",
   "execution_count": 37,
   "metadata": {
    "ExecuteTime": {
     "end_time": "2021-08-31T02:25:33.604371Z",
     "start_time": "2021-08-31T02:25:33.553992Z"
    }
   },
   "outputs": [
    {
     "data": {
      "text/html": [
       "<div>\n",
       "<style scoped>\n",
       "    .dataframe tbody tr th:only-of-type {\n",
       "        vertical-align: middle;\n",
       "    }\n",
       "\n",
       "    .dataframe tbody tr th {\n",
       "        vertical-align: top;\n",
       "    }\n",
       "\n",
       "    .dataframe thead th {\n",
       "        text-align: right;\n",
       "    }\n",
       "</style>\n",
       "<table border=\"1\" class=\"dataframe\">\n",
       "  <thead>\n",
       "    <tr style=\"text-align: right;\">\n",
       "      <th>fuelType</th>\n",
       "      <th>year</th>\n",
       "      <th>Diesel</th>\n",
       "      <th>Petrol</th>\n",
       "    </tr>\n",
       "  </thead>\n",
       "  <tbody>\n",
       "    <tr>\n",
       "      <th>0</th>\n",
       "      <td>1970</td>\n",
       "      <td>0</td>\n",
       "      <td>1</td>\n",
       "    </tr>\n",
       "    <tr>\n",
       "      <th>1</th>\n",
       "      <td>1991</td>\n",
       "      <td>0</td>\n",
       "      <td>1</td>\n",
       "    </tr>\n",
       "    <tr>\n",
       "      <th>2</th>\n",
       "      <td>1996</td>\n",
       "      <td>0</td>\n",
       "      <td>2</td>\n",
       "    </tr>\n",
       "    <tr>\n",
       "      <th>3</th>\n",
       "      <td>1997</td>\n",
       "      <td>0</td>\n",
       "      <td>4</td>\n",
       "    </tr>\n",
       "    <tr>\n",
       "      <th>4</th>\n",
       "      <td>1998</td>\n",
       "      <td>1</td>\n",
       "      <td>8</td>\n",
       "    </tr>\n",
       "  </tbody>\n",
       "</table>\n",
       "</div>"
      ],
      "text/plain": [
       "fuelType  year  Diesel  Petrol\n",
       "0         1970       0       1\n",
       "1         1991       0       1\n",
       "2         1996       0       2\n",
       "3         1997       0       4\n",
       "4         1998       1       8"
      ]
     },
     "execution_count": 37,
     "metadata": {},
     "output_type": "execute_result"
    }
   ],
   "source": [
    "yearXfuel = pd.crosstab(df['year'], df['fuelType']).reset_index()\n",
    "yearXfuel.head()"
   ]
  },
  {
   "cell_type": "code",
   "execution_count": 86,
   "metadata": {
    "ExecuteTime": {
     "end_time": "2021-08-31T02:30:09.939831Z",
     "start_time": "2021-08-31T02:30:09.933979Z"
    }
   },
   "outputs": [],
   "source": [
    "# plt.figure(figsize=(15,5))\n",
    "# plt.scatter(yearXfuel['year'], yearXfuel['Diesel'])\n",
    "# plt.plot(yearXfuel['year'], yearXfuel['Diesel'])\n",
    "\n",
    "# plt.scatter(yearXfuel['year'], yearXfuel['Petrol'])\n",
    "# plt.plot(yearXfuel['year'], yearXfuel['Petrol'])\n",
    "\n",
    "# plt.legend(labels=['Diesel', 'Petrol'])\n",
    "# plt.show()"
   ]
  },
  {
   "cell_type": "markdown",
   "metadata": {
    "ExecuteTime": {
     "end_time": "2021-08-30T08:38:49.893239Z",
     "start_time": "2021-08-30T08:38:49.884523Z"
    }
   },
   "source": [
    "### Tren Penjualan Mobil Tiap Tahunnya"
   ]
  },
  {
   "cell_type": "code",
   "execution_count": 87,
   "metadata": {
    "ExecuteTime": {
     "end_time": "2021-08-31T02:30:14.731291Z",
     "start_time": "2021-08-31T02:30:14.728761Z"
    }
   },
   "outputs": [],
   "source": [
    "# plt.figure(figsize=(15,5))\n",
    "# sns.countplot(data=df, x='year')\n",
    "# plt.show()"
   ]
  },
  {
   "cell_type": "markdown",
   "metadata": {
    "ExecuteTime": {
     "end_time": "2021-08-30T08:40:50.364895Z",
     "start_time": "2021-08-30T08:40:50.355041Z"
    }
   },
   "source": [
    "> terdapat tren peningkatan penjualan mobil tiap tahunnya"
   ]
  },
  {
   "cell_type": "markdown",
   "metadata": {},
   "source": [
    "### Brand & Price Trend by Year"
   ]
  },
  {
   "cell_type": "code",
   "execution_count": 88,
   "metadata": {
    "ExecuteTime": {
     "end_time": "2021-08-31T02:30:19.079349Z",
     "start_time": "2021-08-31T02:30:19.071567Z"
    }
   },
   "outputs": [],
   "source": [
    "# plt.figure(figsize=(15,10))\n",
    "# sns.lineplot(data=df, x=\"age\", y=\"price\", hue=\"brand\")\n",
    "# plt.show()"
   ]
  },
  {
   "cell_type": "markdown",
   "metadata": {
    "ExecuteTime": {
     "end_time": "2021-08-30T08:41:55.406442Z",
     "start_time": "2021-08-30T08:41:55.398052Z"
    }
   },
   "source": [
    "> - terlihat tren penurunan harga mobil ketika umur mobil semakin tua dihampir semua merk mobil\n",
    "> - berdasarkan graph diatas juga dapat kita lihat terdapat 4 brand yang memiliki rata-rata price lebih tinggi dibanding brand lainnya, yaitu audi, bmw, merc, cclass dikarenakan mereka termasuk brand mobil mewah\n",
    "> - terlihat tren peningkatan harga untuk mobil dengan brand vauxhall  yang berumur diatas 20 tahun\n",
    "> - terlihat anomali peningkatan harga yang signifikan untuk brand toyota berumur diatas 20 tahun"
   ]
  },
  {
   "cell_type": "code",
   "execution_count": 41,
   "metadata": {
    "ExecuteTime": {
     "end_time": "2021-08-31T02:25:50.793197Z",
     "start_time": "2021-08-31T02:25:50.739402Z"
    }
   },
   "outputs": [
    {
     "data": {
      "text/html": [
       "<div>\n",
       "<style scoped>\n",
       "    .dataframe tbody tr th:only-of-type {\n",
       "        vertical-align: middle;\n",
       "    }\n",
       "\n",
       "    .dataframe tbody tr th {\n",
       "        vertical-align: top;\n",
       "    }\n",
       "\n",
       "    .dataframe thead th {\n",
       "        text-align: right;\n",
       "    }\n",
       "</style>\n",
       "<table border=\"1\" class=\"dataframe\">\n",
       "  <thead>\n",
       "    <tr style=\"text-align: right;\">\n",
       "      <th></th>\n",
       "      <th>model</th>\n",
       "      <th>year</th>\n",
       "      <th>price</th>\n",
       "      <th>transmission</th>\n",
       "      <th>mileage</th>\n",
       "      <th>fuelType</th>\n",
       "      <th>tax</th>\n",
       "      <th>mpg</th>\n",
       "      <th>engineSize</th>\n",
       "      <th>brand</th>\n",
       "      <th>age</th>\n",
       "      <th>transm</th>\n",
       "    </tr>\n",
       "  </thead>\n",
       "  <tbody>\n",
       "    <tr>\n",
       "      <th>75463</th>\n",
       "      <td>Yaris</td>\n",
       "      <td>1999</td>\n",
       "      <td>1995</td>\n",
       "      <td>Automatic</td>\n",
       "      <td>89000</td>\n",
       "      <td>Petrol</td>\n",
       "      <td>160.0</td>\n",
       "      <td>42.9</td>\n",
       "      <td>1.3</td>\n",
       "      <td>toyota</td>\n",
       "      <td>21</td>\n",
       "      <td>2</td>\n",
       "    </tr>\n",
       "    <tr>\n",
       "      <th>75621</th>\n",
       "      <td>Yaris</td>\n",
       "      <td>2000</td>\n",
       "      <td>2695</td>\n",
       "      <td>Automatic</td>\n",
       "      <td>21000</td>\n",
       "      <td>Petrol</td>\n",
       "      <td>160.0</td>\n",
       "      <td>42.9</td>\n",
       "      <td>1.3</td>\n",
       "      <td>toyota</td>\n",
       "      <td>20</td>\n",
       "      <td>2</td>\n",
       "    </tr>\n",
       "    <tr>\n",
       "      <th>79707</th>\n",
       "      <td>Land Cruiser</td>\n",
       "      <td>1998</td>\n",
       "      <td>19990</td>\n",
       "      <td>Manual</td>\n",
       "      <td>100000</td>\n",
       "      <td>Diesel</td>\n",
       "      <td>265.0</td>\n",
       "      <td>23.9</td>\n",
       "      <td>4.2</td>\n",
       "      <td>toyota</td>\n",
       "      <td>22</td>\n",
       "      <td>1</td>\n",
       "    </tr>\n",
       "  </tbody>\n",
       "</table>\n",
       "</div>"
      ],
      "text/plain": [
       "               model  year  price transmission  mileage fuelType    tax   mpg  \\\n",
       "75463          Yaris  1999   1995    Automatic    89000   Petrol  160.0  42.9   \n",
       "75621          Yaris  2000   2695    Automatic    21000   Petrol  160.0  42.9   \n",
       "79707   Land Cruiser  1998  19990       Manual   100000   Diesel  265.0  23.9   \n",
       "\n",
       "       engineSize   brand  age  transm  \n",
       "75463         1.3  toyota   21       2  \n",
       "75621         1.3  toyota   20       2  \n",
       "79707         4.2  toyota   22       1  "
      ]
     },
     "execution_count": 41,
     "metadata": {},
     "output_type": "execute_result"
    }
   ],
   "source": [
    "# anomali data dibrand toyota\n",
    "df[(df['brand'] == 'toyota') & (df['age'] >= 20)]"
   ]
  },
  {
   "cell_type": "markdown",
   "metadata": {
    "ExecuteTime": {
     "end_time": "2021-08-30T08:43:23.480217Z",
     "start_time": "2021-08-30T08:43:23.471928Z"
    }
   },
   "source": [
    "> dari tabel diatas, dapat kita ketahui anomali pada tren harga toyota dikarenakan oleh 1 data yaitu \"Land Cruiser\" tahun 1998 yang memiliki harga £19990 "
   ]
  },
  {
   "cell_type": "code",
   "execution_count": 42,
   "metadata": {
    "ExecuteTime": {
     "end_time": "2021-08-31T02:25:50.898205Z",
     "start_time": "2021-08-31T02:25:50.796577Z"
    }
   },
   "outputs": [
    {
     "data": {
      "text/html": [
       "<div>\n",
       "<style scoped>\n",
       "    .dataframe tbody tr th:only-of-type {\n",
       "        vertical-align: middle;\n",
       "    }\n",
       "\n",
       "    .dataframe tbody tr th {\n",
       "        vertical-align: top;\n",
       "    }\n",
       "\n",
       "    .dataframe thead th {\n",
       "        text-align: right;\n",
       "    }\n",
       "</style>\n",
       "<table border=\"1\" class=\"dataframe\">\n",
       "  <thead>\n",
       "    <tr style=\"text-align: right;\">\n",
       "      <th></th>\n",
       "      <th>model</th>\n",
       "      <th>year</th>\n",
       "      <th>price</th>\n",
       "      <th>transmission</th>\n",
       "      <th>mileage</th>\n",
       "      <th>fuelType</th>\n",
       "      <th>tax</th>\n",
       "      <th>mpg</th>\n",
       "      <th>engineSize</th>\n",
       "      <th>brand</th>\n",
       "      <th>age</th>\n",
       "      <th>transm</th>\n",
       "    </tr>\n",
       "  </thead>\n",
       "  <tbody>\n",
       "    <tr>\n",
       "      <th>85608</th>\n",
       "      <td>Astra</td>\n",
       "      <td>1997</td>\n",
       "      <td>950</td>\n",
       "      <td>Manual</td>\n",
       "      <td>89233</td>\n",
       "      <td>Petrol</td>\n",
       "      <td>265.0</td>\n",
       "      <td>35.8</td>\n",
       "      <td>1.6</td>\n",
       "      <td>vauxhall</td>\n",
       "      <td>23</td>\n",
       "      <td>1</td>\n",
       "    </tr>\n",
       "    <tr>\n",
       "      <th>90588</th>\n",
       "      <td>Zafira</td>\n",
       "      <td>1970</td>\n",
       "      <td>10495</td>\n",
       "      <td>Manual</td>\n",
       "      <td>37357</td>\n",
       "      <td>Petrol</td>\n",
       "      <td>200.0</td>\n",
       "      <td>42.2</td>\n",
       "      <td>1.4</td>\n",
       "      <td>vauxhall</td>\n",
       "      <td>50</td>\n",
       "      <td>1</td>\n",
       "    </tr>\n",
       "  </tbody>\n",
       "</table>\n",
       "</div>"
      ],
      "text/plain": [
       "         model  year  price transmission  mileage fuelType    tax   mpg  \\\n",
       "85608    Astra  1997    950       Manual    89233   Petrol  265.0  35.8   \n",
       "90588   Zafira  1970  10495       Manual    37357   Petrol  200.0  42.2   \n",
       "\n",
       "       engineSize     brand  age  transm  \n",
       "85608         1.6  vauxhall   23       1  \n",
       "90588         1.4  vauxhall   50       1  "
      ]
     },
     "execution_count": 42,
     "metadata": {},
     "output_type": "execute_result"
    }
   ],
   "source": [
    "df[(df['brand'] == 'vauxhall') & (df['age'] >= 20)]"
   ]
  },
  {
   "cell_type": "markdown",
   "metadata": {},
   "source": [
    "> dari tabel diatas, dapat kita ketahui tren peningkatan harga dibrand vauxhall dikarenakan oleh 1 data yaitu mobil model \"Zahira\" keluaran tahun 1970 yang memiliki harga £10495"
   ]
  },
  {
   "cell_type": "markdown",
   "metadata": {},
   "source": [
    "## Summary Statistic\n",
    "(terhadap variabel-variabel yg berpotensi memengaruhi Nilai _price_)"
   ]
  },
  {
   "cell_type": "markdown",
   "metadata": {},
   "source": [
    "### Cek Normalisasi Data"
   ]
  },
  {
   "cell_type": "code",
   "execution_count": 100,
   "metadata": {
    "ExecuteTime": {
     "end_time": "2021-08-31T02:33:24.307449Z",
     "start_time": "2021-08-31T02:33:24.299130Z"
    }
   },
   "outputs": [
    {
     "data": {
      "text/plain": [
       "['price', 'mileage', 'tax', 'mpg', 'engineSize', 'age']"
      ]
     },
     "execution_count": 100,
     "metadata": {},
     "output_type": "execute_result"
    }
   ],
   "source": [
    "num_features=list(df.dtypes[df.dtypes!=object].index)\n",
    "num_features.remove('year')\n",
    "num_features"
   ]
  },
  {
   "cell_type": "code",
   "execution_count": 101,
   "metadata": {
    "ExecuteTime": {
     "end_time": "2021-08-31T02:33:27.981067Z",
     "start_time": "2021-08-31T02:33:27.967777Z"
    }
   },
   "outputs": [],
   "source": [
    "factors = df[num_features]"
   ]
  },
  {
   "cell_type": "code",
   "execution_count": 102,
   "metadata": {
    "ExecuteTime": {
     "end_time": "2021-08-31T02:33:31.729586Z",
     "start_time": "2021-08-31T02:33:31.683810Z"
    }
   },
   "outputs": [
    {
     "name": "stdout",
     "output_type": "stream",
     "text": [
      "Nilai p-Value = 0.0\n",
      "Fitur price distribusi tidak normal\n",
      "\n",
      "Nilai p-Value = 0.0\n",
      "Fitur mileage distribusi tidak normal\n",
      "\n",
      "Nilai p-Value = 0.0\n",
      "Fitur tax distribusi tidak normal\n",
      "\n",
      "Nilai p-Value = 1.9478672435541904e-27\n",
      "Fitur mpg distribusi tidak normal\n",
      "\n",
      "Nilai p-Value = 0.0\n",
      "Fitur engineSize distribusi tidak normal\n",
      "\n",
      "Nilai p-Value = 0.0\n",
      "Fitur age distribusi tidak normal\n",
      "\n"
     ]
    }
   ],
   "source": [
    "for i in factors:\n",
    "    stats,pval=normaltest(factors[i])\n",
    "    print('Nilai p-Value =',pval)\n",
    "    if pval <= 0.05:\n",
    "        print(f'Fitur {i} distribusi tidak normal\\n')\n",
    "    else:\n",
    "        print(f'Fitur {i} distribusi normal\\n')"
   ]
  },
  {
   "cell_type": "markdown",
   "metadata": {},
   "source": [
    "### Cek Korelasi Data"
   ]
  },
  {
   "cell_type": "code",
   "execution_count": 103,
   "metadata": {
    "ExecuteTime": {
     "end_time": "2021-08-31T02:33:38.566086Z",
     "start_time": "2021-08-31T02:33:38.553985Z"
    }
   },
   "outputs": [
    {
     "data": {
      "text/plain": [
       "['price', 'mileage', 'tax', 'mpg', 'engineSize', 'age']"
      ]
     },
     "execution_count": 103,
     "metadata": {},
     "output_type": "execute_result"
    }
   ],
   "source": [
    "num_features=list(df.dtypes[df.dtypes!=object].index)\n",
    "num_features.remove('year')\n",
    "num_features"
   ]
  },
  {
   "cell_type": "code",
   "execution_count": 104,
   "metadata": {
    "ExecuteTime": {
     "end_time": "2021-08-31T02:33:41.451684Z",
     "start_time": "2021-08-31T02:33:41.284647Z"
    },
    "scrolled": true
   },
   "outputs": [
    {
     "data": {
      "text/html": [
       "<div>\n",
       "<style scoped>\n",
       "    .dataframe tbody tr th:only-of-type {\n",
       "        vertical-align: middle;\n",
       "    }\n",
       "\n",
       "    .dataframe tbody tr th {\n",
       "        vertical-align: top;\n",
       "    }\n",
       "\n",
       "    .dataframe thead th {\n",
       "        text-align: right;\n",
       "    }\n",
       "</style>\n",
       "<table border=\"1\" class=\"dataframe\">\n",
       "  <thead>\n",
       "    <tr style=\"text-align: right;\">\n",
       "      <th></th>\n",
       "      <th>price</th>\n",
       "      <th>mileage</th>\n",
       "      <th>tax</th>\n",
       "      <th>mpg</th>\n",
       "      <th>engineSize</th>\n",
       "      <th>age</th>\n",
       "    </tr>\n",
       "  </thead>\n",
       "  <tbody>\n",
       "    <tr>\n",
       "      <th>price</th>\n",
       "      <td>1.000000</td>\n",
       "      <td>-0.526539</td>\n",
       "      <td>0.316000</td>\n",
       "      <td>-0.419202</td>\n",
       "      <td>0.574906</td>\n",
       "      <td>-0.608507</td>\n",
       "    </tr>\n",
       "    <tr>\n",
       "      <th>mileage</th>\n",
       "      <td>-0.526539</td>\n",
       "      <td>1.000000</td>\n",
       "      <td>-0.266530</td>\n",
       "      <td>0.337679</td>\n",
       "      <td>0.102839</td>\n",
       "      <td>0.815230</td>\n",
       "    </tr>\n",
       "    <tr>\n",
       "      <th>tax</th>\n",
       "      <td>0.316000</td>\n",
       "      <td>-0.266530</td>\n",
       "      <td>1.000000</td>\n",
       "      <td>-0.548082</td>\n",
       "      <td>0.153360</td>\n",
       "      <td>-0.327277</td>\n",
       "    </tr>\n",
       "    <tr>\n",
       "      <th>mpg</th>\n",
       "      <td>-0.419202</td>\n",
       "      <td>0.337679</td>\n",
       "      <td>-0.548082</td>\n",
       "      <td>1.000000</td>\n",
       "      <td>-0.227803</td>\n",
       "      <td>0.321426</td>\n",
       "    </tr>\n",
       "    <tr>\n",
       "      <th>engineSize</th>\n",
       "      <td>0.574906</td>\n",
       "      <td>0.102839</td>\n",
       "      <td>0.153360</td>\n",
       "      <td>-0.227803</td>\n",
       "      <td>1.000000</td>\n",
       "      <td>0.041449</td>\n",
       "    </tr>\n",
       "    <tr>\n",
       "      <th>age</th>\n",
       "      <td>-0.608507</td>\n",
       "      <td>0.815230</td>\n",
       "      <td>-0.327277</td>\n",
       "      <td>0.321426</td>\n",
       "      <td>0.041449</td>\n",
       "      <td>1.000000</td>\n",
       "    </tr>\n",
       "  </tbody>\n",
       "</table>\n",
       "</div>"
      ],
      "text/plain": [
       "               price   mileage       tax       mpg  engineSize       age\n",
       "price       1.000000 -0.526539  0.316000 -0.419202    0.574906 -0.608507\n",
       "mileage    -0.526539  1.000000 -0.266530  0.337679    0.102839  0.815230\n",
       "tax         0.316000 -0.266530  1.000000 -0.548082    0.153360 -0.327277\n",
       "mpg        -0.419202  0.337679 -0.548082  1.000000   -0.227803  0.321426\n",
       "engineSize  0.574906  0.102839  0.153360 -0.227803    1.000000  0.041449\n",
       "age        -0.608507  0.815230 -0.327277  0.321426    0.041449  1.000000"
      ]
     },
     "execution_count": 104,
     "metadata": {},
     "output_type": "execute_result"
    }
   ],
   "source": [
    "corr_matrix=df[num_features].corr(method='spearman')\n",
    "corr_matrix"
   ]
  },
  {
   "cell_type": "markdown",
   "metadata": {},
   "source": [
    "* 0-0.3 = weak correlation\n",
    "* 0.3-0.7 = moderate correlation\n",
    "* 0.7-1 = strong correlation\n",
    "\n",
    "* Positive (+) = one variable increases as the other increases the correlation\n",
    "* Negative (-) = when one decreases as the other increases it\n",
    "* Complete absence of correlation is represented by 0\n",
    "\n",
    "Ref: materi Association"
   ]
  },
  {
   "cell_type": "code",
   "execution_count": 89,
   "metadata": {
    "ExecuteTime": {
     "end_time": "2021-08-31T02:30:40.704659Z",
     "start_time": "2021-08-31T02:30:40.701360Z"
    },
    "scrolled": true
   },
   "outputs": [],
   "source": [
    "# # plt.figure(figsize=(12,8))\n",
    "\n",
    "# sns.set_theme(style=\"white\")\n",
    "\n",
    "# mask=np.triu(np.ones_like(corr_matrix, dtype=bool))\n",
    "# cmap=sns.color_palette(\"ch:s=-.2,r=.6\", as_cmap=True)\n",
    "\n",
    "# sns.heatmap(corr_matrix,\n",
    "#             mask=mask,\n",
    "#             cmap=cmap,\n",
    "#             vmax=1,\n",
    "#             vmin=-1,\n",
    "#             linewidths=.2\n",
    "#            )\n",
    "\n",
    "# plt.yticks(rotation=0)\n",
    "# plt.xticks(rotation=60)\n",
    "# plt.show()"
   ]
  },
  {
   "cell_type": "markdown",
   "metadata": {
    "ExecuteTime": {
     "end_time": "2021-08-26T09:03:50.709798Z",
     "start_time": "2021-08-26T09:03:50.706575Z"
    }
   },
   "source": [
    "### Cek Distribusi Data"
   ]
  },
  {
   "cell_type": "code",
   "execution_count": 105,
   "metadata": {
    "ExecuteTime": {
     "end_time": "2021-08-31T02:33:49.974749Z",
     "start_time": "2021-08-31T02:33:49.967427Z"
    }
   },
   "outputs": [],
   "source": [
    "kolom=df.columns"
   ]
  },
  {
   "cell_type": "code",
   "execution_count": 108,
   "metadata": {
    "ExecuteTime": {
     "end_time": "2021-08-31T02:34:55.564128Z",
     "start_time": "2021-08-31T02:34:28.093734Z"
    },
    "scrolled": false
   },
   "outputs": [
    {
     "data": {
      "image/png": "[encoded data removed]",
      "text/plain": [
       "<Figure size 1080x720 with 12 Axes>"
      ]
     },
     "metadata": {},
     "output_type": "display_data"
    }
   ],
   "source": [
    "# figure, axis = plt.subplots(3,4,figsize=(15,10))\n",
    "\n",
    "# k=0\n",
    "\n",
    "# for i in range(0,3):\n",
    "#     for j in range (0,4):\n",
    "#         if(k == 11):\n",
    "#             break;\n",
    "#         axis[i,j].set_title(kolom[k], size=15)\n",
    "#         sns.histplot(ax=axis[i,j], data = df, x=kolom[k], kde=True)\n",
    "#         k+=1\n",
    "\n",
    "# # auto padding subplot\n",
    "# plt.tight_layout()\n",
    "# plt.show()"
   ]
  },
  {
   "cell_type": "markdown",
   "metadata": {
    "ExecuteTime": {
     "end_time": "2021-08-30T02:41:10.270272Z",
     "start_time": "2021-08-30T02:41:10.257271Z"
    }
   },
   "source": [
    "* berdasarkan histplot, sebaran data feature cenderung *right-skew*\n",
    "* dapat disimpulkan secara umum persebaran data memiliki distribusi tidak normal."
   ]
  },
  {
   "cell_type": "code",
   "execution_count": 111,
   "metadata": {
    "ExecuteTime": {
     "end_time": "2021-08-31T02:36:06.574781Z",
     "start_time": "2021-08-31T02:36:06.570905Z"
    },
    "scrolled": false
   },
   "outputs": [],
   "source": [
    "# figure, axis = plt.subplots(2,3,figsize=(15,10))\n",
    "\n",
    "# k=0\n",
    "\n",
    "# for i in range(0,2):\n",
    "#     for j in range (0,3):\n",
    "#         axis[i,j].set_title(num_features[k], size=15)\n",
    "#         sns.boxplot(ax=axis[i,j], data = df, x=num_features[k])\n",
    "#         k+=1\n",
    "\n",
    "# # auto padding subplot\n",
    "# plt.tight_layout()\n",
    "# plt.show()"
   ]
  },
  {
   "cell_type": "markdown",
   "metadata": {},
   "source": [
    "* berdasarkan boxplot, sebaran data feature memiliki banyak outlier di sebelah kanan.\n",
    "* dapat disimpulkan persebaran data memiliki distribusi tidak normal."
   ]
  },
  {
   "cell_type": "markdown",
   "metadata": {},
   "source": [
    "### Uji Analisa"
   ]
  },
  {
   "cell_type": "markdown",
   "metadata": {},
   "source": [
    "#### Uji 1 : _price_ vs _mileage_"
   ]
  },
  {
   "cell_type": "markdown",
   "metadata": {},
   "source": [
    "**Korelasi :**"
   ]
  },
  {
   "cell_type": "code",
   "execution_count": 53,
   "metadata": {
    "ExecuteTime": {
     "end_time": "2021-08-31T02:26:25.704386Z",
     "start_time": "2021-08-31T02:26:25.617744Z"
    }
   },
   "outputs": [
    {
     "data": {
      "text/plain": [
       "-0.526539"
      ]
     },
     "execution_count": 53,
     "metadata": {},
     "output_type": "execute_result"
    }
   ],
   "source": [
    "round(df['price'].corr(df['mileage'],method='spearman'),6)"
   ]
  },
  {
   "cell_type": "markdown",
   "metadata": {},
   "source": [
    "**Analisa Korelasi :**\n",
    "\n",
    "* Fitur _price_ memiliki korelasi **moderate** serta **berbanding terbalik** dengan fitur _mileage_, dimana nilai korelasinya adalah 0.526539 dengan arah negatif.\n",
    "* Berdasarkan hal ini dapat dikatakan bahwa **semakin tinggi nilai _mileage_** dari mobil akan menyebabkan **nilai _price_ semakin rendah**."
   ]
  },
  {
   "cell_type": "markdown",
   "metadata": {},
   "source": [
    "**Visualisasi :**"
   ]
  },
  {
   "cell_type": "code",
   "execution_count": 92,
   "metadata": {
    "ExecuteTime": {
     "end_time": "2021-08-31T02:30:57.367869Z",
     "start_time": "2021-08-31T02:30:57.354114Z"
    }
   },
   "outputs": [],
   "source": [
    "# plt.figure(figsize=(15,10))\n",
    "# plt.subplot(2,1,1)\n",
    "# sns.scatterplot(data=df, x='mileage', y='price', hue='fuelType')\n",
    "# plt.title('price vs mileage', size=15)\n",
    "# plt.show()\n",
    "\n",
    "# plt.figure(figsize=(15,10))\n",
    "# plt.subplot(2,1,2)\n",
    "# sns.scatterplot(data=df, x='mileage', y='price', hue='brand')\n",
    "# plt.title('price vs mileage', size=15)\n",
    "# plt.show()"
   ]
  },
  {
   "cell_type": "markdown",
   "metadata": {},
   "source": [
    "**Kesimpulan Uji 1 :**\n",
    "\n",
    "1. Total jarak yg telah ditempuh memiliki pengaruh terhadap penentuan harga jual mobil, dimana semakin tinggi total jarak tempuh yg telah dilakukan mobil maka nilai jual mobil akan semakin rendah.\n",
    "2. Pada data ini, secara umum digambarkan bahwa:\n",
    "    * mobil yg memiliki harga jual tinggi adalah mobil dengan nilai jarak tempuh yg rendah dengan tipe bahan bakar bakar Petrol.\n",
    "    * mobil yg memiliki harga jual rendah adalah mobil dengan jarak tempuh yg tinggi dengan tipe bahan bakar Diesel."
   ]
  },
  {
   "cell_type": "markdown",
   "metadata": {},
   "source": [
    "#### Uji 2 : _price_ vs _tax_"
   ]
  },
  {
   "cell_type": "markdown",
   "metadata": {},
   "source": [
    "**Korelasi :**"
   ]
  },
  {
   "cell_type": "code",
   "execution_count": 55,
   "metadata": {
    "ExecuteTime": {
     "end_time": "2021-08-31T02:26:36.534234Z",
     "start_time": "2021-08-31T02:26:36.488319Z"
    }
   },
   "outputs": [
    {
     "data": {
      "text/plain": [
       "0.316"
      ]
     },
     "execution_count": 55,
     "metadata": {},
     "output_type": "execute_result"
    }
   ],
   "source": [
    "round(df['price'].corr(df['tax'],method='spearman'),6)"
   ]
  },
  {
   "cell_type": "markdown",
   "metadata": {},
   "source": [
    "**Analisa Korelasi :**\n",
    "\n",
    "* Fitur _price_ memiliki korelasi **moderate** serta **berbanding Lurus** dengan fitur _tax_, dimana nilai korelasinya adalah 0.316 dengan arah positif.\n",
    "* Berdasarkan hal ini dapat dikatakan bahwa **semakin tinggi nilai _tax_** dari mobil akan menyebabkan **nilai _price_ semakin tinggi**."
   ]
  },
  {
   "cell_type": "markdown",
   "metadata": {},
   "source": [
    "**Visualisasi :**"
   ]
  },
  {
   "cell_type": "code",
   "execution_count": 112,
   "metadata": {
    "ExecuteTime": {
     "end_time": "2021-08-31T02:36:26.678924Z",
     "start_time": "2021-08-31T02:36:26.673463Z"
    }
   },
   "outputs": [],
   "source": [
    "# plt.figure(figsize=(15,10))\n",
    "# plt.subplot(2,1,1)\n",
    "# sns.scatterplot(data=df, x='tax', y='price', hue='fuelType')\n",
    "# plt.title('price vs tax', size=15)\n",
    "# plt.show()\n",
    "\n",
    "# plt.figure(figsize=(15,10))\n",
    "# plt.subplot(2,1,2)\n",
    "# sns.scatterplot(data=df, x='tax', y='price', hue='brand')\n",
    "# plt.title('price vs tax', size=15)\n",
    "# plt.show()"
   ]
  },
  {
   "cell_type": "markdown",
   "metadata": {},
   "source": [
    "**Kesimpulan Uji 2 :**\n",
    "\n",
    "1. Nilai pajak mobil memiliki pengaruh kecil terhadap penentuan harga jual mobil.\n",
    "2. Pada data ini, secara umum digambarkan bahwa:\n",
    "    * Mobil dengan jenis bahan bakar _Diesel_ secara umum memiliki rata-rata range nilai _tax_ serta nilai _price_ yg relatif lebih rendah dibandingkan mobil dengan jenis bahan bakar petrol. \n",
    "    * Mobil brand mewah  memiliki harga yang tinggi tapi pajak relatif rendah, hal ini kemungkinan dipengaruhi oleh nama brand tersebut yang mampu memberikan nilai jual lebih tinggi dibanding brand lainnya"
   ]
  },
  {
   "cell_type": "markdown",
   "metadata": {},
   "source": [
    "#### Uji 3 : _price_ vs _mpg_"
   ]
  },
  {
   "cell_type": "markdown",
   "metadata": {},
   "source": [
    "**Korelasi :**"
   ]
  },
  {
   "cell_type": "code",
   "execution_count": 57,
   "metadata": {
    "ExecuteTime": {
     "end_time": "2021-08-31T02:26:50.682141Z",
     "start_time": "2021-08-31T02:26:50.641066Z"
    }
   },
   "outputs": [
    {
     "data": {
      "text/plain": [
       "-0.419202"
      ]
     },
     "execution_count": 57,
     "metadata": {},
     "output_type": "execute_result"
    }
   ],
   "source": [
    "round(df['price'].corr(df['mpg'],method='spearman'),6)"
   ]
  },
  {
   "cell_type": "markdown",
   "metadata": {},
   "source": [
    "**Analisa Korelasi :**\n",
    "\n",
    "* Fitur _price_ memiliki korelasi **moderate** serta **berbanding terbalik** dengan fitur _mpg_, dimana nilai korelasinya adalah 0.419202 dengan arah negatif.\n",
    "* Berdasarkan hal ini dapat dikatakan bahwa **semakin tinggi nilai _mpg_** dari mobil akan menyebabkan **nilai _price_ semakin rendah**."
   ]
  },
  {
   "cell_type": "markdown",
   "metadata": {},
   "source": [
    "**Visualisasi :**"
   ]
  },
  {
   "cell_type": "code",
   "execution_count": 113,
   "metadata": {
    "ExecuteTime": {
     "end_time": "2021-08-31T02:36:32.373642Z",
     "start_time": "2021-08-31T02:36:32.370526Z"
    }
   },
   "outputs": [],
   "source": [
    "# plt.figure(figsize=(15,10))\n",
    "# plt.subplot(2,1,1)\n",
    "# sns.scatterplot(data=df, x='mpg', y='price', hue='fuelType')\n",
    "# plt.title('price vs mileage', size=15)\n",
    "# plt.show()\n",
    "\n",
    "# plt.figure(figsize=(15,12))\n",
    "# plt.subplot(2,1,2)\n",
    "# sns.scatterplot(data=df, x='mpg', y='price', hue='brand')\n",
    "# plt.title('price vs mpg', size=15)\n",
    "# plt.show()"
   ]
  },
  {
   "cell_type": "markdown",
   "metadata": {},
   "source": [
    "**Kesimpulan Uji 3 :**\n",
    "\n",
    "1. Total jarak tempuh mobil berdasarkan total konsumsi bahan bakar yg digunakan memiliki pengaruh kecil terhadap penentuan harga jual mobil.\n",
    "2. Pada data ini, secara umum digambarkan bahwa:\n",
    "    * mobil dengan tipe bahan bakar bakar Petrol memiliki sebaran nilai mpg yg relatif rendah tetapi memiliki range harga jual yg paling variatif; hal ini dapat disebabkan karena mobil dengan brand mewah memiliki price yang relatif tinggi\n",
    "    * mobil dengan tipe bahan bakar bakar Diesel memiliki sebaran nilai mpg dan price menengah keatas.\n"
   ]
  },
  {
   "cell_type": "markdown",
   "metadata": {},
   "source": [
    "#### Uji 4 : _price_ vs _engineSize_"
   ]
  },
  {
   "cell_type": "markdown",
   "metadata": {},
   "source": [
    "**Korelasi :**"
   ]
  },
  {
   "cell_type": "code",
   "execution_count": 59,
   "metadata": {
    "ExecuteTime": {
     "end_time": "2021-08-31T02:26:58.916219Z",
     "start_time": "2021-08-31T02:26:58.874976Z"
    }
   },
   "outputs": [
    {
     "data": {
      "text/plain": [
       "0.574906"
      ]
     },
     "execution_count": 59,
     "metadata": {},
     "output_type": "execute_result"
    }
   ],
   "source": [
    "round(df['price'].corr(df['engineSize'],method='spearman'),6)"
   ]
  },
  {
   "cell_type": "markdown",
   "metadata": {},
   "source": [
    "**Analisa Korelasi :**\n",
    "\n",
    "* Fitur _price_ memiliki korelasi **moderate** serta **berbanding Lurus** dengan fitur _engineSize_, dimana nilai korelasinya adalah 0.574906 dengan arah positif.\n",
    "* Berdasarkan hal ini dapat dikatakan bahwa **semakin tinggi nilai _engineSize_** dari mobil akan menyebabkan **nilai _price_ semakin tinggi**."
   ]
  },
  {
   "cell_type": "markdown",
   "metadata": {},
   "source": [
    "**Visualisasi :**"
   ]
  },
  {
   "cell_type": "code",
   "execution_count": 114,
   "metadata": {
    "ExecuteTime": {
     "end_time": "2021-08-31T02:36:39.569899Z",
     "start_time": "2021-08-31T02:36:39.566032Z"
    },
    "scrolled": false
   },
   "outputs": [],
   "source": [
    "# plt.figure(figsize=(15,15))\n",
    "# plt.subplot(3,1,1)\n",
    "# graph=sns.barplot(data=df, x='engineSize', y='price', ci=None)\n",
    "# plt.title('Perbandingan nilai Rata-Rata price berdasarkan engineSize')\n",
    "# plt.xticks(rotation=45)\n",
    "# plt.show()\n",
    "\n",
    "# plt.figure(figsize=(15,10))\n",
    "# plt.subplot(3,1,2)\n",
    "# sns.scatterplot(data=df, x='engineSize', y='price', hue='fuelType')\n",
    "# plt.title('price vs engineSize') \n",
    "# plt.show()\n",
    "\n",
    "# plt.figure(figsize=(15,15))\n",
    "# plt.subplot(3,1,3)\n",
    "# sns.scatterplot(data=df, x='engineSize', y='price', hue='brand')\n",
    "# plt.title('price vs engineSize') \n",
    "# plt.show()"
   ]
  },
  {
   "cell_type": "markdown",
   "metadata": {
    "ExecuteTime": {
     "end_time": "2021-08-29T08:44:53.033709Z",
     "start_time": "2021-08-29T08:44:53.021711Z"
    }
   },
   "source": [
    "**Kesimpulan Uji 4 :**\n",
    "\n",
    "1. Volume total silinder mesin pengaruh terhadap penentuan harga jual mobil, dimana semakin besar nilai volume total silinder mesin maka nilai jual mobil akan semakin tinggi.\n",
    "2. Pada data ini, secara umum digambarkan bahwa:\n",
    "    * mobil dengan tipe bahan bakar bakar Petrol memiliki sebaran nilai _engineSize_ dan harga jual yg paling variatif; hal ini dapat disebabkan karena mobil dengan brand mewah memiliki price yang relatif tinggi.\n",
    "    * mobil dengan tipe bahan bakar bakar Diesel memiliki sebaran nilai _engineSize_ yg relatif menengah tetapi memiliki range harga jual yg relatif rendah hingga tidak terlalu tinggi."
   ]
  },
  {
   "cell_type": "markdown",
   "metadata": {},
   "source": [
    "#### Uji 5 : _price_ vs _age_"
   ]
  },
  {
   "cell_type": "markdown",
   "metadata": {
    "ExecuteTime": {
     "end_time": "2021-08-29T07:45:06.919226Z",
     "start_time": "2021-08-29T07:45:06.896074Z"
    }
   },
   "source": [
    "Hipotesis:\n",
    "\n",
    "Ho: rata-rata harga mobil di tiap umur bernilai sama\n",
    "\n",
    "Ha: rata-rata harga mobil di tiap umur setidaknya ada 1 yang berbeda tapi kita tidak tahu yg mana"
   ]
  },
  {
   "cell_type": "code",
   "execution_count": 61,
   "metadata": {
    "ExecuteTime": {
     "end_time": "2021-08-31T02:27:15.777527Z",
     "start_time": "2021-08-31T02:27:15.768023Z"
    }
   },
   "outputs": [],
   "source": [
    "ages=list(df['age'].unique())"
   ]
  },
  {
   "cell_type": "code",
   "execution_count": 62,
   "metadata": {
    "ExecuteTime": {
     "end_time": "2021-08-31T02:27:16.045120Z",
     "start_time": "2021-08-31T02:27:15.780419Z"
    },
    "scrolled": true
   },
   "outputs": [
    {
     "name": "stdout",
     "output_type": "stream",
     "text": [
      "Nilai statistic: 40926.859200730425\n",
      "Nilai p-value: 0.0\n",
      "Tolak Ho, dapat dikatakan rata-rata harga mobil di tiap umur setidaknya ada 1 yang berbeda tapi kita tidak tahu yg mana.\n"
     ]
    }
   ],
   "source": [
    "stats,pval = kruskal(*[df[df['age'] == i]['price'] for i in ages])\n",
    "\n",
    "print('Nilai statistic:',stats)\n",
    "print('Nilai p-value:',pval)\n",
    "\n",
    "#conclusion\n",
    "if pval <= 0.05:\n",
    "    print('Tolak Ho, dapat dikatakan rata-rata harga mobil di tiap umur setidaknya ada 1 yang berbeda tapi kita tidak tahu yg mana.')\n",
    "else:\n",
    "    print('Terima Ho, dapat dikatakan rata-rata harga mobil di tiap umur bernilai sama.')"
   ]
  },
  {
   "cell_type": "markdown",
   "metadata": {},
   "source": [
    "**Korelasi :**"
   ]
  },
  {
   "cell_type": "code",
   "execution_count": 63,
   "metadata": {
    "ExecuteTime": {
     "end_time": "2021-08-31T02:27:16.156363Z",
     "start_time": "2021-08-31T02:27:16.048562Z"
    },
    "scrolled": true
   },
   "outputs": [
    {
     "data": {
      "text/plain": [
       "-0.608507"
      ]
     },
     "execution_count": 63,
     "metadata": {},
     "output_type": "execute_result"
    }
   ],
   "source": [
    "round(df['price'].corr(df['age'],method='spearman'),6)"
   ]
  },
  {
   "cell_type": "markdown",
   "metadata": {},
   "source": [
    "**Analisa Korelasi :**\n",
    "\n",
    "* Fitur _price_ memiliki korelasi **moderate** serta **berbanding Terbalik** dengan fitur _age_, dimana nilai korelasinya adalah 0.608507 dengan arah negatif.\n",
    "* Berdasarkan hal ini dapat dikatakan bahwa **semakin tinggi nilai _age_** dari mobil akan menyebabkan **nilai _price_ semakin rendah**."
   ]
  },
  {
   "cell_type": "markdown",
   "metadata": {},
   "source": [
    "**Visualisasi :**"
   ]
  },
  {
   "cell_type": "code",
   "execution_count": 115,
   "metadata": {
    "ExecuteTime": {
     "end_time": "2021-08-31T02:36:46.373962Z",
     "start_time": "2021-08-31T02:36:46.370760Z"
    },
    "scrolled": false
   },
   "outputs": [],
   "source": [
    "# plt.figure(figsize=(15,15))\n",
    "# plt.subplot(2,1,1)\n",
    "# sns.barplot(data=df, x='age', y='price', ci=None)\n",
    "# plt.title('price vs age')\n",
    "# plt.show()\n",
    "\n",
    "# plt.figure(figsize=(15,15))\n",
    "# plt.subplot(2,1,2)\n",
    "# sns.barplot(data=df, x='year', y='price', ci=None)\n",
    "# plt.title('price vs year')\n",
    "# plt.show()"
   ]
  },
  {
   "cell_type": "markdown",
   "metadata": {},
   "source": [
    "**Kesimpulan Uji 5 :**\n",
    "\n",
    "1. Umur mobil memiliki pengaruh besar terhadap penentuan harga jual mobil, dimana semakin muda umur mobil maka semakin mahal harga mobilnya.\n",
    "2. Pada data ini, secara umum digambarkan bahwa:\n",
    "    * mobil dengan umur 0 tahun  memiliki rata-rata harga jual yg lebih tinggi dibanding mobil yg lebih tua.\n",
    "    * mobil dengan umur 50 tahun (tahun registrasi 1970) memiliki harga jual yg relatif cukup tinggi jika dibandingkan dengan mobil berumur lainnya, hal ini kemungkinan dikarenakan mobil tersebut merupakan mobil antik / mobil klasik sehingga memiliki nilai historis sebagai variabel perhitungan lain."
   ]
  },
  {
   "cell_type": "markdown",
   "metadata": {},
   "source": [
    "#### Uji 6 : _price_ vs _transmission_ "
   ]
  },
  {
   "cell_type": "markdown",
   "metadata": {},
   "source": [
    "Hipotesis:\n",
    "\n",
    "Ho: rata-rata harga mobil tiap tipe transmisi saling bernilai sama \n",
    "\n",
    "Ha: rata-rata harga mobil tiap tipe transmisi setidaknya ada 1 yang berbeda tapi kita tidak tahu yg mana"
   ]
  },
  {
   "cell_type": "code",
   "execution_count": 65,
   "metadata": {
    "ExecuteTime": {
     "end_time": "2021-08-31T02:27:17.478191Z",
     "start_time": "2021-08-31T02:27:17.461449Z"
    }
   },
   "outputs": [],
   "source": [
    "transm=list(df['transmission'].unique())"
   ]
  },
  {
   "cell_type": "code",
   "execution_count": 66,
   "metadata": {
    "ExecuteTime": {
     "end_time": "2021-08-31T02:27:17.614651Z",
     "start_time": "2021-08-31T02:27:17.480399Z"
    },
    "scrolled": true
   },
   "outputs": [
    {
     "name": "stdout",
     "output_type": "stream",
     "text": [
      "Nilai statistic: 38512.31575954891\n",
      "Nilai p-value: 0.0\n",
      "Tolak Ho, dapat dikatakan rata-rata harga mobil tiap tipe transmisi setidaknya ada 1 yang berbeda tapi kita tidak tahu yg mana.\n"
     ]
    }
   ],
   "source": [
    "stats,pval = kruskal(*[df[df['transmission'] == i]['price'] for i in transm])\n",
    "\n",
    "print('Nilai statistic:', stats)\n",
    "print('Nilai p-value:', pval)\n",
    "\n",
    "#conclusion\n",
    "if pval <= 0.05:\n",
    "    print('Tolak Ho, dapat dikatakan rata-rata harga mobil tiap tipe transmisi setidaknya ada 1 yang berbeda tapi kita tidak tahu yg mana.')\n",
    "else:\n",
    "    print('Terima Ho, dapat dikatakan rata-rata harga mobil tiap tipe transmisi saling bernilai sama.')"
   ]
  },
  {
   "cell_type": "markdown",
   "metadata": {},
   "source": [
    "**Visualisasi :**"
   ]
  },
  {
   "cell_type": "code",
   "execution_count": 116,
   "metadata": {
    "ExecuteTime": {
     "end_time": "2021-08-31T02:36:55.067203Z",
     "start_time": "2021-08-31T02:36:55.064087Z"
    },
    "scrolled": false
   },
   "outputs": [],
   "source": [
    "# plt.figure(figsize=(15,10))\n",
    "# plt.subplot(3,1,1)\n",
    "# graph=sns.barplot(data=df, x='transmission', y='price', ci=None)\n",
    "# for p in graph.patches:\n",
    "#     height = p.get_height()\n",
    "#     graph.annotate(\"%.2f\" % height, (p.get_x() + p.get_width() / 2., height),\n",
    "#                 ha='center', va='center', fontsize=11, color='gray', xytext=(0,5),\n",
    "#                 textcoords='offset points')\n",
    "# plt.ylim(0, 30000)    \n",
    "# plt.title('Perbandingan nilai Rata-Rata price berdasarkan transmission') \n",
    "# plt.show()\n",
    "\n",
    "# plt.figure(figsize=(15,10))\n",
    "# plt.subplot(3,1,2)\n",
    "# sns.scatterplot(data=df, x='transmission', y='price', hue='fuelType')\n",
    "# plt.title('price vs transmission') \n",
    "# plt.show()\n",
    "\n",
    "# plt.figure(figsize=(15,16))\n",
    "# plt.subplot(3,1,3)\n",
    "# sns.scatterplot(data=df, x='transmission', y='price', hue='brand')\n",
    "# plt.title('price vs transmission') \n",
    "# plt.show()"
   ]
  },
  {
   "cell_type": "markdown",
   "metadata": {},
   "source": [
    "**Kesimpulan Uji 6 :**\n",
    "\n",
    "1. Jenis transmisi memiliki pengaruh besar terhadap penentuan harga jual mobil, dimana mobil dengan jenis transmisi _Semi-Auto_ memiliki rata-rata harga jual yg lebih tinggi dibanding mobil dengan jenis transmisi lainnya sedangkan mobil dengan jenis transmisi _Manual_ memiliki rata-rata harga jual yg paling rendah dibanding mobil dengan jenis transmisi lainnya.\n",
    "2. Pada data ini, secara umum digambarkan bahwa sebaran jenis mobil dengan masing-masing jenis bahan bakar terhadap masing-masing tipe transmisi tersebar dengan cukup merata."
   ]
  },
  {
   "cell_type": "markdown",
   "metadata": {},
   "source": [
    "#### Uji 7 : _price_ vs _fuelType_"
   ]
  },
  {
   "cell_type": "markdown",
   "metadata": {},
   "source": [
    "Hipotesis:\n",
    "\n",
    "Ho: rata-rata harga mobil tiap jenis bahan bakar saling bernilai sama \n",
    "\n",
    "Ha: rata-rata harga mobil tiap jenis bahan bakar setidaknya ada 1 yang berbeda tapi kita tidak tahu yg mana"
   ]
  },
  {
   "cell_type": "code",
   "execution_count": 68,
   "metadata": {
    "ExecuteTime": {
     "end_time": "2021-08-31T02:27:39.998602Z",
     "start_time": "2021-08-31T02:27:39.982195Z"
    }
   },
   "outputs": [],
   "source": [
    "fuel=list(df['fuelType'].unique())"
   ]
  },
  {
   "cell_type": "code",
   "execution_count": 69,
   "metadata": {
    "ExecuteTime": {
     "end_time": "2021-08-31T02:27:40.128089Z",
     "start_time": "2021-08-31T02:27:40.000803Z"
    }
   },
   "outputs": [
    {
     "name": "stdout",
     "output_type": "stream",
     "text": [
      "Nilai statistic: 7503.6192989263145\n",
      "Nilai p-value: 0.0\n",
      "Tolak Ho, dapat dikatakan rata-rata harga mobil tiap jenis bahan bakar setidaknya ada 1 yang berbeda tapi kita tidak tahu yg mana.\n"
     ]
    }
   ],
   "source": [
    "stats,pval = kruskal(*[df[df['fuelType'] == i]['price'] for i in fuel])\n",
    "\n",
    "print('Nilai statistic:', stats)\n",
    "print('Nilai p-value:', pval)\n",
    "\n",
    "#conclusion\n",
    "if pval <= 0.05:\n",
    "    print('Tolak Ho, dapat dikatakan rata-rata harga mobil tiap jenis bahan bakar setidaknya ada 1 yang berbeda tapi kita tidak tahu yg mana.')\n",
    "else:\n",
    "    print('Terima Ho, dapat dikatakan rata-rata harga mobil tiap jenis bahan bakar saling bernilai sama.')"
   ]
  },
  {
   "cell_type": "markdown",
   "metadata": {},
   "source": [
    "**Visualisasi :**"
   ]
  },
  {
   "cell_type": "code",
   "execution_count": 117,
   "metadata": {
    "ExecuteTime": {
     "end_time": "2021-08-31T02:37:04.271861Z",
     "start_time": "2021-08-31T02:37:04.267655Z"
    },
    "scrolled": false
   },
   "outputs": [],
   "source": [
    "# plt.figure(figsize=(15,10))\n",
    "# plt.subplot(3,1,1)\n",
    "# graph=sns.barplot(data=df, x='fuelType', y='price', ci=None)\n",
    "# for p in graph.patches:\n",
    "#     height = p.get_height()\n",
    "#     graph.annotate(\"%.2f\" % height, (p.get_x() + p.get_width() / 2., height),\n",
    "#                 ha='center', va='center', fontsize=11, color='gray', xytext=(0,5),\n",
    "#                 textcoords='offset points')\n",
    "# plt.ylim(0, 30000)    \n",
    "# plt.title('Perbandingan Rata-Rata price berdasarkan transmission') \n",
    "# plt.show()\n",
    "\n",
    "# plt.figure(figsize=(15,10))\n",
    "# plt.subplot(3,1,2)\n",
    "# sns.scatterplot(data=df, x='fuelType', y='price', hue='transmission')\n",
    "# plt.title('price vs fuelType') \n",
    "# plt.show()\n",
    "\n",
    "# plt.figure(figsize=(15,16))\n",
    "# plt.subplot(3,1,3)\n",
    "# sns.scatterplot(data=df, x='fuelType', y='price', hue='brand')\n",
    "# plt.title('price vs fuelType') \n",
    "# plt.show()"
   ]
  },
  {
   "cell_type": "markdown",
   "metadata": {},
   "source": [
    "**Kesimpulan Uji 7 :**\n",
    "\n",
    "Jenis transmisi memiliki pengaruh kecil terhadap penentuan harga jual mobil, dimana mobil dengan tipe bahan bakar _Diesel_ memiliki rata-rata harga jual yg lebih tinggi dibanding mobil dengan tipe bahan bakar lainnya sedangkan mobil dengan tipe bahan bakar _Petrol_ memiliki rata-rata harga jual yg paling rendah dibanding mobil dengan tipe bahan bakar lainnya."
   ]
  },
  {
   "cell_type": "markdown",
   "metadata": {},
   "source": [
    "#### Uji 8 : _fuelType_ vs _mpg_"
   ]
  },
  {
   "cell_type": "markdown",
   "metadata": {},
   "source": [
    "Hipotesis:\n",
    "\n",
    "Ho: rata-rata nilai mpg mobil tiap jenis bahan bakar saling bernilai sama \n",
    "\n",
    "Ha: rata-rata nilai mpg mobil tiap jenis bahan bakar setidaknya ada 1 yang berbeda tapi kita tidak tahu yg mana"
   ]
  },
  {
   "cell_type": "code",
   "execution_count": 71,
   "metadata": {
    "ExecuteTime": {
     "end_time": "2021-08-31T02:27:55.680943Z",
     "start_time": "2021-08-31T02:27:55.573289Z"
    }
   },
   "outputs": [
    {
     "name": "stdout",
     "output_type": "stream",
     "text": [
      "Nilai statistic: 13181.863794451147\n",
      "Nilai p-value: 0.0\n",
      "Tolak Ho, dapat dikatakan rata-rata nilai mpg mobil tiap jenis bahan bakar setidaknya ada 1 yang berbeda tapi kita tidak tahu yg mana.\n"
     ]
    }
   ],
   "source": [
    "stats,pval = kruskal(*[df[df['fuelType'] == i]['mpg'] for i in fuel])\n",
    "\n",
    "print('Nilai statistic:', stats)\n",
    "print('Nilai p-value:', pval)\n",
    "\n",
    "#conclusion\n",
    "if pval <= 0.05:\n",
    "    print('Tolak Ho, dapat dikatakan rata-rata nilai mpg mobil tiap jenis bahan bakar setidaknya ada 1 yang berbeda tapi kita tidak tahu yg mana.')\n",
    "else:\n",
    "    print('Terima Ho, dapat dikatakan rata-rata nilai mpg mobil tiap jenis bahan bakar saling bernilai sama.')"
   ]
  },
  {
   "cell_type": "markdown",
   "metadata": {},
   "source": [
    "**Visualisasi :**"
   ]
  },
  {
   "cell_type": "code",
   "execution_count": 118,
   "metadata": {
    "ExecuteTime": {
     "end_time": "2021-08-31T02:37:10.209905Z",
     "start_time": "2021-08-31T02:37:10.199483Z"
    },
    "scrolled": false
   },
   "outputs": [],
   "source": [
    "# plt.figure(figsize=(15,10))\n",
    "# plt.subplot(3,1,1)\n",
    "# graph=sns.barplot(data=df, x='fuelType', y='mpg', ci=None)\n",
    "# for p in graph.patches:\n",
    "#     height = p.get_height()\n",
    "#     graph.annotate(\"%.2f\" % height, (p.get_x() + p.get_width() / 2., height),\n",
    "#                 ha='center', va='center', fontsize=11, color='gray', xytext=(0,5),\n",
    "#                 textcoords='offset points')\n",
    "# plt.ylim(0, 65)    \n",
    "# plt.title('Perbandingan nilai Rata-Rata mpg berdasarkan fuelType') \n",
    "# plt.show()\n",
    "\n",
    "# plt.figure(figsize=(15,10))\n",
    "# plt.subplot(3,1,2)\n",
    "# sns.scatterplot(data=df, x='fuelType', y='mpg', hue='transmission')\n",
    "# plt.title('mpg vs fuelType') \n",
    "# plt.show()\n",
    "\n",
    "# plt.figure(figsize=(15,16))\n",
    "# plt.subplot(3,1,3)\n",
    "# sns.scatterplot(data=df, x='fuelType', y='mpg', hue='brand')\n",
    "# plt.title('mpg vs fuelType') \n",
    "# plt.show()"
   ]
  },
  {
   "cell_type": "markdown",
   "metadata": {},
   "source": [
    "**Kesimpulan Uji 8 :**\n",
    "\n",
    "Jenis bahan bakar yg digunakan oleh suatu mobil memiliki pengaruh yang lemah terhadap nilai _mpg_ nya, dimana kedua jenis bahan bakar memiliki nilai rata-rata _mpg_ yang tidak terlalu berbeda"
   ]
  },
  {
   "cell_type": "markdown",
   "metadata": {},
   "source": [
    "#### Uji 9 : _fuelType_ vs _tax_"
   ]
  },
  {
   "cell_type": "markdown",
   "metadata": {},
   "source": [
    "Hipotesis:\n",
    "\n",
    "Ho: rata-rata nilai tax mobil tiap jenis bahan bakar saling bernilai sama \n",
    "\n",
    "Ha: rata-rata nilai tax mobil tiap jenis bahan bakar setidaknya ada 1 yang berbeda tapi kita tidak tahu yg mana"
   ]
  },
  {
   "cell_type": "code",
   "execution_count": 73,
   "metadata": {
    "ExecuteTime": {
     "end_time": "2021-08-31T02:28:25.486158Z",
     "start_time": "2021-08-31T02:28:25.114970Z"
    }
   },
   "outputs": [
    {
     "name": "stdout",
     "output_type": "stream",
     "text": [
      "Nilai statistic: 1590.6111639080416\n",
      "Nilai p-value: 0.0\n",
      "Tolak Ho, dapat dikatakan rata-rata nilai tax mobil tiap jenis bahan bakar setidaknya ada 1 yang berbeda tapi kita tidak tahu yg mana.\n"
     ]
    }
   ],
   "source": [
    "stats,pval = kruskal(*[df[df['fuelType'] == i]['tax'] for i in fuel])\n",
    "\n",
    "print('Nilai statistic:', stats)\n",
    "print('Nilai p-value:', pval)\n",
    "\n",
    "#conclusion\n",
    "if pval <= 0.05:\n",
    "    print('Tolak Ho, dapat dikatakan rata-rata nilai tax mobil tiap jenis bahan bakar setidaknya ada 1 yang berbeda tapi kita tidak tahu yg mana.')\n",
    "else:\n",
    "    print('Terima Ho, dapat dikatakan rata-rata nilai tax mobil tiap jenis bahan bakar saling bernilai sama.')"
   ]
  },
  {
   "cell_type": "markdown",
   "metadata": {},
   "source": [
    "**Visualisasi :**"
   ]
  },
  {
   "cell_type": "code",
   "execution_count": 119,
   "metadata": {
    "ExecuteTime": {
     "end_time": "2021-08-31T02:37:17.851636Z",
     "start_time": "2021-08-31T02:37:17.848065Z"
    },
    "scrolled": false
   },
   "outputs": [],
   "source": [
    "# plt.figure(figsize=(15,10))\n",
    "# plt.subplot(3,1,1)\n",
    "# graph=sns.barplot(data=df, x='fuelType', y='tax', ci=None)\n",
    "# plt.title('Perbandingan nilai Rata-Rata tax berdasarkan fuelType') \n",
    "# plt.show()\n",
    "\n",
    "# plt.figure(figsize=(15,10))\n",
    "# plt.subplot(3,1,2)\n",
    "# sns.scatterplot(data=df, x='fuelType', y='tax', hue='transmission')\n",
    "# plt.title('tax vs fuelType') \n",
    "# plt.show()\n",
    "\n",
    "# plt.figure(figsize=(15,14))\n",
    "# plt.subplot(3,1,3)\n",
    "# sns.scatterplot(data=df, x='fuelType', y='tax', hue='brand')\n",
    "# plt.title('tax vs fuelType') \n",
    "# plt.show()"
   ]
  },
  {
   "cell_type": "markdown",
   "metadata": {},
   "source": [
    "**Kesimpulan Uji 9 :**\n",
    "\n",
    "Jenis bahan bakar yg digunakan oleh suatu mobil memiliki pengaruh yang lemah terhadap nilai pajak nya, dimana kedua jenis bahan bakar memiliki nilai rata-rata pajak yang tidak terlalu berbeda"
   ]
  },
  {
   "cell_type": "markdown",
   "metadata": {},
   "source": [
    "#### Uji 10 : _tax_ vs _mpg_"
   ]
  },
  {
   "cell_type": "markdown",
   "metadata": {},
   "source": [
    "**Korelasi :**"
   ]
  },
  {
   "cell_type": "code",
   "execution_count": 75,
   "metadata": {
    "ExecuteTime": {
     "end_time": "2021-08-31T02:28:44.553056Z",
     "start_time": "2021-08-31T02:28:44.400019Z"
    }
   },
   "outputs": [
    {
     "data": {
      "text/plain": [
       "-0.548082"
      ]
     },
     "execution_count": 75,
     "metadata": {},
     "output_type": "execute_result"
    }
   ],
   "source": [
    "round(df['tax'].corr(df['mpg'],method='spearman'),6)"
   ]
  },
  {
   "cell_type": "markdown",
   "metadata": {},
   "source": [
    "**Analisa Korelasi :**\n",
    "\n",
    "* Fitur _tax_ memiliki korelasi **moderate** serta **berbanding Terbalik** dengan fitur _mpg_, dimana nilai korelasinya adalah 0.548082 dengan arah negatif.\n",
    "* Berdasarkan hal ini dapat dikatakan bahwa **semakin tinggi nilai _mpg_** dari mobil akan menyebabkan **nilai _tax_ semakin rendah**."
   ]
  },
  {
   "cell_type": "markdown",
   "metadata": {},
   "source": [
    "**Visualisasi :**"
   ]
  },
  {
   "cell_type": "code",
   "execution_count": 120,
   "metadata": {
    "ExecuteTime": {
     "end_time": "2021-08-31T02:37:24.039412Z",
     "start_time": "2021-08-31T02:37:24.037034Z"
    },
    "scrolled": false
   },
   "outputs": [],
   "source": [
    "# plt.figure(figsize=(15,10))\n",
    "# plt.subplot(2,1,1)\n",
    "# sns.scatterplot(data=df, x='mpg', y='tax', hue='fuelType')\n",
    "# plt.title('tax vs mpg', size=15)\n",
    "# plt.show()\n",
    "\n",
    "# plt.figure(figsize=(15,10))\n",
    "# plt.subplot(2,1,2)\n",
    "# sns.scatterplot(data=df, x='mpg', y='tax', hue='brand')\n",
    "# plt.title('tax vs mpg', size=15)\n",
    "# plt.show()"
   ]
  },
  {
   "cell_type": "markdown",
   "metadata": {},
   "source": [
    "**Kesimpulan Uji 10 :**\n",
    "\n",
    "Nilai mpg memiliki pengaruh terhadap nilai pajak mobil. Dapat dilihat dari graph diatas semakin irit mobil nilai pajak semakin rendah. Jenis bahan bakar secara umum tidak terlalu mempengaruhi nilai pajak. Dari graphic kedua, dapat dilihat bahwa mobil dengan mpg rendah tapi nilai pajaknya tinggi merupakan mobil dari brand mewah."
   ]
  },
  {
   "cell_type": "markdown",
   "metadata": {},
   "source": [
    "#### Uji 11 : _mileage_ vs _age_"
   ]
  },
  {
   "cell_type": "markdown",
   "metadata": {},
   "source": [
    "**Korelasi :**"
   ]
  },
  {
   "cell_type": "code",
   "execution_count": 77,
   "metadata": {
    "ExecuteTime": {
     "end_time": "2021-08-31T02:29:02.624629Z",
     "start_time": "2021-08-31T02:29:02.449821Z"
    }
   },
   "outputs": [
    {
     "data": {
      "text/plain": [
       "0.81523"
      ]
     },
     "execution_count": 77,
     "metadata": {},
     "output_type": "execute_result"
    }
   ],
   "source": [
    "round(df['mileage'].corr(df['age'],method='spearman'),6)"
   ]
  },
  {
   "cell_type": "markdown",
   "metadata": {},
   "source": [
    "**Analisa Korelasi :**\n",
    "\n",
    "* Fitur _mileage_ memiliki korelasi **strong** serta **berbanding Lurus** dengan fitur _age_, dimana nilai korelasinya adalah 0.81523 dengan arah positif.\n",
    "* Berdasarkan hal ini dapat dikatakan bahwa **semakin tinggi nilai _age_** dari mobil akan menyebabkan **nilai _mileage_ semakin tinggi**."
   ]
  },
  {
   "cell_type": "markdown",
   "metadata": {},
   "source": [
    "**Visualisasi :**"
   ]
  },
  {
   "cell_type": "code",
   "execution_count": 121,
   "metadata": {
    "ExecuteTime": {
     "end_time": "2021-08-31T02:37:32.239875Z",
     "start_time": "2021-08-31T02:37:32.237032Z"
    }
   },
   "outputs": [],
   "source": [
    "# plt.figure(figsize=(15,10))\n",
    "# plt.subplot(2,1,1)\n",
    "# sns.scatterplot(data=df, x='age', y='mileage', hue='fuelType')\n",
    "# plt.title('mileage vs age', size=15)\n",
    "# plt.show()\n",
    "\n",
    "# plt.figure(figsize=(15,10))\n",
    "# plt.subplot(2,1,2)\n",
    "# sns.scatterplot(data=df, x='age', y='mileage', hue='brand')\n",
    "# plt.title('mileage vs age', size=15)\n",
    "# plt.show()"
   ]
  },
  {
   "cell_type": "markdown",
   "metadata": {},
   "source": [
    "**Kesimpulan Uji 11 :**\n",
    "\n",
    "Umur dari mobil memiliki pengaruh terhadap total jarak yg telah ditempuh, dimana secara umum mobil yg sudah berumur tua telah menempuh jarak yg lebih banyak dibandingkan mobil yg masih muda. Pada mobil dengan jenis bahan bakar _Petrol_ memiliki sebaran data yg lebih merata antara mobil berumur muda dengan jarak tempuh sedikit hingga mobil berumur tua dengan jarak tempuh tinggi dibandingkan mobil dengan jenis bahan bakar lainnya."
   ]
  },
  {
   "cell_type": "markdown",
   "metadata": {},
   "source": [
    "#### Uji 12 : _age_ vs _tax_"
   ]
  },
  {
   "cell_type": "markdown",
   "metadata": {},
   "source": [
    "**Korelasi :**"
   ]
  },
  {
   "cell_type": "code",
   "execution_count": 79,
   "metadata": {
    "ExecuteTime": {
     "end_time": "2021-08-31T02:29:18.147980Z",
     "start_time": "2021-08-31T02:29:18.040768Z"
    }
   },
   "outputs": [
    {
     "data": {
      "text/plain": [
       "-0.327277"
      ]
     },
     "execution_count": 79,
     "metadata": {},
     "output_type": "execute_result"
    }
   ],
   "source": [
    "round(df['age'].corr(df['tax'],method='spearman'),6)"
   ]
  },
  {
   "cell_type": "markdown",
   "metadata": {},
   "source": [
    "**Analisa Korelasi :**\n",
    "\n",
    "* Fitur _tax_ memiliki korelasi **moderate** serta **berbanding Terbalik** dengan fitur _age_, dimana nilai korelasinya adalah 0.327277 dengan arah negatif.\n",
    "* Berdasarkan hal ini dapat dikatakan bahwa **semakin tinggi nilai _age_** dari mobil akan menyebabkan **nilai _tax_ semakin rendah**."
   ]
  },
  {
   "cell_type": "markdown",
   "metadata": {},
   "source": [
    "**Visualisasi :**"
   ]
  },
  {
   "cell_type": "code",
   "execution_count": 122,
   "metadata": {
    "ExecuteTime": {
     "end_time": "2021-08-31T02:37:39.230782Z",
     "start_time": "2021-08-31T02:37:39.225644Z"
    }
   },
   "outputs": [],
   "source": [
    "# plt.figure(figsize=(15,10))\n",
    "# plt.subplot(2,1,1)\n",
    "# sns.scatterplot(data=df, x='age', y='tax', hue='fuelType')\n",
    "# plt.title('price vs mileage', size=15)\n",
    "# plt.show()\n",
    "\n",
    "# plt.figure(figsize=(15,10))\n",
    "# plt.subplot(2,1,2)\n",
    "# sns.scatterplot(data=df, x='age', y='tax', hue='brand')\n",
    "# plt.title('age vs tax', size=15)\n",
    "# plt.show()"
   ]
  },
  {
   "cell_type": "markdown",
   "metadata": {},
   "source": [
    "**Kesimpulan Uji 12 :**\n",
    "\n",
    "Umur dari mobil memiliki pengaruh terhadap nilai pajak mobil, dimana secara umum mobil yg sudah berumur tua memiliki nilai pajak yg lebih rendah dibandingkan mobil yg masih muda. Pada mobil dengan jenis bahan bakar _Petrol_ memiliki sebaran data yg lebih merata antara mobil berumur muda dengan nilai pajak yg rendah hingga mobil berumur tua dengan nilai pajak yg tinggi dibandingkan mobil dengan jenis bahan bakar lainnya."
   ]
  },
  {
   "cell_type": "markdown",
   "metadata": {},
   "source": [
    "#### Uji 13 : Year vs Tax vs Fuel"
   ]
  },
  {
   "cell_type": "markdown",
   "metadata": {},
   "source": [
    "Hipotesis:\n",
    "\n",
    "Ho: rata-rata nilai pajak mobil tiap tahun sama\n",
    "\n",
    "Ha: rata-rata nilai pajak mobil tiap tahun setidaknya ada 1 yang berbeda tapi kita tidak tahu yg mana"
   ]
  },
  {
   "cell_type": "code",
   "execution_count": 81,
   "metadata": {
    "ExecuteTime": {
     "end_time": "2021-08-31T02:29:34.876855Z",
     "start_time": "2021-08-31T02:29:34.475068Z"
    },
    "scrolled": false
   },
   "outputs": [
    {
     "name": "stdout",
     "output_type": "stream",
     "text": [
      "Nilai statistic: 19507.063517090948\n",
      "Nilai p-value: 0.0\n",
      "Tolak Ho, dapat dikatakan rata-rata nilai pajak tiap tahun setidaknya ada 1 yang berbeda tapi kita tidak tahu yg mana.\n"
     ]
    }
   ],
   "source": [
    "years = df['year'].unique()\n",
    "stats,pval = kruskal(*[df[df['year'] == i]['tax'] for i in years])\n",
    "\n",
    "print('Nilai statistic:', stats)\n",
    "print('Nilai p-value:', pval)\n",
    "\n",
    "#conclusion\n",
    "if pval <= 0.05:\n",
    "    print('Tolak Ho, dapat dikatakan rata-rata nilai pajak tiap tahun setidaknya ada 1 yang berbeda tapi kita tidak tahu yg mana.')\n",
    "else:\n",
    "    print('Terima Ho, dapat dikatakan rata-rata nilai pajak tiap tahun sama.')"
   ]
  },
  {
   "cell_type": "code",
   "execution_count": 123,
   "metadata": {
    "ExecuteTime": {
     "end_time": "2021-08-31T02:37:45.794104Z",
     "start_time": "2021-08-31T02:37:45.789787Z"
    },
    "scrolled": false
   },
   "outputs": [],
   "source": [
    "# plt.figure(figsize=(15,5))\n",
    "# sns.barplot(data=df, x='year', y='tax', hue='fuelType', ci=None)\n",
    "# plt.show()"
   ]
  },
  {
   "cell_type": "markdown",
   "metadata": {},
   "source": [
    ">Rata-rata nilai pajak mobil bekas pada tahun 2001 secara umum mulai menurun. Semenjak diberlakukannya standarisasi pajak pada tahun 2017, pajak kendaraan berbahan bakar diesel & petrol memiliki nilai pajak yang sama\n",
    "ref : \n",
    "1. https://www.moneysupermarket.com/car-insurance/petrol-vs-diesel/\n",
    "2. https://www.gov.uk/government/news/new-vehicle-tax-rates-from-1-april-2017"
   ]
  },
  {
   "cell_type": "markdown",
   "metadata": {},
   "source": [
    "# Preprocessing"
   ]
  },
  {
   "cell_type": "markdown",
   "metadata": {
    "ExecuteTime": {
     "end_time": "2021-08-31T02:38:42.261350Z",
     "start_time": "2021-08-31T02:38:42.228808Z"
    }
   },
   "source": [
    "x : transmission, mileage, fuelType, tax, mpg, engineSize, brand, age    \n",
    "y : price\n",
    "\n",
    "Skema Preprocessing:   \n",
    "1. One Hot Encoder : transmission, fuelType\n",
    "2. Binary : brand\n",
    "3. Robust Scaler : mileage, tax, mpg, engineSize\n",
    "4. Remainder : passthrough"
   ]
  },
  {
   "cell_type": "code",
   "execution_count": 169,
   "metadata": {
    "ExecuteTime": {
     "end_time": "2021-08-31T04:00:30.926579Z",
     "start_time": "2021-08-31T04:00:30.921599Z"
    }
   },
   "outputs": [],
   "source": [
    "transformer = ColumnTransformer([\n",
    "    ('one hot encoding', OneHotEncoder(drop='first'), ['transmission', 'fuelType']),\n",
    "    ('binary encoding', ce.BinaryEncoder(), ['brand']),\n",
    "#     ('Robust Scaler', RobustScaler(), ['mileage', 'tax', 'mpg', 'engineSize'])\n",
    "], remainder='passthrough')"
   ]
  },
  {
   "cell_type": "markdown",
   "metadata": {},
   "source": [
    "# Splitting Data"
   ]
  },
  {
   "cell_type": "code",
   "execution_count": 129,
   "metadata": {
    "ExecuteTime": {
     "end_time": "2021-08-31T02:48:51.223210Z",
     "start_time": "2021-08-31T02:48:51.192947Z"
    }
   },
   "outputs": [],
   "source": [
    "x = df.drop(columns=['model', 'year', 'price'])\n",
    "y = df['price']"
   ]
  },
  {
   "cell_type": "code",
   "execution_count": 131,
   "metadata": {
    "ExecuteTime": {
     "end_time": "2021-08-31T02:51:32.004624Z",
     "start_time": "2021-08-31T02:51:31.993201Z"
    }
   },
   "outputs": [
    {
     "data": {
      "text/plain": [
       "0         12500\n",
       "1         16500\n",
       "2         11000\n",
       "3         16800\n",
       "4         17300\n",
       "          ...  \n",
       "108535     5990\n",
       "108536     1799\n",
       "108537     1590\n",
       "108538     1250\n",
       "108539     2295\n",
       "Name: price, Length: 104797, dtype: int64"
      ]
     },
     "execution_count": 131,
     "metadata": {},
     "output_type": "execute_result"
    }
   ],
   "source": [
    "y"
   ]
  },
  {
   "cell_type": "code",
   "execution_count": 132,
   "metadata": {
    "ExecuteTime": {
     "end_time": "2021-08-31T02:52:15.228497Z",
     "start_time": "2021-08-31T02:52:15.185614Z"
    }
   },
   "outputs": [],
   "source": [
    "x_train, x_test, y_train, y_test = train_test_split(\n",
    "    x,\n",
    "    y,\n",
    "    random_state=2020\n",
    ")"
   ]
  },
  {
   "cell_type": "markdown",
   "metadata": {},
   "source": [
    "# Data Transform"
   ]
  },
  {
   "cell_type": "code",
   "execution_count": 170,
   "metadata": {
    "ExecuteTime": {
     "end_time": "2021-08-31T04:00:39.316777Z",
     "start_time": "2021-08-31T04:00:39.044606Z"
    }
   },
   "outputs": [],
   "source": [
    "x_train_preprocessed=pd.DataFrame(transformer.fit_transform(x_train))\n",
    "x_test_preprocessed=pd.DataFrame(transformer.fit_transform(x_test))"
   ]
  },
  {
   "cell_type": "markdown",
   "metadata": {},
   "source": [
    "# Benchmark"
   ]
  },
  {
   "cell_type": "code",
   "execution_count": 143,
   "metadata": {
    "ExecuteTime": {
     "end_time": "2021-08-31T03:26:10.253219Z",
     "start_time": "2021-08-31T03:26:10.249492Z"
    }
   },
   "outputs": [],
   "source": [
    "import warnings\n",
    "warnings.filterwarnings('ignore')\n"
   ]
  },
  {
   "cell_type": "code",
   "execution_count": 171,
   "metadata": {
    "ExecuteTime": {
     "end_time": "2021-08-31T04:00:45.621274Z",
     "start_time": "2021-08-31T04:00:45.605039Z"
    }
   },
   "outputs": [],
   "source": [
    "models = [\n",
    "    LinearRegression(), \n",
    "    Ridge(alpha=0.5),\n",
    "    Lasso(alpha=0.5),\n",
    "    DecisionTreeRegressor(max_depth=5),\n",
    "    KNeighborsRegressor(n_neighbors=5),\n",
    "    RandomForestRegressor(max_depth=5)\n",
    "]"
   ]
  },
  {
   "cell_type": "code",
   "execution_count": 172,
   "metadata": {
    "ExecuteTime": {
     "end_time": "2021-08-31T04:02:01.859060Z",
     "start_time": "2021-08-31T04:00:48.840606Z"
    }
   },
   "outputs": [],
   "source": [
    "cv_score = []\n",
    "cv_mean = []\n",
    "cv_std = []\n",
    "\n",
    "for i in models:\n",
    "    estimator = Pipeline([\n",
    "        ('preprocess', transformer),\n",
    "        ('model', i)\n",
    "    ])\n",
    "\n",
    "    model_cv = cross_val_score(estimator, x_train, y_train, cv=5, scoring='neg_median_absolute_error')\n",
    "    cv_score.append(model_cv)\n",
    "    cv_mean.append(model_cv.mean())\n",
    "    cv_std.append(model_cv.std())"
   ]
  },
  {
   "cell_type": "code",
   "execution_count": 174,
   "metadata": {
    "ExecuteTime": {
     "end_time": "2021-08-31T04:02:46.183800Z",
     "start_time": "2021-08-31T04:02:46.154728Z"
    }
   },
   "outputs": [
    {
     "data": {
      "text/html": [
       "<div>\n",
       "<style scoped>\n",
       "    .dataframe tbody tr th:only-of-type {\n",
       "        vertical-align: middle;\n",
       "    }\n",
       "\n",
       "    .dataframe tbody tr th {\n",
       "        vertical-align: top;\n",
       "    }\n",
       "\n",
       "    .dataframe thead th {\n",
       "        text-align: right;\n",
       "    }\n",
       "</style>\n",
       "<table border=\"1\" class=\"dataframe\">\n",
       "  <thead>\n",
       "    <tr style=\"text-align: right;\">\n",
       "      <th></th>\n",
       "      <th>model</th>\n",
       "      <th>score</th>\n",
       "      <th>mean</th>\n",
       "      <th>std</th>\n",
       "    </tr>\n",
       "  </thead>\n",
       "  <tbody>\n",
       "    <tr>\n",
       "      <th>0</th>\n",
       "      <td>linreg</td>\n",
       "      <td>[-2532.9744842132386, -2339.981653313601, -234...</td>\n",
       "      <td>-2377.173418</td>\n",
       "      <td>78.018430</td>\n",
       "    </tr>\n",
       "    <tr>\n",
       "      <th>1</th>\n",
       "      <td>ridge</td>\n",
       "      <td>[-2532.9267936883844, -2339.867183860625, -234...</td>\n",
       "      <td>-2377.056722</td>\n",
       "      <td>78.053583</td>\n",
       "    </tr>\n",
       "    <tr>\n",
       "      <th>2</th>\n",
       "      <td>lasso</td>\n",
       "      <td>[-2531.4184469220027, -2340.6649918938774, -23...</td>\n",
       "      <td>-2376.949854</td>\n",
       "      <td>77.369835</td>\n",
       "    </tr>\n",
       "    <tr>\n",
       "      <th>3</th>\n",
       "      <td>tree</td>\n",
       "      <td>[-2202.767062931249, -2192.6699036302916, -218...</td>\n",
       "      <td>-2196.377122</td>\n",
       "      <td>10.896298</td>\n",
       "    </tr>\n",
       "    <tr>\n",
       "      <th>4</th>\n",
       "      <td>knn</td>\n",
       "      <td>[-3960.7999999999993, -3855.2000000000007, -38...</td>\n",
       "      <td>-3901.840000</td>\n",
       "      <td>41.236760</td>\n",
       "    </tr>\n",
       "    <tr>\n",
       "      <th>5</th>\n",
       "      <td>rf</td>\n",
       "      <td>[-2144.480010996642, -2121.5761067124004, -211...</td>\n",
       "      <td>-2126.825824</td>\n",
       "      <td>30.348361</td>\n",
       "    </tr>\n",
       "  </tbody>\n",
       "</table>\n",
       "</div>"
      ],
      "text/plain": [
       "    model                                              score         mean  \\\n",
       "0  linreg  [-2532.9744842132386, -2339.981653313601, -234... -2377.173418   \n",
       "1   ridge  [-2532.9267936883844, -2339.867183860625, -234... -2377.056722   \n",
       "2   lasso  [-2531.4184469220027, -2340.6649918938774, -23... -2376.949854   \n",
       "3    tree  [-2202.767062931249, -2192.6699036302916, -218... -2196.377122   \n",
       "4     knn  [-3960.7999999999993, -3855.2000000000007, -38... -3901.840000   \n",
       "5      rf  [-2144.480010996642, -2121.5761067124004, -211... -2126.825824   \n",
       "\n",
       "         std  \n",
       "0  78.018430  \n",
       "1  78.053583  \n",
       "2  77.369835  \n",
       "3  10.896298  \n",
       "4  41.236760  \n",
       "5  30.348361  "
      ]
     },
     "execution_count": 174,
     "metadata": {},
     "output_type": "execute_result"
    }
   ],
   "source": [
    "\n",
    "pd.DataFrame({\n",
    "    'model': ['linreg', 'ridge', 'lasso', 'tree', 'knn', 'rf'],\n",
    "    'score': cv_score,\n",
    "    'mean': cv_mean,\n",
    "    'std': cv_std\n",
    "})"
   ]
  },
  {
   "cell_type": "code",
   "execution_count": 153,
   "metadata": {
    "ExecuteTime": {
     "end_time": "2021-08-31T03:35:45.326358Z",
     "start_time": "2021-08-31T03:35:38.393200Z"
    }
   },
   "outputs": [
    {
     "data": {
      "text/plain": [
       "Pipeline(steps=[('preprocess',\n",
       "                 ColumnTransformer(remainder='passthrough',\n",
       "                                   transformers=[('one hot encoding',\n",
       "                                                  OneHotEncoder(drop='first'),\n",
       "                                                  ['transmission', 'fuelType']),\n",
       "                                                 ('binary encoding',\n",
       "                                                  BinaryEncoder(), ['brand']),\n",
       "                                                 ('Robust Scaler',\n",
       "                                                  RobustScaler(),\n",
       "                                                  ['mileage', 'tax', 'mpg',\n",
       "                                                   'engineSize'])])),\n",
       "                ('model', KNeighborsRegressor())])"
      ]
     },
     "execution_count": 153,
     "metadata": {},
     "output_type": "execute_result"
    }
   ],
   "source": [
    "knn = KNeighborsRegressor(n_neighbors=5)\n",
    "estimator = Pipeline([\n",
    "    ('preprocess', transformer),\n",
    "    ('model', knn)\n",
    "])\n",
    "estimator.fit(x_train, y_train)"
   ]
  },
  {
   "cell_type": "code",
   "execution_count": 156,
   "metadata": {
    "ExecuteTime": {
     "end_time": "2021-08-31T03:39:36.226276Z",
     "start_time": "2021-08-31T03:39:30.874241Z"
    }
   },
   "outputs": [],
   "source": [
    "y_pred = estimator.predict(x_test)"
   ]
  },
  {
   "cell_type": "code",
   "execution_count": null,
   "metadata": {},
   "outputs": [],
   "source": [
    "from sklearn.metrics import mean_squared_error"
   ]
  },
  {
   "cell_type": "code",
   "execution_count": 157,
   "metadata": {
    "ExecuteTime": {
     "end_time": "2021-08-31T03:39:55.463381Z",
     "start_time": "2021-08-31T03:39:55.458575Z"
    }
   },
   "outputs": [],
   "source": [
    "mse_score = mean_squared_error(y_test, y_pred)"
   ]
  },
  {
   "cell_type": "code",
   "execution_count": 158,
   "metadata": {
    "ExecuteTime": {
     "end_time": "2021-08-31T03:40:00.611821Z",
     "start_time": "2021-08-31T03:40:00.601758Z"
    }
   },
   "outputs": [
    {
     "data": {
      "text/plain": [
       "7591050.175294656"
      ]
     },
     "execution_count": 158,
     "metadata": {},
     "output_type": "execute_result"
    }
   ],
   "source": [
    "mse_score"
   ]
  },
  {
   "cell_type": "code",
   "execution_count": null,
   "metadata": {},
   "outputs": [],
   "source": []
  }
 ],
 "metadata": {
  "kernelspec": {
   "display_name": "Python 3",
   "language": "python",
   "name": "python3"
  },
  "language_info": {
   "codemirror_mode": {
    "name": "ipython",
    "version": 3
   },
   "file_extension": ".py",
   "mimetype": "text/x-python",
   "name": "python",
   "nbconvert_exporter": "python",
   "pygments_lexer": "ipython3",
   "version": "3.8.5"
  },
  "toc": {
   "base_numbering": 1,
   "nav_menu": {},
   "number_sections": true,
   "sideBar": true,
   "skip_h1_title": false,
   "title_cell": "Table of Contents",
   "title_sidebar": "Contents",
   "toc_cell": false,
   "toc_position": {
    "height": "calc(100% - 180px)",
    "left": "10px",
    "top": "150px",
    "width": "209px"
   },
   "toc_section_display": true,
   "toc_window_display": true
  },
  "varInspector": {
   "cols": {
    "lenName": 16,
    "lenType": 16,
    "lenVar": 40
   },
   "kernels_config": {
    "python": {
     "delete_cmd_postfix": "",
     "delete_cmd_prefix": "del ",
     "library": "var_list.py",
     "varRefreshCmd": "print(var_dic_list())"
    },
    "r": {
     "delete_cmd_postfix": ") ",
     "delete_cmd_prefix": "rm(",
     "library": "var_list.r",
     "varRefreshCmd": "cat(var_dic_list()) "
    }
   },
   "types_to_exclude": [
    "module",
    "function",
    "builtin_function_or_method",
    "instance",
    "_Feature"
   ],
   "window_display": false
  }
 },
 "nbformat": 4,
 "nbformat_minor": 4
}

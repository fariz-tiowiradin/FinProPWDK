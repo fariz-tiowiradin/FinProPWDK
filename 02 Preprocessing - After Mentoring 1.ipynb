{
 "cells": [
  {
   "cell_type": "code",
   "execution_count": 60,
   "metadata": {
    "ExecuteTime": {
     "end_time": "2021-09-02T04:27:14.394205Z",
     "start_time": "2021-09-02T04:27:14.369772Z"
    }
   },
   "outputs": [],
   "source": [
    "# basic data analysis dan visualization\n",
    "import numpy as np\n",
    "import pandas as pd\n",
    "import matplotlib.pyplot as plt\n",
    "import seaborn as sns\n",
    "sns.set_theme(style=\"ticks\", palette=\"Paired\")\n",
    "from plotly.subplots import make_subplots\n",
    "import plotly.express as px\n",
    "import plotly.graph_objects as go\n",
    "\n",
    "# statistic\n",
    "from scipy.stats import normaltest,kruskal\n",
    "\n",
    "# preprocessing\n",
    "from sklearn.compose import ColumnTransformer\n",
    "from sklearn.preprocessing import OneHotEncoder,RobustScaler\n",
    "import category_encoders as ce\n",
    "\n",
    "# model regression\n",
    "from sklearn.linear_model import LinearRegression, Lasso, Ridge\n",
    "from sklearn.tree import DecisionTreeRegressor, plot_tree\n",
    "from sklearn.neighbors import KNeighborsRegressor\n",
    "from sklearn.ensemble import RandomForestRegressor\n",
    "\n",
    "# model selection & hyperparameter tuning\n",
    "from sklearn.pipeline import Pipeline\n",
    "from sklearn.model_selection import train_test_split, cross_val_score,GridSearchCV, KFold\n",
    "\n",
    "# metric regression\n",
    "from sklearn.metrics import mean_absolute_error\n",
    "\n",
    "import warnings\n",
    "warnings.filterwarnings('ignore')\n"
   ]
  },
  {
   "cell_type": "code",
   "execution_count": 1,
   "metadata": {
    "ExecuteTime": {
     "end_time": "2021-09-02T03:32:59.969389Z",
     "start_time": "2021-09-02T03:32:59.304106Z"
    },
    "scrolled": true
   },
   "outputs": [
    {
     "data": {
      "text/html": [
       "<div>\n",
       "<style scoped>\n",
       "    .dataframe tbody tr th:only-of-type {\n",
       "        vertical-align: middle;\n",
       "    }\n",
       "\n",
       "    .dataframe tbody tr th {\n",
       "        vertical-align: top;\n",
       "    }\n",
       "\n",
       "    .dataframe thead th {\n",
       "        text-align: right;\n",
       "    }\n",
       "</style>\n",
       "<table border=\"1\" class=\"dataframe\">\n",
       "  <thead>\n",
       "    <tr style=\"text-align: right;\">\n",
       "      <th></th>\n",
       "      <th>model</th>\n",
       "      <th>year</th>\n",
       "      <th>price</th>\n",
       "      <th>transmission</th>\n",
       "      <th>mileage</th>\n",
       "      <th>fuelType</th>\n",
       "      <th>tax</th>\n",
       "      <th>mpg</th>\n",
       "      <th>engineSize</th>\n",
       "      <th>brand</th>\n",
       "      <th>age</th>\n",
       "    </tr>\n",
       "  </thead>\n",
       "  <tbody>\n",
       "    <tr>\n",
       "      <th>0</th>\n",
       "      <td>A1</td>\n",
       "      <td>2017</td>\n",
       "      <td>12500</td>\n",
       "      <td>Manual</td>\n",
       "      <td>15735</td>\n",
       "      <td>Petrol</td>\n",
       "      <td>150.0</td>\n",
       "      <td>55.4</td>\n",
       "      <td>1.4</td>\n",
       "      <td>audi</td>\n",
       "      <td>3</td>\n",
       "    </tr>\n",
       "    <tr>\n",
       "      <th>1</th>\n",
       "      <td>A6</td>\n",
       "      <td>2016</td>\n",
       "      <td>16500</td>\n",
       "      <td>Automatic</td>\n",
       "      <td>36203</td>\n",
       "      <td>Diesel</td>\n",
       "      <td>20.0</td>\n",
       "      <td>64.2</td>\n",
       "      <td>2.0</td>\n",
       "      <td>audi</td>\n",
       "      <td>4</td>\n",
       "    </tr>\n",
       "    <tr>\n",
       "      <th>2</th>\n",
       "      <td>A1</td>\n",
       "      <td>2016</td>\n",
       "      <td>11000</td>\n",
       "      <td>Manual</td>\n",
       "      <td>29946</td>\n",
       "      <td>Petrol</td>\n",
       "      <td>30.0</td>\n",
       "      <td>55.4</td>\n",
       "      <td>1.4</td>\n",
       "      <td>audi</td>\n",
       "      <td>4</td>\n",
       "    </tr>\n",
       "    <tr>\n",
       "      <th>3</th>\n",
       "      <td>A4</td>\n",
       "      <td>2017</td>\n",
       "      <td>16800</td>\n",
       "      <td>Automatic</td>\n",
       "      <td>25952</td>\n",
       "      <td>Diesel</td>\n",
       "      <td>145.0</td>\n",
       "      <td>67.3</td>\n",
       "      <td>2.0</td>\n",
       "      <td>audi</td>\n",
       "      <td>3</td>\n",
       "    </tr>\n",
       "    <tr>\n",
       "      <th>4</th>\n",
       "      <td>A3</td>\n",
       "      <td>2019</td>\n",
       "      <td>17300</td>\n",
       "      <td>Manual</td>\n",
       "      <td>1998</td>\n",
       "      <td>Petrol</td>\n",
       "      <td>145.0</td>\n",
       "      <td>49.6</td>\n",
       "      <td>1.0</td>\n",
       "      <td>audi</td>\n",
       "      <td>1</td>\n",
       "    </tr>\n",
       "    <tr>\n",
       "      <th>...</th>\n",
       "      <td>...</td>\n",
       "      <td>...</td>\n",
       "      <td>...</td>\n",
       "      <td>...</td>\n",
       "      <td>...</td>\n",
       "      <td>...</td>\n",
       "      <td>...</td>\n",
       "      <td>...</td>\n",
       "      <td>...</td>\n",
       "      <td>...</td>\n",
       "      <td>...</td>\n",
       "    </tr>\n",
       "    <tr>\n",
       "      <th>108535</th>\n",
       "      <td>Eos</td>\n",
       "      <td>2012</td>\n",
       "      <td>5990</td>\n",
       "      <td>Manual</td>\n",
       "      <td>74000</td>\n",
       "      <td>Diesel</td>\n",
       "      <td>125.0</td>\n",
       "      <td>58.9</td>\n",
       "      <td>2.0</td>\n",
       "      <td>vw</td>\n",
       "      <td>8</td>\n",
       "    </tr>\n",
       "    <tr>\n",
       "      <th>108536</th>\n",
       "      <td>Fox</td>\n",
       "      <td>2008</td>\n",
       "      <td>1799</td>\n",
       "      <td>Manual</td>\n",
       "      <td>88102</td>\n",
       "      <td>Petrol</td>\n",
       "      <td>145.0</td>\n",
       "      <td>46.3</td>\n",
       "      <td>1.2</td>\n",
       "      <td>vw</td>\n",
       "      <td>12</td>\n",
       "    </tr>\n",
       "    <tr>\n",
       "      <th>108537</th>\n",
       "      <td>Fox</td>\n",
       "      <td>2009</td>\n",
       "      <td>1590</td>\n",
       "      <td>Manual</td>\n",
       "      <td>70000</td>\n",
       "      <td>Petrol</td>\n",
       "      <td>200.0</td>\n",
       "      <td>42.0</td>\n",
       "      <td>1.4</td>\n",
       "      <td>vw</td>\n",
       "      <td>11</td>\n",
       "    </tr>\n",
       "    <tr>\n",
       "      <th>108538</th>\n",
       "      <td>Fox</td>\n",
       "      <td>2006</td>\n",
       "      <td>1250</td>\n",
       "      <td>Manual</td>\n",
       "      <td>82704</td>\n",
       "      <td>Petrol</td>\n",
       "      <td>150.0</td>\n",
       "      <td>46.3</td>\n",
       "      <td>1.2</td>\n",
       "      <td>vw</td>\n",
       "      <td>14</td>\n",
       "    </tr>\n",
       "    <tr>\n",
       "      <th>108539</th>\n",
       "      <td>Fox</td>\n",
       "      <td>2007</td>\n",
       "      <td>2295</td>\n",
       "      <td>Manual</td>\n",
       "      <td>74000</td>\n",
       "      <td>Petrol</td>\n",
       "      <td>145.0</td>\n",
       "      <td>46.3</td>\n",
       "      <td>1.2</td>\n",
       "      <td>vw</td>\n",
       "      <td>13</td>\n",
       "    </tr>\n",
       "  </tbody>\n",
       "</table>\n",
       "<p>105051 rows × 11 columns</p>\n",
       "</div>"
      ],
      "text/plain": [
       "       model  year  price transmission  mileage fuelType    tax   mpg  \\\n",
       "0         A1  2017  12500       Manual    15735   Petrol  150.0  55.4   \n",
       "1         A6  2016  16500    Automatic    36203   Diesel   20.0  64.2   \n",
       "2         A1  2016  11000       Manual    29946   Petrol   30.0  55.4   \n",
       "3         A4  2017  16800    Automatic    25952   Diesel  145.0  67.3   \n",
       "4         A3  2019  17300       Manual     1998   Petrol  145.0  49.6   \n",
       "...      ...   ...    ...          ...      ...      ...    ...   ...   \n",
       "108535   Eos  2012   5990       Manual    74000   Diesel  125.0  58.9   \n",
       "108536   Fox  2008   1799       Manual    88102   Petrol  145.0  46.3   \n",
       "108537   Fox  2009   1590       Manual    70000   Petrol  200.0  42.0   \n",
       "108538   Fox  2006   1250       Manual    82704   Petrol  150.0  46.3   \n",
       "108539   Fox  2007   2295       Manual    74000   Petrol  145.0  46.3   \n",
       "\n",
       "        engineSize brand  age  \n",
       "0              1.4  audi    3  \n",
       "1              2.0  audi    4  \n",
       "2              1.4  audi    4  \n",
       "3              2.0  audi    3  \n",
       "4              1.0  audi    1  \n",
       "...            ...   ...  ...  \n",
       "108535         2.0    vw    8  \n",
       "108536         1.2    vw   12  \n",
       "108537         1.4    vw   11  \n",
       "108538         1.2    vw   14  \n",
       "108539         1.2    vw   13  \n",
       "\n",
       "[105051 rows x 11 columns]"
      ]
     },
     "execution_count": 1,
     "metadata": {},
     "output_type": "execute_result"
    }
   ],
   "source": [
    "%store -r df\n",
    "df"
   ]
  },
  {
   "cell_type": "markdown",
   "metadata": {},
   "source": [
    "# Splitting Data"
   ]
  },
  {
   "cell_type": "code",
   "execution_count": 66,
   "metadata": {
    "ExecuteTime": {
     "end_time": "2021-09-02T04:35:54.683821Z",
     "start_time": "2021-09-02T04:35:54.660823Z"
    }
   },
   "outputs": [],
   "source": [
    "x = df.drop(columns=['model', 'year', 'price'])\n",
    "y = df['price']"
   ]
  },
  {
   "cell_type": "code",
   "execution_count": 67,
   "metadata": {
    "ExecuteTime": {
     "end_time": "2021-09-02T04:35:55.691676Z",
     "start_time": "2021-09-02T04:35:55.639303Z"
    }
   },
   "outputs": [],
   "source": [
    "x_train, x_test, y_train, y_test = train_test_split(\n",
    "    x,\n",
    "    y,\n",
    "    random_state=2020\n",
    ")"
   ]
  },
  {
   "cell_type": "markdown",
   "metadata": {
    "ExecuteTime": {
     "end_time": "2021-09-02T04:56:36.916703Z",
     "start_time": "2021-09-02T04:56:36.906704Z"
    }
   },
   "source": [
    "# Handing Missing Value"
   ]
  },
  {
   "cell_type": "markdown",
   "metadata": {
    "ExecuteTime": {
     "end_time": "2021-09-02T04:56:56.226032Z",
     "start_time": "2021-09-02T04:56:56.213512Z"
    }
   },
   "source": [
    "## Tax"
   ]
  },
  {
   "cell_type": "code",
   "execution_count": 90,
   "metadata": {
    "ExecuteTime": {
     "end_time": "2021-09-02T04:53:37.133760Z",
     "start_time": "2021-09-02T04:53:37.119782Z"
    }
   },
   "outputs": [],
   "source": [
    "df['tax']=df['tax'].fillna(0)"
   ]
  },
  {
   "cell_type": "code",
   "execution_count": 100,
   "metadata": {
    "ExecuteTime": {
     "end_time": "2021-09-02T04:57:18.642894Z",
     "start_time": "2021-09-02T04:57:18.632893Z"
    },
    "scrolled": true
   },
   "outputs": [],
   "source": [
    "df['tax_is_missing']=np.where(df['tax']==0,1,0)"
   ]
  },
  {
   "cell_type": "markdown",
   "metadata": {
    "ExecuteTime": {
     "end_time": "2021-09-02T04:57:35.368851Z",
     "start_time": "2021-09-02T04:57:35.364854Z"
    }
   },
   "source": [
    "## MPG"
   ]
  },
  {
   "cell_type": "code",
   "execution_count": 95,
   "metadata": {
    "ExecuteTime": {
     "end_time": "2021-09-02T04:55:38.530114Z",
     "start_time": "2021-09-02T04:55:38.516114Z"
    }
   },
   "outputs": [],
   "source": [
    "df['mpg']=df['mpg'].fillna(0)"
   ]
  },
  {
   "cell_type": "code",
   "execution_count": 102,
   "metadata": {
    "ExecuteTime": {
     "end_time": "2021-09-02T04:57:45.064941Z",
     "start_time": "2021-09-02T04:57:45.056220Z"
    },
    "scrolled": true
   },
   "outputs": [],
   "source": [
    "df['mpg_is_missing']=np.where(df['mpg']==0,1,0)"
   ]
  },
  {
   "cell_type": "markdown",
   "metadata": {
    "ExecuteTime": {
     "end_time": "2021-09-02T04:57:35.368851Z",
     "start_time": "2021-09-02T04:57:35.364854Z"
    }
   },
   "source": [
    "## engineSize"
   ]
  },
  {
   "cell_type": "code",
   "execution_count": 103,
   "metadata": {
    "ExecuteTime": {
     "end_time": "2021-09-02T04:58:16.038958Z",
     "start_time": "2021-09-02T04:58:16.027291Z"
    },
    "scrolled": true
   },
   "outputs": [],
   "source": [
    "df['engineSize_is_missing']=np.where(df['engineSize']==0,1,0)"
   ]
  },
  {
   "cell_type": "markdown",
   "metadata": {},
   "source": [
    "# Preprocessing"
   ]
  },
  {
   "cell_type": "code",
   "execution_count": 68,
   "metadata": {
    "ExecuteTime": {
     "end_time": "2021-09-02T04:35:57.038284Z",
     "start_time": "2021-09-02T04:35:57.033285Z"
    }
   },
   "outputs": [],
   "source": [
    "transformer = ColumnTransformer([\n",
    "    ('one hot encoding', OneHotEncoder(drop='first'), ['transmission', 'fuelType']),\n",
    "    ('binary encoding', ce.BinaryEncoder(), ['brand']),\n",
    "    ('Robust Scaler', RobustScaler(), ['mileage', 'tax', 'mpg', 'engineSize', 'age'])\n",
    "], remainder='passthrough')"
   ]
  },
  {
   "cell_type": "markdown",
   "metadata": {},
   "source": [
    "# Data Transform"
   ]
  },
  {
   "cell_type": "code",
   "execution_count": 69,
   "metadata": {
    "ExecuteTime": {
     "end_time": "2021-09-02T04:35:59.175689Z",
     "start_time": "2021-09-02T04:35:58.980663Z"
    }
   },
   "outputs": [],
   "source": [
    "x_train_preprocessed=pd.DataFrame(transformer.fit_transform(x_train))\n",
    "x_test_preprocessed=pd.DataFrame(transformer.transform(x_test))"
   ]
  },
  {
   "cell_type": "markdown",
   "metadata": {
    "ExecuteTime": {
     "end_time": "2021-09-02T03:47:12.853673Z",
     "start_time": "2021-09-02T03:47:12.847487Z"
    }
   },
   "source": [
    "# Model Benchmark"
   ]
  },
  {
   "cell_type": "code",
   "execution_count": 70,
   "metadata": {
    "ExecuteTime": {
     "end_time": "2021-09-02T04:36:00.633287Z",
     "start_time": "2021-09-02T04:36:00.624291Z"
    }
   },
   "outputs": [],
   "source": [
    "modelLinReg = LinearRegression()\n",
    "modelRidge = Ridge(alpha=0.5)\n",
    "modelLasso = Lasso(alpha=0.5)\n",
    "modelTree = DecisionTreeRegressor(max_depth=5)\n",
    "modelKNN = KNeighborsRegressor(n_neighbors=5)\n",
    "modelRF = RandomForestRegressor(max_depth=5)"
   ]
  },
  {
   "cell_type": "code",
   "execution_count": 71,
   "metadata": {
    "ExecuteTime": {
     "end_time": "2021-09-02T04:36:01.122733Z",
     "start_time": "2021-09-02T04:36:01.118731Z"
    }
   },
   "outputs": [],
   "source": [
    "models = [\n",
    "    modelLinReg, \n",
    "    modelRidge,\n",
    "    modelLasso,\n",
    "    modelTree,\n",
    "    modelKNN,\n",
    "    modelRF\n",
    "]"
   ]
  },
  {
   "cell_type": "code",
   "execution_count": null,
   "metadata": {},
   "outputs": [],
   "source": [
    "# def model_selection():\n",
    "\n",
    "#     cv_score = []\n",
    "#     cv_mean = []\n",
    "#     cv_std = []\n",
    "\n",
    "#     for i in models:\n",
    "#         kf = KFold(n_splits=5, shuffle=True, random_state=2020)\n",
    "#         estimator = Pipeline([\n",
    "#             ('preprocess', transformer),\n",
    "#             ('model', i)\n",
    "#         ])\n",
    "\n",
    "#         model_cv = cross_val_score(estimator, x_train, y_train, cv=5, scoring='neg_mean_absolute_error')\n",
    "#         cv_score.append(model_cv)\n",
    "#         cv_mean.append(model_cv.mean())\n",
    "#         cv_std.append(model_cv.std())\n",
    "    \n",
    "#     return pd.DataFrame({\n",
    "#         'model': ['linreg', 'ridge', 'lasso', 'tree', 'knn', 'rf'],\n",
    "#         'score': cv_score,\n",
    "#         'mean': cv_mean,\n",
    "#         'std': cv_std\n",
    "#     })"
   ]
  },
  {
   "cell_type": "code",
   "execution_count": 74,
   "metadata": {
    "ExecuteTime": {
     "end_time": "2021-09-02T04:38:02.844447Z",
     "start_time": "2021-09-02T04:38:02.505746Z"
    }
   },
   "outputs": [
    {
     "name": "stdout",
     "output_type": "stream",
     "text": [
      "7105.976621397925\n",
      "6967.1048343992525\n",
      "7080.706577770745\n",
      "7069.322212316754\n",
      "7039.4338049175385\n"
     ]
    }
   ],
   "source": [
    "kf = KFold(n_splits=5, shuffle=True, random_state=2020)\n",
    "\n",
    "# x_train_preprocessed2=x_train_preprocessed.dropna()\n",
    "\n",
    "for train_index, val_index in kf.split(x_train_preprocessed):\n",
    "#     print(\"TRAIN:\", train_index, \"VAL:\", val_index)\n",
    "    x1_train, x_val = x_train_preprocessed.iloc[train_index], x_train_preprocessed.iloc[val_index]\n",
    "    y1_train, y_val = y_train.iloc[train_index], y_train.iloc[val_index]\n",
    "    \n",
    "    modelLinReg.fit(x1_train, y1_train)\n",
    "    print(mean_absolute_error(y_val, modelLinReg.predict(x_val)))"
   ]
  },
  {
   "cell_type": "code",
   "execution_count": null,
   "metadata": {},
   "outputs": [],
   "source": []
  }
 ],
 "metadata": {
  "kernelspec": {
   "display_name": "Python 3",
   "language": "python",
   "name": "python3"
  },
  "language_info": {
   "codemirror_mode": {
    "name": "ipython",
    "version": 3
   },
   "file_extension": ".py",
   "mimetype": "text/x-python",
   "name": "python",
   "nbconvert_exporter": "python",
   "pygments_lexer": "ipython3",
   "version": "3.8.5"
  },
  "toc": {
   "base_numbering": 1,
   "nav_menu": {},
   "number_sections": true,
   "sideBar": true,
   "skip_h1_title": false,
   "title_cell": "Table of Contents",
   "title_sidebar": "Contents",
   "toc_cell": false,
   "toc_position": {
    "height": "calc(100% - 180px)",
    "left": "10px",
    "top": "150px",
    "width": "307.2px"
   },
   "toc_section_display": true,
   "toc_window_display": true
  },
  "varInspector": {
   "cols": {
    "lenName": 16,
    "lenType": 16,
    "lenVar": 40
   },
   "kernels_config": {
    "python": {
     "delete_cmd_postfix": "",
     "delete_cmd_prefix": "del ",
     "library": "var_list.py",
     "varRefreshCmd": "print(var_dic_list())"
    },
    "r": {
     "delete_cmd_postfix": ") ",
     "delete_cmd_prefix": "rm(",
     "library": "var_list.r",
     "varRefreshCmd": "cat(var_dic_list()) "
    }
   },
   "types_to_exclude": [
    "module",
    "function",
    "builtin_function_or_method",
    "instance",
    "_Feature"
   ],
   "window_display": false
  }
 },
 "nbformat": 4,
 "nbformat_minor": 4
}

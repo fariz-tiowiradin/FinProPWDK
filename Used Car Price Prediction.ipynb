{
 "cells": [
  {
   "cell_type": "markdown",
   "metadata": {
    "ExecuteTime": {
     "end_time": "2021-08-26T08:56:44.037443Z",
     "start_time": "2021-08-26T08:56:44.020408Z"
    }
   },
   "source": [
    "# Library"
   ]
  },
  {
   "cell_type": "code",
   "execution_count": 32,
   "metadata": {
    "ExecuteTime": {
     "end_time": "2021-08-26T09:08:57.557532Z",
     "start_time": "2021-08-26T09:08:57.547416Z"
    }
   },
   "outputs": [],
   "source": [
    "import numpy as np\n",
    "import pandas as pd\n",
    "import matplotlib.pyplot as plt\n",
    "import seaborn as sns\n",
    "sns.set_theme(style=\"ticks\", palette=\"pastel\")\n"
   ]
  },
  {
   "cell_type": "markdown",
   "metadata": {},
   "source": [
    "# Data"
   ]
  },
  {
   "cell_type": "code",
   "execution_count": 33,
   "metadata": {
    "ExecuteTime": {
     "end_time": "2021-08-26T09:09:39.678397Z",
     "start_time": "2021-08-26T09:09:39.191690Z"
    }
   },
   "outputs": [],
   "source": [
    "car_models = ['audi', 'bmw', 'cclass', 'focus', 'ford', 'hyundi', 'merc', 'skoda', 'toyota', 'vauxhall', 'vw']\n",
    "df = pd.DataFrame()\n",
    "\n",
    "for i in car_models:\n",
    "    carmodel_df = pd.read_csv('dataset/'+i+'.csv')\n",
    "    if i == 'hyundi':\n",
    "        carmodel_df = carmodel_df.rename(columns={'tax(£)': 'tax'})\n",
    "\n",
    "    df = pd.concat([full_data, carmodel_df])\n",
    "    "
   ]
  },
  {
   "cell_type": "code",
   "execution_count": 34,
   "metadata": {
    "ExecuteTime": {
     "end_time": "2021-08-26T09:09:43.442165Z",
     "start_time": "2021-08-26T09:09:43.398837Z"
    }
   },
   "outputs": [
    {
     "data": {
      "text/html": [
       "<div>\n",
       "<style scoped>\n",
       "    .dataframe tbody tr th:only-of-type {\n",
       "        vertical-align: middle;\n",
       "    }\n",
       "\n",
       "    .dataframe tbody tr th {\n",
       "        vertical-align: top;\n",
       "    }\n",
       "\n",
       "    .dataframe thead th {\n",
       "        text-align: right;\n",
       "    }\n",
       "</style>\n",
       "<table border=\"1\" class=\"dataframe\">\n",
       "  <thead>\n",
       "    <tr style=\"text-align: right;\">\n",
       "      <th></th>\n",
       "      <th>model</th>\n",
       "      <th>year</th>\n",
       "      <th>price</th>\n",
       "      <th>transmission</th>\n",
       "      <th>mileage</th>\n",
       "      <th>fuelType</th>\n",
       "      <th>tax</th>\n",
       "      <th>mpg</th>\n",
       "      <th>engineSize</th>\n",
       "    </tr>\n",
       "  </thead>\n",
       "  <tbody>\n",
       "    <tr>\n",
       "      <th>0</th>\n",
       "      <td>A1</td>\n",
       "      <td>2017</td>\n",
       "      <td>12500</td>\n",
       "      <td>Manual</td>\n",
       "      <td>15735</td>\n",
       "      <td>Petrol</td>\n",
       "      <td>150.0</td>\n",
       "      <td>55.4</td>\n",
       "      <td>1.4</td>\n",
       "    </tr>\n",
       "    <tr>\n",
       "      <th>1</th>\n",
       "      <td>A6</td>\n",
       "      <td>2016</td>\n",
       "      <td>16500</td>\n",
       "      <td>Automatic</td>\n",
       "      <td>36203</td>\n",
       "      <td>Diesel</td>\n",
       "      <td>20.0</td>\n",
       "      <td>64.2</td>\n",
       "      <td>2.0</td>\n",
       "    </tr>\n",
       "    <tr>\n",
       "      <th>2</th>\n",
       "      <td>A1</td>\n",
       "      <td>2016</td>\n",
       "      <td>11000</td>\n",
       "      <td>Manual</td>\n",
       "      <td>29946</td>\n",
       "      <td>Petrol</td>\n",
       "      <td>30.0</td>\n",
       "      <td>55.4</td>\n",
       "      <td>1.4</td>\n",
       "    </tr>\n",
       "    <tr>\n",
       "      <th>3</th>\n",
       "      <td>A4</td>\n",
       "      <td>2017</td>\n",
       "      <td>16800</td>\n",
       "      <td>Automatic</td>\n",
       "      <td>25952</td>\n",
       "      <td>Diesel</td>\n",
       "      <td>145.0</td>\n",
       "      <td>67.3</td>\n",
       "      <td>2.0</td>\n",
       "    </tr>\n",
       "    <tr>\n",
       "      <th>4</th>\n",
       "      <td>A3</td>\n",
       "      <td>2019</td>\n",
       "      <td>17300</td>\n",
       "      <td>Manual</td>\n",
       "      <td>1998</td>\n",
       "      <td>Petrol</td>\n",
       "      <td>145.0</td>\n",
       "      <td>49.6</td>\n",
       "      <td>1.0</td>\n",
       "    </tr>\n",
       "  </tbody>\n",
       "</table>\n",
       "</div>"
      ],
      "text/plain": [
       "  model  year  price transmission  mileage fuelType    tax   mpg  engineSize\n",
       "0    A1  2017  12500       Manual    15735   Petrol  150.0  55.4         1.4\n",
       "1    A6  2016  16500    Automatic    36203   Diesel   20.0  64.2         2.0\n",
       "2    A1  2016  11000       Manual    29946   Petrol   30.0  55.4         1.4\n",
       "3    A4  2017  16800    Automatic    25952   Diesel  145.0  67.3         2.0\n",
       "4    A3  2019  17300       Manual     1998   Petrol  145.0  49.6         1.0"
      ]
     },
     "execution_count": 34,
     "metadata": {},
     "output_type": "execute_result"
    }
   ],
   "source": [
    "df.head()"
   ]
  },
  {
   "cell_type": "markdown",
   "metadata": {
    "ExecuteTime": {
     "end_time": "2021-08-26T08:55:11.951693Z",
     "start_time": "2021-08-26T08:55:11.933460Z"
    }
   },
   "source": [
    "# EDA"
   ]
  },
  {
   "cell_type": "markdown",
   "metadata": {
    "ExecuteTime": {
     "end_time": "2021-08-26T09:03:50.709798Z",
     "start_time": "2021-08-26T09:03:50.706575Z"
    }
   },
   "source": [
    "## Distribusi Data"
   ]
  },
  {
   "cell_type": "code",
   "execution_count": 63,
   "metadata": {
    "ExecuteTime": {
     "end_time": "2021-08-26T09:25:11.937289Z",
     "start_time": "2021-08-26T09:25:11.928549Z"
    }
   },
   "outputs": [
    {
     "data": {
      "text/plain": [
       "['price', 'mileage', 'tax', 'mpg', 'engineSize']"
      ]
     },
     "execution_count": 63,
     "metadata": {},
     "output_type": "execute_result"
    }
   ],
   "source": [
    "num_features=list(df.dtypes[df.dtypes!=object].index)\n",
    "num_features.remove('year')\n",
    "num_features"
   ]
  },
  {
   "cell_type": "code",
   "execution_count": 62,
   "metadata": {
    "ExecuteTime": {
     "end_time": "2021-08-26T09:25:02.795728Z",
     "start_time": "2021-08-26T09:25:02.788053Z"
    }
   },
   "outputs": [
    {
     "data": {
      "text/plain": [
       "['price', 'mileage', 'tax', 'mpg', 'engineSize']"
      ]
     },
     "execution_count": 62,
     "metadata": {},
     "output_type": "execute_result"
    }
   ],
   "source": []
  },
  {
   "cell_type": "code",
   "execution_count": 88,
   "metadata": {
    "ExecuteTime": {
     "end_time": "2021-08-26T09:35:10.494493Z",
     "start_time": "2021-08-26T09:35:09.656409Z"
    }
   },
   "outputs": [
    {
     "data": {
      "image/png": "[encoded data removed]",
      "text/plain": [
       "<Figure size 1080x360 with 5 Axes>"
      ]
     },
     "metadata": {},
     "output_type": "display_data"
    }
   ],
   "source": [
    "figure, axis = plt.subplots(1,5,figsize=(15,5))\n",
    "\n",
    "for i in range(len(num_features)):\n",
    "    axis[i].set_title(num_features[i], size=15)\n",
    "    sns.boxplot(ax=axis[i], data = df, y=num_features[i])\n",
    "\n",
    "# auto padding subplot\n",
    "plt.tight_layout()\n",
    "plt.show()"
   ]
  },
  {
   "cell_type": "markdown",
   "metadata": {},
   "source": [
    "## Correlation"
   ]
  },
  {
   "cell_type": "code",
   "execution_count": 92,
   "metadata": {
    "ExecuteTime": {
     "end_time": "2021-08-26T09:39:56.510288Z",
     "start_time": "2021-08-26T09:39:56.135745Z"
    }
   },
   "outputs": [
    {
     "data": {
      "text/html": [
       "<div>\n",
       "<style scoped>\n",
       "    .dataframe tbody tr th:only-of-type {\n",
       "        vertical-align: middle;\n",
       "    }\n",
       "\n",
       "    .dataframe tbody tr th {\n",
       "        vertical-align: top;\n",
       "    }\n",
       "\n",
       "    .dataframe thead th {\n",
       "        text-align: right;\n",
       "    }\n",
       "</style>\n",
       "<table border=\"1\" class=\"dataframe\">\n",
       "  <thead>\n",
       "    <tr style=\"text-align: right;\">\n",
       "      <th></th>\n",
       "      <th>price</th>\n",
       "      <th>mileage</th>\n",
       "      <th>tax</th>\n",
       "      <th>mpg</th>\n",
       "      <th>engineSize</th>\n",
       "    </tr>\n",
       "  </thead>\n",
       "  <tbody>\n",
       "    <tr>\n",
       "      <th>price</th>\n",
       "      <td>1.000000</td>\n",
       "      <td>-0.533232</td>\n",
       "      <td>0.338215</td>\n",
       "      <td>-0.429363</td>\n",
       "      <td>0.570025</td>\n",
       "    </tr>\n",
       "    <tr>\n",
       "      <th>mileage</th>\n",
       "      <td>-0.533232</td>\n",
       "      <td>1.000000</td>\n",
       "      <td>-0.274635</td>\n",
       "      <td>0.358522</td>\n",
       "      <td>0.099104</td>\n",
       "    </tr>\n",
       "    <tr>\n",
       "      <th>tax</th>\n",
       "      <td>0.338215</td>\n",
       "      <td>-0.274635</td>\n",
       "      <td>1.000000</td>\n",
       "      <td>-0.581394</td>\n",
       "      <td>0.173881</td>\n",
       "    </tr>\n",
       "    <tr>\n",
       "      <th>mpg</th>\n",
       "      <td>-0.429363</td>\n",
       "      <td>0.358522</td>\n",
       "      <td>-0.581394</td>\n",
       "      <td>1.000000</td>\n",
       "      <td>-0.214932</td>\n",
       "    </tr>\n",
       "    <tr>\n",
       "      <th>engineSize</th>\n",
       "      <td>0.570025</td>\n",
       "      <td>0.099104</td>\n",
       "      <td>0.173881</td>\n",
       "      <td>-0.214932</td>\n",
       "      <td>1.000000</td>\n",
       "    </tr>\n",
       "  </tbody>\n",
       "</table>\n",
       "</div>"
      ],
      "text/plain": [
       "               price   mileage       tax       mpg  engineSize\n",
       "price       1.000000 -0.533232  0.338215 -0.429363    0.570025\n",
       "mileage    -0.533232  1.000000 -0.274635  0.358522    0.099104\n",
       "tax         0.338215 -0.274635  1.000000 -0.581394    0.173881\n",
       "mpg        -0.429363  0.358522 -0.581394  1.000000   -0.214932\n",
       "engineSize  0.570025  0.099104  0.173881 -0.214932    1.000000"
      ]
     },
     "execution_count": 92,
     "metadata": {},
     "output_type": "execute_result"
    }
   ],
   "source": [
    "df[num_features].corr(method='spearman')"
   ]
  },
  {
   "cell_type": "markdown",
   "metadata": {},
   "source": [
    "## Missing Value"
   ]
  },
  {
   "cell_type": "code",
   "execution_count": 29,
   "metadata": {
    "ExecuteTime": {
     "end_time": "2021-08-26T08:59:17.581484Z",
     "start_time": "2021-08-26T08:59:17.537575Z"
    }
   },
   "outputs": [
    {
     "data": {
      "text/plain": [
       "model           0.0000\n",
       "year            0.0000\n",
       "price           0.0000\n",
       "transmission    0.0000\n",
       "mileage         0.0000\n",
       "fuelType        0.0000\n",
       "tax             8.6171\n",
       "mpg             8.6171\n",
       "engineSize      0.0000\n",
       "dtype: float64"
      ]
     },
     "execution_count": 29,
     "metadata": {},
     "output_type": "execute_result"
    }
   ],
   "source": [
    "full_data.isna().sum() / full_data.shape[0] * 100"
   ]
  },
  {
   "cell_type": "markdown",
   "metadata": {},
   "source": [
    "### Handling Missing Value in Tax"
   ]
  },
  {
   "cell_type": "code",
   "execution_count": null,
   "metadata": {},
   "outputs": [],
   "source": [
    "https://www.gov.uk/calculate-tax-rates-for-new-cars\n",
    "\n",
    "berdasarkan referensi diatas, untuk perhitungan \n",
    "\n",
    "\n",
    "pending"
   ]
  }
 ],
 "metadata": {
  "kernelspec": {
   "display_name": "Python 3",
   "language": "python",
   "name": "python3"
  },
  "language_info": {
   "codemirror_mode": {
    "name": "ipython",
    "version": 3
   },
   "file_extension": ".py",
   "mimetype": "text/x-python",
   "name": "python",
   "nbconvert_exporter": "python",
   "pygments_lexer": "ipython3",
   "version": "3.8.5"
  },
  "toc": {
   "base_numbering": 1,
   "nav_menu": {},
   "number_sections": true,
   "sideBar": true,
   "skip_h1_title": false,
   "title_cell": "Table of Contents",
   "title_sidebar": "Contents",
   "toc_cell": false,
   "toc_position": {},
   "toc_section_display": true,
   "toc_window_display": false
  }
 },
 "nbformat": 4,
 "nbformat_minor": 4
}

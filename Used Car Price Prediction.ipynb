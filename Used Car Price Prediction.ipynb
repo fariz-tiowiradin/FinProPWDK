{
 "cells": [
  {
   "cell_type": "markdown",
   "metadata": {
    "ExecuteTime": {
     "end_time": "2021-08-26T08:56:44.037443Z",
     "start_time": "2021-08-26T08:56:44.020408Z"
    }
   },
   "source": [
    "# Library"
   ]
  },
  {
   "cell_type": "code",
   "execution_count": 68,
   "metadata": {
    "ExecuteTime": {
     "end_time": "2021-08-27T08:13:54.466336Z",
     "start_time": "2021-08-27T08:13:54.443110Z"
    }
   },
   "outputs": [],
   "source": [
    "import numpy as np\n",
    "import pandas as pd\n",
    "import matplotlib.pyplot as plt\n",
    "import seaborn as sns\n",
    "sns.set_theme(style=\"ticks\", palette=\"pastel\")\n",
    "\n",
    "from scipy.stats import kruskal"
   ]
  },
  {
   "cell_type": "markdown",
   "metadata": {},
   "source": [
    "# Data"
   ]
  },
  {
   "cell_type": "code",
   "execution_count": 69,
   "metadata": {
    "ExecuteTime": {
     "end_time": "2021-08-27T08:13:55.853259Z",
     "start_time": "2021-08-27T08:13:55.500201Z"
    }
   },
   "outputs": [],
   "source": [
    "car_models = ['audi', 'bmw', 'cclass', 'focus', 'ford', 'hyundi', 'merc', 'skoda', 'toyota', 'vauxhall', 'vw']\n",
    "df = pd.DataFrame()\n",
    "\n",
    "for i in car_models:\n",
    "    carmodel_df = pd.read_csv('dataset/'+i+'.csv')\n",
    "    if i == 'hyundi':\n",
    "        carmodel_df = carmodel_df.rename(columns={'tax(£)': 'tax'})\n",
    "\n",
    "    df = pd.concat([df, carmodel_df])\n",
    "    "
   ]
  },
  {
   "cell_type": "code",
   "execution_count": 3,
   "metadata": {
    "ExecuteTime": {
     "end_time": "2021-08-27T07:07:26.123962Z",
     "start_time": "2021-08-27T07:07:26.110989Z"
    }
   },
   "outputs": [],
   "source": [
    "# reset ulang index, karena index masih menggunakan index dataframe sebelum digabung\n",
    "df = df.reset_index()"
   ]
  },
  {
   "cell_type": "code",
   "execution_count": 4,
   "metadata": {
    "ExecuteTime": {
     "end_time": "2021-08-27T07:07:26.186423Z",
     "start_time": "2021-08-27T07:07:26.126954Z"
    },
    "scrolled": true
   },
   "outputs": [
    {
     "data": {
      "text/html": [
       "<div>\n",
       "<style scoped>\n",
       "    .dataframe tbody tr th:only-of-type {\n",
       "        vertical-align: middle;\n",
       "    }\n",
       "\n",
       "    .dataframe tbody tr th {\n",
       "        vertical-align: top;\n",
       "    }\n",
       "\n",
       "    .dataframe thead th {\n",
       "        text-align: right;\n",
       "    }\n",
       "</style>\n",
       "<table border=\"1\" class=\"dataframe\">\n",
       "  <thead>\n",
       "    <tr style=\"text-align: right;\">\n",
       "      <th></th>\n",
       "      <th>model</th>\n",
       "      <th>year</th>\n",
       "      <th>price</th>\n",
       "      <th>transmission</th>\n",
       "      <th>mileage</th>\n",
       "      <th>fuelType</th>\n",
       "      <th>tax</th>\n",
       "      <th>mpg</th>\n",
       "      <th>engineSize</th>\n",
       "    </tr>\n",
       "  </thead>\n",
       "  <tbody>\n",
       "    <tr>\n",
       "      <th>0</th>\n",
       "      <td>A1</td>\n",
       "      <td>2017</td>\n",
       "      <td>12500</td>\n",
       "      <td>Manual</td>\n",
       "      <td>15735</td>\n",
       "      <td>Petrol</td>\n",
       "      <td>150.0</td>\n",
       "      <td>55.4</td>\n",
       "      <td>1.4</td>\n",
       "    </tr>\n",
       "    <tr>\n",
       "      <th>1</th>\n",
       "      <td>A6</td>\n",
       "      <td>2016</td>\n",
       "      <td>16500</td>\n",
       "      <td>Automatic</td>\n",
       "      <td>36203</td>\n",
       "      <td>Diesel</td>\n",
       "      <td>20.0</td>\n",
       "      <td>64.2</td>\n",
       "      <td>2.0</td>\n",
       "    </tr>\n",
       "    <tr>\n",
       "      <th>2</th>\n",
       "      <td>A1</td>\n",
       "      <td>2016</td>\n",
       "      <td>11000</td>\n",
       "      <td>Manual</td>\n",
       "      <td>29946</td>\n",
       "      <td>Petrol</td>\n",
       "      <td>30.0</td>\n",
       "      <td>55.4</td>\n",
       "      <td>1.4</td>\n",
       "    </tr>\n",
       "    <tr>\n",
       "      <th>3</th>\n",
       "      <td>A4</td>\n",
       "      <td>2017</td>\n",
       "      <td>16800</td>\n",
       "      <td>Automatic</td>\n",
       "      <td>25952</td>\n",
       "      <td>Diesel</td>\n",
       "      <td>145.0</td>\n",
       "      <td>67.3</td>\n",
       "      <td>2.0</td>\n",
       "    </tr>\n",
       "    <tr>\n",
       "      <th>4</th>\n",
       "      <td>A3</td>\n",
       "      <td>2019</td>\n",
       "      <td>17300</td>\n",
       "      <td>Manual</td>\n",
       "      <td>1998</td>\n",
       "      <td>Petrol</td>\n",
       "      <td>145.0</td>\n",
       "      <td>49.6</td>\n",
       "      <td>1.0</td>\n",
       "    </tr>\n",
       "    <tr>\n",
       "      <th>...</th>\n",
       "      <td>...</td>\n",
       "      <td>...</td>\n",
       "      <td>...</td>\n",
       "      <td>...</td>\n",
       "      <td>...</td>\n",
       "      <td>...</td>\n",
       "      <td>...</td>\n",
       "      <td>...</td>\n",
       "      <td>...</td>\n",
       "    </tr>\n",
       "    <tr>\n",
       "      <th>108535</th>\n",
       "      <td>Eos</td>\n",
       "      <td>2012</td>\n",
       "      <td>5990</td>\n",
       "      <td>Manual</td>\n",
       "      <td>74000</td>\n",
       "      <td>Diesel</td>\n",
       "      <td>125.0</td>\n",
       "      <td>58.9</td>\n",
       "      <td>2.0</td>\n",
       "    </tr>\n",
       "    <tr>\n",
       "      <th>108536</th>\n",
       "      <td>Fox</td>\n",
       "      <td>2008</td>\n",
       "      <td>1799</td>\n",
       "      <td>Manual</td>\n",
       "      <td>88102</td>\n",
       "      <td>Petrol</td>\n",
       "      <td>145.0</td>\n",
       "      <td>46.3</td>\n",
       "      <td>1.2</td>\n",
       "    </tr>\n",
       "    <tr>\n",
       "      <th>108537</th>\n",
       "      <td>Fox</td>\n",
       "      <td>2009</td>\n",
       "      <td>1590</td>\n",
       "      <td>Manual</td>\n",
       "      <td>70000</td>\n",
       "      <td>Petrol</td>\n",
       "      <td>200.0</td>\n",
       "      <td>42.0</td>\n",
       "      <td>1.4</td>\n",
       "    </tr>\n",
       "    <tr>\n",
       "      <th>108538</th>\n",
       "      <td>Fox</td>\n",
       "      <td>2006</td>\n",
       "      <td>1250</td>\n",
       "      <td>Manual</td>\n",
       "      <td>82704</td>\n",
       "      <td>Petrol</td>\n",
       "      <td>150.0</td>\n",
       "      <td>46.3</td>\n",
       "      <td>1.2</td>\n",
       "    </tr>\n",
       "    <tr>\n",
       "      <th>108539</th>\n",
       "      <td>Fox</td>\n",
       "      <td>2007</td>\n",
       "      <td>2295</td>\n",
       "      <td>Manual</td>\n",
       "      <td>74000</td>\n",
       "      <td>Petrol</td>\n",
       "      <td>145.0</td>\n",
       "      <td>46.3</td>\n",
       "      <td>1.2</td>\n",
       "    </tr>\n",
       "  </tbody>\n",
       "</table>\n",
       "<p>108540 rows × 9 columns</p>\n",
       "</div>"
      ],
      "text/plain": [
       "       model  year  price transmission  mileage fuelType    tax   mpg  \\\n",
       "0         A1  2017  12500       Manual    15735   Petrol  150.0  55.4   \n",
       "1         A6  2016  16500    Automatic    36203   Diesel   20.0  64.2   \n",
       "2         A1  2016  11000       Manual    29946   Petrol   30.0  55.4   \n",
       "3         A4  2017  16800    Automatic    25952   Diesel  145.0  67.3   \n",
       "4         A3  2019  17300       Manual     1998   Petrol  145.0  49.6   \n",
       "...      ...   ...    ...          ...      ...      ...    ...   ...   \n",
       "108535   Eos  2012   5990       Manual    74000   Diesel  125.0  58.9   \n",
       "108536   Fox  2008   1799       Manual    88102   Petrol  145.0  46.3   \n",
       "108537   Fox  2009   1590       Manual    70000   Petrol  200.0  42.0   \n",
       "108538   Fox  2006   1250       Manual    82704   Petrol  150.0  46.3   \n",
       "108539   Fox  2007   2295       Manual    74000   Petrol  145.0  46.3   \n",
       "\n",
       "        engineSize  \n",
       "0              1.4  \n",
       "1              2.0  \n",
       "2              1.4  \n",
       "3              2.0  \n",
       "4              1.0  \n",
       "...            ...  \n",
       "108535         2.0  \n",
       "108536         1.2  \n",
       "108537         1.4  \n",
       "108538         1.2  \n",
       "108539         1.2  \n",
       "\n",
       "[108540 rows x 9 columns]"
      ]
     },
     "execution_count": 4,
     "metadata": {},
     "output_type": "execute_result"
    }
   ],
   "source": [
    "# drop index lama\n",
    "df = df.drop(columns='index')\n",
    "df"
   ]
  },
  {
   "cell_type": "markdown",
   "metadata": {
    "ExecuteTime": {
     "end_time": "2021-08-27T08:25:33.365529Z",
     "start_time": "2021-08-27T08:25:33.252360Z"
    }
   },
   "source": [
    "- mpg = miles per gallon, more mpg means better fuel economy \n",
    "- engine size = the measure of the cylinder volume swept by all of the pistons (cubic inches). increased engine displacement means produce more power, but can burn more fuel"
   ]
  },
  {
   "cell_type": "markdown",
   "metadata": {
    "ExecuteTime": {
     "end_time": "2021-08-26T08:55:11.951693Z",
     "start_time": "2021-08-26T08:55:11.933460Z"
    }
   },
   "source": [
    "# EDA"
   ]
  },
  {
   "cell_type": "markdown",
   "metadata": {},
   "source": [
    "## Deskripsi Statistik"
   ]
  },
  {
   "cell_type": "code",
   "execution_count": 5,
   "metadata": {
    "ExecuteTime": {
     "end_time": "2021-08-27T07:07:26.233618Z",
     "start_time": "2021-08-27T07:07:26.188424Z"
    }
   },
   "outputs": [
    {
     "name": "stdout",
     "output_type": "stream",
     "text": [
      "<class 'pandas.core.frame.DataFrame'>\n",
      "RangeIndex: 108540 entries, 0 to 108539\n",
      "Data columns (total 9 columns):\n",
      " #   Column        Non-Null Count   Dtype  \n",
      "---  ------        --------------   -----  \n",
      " 0   model         108540 non-null  object \n",
      " 1   year          108540 non-null  int64  \n",
      " 2   price         108540 non-null  int64  \n",
      " 3   transmission  108540 non-null  object \n",
      " 4   mileage       108540 non-null  int64  \n",
      " 5   fuelType      108540 non-null  object \n",
      " 6   tax           99187 non-null   float64\n",
      " 7   mpg           99187 non-null   float64\n",
      " 8   engineSize    108540 non-null  float64\n",
      "dtypes: float64(3), int64(3), object(3)\n",
      "memory usage: 7.5+ MB\n"
     ]
    }
   ],
   "source": [
    "df.info()"
   ]
  },
  {
   "cell_type": "code",
   "execution_count": 6,
   "metadata": {
    "ExecuteTime": {
     "end_time": "2021-08-27T07:07:26.357351Z",
     "start_time": "2021-08-27T07:07:26.236430Z"
    },
    "scrolled": true
   },
   "outputs": [
    {
     "data": {
      "text/html": [
       "<div>\n",
       "<style scoped>\n",
       "    .dataframe tbody tr th:only-of-type {\n",
       "        vertical-align: middle;\n",
       "    }\n",
       "\n",
       "    .dataframe tbody tr th {\n",
       "        vertical-align: top;\n",
       "    }\n",
       "\n",
       "    .dataframe thead th {\n",
       "        text-align: right;\n",
       "    }\n",
       "</style>\n",
       "<table border=\"1\" class=\"dataframe\">\n",
       "  <thead>\n",
       "    <tr style=\"text-align: right;\">\n",
       "      <th></th>\n",
       "      <th>model</th>\n",
       "      <th>transmission</th>\n",
       "      <th>fuelType</th>\n",
       "    </tr>\n",
       "  </thead>\n",
       "  <tbody>\n",
       "    <tr>\n",
       "      <th>count</th>\n",
       "      <td>108540</td>\n",
       "      <td>108540</td>\n",
       "      <td>108540</td>\n",
       "    </tr>\n",
       "    <tr>\n",
       "      <th>unique</th>\n",
       "      <td>195</td>\n",
       "      <td>4</td>\n",
       "      <td>5</td>\n",
       "    </tr>\n",
       "    <tr>\n",
       "      <th>top</th>\n",
       "      <td>Focus</td>\n",
       "      <td>Manual</td>\n",
       "      <td>Petrol</td>\n",
       "    </tr>\n",
       "    <tr>\n",
       "      <th>freq</th>\n",
       "      <td>10042</td>\n",
       "      <td>61308</td>\n",
       "      <td>59875</td>\n",
       "    </tr>\n",
       "  </tbody>\n",
       "</table>\n",
       "</div>"
      ],
      "text/plain": [
       "         model transmission fuelType\n",
       "count   108540       108540   108540\n",
       "unique     195            4        5\n",
       "top      Focus       Manual   Petrol\n",
       "freq     10042        61308    59875"
      ]
     },
     "execution_count": 6,
     "metadata": {},
     "output_type": "execute_result"
    }
   ],
   "source": [
    "df.describe(include=object)"
   ]
  },
  {
   "cell_type": "code",
   "execution_count": 18,
   "metadata": {
    "ExecuteTime": {
     "end_time": "2021-08-27T07:07:33.539490Z",
     "start_time": "2021-08-27T07:07:33.510427Z"
    }
   },
   "outputs": [
    {
     "data": {
      "text/plain": [
       "model           0.000000\n",
       "year            0.000000\n",
       "price           0.000000\n",
       "transmission    0.000000\n",
       "mileage         0.000000\n",
       "fuelType        0.000000\n",
       "tax             8.627936\n",
       "mpg             8.627936\n",
       "engineSize      0.000000\n",
       "dtype: float64"
      ]
     },
     "execution_count": 18,
     "metadata": {},
     "output_type": "execute_result"
    }
   ],
   "source": [
    "df.isna().sum() / df.shape[0] * 100"
   ]
  },
  {
   "cell_type": "code",
   "execution_count": 7,
   "metadata": {
    "ExecuteTime": {
     "end_time": "2021-08-27T07:07:26.435477Z",
     "start_time": "2021-08-27T07:07:26.363469Z"
    }
   },
   "outputs": [
    {
     "data": {
      "text/html": [
       "<div>\n",
       "<style scoped>\n",
       "    .dataframe tbody tr th:only-of-type {\n",
       "        vertical-align: middle;\n",
       "    }\n",
       "\n",
       "    .dataframe tbody tr th {\n",
       "        vertical-align: top;\n",
       "    }\n",
       "\n",
       "    .dataframe thead th {\n",
       "        text-align: right;\n",
       "    }\n",
       "</style>\n",
       "<table border=\"1\" class=\"dataframe\">\n",
       "  <thead>\n",
       "    <tr style=\"text-align: right;\">\n",
       "      <th></th>\n",
       "      <th>year</th>\n",
       "      <th>price</th>\n",
       "      <th>mileage</th>\n",
       "      <th>tax</th>\n",
       "      <th>mpg</th>\n",
       "      <th>engineSize</th>\n",
       "    </tr>\n",
       "  </thead>\n",
       "  <tbody>\n",
       "    <tr>\n",
       "      <th>count</th>\n",
       "      <td>108540.000000</td>\n",
       "      <td>108540.000000</td>\n",
       "      <td>108540.000000</td>\n",
       "      <td>99187.000000</td>\n",
       "      <td>99187.000000</td>\n",
       "      <td>108540.000000</td>\n",
       "    </tr>\n",
       "    <tr>\n",
       "      <th>mean</th>\n",
       "      <td>2017.098028</td>\n",
       "      <td>16890.124046</td>\n",
       "      <td>23025.928469</td>\n",
       "      <td>120.299838</td>\n",
       "      <td>55.166825</td>\n",
       "      <td>1.661644</td>\n",
       "    </tr>\n",
       "    <tr>\n",
       "      <th>std</th>\n",
       "      <td>2.130057</td>\n",
       "      <td>9756.266820</td>\n",
       "      <td>21176.423684</td>\n",
       "      <td>63.150926</td>\n",
       "      <td>16.138522</td>\n",
       "      <td>0.557058</td>\n",
       "    </tr>\n",
       "    <tr>\n",
       "      <th>min</th>\n",
       "      <td>1970.000000</td>\n",
       "      <td>450.000000</td>\n",
       "      <td>1.000000</td>\n",
       "      <td>0.000000</td>\n",
       "      <td>0.300000</td>\n",
       "      <td>0.000000</td>\n",
       "    </tr>\n",
       "    <tr>\n",
       "      <th>25%</th>\n",
       "      <td>2016.000000</td>\n",
       "      <td>10229.500000</td>\n",
       "      <td>7491.750000</td>\n",
       "      <td>125.000000</td>\n",
       "      <td>47.100000</td>\n",
       "      <td>1.200000</td>\n",
       "    </tr>\n",
       "    <tr>\n",
       "      <th>50%</th>\n",
       "      <td>2017.000000</td>\n",
       "      <td>14698.000000</td>\n",
       "      <td>17265.000000</td>\n",
       "      <td>145.000000</td>\n",
       "      <td>54.300000</td>\n",
       "      <td>1.600000</td>\n",
       "    </tr>\n",
       "    <tr>\n",
       "      <th>75%</th>\n",
       "      <td>2019.000000</td>\n",
       "      <td>20940.000000</td>\n",
       "      <td>32236.000000</td>\n",
       "      <td>145.000000</td>\n",
       "      <td>62.800000</td>\n",
       "      <td>2.000000</td>\n",
       "    </tr>\n",
       "    <tr>\n",
       "      <th>max</th>\n",
       "      <td>2060.000000</td>\n",
       "      <td>159999.000000</td>\n",
       "      <td>323000.000000</td>\n",
       "      <td>580.000000</td>\n",
       "      <td>470.800000</td>\n",
       "      <td>6.600000</td>\n",
       "    </tr>\n",
       "  </tbody>\n",
       "</table>\n",
       "</div>"
      ],
      "text/plain": [
       "                year          price        mileage           tax  \\\n",
       "count  108540.000000  108540.000000  108540.000000  99187.000000   \n",
       "mean     2017.098028   16890.124046   23025.928469    120.299838   \n",
       "std         2.130057    9756.266820   21176.423684     63.150926   \n",
       "min      1970.000000     450.000000       1.000000      0.000000   \n",
       "25%      2016.000000   10229.500000    7491.750000    125.000000   \n",
       "50%      2017.000000   14698.000000   17265.000000    145.000000   \n",
       "75%      2019.000000   20940.000000   32236.000000    145.000000   \n",
       "max      2060.000000  159999.000000  323000.000000    580.000000   \n",
       "\n",
       "                mpg     engineSize  \n",
       "count  99187.000000  108540.000000  \n",
       "mean      55.166825       1.661644  \n",
       "std       16.138522       0.557058  \n",
       "min        0.300000       0.000000  \n",
       "25%       47.100000       1.200000  \n",
       "50%       54.300000       1.600000  \n",
       "75%       62.800000       2.000000  \n",
       "max      470.800000       6.600000  "
      ]
     },
     "execution_count": 7,
     "metadata": {},
     "output_type": "execute_result"
    }
   ],
   "source": [
    "df.describe()"
   ]
  },
  {
   "cell_type": "markdown",
   "metadata": {},
   "source": [
    "> dari data diatas, dapat kita lihat bahwa engineSize memiliki nilai minimum 0, dimana hal tersebut tidak mungkin karena tidak ada kendaraan dengan engineSize = 0"
   ]
  },
  {
   "cell_type": "markdown",
   "metadata": {},
   "source": [
    "## Handling Anomali Data"
   ]
  },
  {
   "cell_type": "markdown",
   "metadata": {
    "ExecuteTime": {
     "end_time": "2021-08-27T07:46:42.225764Z",
     "start_time": "2021-08-27T07:46:42.222787Z"
    }
   },
   "source": [
    "### Data 'year' = 2060"
   ]
  },
  {
   "cell_type": "code",
   "execution_count": 30,
   "metadata": {
    "ExecuteTime": {
     "end_time": "2021-08-27T07:44:51.574482Z",
     "start_time": "2021-08-27T07:44:51.489438Z"
    }
   },
   "outputs": [
    {
     "data": {
      "text/html": [
       "<div>\n",
       "<style scoped>\n",
       "    .dataframe tbody tr th:only-of-type {\n",
       "        vertical-align: middle;\n",
       "    }\n",
       "\n",
       "    .dataframe tbody tr th {\n",
       "        vertical-align: top;\n",
       "    }\n",
       "\n",
       "    .dataframe thead th {\n",
       "        text-align: right;\n",
       "    }\n",
       "</style>\n",
       "<table border=\"1\" class=\"dataframe\">\n",
       "  <thead>\n",
       "    <tr style=\"text-align: right;\">\n",
       "      <th></th>\n",
       "      <th>model</th>\n",
       "      <th>year</th>\n",
       "      <th>price</th>\n",
       "      <th>transmission</th>\n",
       "      <th>mileage</th>\n",
       "      <th>fuelType</th>\n",
       "      <th>tax</th>\n",
       "      <th>mpg</th>\n",
       "      <th>engineSize</th>\n",
       "    </tr>\n",
       "  </thead>\n",
       "  <tbody>\n",
       "  </tbody>\n",
       "</table>\n",
       "</div>"
      ],
      "text/plain": [
       "Empty DataFrame\n",
       "Columns: [model, year, price, transmission, mileage, fuelType, tax, mpg, engineSize]\n",
       "Index: []"
      ]
     },
     "execution_count": 30,
     "metadata": {},
     "output_type": "execute_result"
    }
   ],
   "source": [
    "df[df['year'] == 2060]"
   ]
  },
  {
   "cell_type": "code",
   "execution_count": 8,
   "metadata": {
    "ExecuteTime": {
     "end_time": "2021-08-27T07:07:26.467268Z",
     "start_time": "2021-08-27T07:07:26.438479Z"
    }
   },
   "outputs": [],
   "source": [
    "df.drop(df[df['year'] == 2060].index, inplace = True)"
   ]
  },
  {
   "cell_type": "code",
   "execution_count": 9,
   "metadata": {
    "ExecuteTime": {
     "end_time": "2021-08-27T07:07:26.545729Z",
     "start_time": "2021-08-27T07:07:26.469266Z"
    }
   },
   "outputs": [
    {
     "data": {
      "text/html": [
       "<div>\n",
       "<style scoped>\n",
       "    .dataframe tbody tr th:only-of-type {\n",
       "        vertical-align: middle;\n",
       "    }\n",
       "\n",
       "    .dataframe tbody tr th {\n",
       "        vertical-align: top;\n",
       "    }\n",
       "\n",
       "    .dataframe thead th {\n",
       "        text-align: right;\n",
       "    }\n",
       "</style>\n",
       "<table border=\"1\" class=\"dataframe\">\n",
       "  <thead>\n",
       "    <tr style=\"text-align: right;\">\n",
       "      <th></th>\n",
       "      <th>year</th>\n",
       "      <th>price</th>\n",
       "      <th>mileage</th>\n",
       "      <th>tax</th>\n",
       "      <th>mpg</th>\n",
       "      <th>engineSize</th>\n",
       "    </tr>\n",
       "  </thead>\n",
       "  <tbody>\n",
       "    <tr>\n",
       "      <th>count</th>\n",
       "      <td>108539.000000</td>\n",
       "      <td>108539.000000</td>\n",
       "      <td>108539.000000</td>\n",
       "      <td>99186.000000</td>\n",
       "      <td>99186.000000</td>\n",
       "      <td>108539.000000</td>\n",
       "    </tr>\n",
       "    <tr>\n",
       "      <th>mean</th>\n",
       "      <td>2017.097633</td>\n",
       "      <td>16890.219820</td>\n",
       "      <td>23025.635661</td>\n",
       "      <td>120.298984</td>\n",
       "      <td>55.166950</td>\n",
       "      <td>1.661646</td>\n",
       "    </tr>\n",
       "    <tr>\n",
       "      <th>std</th>\n",
       "      <td>2.126083</td>\n",
       "      <td>9756.260741</td>\n",
       "      <td>21176.301513</td>\n",
       "      <td>63.150672</td>\n",
       "      <td>16.138556</td>\n",
       "      <td>0.557060</td>\n",
       "    </tr>\n",
       "    <tr>\n",
       "      <th>min</th>\n",
       "      <td>1970.000000</td>\n",
       "      <td>450.000000</td>\n",
       "      <td>1.000000</td>\n",
       "      <td>0.000000</td>\n",
       "      <td>0.300000</td>\n",
       "      <td>0.000000</td>\n",
       "    </tr>\n",
       "    <tr>\n",
       "      <th>25%</th>\n",
       "      <td>2016.000000</td>\n",
       "      <td>10230.000000</td>\n",
       "      <td>7491.500000</td>\n",
       "      <td>125.000000</td>\n",
       "      <td>47.100000</td>\n",
       "      <td>1.200000</td>\n",
       "    </tr>\n",
       "    <tr>\n",
       "      <th>50%</th>\n",
       "      <td>2017.000000</td>\n",
       "      <td>14698.000000</td>\n",
       "      <td>17265.000000</td>\n",
       "      <td>145.000000</td>\n",
       "      <td>54.300000</td>\n",
       "      <td>1.600000</td>\n",
       "    </tr>\n",
       "    <tr>\n",
       "      <th>75%</th>\n",
       "      <td>2019.000000</td>\n",
       "      <td>20940.000000</td>\n",
       "      <td>32236.000000</td>\n",
       "      <td>145.000000</td>\n",
       "      <td>62.800000</td>\n",
       "      <td>2.000000</td>\n",
       "    </tr>\n",
       "    <tr>\n",
       "      <th>max</th>\n",
       "      <td>2020.000000</td>\n",
       "      <td>159999.000000</td>\n",
       "      <td>323000.000000</td>\n",
       "      <td>580.000000</td>\n",
       "      <td>470.800000</td>\n",
       "      <td>6.600000</td>\n",
       "    </tr>\n",
       "  </tbody>\n",
       "</table>\n",
       "</div>"
      ],
      "text/plain": [
       "                year          price        mileage           tax  \\\n",
       "count  108539.000000  108539.000000  108539.000000  99186.000000   \n",
       "mean     2017.097633   16890.219820   23025.635661    120.298984   \n",
       "std         2.126083    9756.260741   21176.301513     63.150672   \n",
       "min      1970.000000     450.000000       1.000000      0.000000   \n",
       "25%      2016.000000   10230.000000    7491.500000    125.000000   \n",
       "50%      2017.000000   14698.000000   17265.000000    145.000000   \n",
       "75%      2019.000000   20940.000000   32236.000000    145.000000   \n",
       "max      2020.000000  159999.000000  323000.000000    580.000000   \n",
       "\n",
       "                mpg     engineSize  \n",
       "count  99186.000000  108539.000000  \n",
       "mean      55.166950       1.661646  \n",
       "std       16.138556       0.557060  \n",
       "min        0.300000       0.000000  \n",
       "25%       47.100000       1.200000  \n",
       "50%       54.300000       1.600000  \n",
       "75%       62.800000       2.000000  \n",
       "max      470.800000       6.600000  "
      ]
     },
     "execution_count": 9,
     "metadata": {},
     "output_type": "execute_result"
    }
   ],
   "source": [
    "df.describe()"
   ]
  },
  {
   "cell_type": "markdown",
   "metadata": {},
   "source": [
    "### Data 'engineSize' = 0"
   ]
  },
  {
   "cell_type": "code",
   "execution_count": 10,
   "metadata": {
    "ExecuteTime": {
     "end_time": "2021-08-27T07:07:26.576964Z",
     "start_time": "2021-08-27T07:07:26.548732Z"
    }
   },
   "outputs": [
    {
     "data": {
      "text/html": [
       "<div>\n",
       "<style scoped>\n",
       "    .dataframe tbody tr th:only-of-type {\n",
       "        vertical-align: middle;\n",
       "    }\n",
       "\n",
       "    .dataframe tbody tr th {\n",
       "        vertical-align: top;\n",
       "    }\n",
       "\n",
       "    .dataframe thead th {\n",
       "        text-align: right;\n",
       "    }\n",
       "</style>\n",
       "<table border=\"1\" class=\"dataframe\">\n",
       "  <thead>\n",
       "    <tr style=\"text-align: right;\">\n",
       "      <th></th>\n",
       "      <th>model</th>\n",
       "      <th>year</th>\n",
       "      <th>price</th>\n",
       "      <th>transmission</th>\n",
       "      <th>mileage</th>\n",
       "      <th>fuelType</th>\n",
       "      <th>tax</th>\n",
       "      <th>mpg</th>\n",
       "      <th>engineSize</th>\n",
       "    </tr>\n",
       "  </thead>\n",
       "  <tbody>\n",
       "    <tr>\n",
       "      <th>7505</th>\n",
       "      <td>Q5</td>\n",
       "      <td>2019</td>\n",
       "      <td>44790</td>\n",
       "      <td>Automatic</td>\n",
       "      <td>5886</td>\n",
       "      <td>Petrol</td>\n",
       "      <td>135.0</td>\n",
       "      <td>117.7</td>\n",
       "      <td>0.0</td>\n",
       "    </tr>\n",
       "    <tr>\n",
       "      <th>7506</th>\n",
       "      <td>Q3</td>\n",
       "      <td>2019</td>\n",
       "      <td>32788</td>\n",
       "      <td>Automatic</td>\n",
       "      <td>1500</td>\n",
       "      <td>Diesel</td>\n",
       "      <td>145.0</td>\n",
       "      <td>47.1</td>\n",
       "      <td>0.0</td>\n",
       "    </tr>\n",
       "    <tr>\n",
       "      <th>7516</th>\n",
       "      <td>Q3</td>\n",
       "      <td>2020</td>\n",
       "      <td>29944</td>\n",
       "      <td>Manual</td>\n",
       "      <td>1500</td>\n",
       "      <td>Petrol</td>\n",
       "      <td>145.0</td>\n",
       "      <td>40.9</td>\n",
       "      <td>0.0</td>\n",
       "    </tr>\n",
       "    <tr>\n",
       "      <th>7517</th>\n",
       "      <td>Q3</td>\n",
       "      <td>2020</td>\n",
       "      <td>33333</td>\n",
       "      <td>Automatic</td>\n",
       "      <td>1500</td>\n",
       "      <td>Diesel</td>\n",
       "      <td>145.0</td>\n",
       "      <td>47.1</td>\n",
       "      <td>0.0</td>\n",
       "    </tr>\n",
       "    <tr>\n",
       "      <th>7518</th>\n",
       "      <td>Q3</td>\n",
       "      <td>2020</td>\n",
       "      <td>29944</td>\n",
       "      <td>Automatic</td>\n",
       "      <td>1500</td>\n",
       "      <td>Petrol</td>\n",
       "      <td>145.0</td>\n",
       "      <td>32.5</td>\n",
       "      <td>0.0</td>\n",
       "    </tr>\n",
       "  </tbody>\n",
       "</table>\n",
       "</div>"
      ],
      "text/plain": [
       "     model  year  price transmission  mileage fuelType    tax    mpg  \\\n",
       "7505    Q5  2019  44790    Automatic     5886   Petrol  135.0  117.7   \n",
       "7506    Q3  2019  32788    Automatic     1500   Diesel  145.0   47.1   \n",
       "7516    Q3  2020  29944       Manual     1500   Petrol  145.0   40.9   \n",
       "7517    Q3  2020  33333    Automatic     1500   Diesel  145.0   47.1   \n",
       "7518    Q3  2020  29944    Automatic     1500   Petrol  145.0   32.5   \n",
       "\n",
       "      engineSize  \n",
       "7505         0.0  \n",
       "7506         0.0  \n",
       "7516         0.0  \n",
       "7517         0.0  \n",
       "7518         0.0  "
      ]
     },
     "execution_count": 10,
     "metadata": {},
     "output_type": "execute_result"
    }
   ],
   "source": [
    "df[df['engineSize'] == 0.0].head()"
   ]
  },
  {
   "cell_type": "code",
   "execution_count": 11,
   "metadata": {
    "ExecuteTime": {
     "end_time": "2021-08-27T07:07:26.592004Z",
     "start_time": "2021-08-27T07:07:26.579966Z"
    }
   },
   "outputs": [
    {
     "data": {
      "text/plain": [
       "array([1.4, 2. , 1. , 3. , 1.6, 1.8, 1.5, 4. , 2.5, 1.2, 4.2, 2.9, 5.2,\n",
       "       1.9, 2.7, 0. , 3.2, 4.1, 6.3, 0.6, 4.4, 2.2, 5. , 6.6, 2.8, 3.5,\n",
       "       2.1, 6.2, 3.6, 5.4, 2.6, 2.3, 1.1, 1.3, 1.7, 2.4, 5.5, 4.7, 6. ,\n",
       "       3.7, 4.3, 4.5])"
      ]
     },
     "execution_count": 11,
     "metadata": {},
     "output_type": "execute_result"
    }
   ],
   "source": [
    "df['engineSize'].unique()"
   ]
  },
  {
   "cell_type": "code",
   "execution_count": 12,
   "metadata": {
    "ExecuteTime": {
     "end_time": "2021-08-27T07:07:26.607517Z",
     "start_time": "2021-08-27T07:07:26.595517Z"
    }
   },
   "outputs": [
    {
     "name": "stdout",
     "output_type": "stream",
     "text": [
      "karena hanya terdapat sebanyak 286 data atau sebesar 0.263 % dari keseluruhan data, maka data dengan engineSize = 0.0 akan didrop\n"
     ]
    }
   ],
   "source": [
    "totalZeroEngine = df[df['engineSize'] == 0.0]['engineSize'].count()\n",
    "zeroEnginePersentage = totalZeroEngine / df.shape[0] * 100\n",
    "print('karena hanya terdapat sebanyak', totalZeroEngine, 'data atau sebesar', round(zeroEnginePersentage, 3), '% dari keseluruhan data, maka data dengan engineSize = 0.0 akan didrop')"
   ]
  },
  {
   "cell_type": "code",
   "execution_count": 13,
   "metadata": {
    "ExecuteTime": {
     "end_time": "2021-08-27T07:07:26.654496Z",
     "start_time": "2021-08-27T07:07:26.611516Z"
    }
   },
   "outputs": [],
   "source": [
    "df = df.drop(df[df['engineSize'] == 0.0].index, axis = 0)"
   ]
  },
  {
   "cell_type": "markdown",
   "metadata": {},
   "source": [
    "## Missing Value"
   ]
  },
  {
   "cell_type": "markdown",
   "metadata": {},
   "source": [
    "### Handling Missing Value in Tax"
   ]
  },
  {
   "cell_type": "markdown",
   "metadata": {
    "ExecuteTime": {
     "end_time": "2021-08-27T04:44:00.769805Z",
     "start_time": "2021-08-27T04:44:00.757233Z"
    }
   },
   "source": [
    "* input Missing Value in Tax menggunakan nilai rata-rata berdasarkan fuelType\n",
    "* referensi:\n",
    "    1. https://www.gov.uk/calculate-tax-rates-for-new-cars\n",
    "    2. https://www.gov.uk/vehicle-tax-rate-tables"
   ]
  },
  {
   "cell_type": "code",
   "execution_count": 19,
   "metadata": {
    "ExecuteTime": {
     "end_time": "2021-08-27T07:07:33.585958Z",
     "start_time": "2021-08-27T07:07:33.541493Z"
    }
   },
   "outputs": [
    {
     "data": {
      "text/html": [
       "<div>\n",
       "<style scoped>\n",
       "    .dataframe tbody tr th:only-of-type {\n",
       "        vertical-align: middle;\n",
       "    }\n",
       "\n",
       "    .dataframe tbody tr th {\n",
       "        vertical-align: top;\n",
       "    }\n",
       "\n",
       "    .dataframe thead th {\n",
       "        text-align: right;\n",
       "    }\n",
       "</style>\n",
       "<table border=\"1\" class=\"dataframe\">\n",
       "  <thead>\n",
       "    <tr style=\"text-align: right;\">\n",
       "      <th></th>\n",
       "      <th>model</th>\n",
       "      <th>year</th>\n",
       "      <th>price</th>\n",
       "      <th>transmission</th>\n",
       "      <th>mileage</th>\n",
       "      <th>fuelType</th>\n",
       "      <th>tax</th>\n",
       "      <th>mpg</th>\n",
       "      <th>engineSize</th>\n",
       "    </tr>\n",
       "  </thead>\n",
       "  <tbody>\n",
       "    <tr>\n",
       "      <th>0</th>\n",
       "      <td>A1</td>\n",
       "      <td>2017</td>\n",
       "      <td>12500</td>\n",
       "      <td>Manual</td>\n",
       "      <td>15735</td>\n",
       "      <td>Petrol</td>\n",
       "      <td>150.0</td>\n",
       "      <td>55.4</td>\n",
       "      <td>1.4</td>\n",
       "    </tr>\n",
       "    <tr>\n",
       "      <th>1</th>\n",
       "      <td>A6</td>\n",
       "      <td>2016</td>\n",
       "      <td>16500</td>\n",
       "      <td>Automatic</td>\n",
       "      <td>36203</td>\n",
       "      <td>Diesel</td>\n",
       "      <td>20.0</td>\n",
       "      <td>64.2</td>\n",
       "      <td>2.0</td>\n",
       "    </tr>\n",
       "    <tr>\n",
       "      <th>2</th>\n",
       "      <td>A1</td>\n",
       "      <td>2016</td>\n",
       "      <td>11000</td>\n",
       "      <td>Manual</td>\n",
       "      <td>29946</td>\n",
       "      <td>Petrol</td>\n",
       "      <td>30.0</td>\n",
       "      <td>55.4</td>\n",
       "      <td>1.4</td>\n",
       "    </tr>\n",
       "    <tr>\n",
       "      <th>3</th>\n",
       "      <td>A4</td>\n",
       "      <td>2017</td>\n",
       "      <td>16800</td>\n",
       "      <td>Automatic</td>\n",
       "      <td>25952</td>\n",
       "      <td>Diesel</td>\n",
       "      <td>145.0</td>\n",
       "      <td>67.3</td>\n",
       "      <td>2.0</td>\n",
       "    </tr>\n",
       "    <tr>\n",
       "      <th>4</th>\n",
       "      <td>A3</td>\n",
       "      <td>2019</td>\n",
       "      <td>17300</td>\n",
       "      <td>Manual</td>\n",
       "      <td>1998</td>\n",
       "      <td>Petrol</td>\n",
       "      <td>145.0</td>\n",
       "      <td>49.6</td>\n",
       "      <td>1.0</td>\n",
       "    </tr>\n",
       "    <tr>\n",
       "      <th>...</th>\n",
       "      <td>...</td>\n",
       "      <td>...</td>\n",
       "      <td>...</td>\n",
       "      <td>...</td>\n",
       "      <td>...</td>\n",
       "      <td>...</td>\n",
       "      <td>...</td>\n",
       "      <td>...</td>\n",
       "      <td>...</td>\n",
       "    </tr>\n",
       "    <tr>\n",
       "      <th>108535</th>\n",
       "      <td>Eos</td>\n",
       "      <td>2012</td>\n",
       "      <td>5990</td>\n",
       "      <td>Manual</td>\n",
       "      <td>74000</td>\n",
       "      <td>Diesel</td>\n",
       "      <td>125.0</td>\n",
       "      <td>58.9</td>\n",
       "      <td>2.0</td>\n",
       "    </tr>\n",
       "    <tr>\n",
       "      <th>108536</th>\n",
       "      <td>Fox</td>\n",
       "      <td>2008</td>\n",
       "      <td>1799</td>\n",
       "      <td>Manual</td>\n",
       "      <td>88102</td>\n",
       "      <td>Petrol</td>\n",
       "      <td>145.0</td>\n",
       "      <td>46.3</td>\n",
       "      <td>1.2</td>\n",
       "    </tr>\n",
       "    <tr>\n",
       "      <th>108537</th>\n",
       "      <td>Fox</td>\n",
       "      <td>2009</td>\n",
       "      <td>1590</td>\n",
       "      <td>Manual</td>\n",
       "      <td>70000</td>\n",
       "      <td>Petrol</td>\n",
       "      <td>200.0</td>\n",
       "      <td>42.0</td>\n",
       "      <td>1.4</td>\n",
       "    </tr>\n",
       "    <tr>\n",
       "      <th>108538</th>\n",
       "      <td>Fox</td>\n",
       "      <td>2006</td>\n",
       "      <td>1250</td>\n",
       "      <td>Manual</td>\n",
       "      <td>82704</td>\n",
       "      <td>Petrol</td>\n",
       "      <td>150.0</td>\n",
       "      <td>46.3</td>\n",
       "      <td>1.2</td>\n",
       "    </tr>\n",
       "    <tr>\n",
       "      <th>108539</th>\n",
       "      <td>Fox</td>\n",
       "      <td>2007</td>\n",
       "      <td>2295</td>\n",
       "      <td>Manual</td>\n",
       "      <td>74000</td>\n",
       "      <td>Petrol</td>\n",
       "      <td>145.0</td>\n",
       "      <td>46.3</td>\n",
       "      <td>1.2</td>\n",
       "    </tr>\n",
       "  </tbody>\n",
       "</table>\n",
       "<p>108253 rows × 9 columns</p>\n",
       "</div>"
      ],
      "text/plain": [
       "       model  year  price transmission  mileage fuelType    tax   mpg  \\\n",
       "0         A1  2017  12500       Manual    15735   Petrol  150.0  55.4   \n",
       "1         A6  2016  16500    Automatic    36203   Diesel   20.0  64.2   \n",
       "2         A1  2016  11000       Manual    29946   Petrol   30.0  55.4   \n",
       "3         A4  2017  16800    Automatic    25952   Diesel  145.0  67.3   \n",
       "4         A3  2019  17300       Manual     1998   Petrol  145.0  49.6   \n",
       "...      ...   ...    ...          ...      ...      ...    ...   ...   \n",
       "108535   Eos  2012   5990       Manual    74000   Diesel  125.0  58.9   \n",
       "108536   Fox  2008   1799       Manual    88102   Petrol  145.0  46.3   \n",
       "108537   Fox  2009   1590       Manual    70000   Petrol  200.0  42.0   \n",
       "108538   Fox  2006   1250       Manual    82704   Petrol  150.0  46.3   \n",
       "108539   Fox  2007   2295       Manual    74000   Petrol  145.0  46.3   \n",
       "\n",
       "        engineSize  \n",
       "0              1.4  \n",
       "1              2.0  \n",
       "2              1.4  \n",
       "3              2.0  \n",
       "4              1.0  \n",
       "...            ...  \n",
       "108535         2.0  \n",
       "108536         1.2  \n",
       "108537         1.4  \n",
       "108538         1.2  \n",
       "108539         1.2  \n",
       "\n",
       "[108253 rows x 9 columns]"
      ]
     },
     "execution_count": 19,
     "metadata": {},
     "output_type": "execute_result"
    }
   ],
   "source": [
    "df"
   ]
  },
  {
   "cell_type": "code",
   "execution_count": 70,
   "metadata": {
    "ExecuteTime": {
     "end_time": "2021-08-27T08:15:00.553875Z",
     "start_time": "2021-08-27T08:15:00.526739Z"
    }
   },
   "outputs": [],
   "source": [
    "df['tax']=df['tax'].fillna(df.groupby(['fuelType'])['tax'].transform('mean'))"
   ]
  },
  {
   "cell_type": "markdown",
   "metadata": {},
   "source": [
    "### Handling Missing Value in MPG"
   ]
  },
  {
   "cell_type": "markdown",
   "metadata": {
    "ExecuteTime": {
     "end_time": "2021-08-27T04:44:00.769805Z",
     "start_time": "2021-08-27T04:44:00.757233Z"
    }
   },
   "source": [
    "* input Missing Value in MPG menggunakan nilai rata-rata berdasarkan transmission, fuelType, engineSize"
   ]
  },
  {
   "cell_type": "code",
   "execution_count": 21,
   "metadata": {
    "ExecuteTime": {
     "end_time": "2021-08-27T07:07:33.680390Z",
     "start_time": "2021-08-27T07:07:33.637751Z"
    }
   },
   "outputs": [],
   "source": [
    "df['mpg']=df['mpg'].fillna(df.groupby(['transmission','fuelType','engineSize'])['mpg'].transform('mean'))"
   ]
  },
  {
   "cell_type": "code",
   "execution_count": 47,
   "metadata": {
    "ExecuteTime": {
     "end_time": "2021-08-27T07:57:16.846662Z",
     "start_time": "2021-08-27T07:57:16.816358Z"
    },
    "scrolled": false
   },
   "outputs": [
    {
     "data": {
      "text/plain": [
       "model           0\n",
       "year            0\n",
       "price           0\n",
       "transmission    0\n",
       "mileage         0\n",
       "fuelType        0\n",
       "tax             7\n",
       "mpg             3\n",
       "engineSize      0\n",
       "dtype: int64"
      ]
     },
     "execution_count": 47,
     "metadata": {},
     "output_type": "execute_result"
    }
   ],
   "source": [
    "df.isna().sum()"
   ]
  },
  {
   "cell_type": "markdown",
   "metadata": {},
   "source": [
    ">dikarenakan masih ada data yg bernilai NaN tetapi jumlah data tersebut tidak akan terlalu mempengaruhi keseluruhan data makan data tersebut akan di drop."
   ]
  },
  {
   "cell_type": "code",
   "execution_count": 48,
   "metadata": {
    "ExecuteTime": {
     "end_time": "2021-08-27T08:00:05.571458Z",
     "start_time": "2021-08-27T08:00:05.519385Z"
    }
   },
   "outputs": [],
   "source": [
    "df.dropna(inplace=True)"
   ]
  },
  {
   "cell_type": "code",
   "execution_count": 49,
   "metadata": {
    "ExecuteTime": {
     "end_time": "2021-08-27T08:00:11.869606Z",
     "start_time": "2021-08-27T08:00:11.844389Z"
    }
   },
   "outputs": [
    {
     "data": {
      "text/plain": [
       "model           0\n",
       "year            0\n",
       "price           0\n",
       "transmission    0\n",
       "mileage         0\n",
       "fuelType        0\n",
       "tax             0\n",
       "mpg             0\n",
       "engineSize      0\n",
       "dtype: int64"
      ]
     },
     "execution_count": 49,
     "metadata": {},
     "output_type": "execute_result"
    }
   ],
   "source": [
    "df.isna().sum()"
   ]
  },
  {
   "cell_type": "code",
   "execution_count": 50,
   "metadata": {
    "ExecuteTime": {
     "end_time": "2021-08-27T08:00:22.518417Z",
     "start_time": "2021-08-27T08:00:22.487012Z"
    }
   },
   "outputs": [
    {
     "name": "stdout",
     "output_type": "stream",
     "text": [
      "<class 'pandas.core.frame.DataFrame'>\n",
      "Int64Index: 108245 entries, 0 to 108539\n",
      "Data columns (total 9 columns):\n",
      " #   Column        Non-Null Count   Dtype  \n",
      "---  ------        --------------   -----  \n",
      " 0   model         108245 non-null  object \n",
      " 1   year          108245 non-null  int64  \n",
      " 2   price         108245 non-null  int64  \n",
      " 3   transmission  108245 non-null  object \n",
      " 4   mileage       108245 non-null  int64  \n",
      " 5   fuelType      108245 non-null  object \n",
      " 6   tax           108245 non-null  float64\n",
      " 7   mpg           108245 non-null  float64\n",
      " 8   engineSize    108245 non-null  float64\n",
      "dtypes: float64(3), int64(3), object(3)\n",
      "memory usage: 8.3+ MB\n"
     ]
    }
   ],
   "source": [
    "df.info()"
   ]
  },
  {
   "cell_type": "markdown",
   "metadata": {
    "ExecuteTime": {
     "end_time": "2021-08-26T09:03:50.709798Z",
     "start_time": "2021-08-26T09:03:50.706575Z"
    }
   },
   "source": [
    "## Distribusi Data"
   ]
  },
  {
   "cell_type": "code",
   "execution_count": 14,
   "metadata": {
    "ExecuteTime": {
     "end_time": "2021-08-27T07:07:26.669392Z",
     "start_time": "2021-08-27T07:07:26.657391Z"
    }
   },
   "outputs": [
    {
     "data": {
      "text/plain": [
       "['price', 'mileage', 'tax', 'mpg', 'engineSize']"
      ]
     },
     "execution_count": 14,
     "metadata": {},
     "output_type": "execute_result"
    }
   ],
   "source": [
    "num_features=list(df.dtypes[df.dtypes!=object].index)\n",
    "num_features.remove('year')\n",
    "num_features"
   ]
  },
  {
   "cell_type": "code",
   "execution_count": 15,
   "metadata": {
    "ExecuteTime": {
     "end_time": "2021-08-27T07:07:32.444383Z",
     "start_time": "2021-08-27T07:07:26.673605Z"
    }
   },
   "outputs": [
    {
     "data": {
      "image/png": "[encoded data removed]",
      "text/plain": [
       "<Figure size 1080x360 with 5 Axes>"
      ]
     },
     "metadata": {},
     "output_type": "display_data"
    }
   ],
   "source": [
    "figure, axis = plt.subplots(1,5,figsize=(15,5))\n",
    "\n",
    "for i in range(len(num_features)):\n",
    "    axis[i].set_title(num_features[i], size=15)\n",
    "    sns.histplot(ax=axis[i], data = df, x=num_features[i])\n",
    "\n",
    "# auto padding subplot\n",
    "plt.tight_layout()\n",
    "plt.show()"
   ]
  },
  {
   "cell_type": "code",
   "execution_count": 16,
   "metadata": {
    "ExecuteTime": {
     "end_time": "2021-08-27T07:07:33.257182Z",
     "start_time": "2021-08-27T07:07:32.448387Z"
    },
    "scrolled": true
   },
   "outputs": [
    {
     "data": {
      "image/png": "[encoded data removed]",
      "text/plain": [
       "<Figure size 1080x360 with 5 Axes>"
      ]
     },
     "metadata": {},
     "output_type": "display_data"
    }
   ],
   "source": [
    "figure, axis = plt.subplots(1,5,figsize=(15,5))\n",
    "\n",
    "for i in range(len(num_features)):\n",
    "    axis[i].set_title(num_features[i], size=15)\n",
    "    sns.boxplot(ax=axis[i], data = df, y=num_features[i])\n",
    "\n",
    "# auto padding subplot\n",
    "plt.tight_layout()\n",
    "plt.show()"
   ]
  },
  {
   "cell_type": "markdown",
   "metadata": {},
   "source": [
    "* berdasarkan histplot, sebaran data kelima feature cenderung *right-skew*.\n",
    "* berdasarkan boxplot, sebaran data kelima feature memiliki banyak outlier di sebalah kanan.\n",
    "* dapat disimpulkan persebaran data kelima data numerik tsb memiliki distribusi tidak normal."
   ]
  },
  {
   "cell_type": "markdown",
   "metadata": {},
   "source": [
    "## Correlation"
   ]
  },
  {
   "cell_type": "code",
   "execution_count": 17,
   "metadata": {
    "ExecuteTime": {
     "end_time": "2021-08-27T07:07:33.508428Z",
     "start_time": "2021-08-27T07:07:33.260181Z"
    },
    "scrolled": false
   },
   "outputs": [
    {
     "data": {
      "text/html": [
       "<div>\n",
       "<style scoped>\n",
       "    .dataframe tbody tr th:only-of-type {\n",
       "        vertical-align: middle;\n",
       "    }\n",
       "\n",
       "    .dataframe tbody tr th {\n",
       "        vertical-align: top;\n",
       "    }\n",
       "\n",
       "    .dataframe thead th {\n",
       "        text-align: right;\n",
       "    }\n",
       "</style>\n",
       "<table border=\"1\" class=\"dataframe\">\n",
       "  <thead>\n",
       "    <tr style=\"text-align: right;\">\n",
       "      <th></th>\n",
       "      <th>price</th>\n",
       "      <th>mileage</th>\n",
       "      <th>tax</th>\n",
       "      <th>mpg</th>\n",
       "      <th>engineSize</th>\n",
       "    </tr>\n",
       "  </thead>\n",
       "  <tbody>\n",
       "    <tr>\n",
       "      <th>price</th>\n",
       "      <td>1.000000</td>\n",
       "      <td>-0.523813</td>\n",
       "      <td>0.318341</td>\n",
       "      <td>-0.393975</td>\n",
       "      <td>0.576650</td>\n",
       "    </tr>\n",
       "    <tr>\n",
       "      <th>mileage</th>\n",
       "      <td>-0.523813</td>\n",
       "      <td>1.000000</td>\n",
       "      <td>-0.263159</td>\n",
       "      <td>0.336281</td>\n",
       "      <td>0.103324</td>\n",
       "    </tr>\n",
       "    <tr>\n",
       "      <th>tax</th>\n",
       "      <td>0.318341</td>\n",
       "      <td>-0.263159</td>\n",
       "      <td>1.000000</td>\n",
       "      <td>-0.576038</td>\n",
       "      <td>0.165630</td>\n",
       "    </tr>\n",
       "    <tr>\n",
       "      <th>mpg</th>\n",
       "      <td>-0.393975</td>\n",
       "      <td>0.336281</td>\n",
       "      <td>-0.576038</td>\n",
       "      <td>1.000000</td>\n",
       "      <td>-0.207424</td>\n",
       "    </tr>\n",
       "    <tr>\n",
       "      <th>engineSize</th>\n",
       "      <td>0.576650</td>\n",
       "      <td>0.103324</td>\n",
       "      <td>0.165630</td>\n",
       "      <td>-0.207424</td>\n",
       "      <td>1.000000</td>\n",
       "    </tr>\n",
       "  </tbody>\n",
       "</table>\n",
       "</div>"
      ],
      "text/plain": [
       "               price   mileage       tax       mpg  engineSize\n",
       "price       1.000000 -0.523813  0.318341 -0.393975    0.576650\n",
       "mileage    -0.523813  1.000000 -0.263159  0.336281    0.103324\n",
       "tax         0.318341 -0.263159  1.000000 -0.576038    0.165630\n",
       "mpg        -0.393975  0.336281 -0.576038  1.000000   -0.207424\n",
       "engineSize  0.576650  0.103324  0.165630 -0.207424    1.000000"
      ]
     },
     "execution_count": 17,
     "metadata": {},
     "output_type": "execute_result"
    }
   ],
   "source": [
    "df[num_features].corr(method='spearman')"
   ]
  },
  {
   "cell_type": "markdown",
   "metadata": {},
   "source": [
    "1. semakin tinggi harga mobil tsb (price), semakin tinggi pula harga pajaknya (tax) -> korelasi positif medium\n",
    "2. semakin rendah jarak yg telah ditempuh mobil tsb, semakin tinggi pula harga mobilnya (price)\n",
    "3. semakin besar ukuran mesin mobil (engineSize), semakin tinggi pula harga pajaknya (tax) -> korelasi positif lemah"
   ]
  },
  {
   "cell_type": "markdown",
   "metadata": {},
   "source": [
    "## Summary statistics on two variables"
   ]
  },
  {
   "cell_type": "markdown",
   "metadata": {},
   "source": [
    "### Year vs Price"
   ]
  },
  {
   "cell_type": "markdown",
   "metadata": {},
   "source": [
    "Hipotesis:\n",
    "\n",
    "Ho: rata-rata harga mobil tiap tahun sama\n",
    "\n",
    "Ha: rata-rata harga mobil tiap tahun setidaknya ada 1 yang berbeda tapi kita tidak tahu yg mana"
   ]
  },
  {
   "cell_type": "code",
   "execution_count": 51,
   "metadata": {
    "ExecuteTime": {
     "end_time": "2021-08-27T08:00:35.450328Z",
     "start_time": "2021-08-27T08:00:35.445327Z"
    }
   },
   "outputs": [],
   "source": [
    "years=list(df['year'].unique())"
   ]
  },
  {
   "cell_type": "code",
   "execution_count": 52,
   "metadata": {
    "ExecuteTime": {
     "end_time": "2021-08-27T08:00:36.045191Z",
     "start_time": "2021-08-27T08:00:35.939744Z"
    }
   },
   "outputs": [
    {
     "name": "stdout",
     "output_type": "stream",
     "text": [
      "42087.9084265688\n",
      "0.0\n",
      "Tolak Ho, dapat dikatakan rata-rata harga mobil tiap tahun setidaknya ada 1 yang berbeda tapi kita tidak tahu yg mana.\n"
     ]
    }
   ],
   "source": [
    "stats,pval = kruskal(*[df[df['year'] == i]['price'] for i in years])\n",
    "\n",
    "print(stats)\n",
    "print(pval)\n",
    "\n",
    "#conclusion\n",
    "if pval <= 0.05:\n",
    "    print('Tolak Ho, dapat dikatakan rata-rata harga mobil tiap tahun setidaknya ada 1 yang berbeda tapi kita tidak tahu yg mana.')\n",
    "else:\n",
    "    print('Terima Ho, dapat dikatakan rata-rata harga mobil tiap tahun sama.')"
   ]
  },
  {
   "cell_type": "code",
   "execution_count": 59,
   "metadata": {
    "ExecuteTime": {
     "end_time": "2021-08-27T08:05:28.178775Z",
     "start_time": "2021-08-27T08:05:25.906134Z"
    },
    "scrolled": false
   },
   "outputs": [
    {
     "data": {
      "image/png": "[encoded data removed]",
      "text/plain": [
       "<Figure size 1080x576 with 1 Axes>"
      ]
     },
     "metadata": {},
     "output_type": "display_data"
    }
   ],
   "source": [
    "plt.figure(figsize=(15,8))\n",
    "sns.barplot(data=df, x='year', y='price')\n",
    "plt.show()"
   ]
  },
  {
   "cell_type": "markdown",
   "metadata": {},
   "source": [
    ">Rata-rata harga mobil bekas tiap tahunnya secara umum mengalami peningkatan harga. Dengan kata lain, semakin muda umur mobil bekas tersebut semakin tinggi pula rata-rata harga jualnya."
   ]
  },
  {
   "cell_type": "markdown",
   "metadata": {},
   "source": [
    "### Year vs Tax"
   ]
  },
  {
   "cell_type": "markdown",
   "metadata": {},
   "source": [
    "Hipotesis:\n",
    "\n",
    "Ho: rata-rata nilai pajak mobil tiap tahun sama\n",
    "\n",
    "Ha: rata-rata nilai pajak mobil tiap tahun setidaknya ada 1 yang berbeda tapi kita tidak tahu yg mana"
   ]
  },
  {
   "cell_type": "code",
   "execution_count": 53,
   "metadata": {
    "ExecuteTime": {
     "end_time": "2021-08-27T08:00:39.208704Z",
     "start_time": "2021-08-27T08:00:39.136148Z"
    },
    "scrolled": false
   },
   "outputs": [
    {
     "name": "stdout",
     "output_type": "stream",
     "text": [
      "24408.417976220502\n",
      "0.0\n",
      "Tolak Ho, dapat dikatakan rata-rata nilai pajak tiap tahun setidaknya ada 1 yang berbeda tapi kita tidak tahu yg mana.\n"
     ]
    }
   ],
   "source": [
    "stats,pval = kruskal(*[df[df['year'] == i]['tax'] for i in years])\n",
    "\n",
    "print(stats)\n",
    "print(pval)\n",
    "\n",
    "#conclusion\n",
    "if pval <= 0.05:\n",
    "    print('Tolak Ho, dapat dikatakan rata-rata nilai pajak tiap tahun setidaknya ada 1 yang berbeda tapi kita tidak tahu yg mana.')\n",
    "else:\n",
    "    print('Terima Ho, dapat dikatakan rata-rata nilai pajak tiap tahun sama.')"
   ]
  },
  {
   "cell_type": "code",
   "execution_count": 60,
   "metadata": {
    "ExecuteTime": {
     "end_time": "2021-08-27T08:06:12.561447Z",
     "start_time": "2021-08-27T08:06:10.363496Z"
    },
    "scrolled": false
   },
   "outputs": [
    {
     "data": {
      "image/png": "[encoded data removed]",
      "text/plain": [
       "<Figure size 1080x576 with 1 Axes>"
      ]
     },
     "metadata": {},
     "output_type": "display_data"
    }
   ],
   "source": [
    "plt.figure(figsize=(15,8))\n",
    "sns.barplot(data=df, x='year', y='tax')\n",
    "plt.show()"
   ]
  },
  {
   "cell_type": "markdown",
   "metadata": {},
   "source": [
    ">Rata-rata nilai pajak mobil bekas pada tahun 2001 secara umum mulai menurun untuk tahun-tahun berikutnya dan mulai meningkat kembali pada tahun 2017."
   ]
  },
  {
   "cell_type": "code",
   "execution_count": 74,
   "metadata": {
    "ExecuteTime": {
     "end_time": "2021-08-27T08:53:50.753569Z",
     "start_time": "2021-08-27T08:53:50.167281Z"
    }
   },
   "outputs": [
    {
     "data": {
      "text/plain": [
       "<AxesSubplot:xlabel='year', ylabel='count'>"
      ]
     },
     "execution_count": 74,
     "metadata": {},
     "output_type": "execute_result"
    },
    {
     "data": {
      "image/png": "[encoded data removed]",
      "text/plain": [
       "<Figure size 1440x1080 with 1 Axes>"
      ]
     },
     "metadata": {},
     "output_type": "display_data"
    }
   ],
   "source": [
    "plt.figure(figsize=(20,15))\n",
    "sns.countplot(x=\"year\", hue=\"fuelType\", data=df[df['year']<2007])"
   ]
  },
  {
   "cell_type": "code",
   "execution_count": 75,
   "metadata": {
    "ExecuteTime": {
     "end_time": "2021-08-27T08:55:14.259381Z",
     "start_time": "2021-08-27T08:55:13.486061Z"
    }
   },
   "outputs": [
    {
     "data": {
      "text/plain": [
       "<AxesSubplot:xlabel='year', ylabel='count'>"
      ]
     },
     "execution_count": 75,
     "metadata": {},
     "output_type": "execute_result"
    },
    {
     "data": {
      "image/png": "[encoded data removed]",
      "text/plain": [
       "<Figure size 1440x1080 with 1 Axes>"
      ]
     },
     "metadata": {},
     "output_type": "display_data"
    }
   ],
   "source": [
    "plt.figure(figsize=(20,15))\n",
    "sns.countplot(x=\"year\", hue=\"fuelType\", data=df[df['year']>2007])"
   ]
  },
  {
   "cell_type": "markdown",
   "metadata": {
    "ExecuteTime": {
     "end_time": "2021-08-27T09:07:50.411090Z",
     "start_time": "2021-08-27T09:07:50.388569Z"
    }
   },
   "source": [
    "ref:\n",
    "    \n",
    "    https://www.moneysupermarket.com/car-insurance/petrol-vs-diesel/?__cf_chl_jschl_tk__=pmd_gyDQZeymIJ8ilTuI76rL9Flxin2tASMb5MaXlCu5JIE-1630055221-0-gqNtZGzNAjujcnBszQi9"
   ]
  },
  {
   "cell_type": "code",
   "execution_count": null,
   "metadata": {},
   "outputs": [],
   "source": []
  },
  {
   "cell_type": "code",
   "execution_count": null,
   "metadata": {},
   "outputs": [],
   "source": []
  }
 ],
 "metadata": {
  "kernelspec": {
   "display_name": "Python 3",
   "language": "python",
   "name": "python3"
  },
  "language_info": {
   "codemirror_mode": {
    "name": "ipython",
    "version": 3
   },
   "file_extension": ".py",
   "mimetype": "text/x-python",
   "name": "python",
   "nbconvert_exporter": "python",
   "pygments_lexer": "ipython3",
   "version": "3.8.5"
  },
  "toc": {
   "base_numbering": 1,
   "nav_menu": {},
   "number_sections": true,
   "sideBar": true,
   "skip_h1_title": false,
   "title_cell": "Table of Contents",
   "title_sidebar": "Contents",
   "toc_cell": false,
   "toc_position": {
    "height": "calc(100% - 180px)",
    "left": "10px",
    "top": "150px",
    "width": "307.2px"
   },
   "toc_section_display": true,
   "toc_window_display": true
  },
  "varInspector": {
   "cols": {
    "lenName": 16,
    "lenType": 16,
    "lenVar": 40
   },
   "kernels_config": {
    "python": {
     "delete_cmd_postfix": "",
     "delete_cmd_prefix": "del ",
     "library": "var_list.py",
     "varRefreshCmd": "print(var_dic_list())"
    },
    "r": {
     "delete_cmd_postfix": ") ",
     "delete_cmd_prefix": "rm(",
     "library": "var_list.r",
     "varRefreshCmd": "cat(var_dic_list()) "
    }
   },
   "types_to_exclude": [
    "module",
    "function",
    "builtin_function_or_method",
    "instance",
    "_Feature"
   ],
   "window_display": false
  }
 },
 "nbformat": 4,
 "nbformat_minor": 4
}
